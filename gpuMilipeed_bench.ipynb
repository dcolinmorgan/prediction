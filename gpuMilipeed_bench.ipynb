{
  "nbformat": 4,
  "nbformat_minor": 0,
  "metadata": {
    "colab": {
      "name": "gpuMilipeed_bench.ipynb",
      "provenance": [],
      "collapsed_sections": [
        "U0R6Nj-i52Ni",
        "6lY3AafW5ubU",
        "4UqzfTq1Eh3B",
        "zMoi8kRjvX5S",
        "ZjY_j5f4ZF46",
        "kwwKIFjzV4Uq",
        "ptwJKksilEkh",
        "3NiZai_nLIts"
      ],
      "machine_shape": "hm",
      "include_colab_link": true
    },
    "kernelspec": {
      "name": "python3",
      "display_name": "Python 3"
    },
    "accelerator": "GPU"
  },
  "cells": [
    {
      "cell_type": "markdown",
      "metadata": {
        "id": "view-in-github",
        "colab_type": "text"
      },
      "source": [
        "<a href=\"https://colab.research.google.com/github/dcolinmorgan/test/blob/master/gpuMilipeed_bench.ipynb\" target=\"_parent\"><img src=\"https://colab.research.google.com/assets/colab-badge.svg\" alt=\"Open In Colab\"/></a>"
      ]
    },
    {
      "cell_type": "code",
      "metadata": {
        "id": "vgADdgaXTIoq"
      },
      "source": [
        "!pip install s3fs"
      ],
      "execution_count": null,
      "outputs": []
    },
    {
      "cell_type": "code",
      "metadata": {
        "id": "JqY4JRxup4bS"
      },
      "source": [
        "# import torch\n",
        "# mat = scipy.io.loadmat('file.mat')"
      ],
      "execution_count": null,
      "outputs": []
    },
    {
      "cell_type": "code",
      "metadata": {
        "id": "PWuPbSuG91Xv"
      },
      "source": [
        "import os,gc,glob\n",
        "# import s3fs\n",
        "import matplotlib.pyplot as plt\n",
        "import pandas as pd\n",
        "import seaborn as sns\n",
        "import numpy as np\n",
        "from psutil import *\n",
        "import scipy.io\n",
        "from scipy.stats import zscore\n",
        "import datetime\n",
        "from sklearn import metrics\n",
        "import traceback\n",
        "import joblib"
      ],
      "execution_count": 1,
      "outputs": []
    },
    {
      "cell_type": "code",
      "metadata": {
        "id": "OzVwQFBH92TO"
      },
      "source": [
        "# !pip install cupy-cuda101==7.4.0\n",
        "# import cupy as cp\n",
        "## print(cp.__version__)\n",
        "# !pip freeze | grep cupy"
      ],
      "execution_count": 2,
      "outputs": []
    },
    {
      "cell_type": "code",
      "metadata": {
        "id": "3GovW9SCYkTt"
      },
      "source": [
        "# !rm -rf netZooPy"
      ],
      "execution_count": 3,
      "outputs": []
    },
    {
      "cell_type": "code",
      "metadata": {
        "id": "1YH2WsWI_VJ8"
      },
      "source": [
        "# !git clone https://github.com/netZoo/netZooPy.git\n",
        "!git clone --single-branch --branch devel https://github.com/netZoo/netZooPy.git\n",
        "\n",
        "# !git clone --single-branch --branch lioness_beta3 https://github.com/dcolinmorgan/netZooPy.git\n",
        "# !git clone --single-branch --branch milipeed https://github.com/dcolinmorgan/netZooPy.git\n",
        "os.chdir('netZooPy')\n",
        "!pip install -e ./"
      ],
      "execution_count": null,
      "outputs": []
    },
    {
      "cell_type": "code",
      "metadata": {
        "id": "XW4A-JvDnJUm"
      },
      "source": [
        "# from importlib import reload  \n",
        "# reload(netZooPy)"
      ],
      "execution_count": 63,
      "outputs": []
    },
    {
      "cell_type": "code",
      "metadata": {
        "id": "atbUTAbP_VNg"
      },
      "source": [
        "import netZooPy\n",
        "from netZooPy.panda import Panda\n",
        "from netZooPy.lioness import Lioness\n",
        "# from netZooPy.milipeed import Milipeed ## just commented out to use reload above\n",
        "os.chdir('..')"
      ],
      "execution_count": 64,
      "outputs": []
    },
    {
      "cell_type": "code",
      "metadata": {
        "id": "JzalsogzY_bR",
        "colab": {
          "base_uri": "https://localhost:8080/"
        },
        "outputId": "a629ad41-a486-4716-9837-d35564392464"
      },
      "source": [
        "from google.colab import drive\n",
        "drive.mount('/content/drive')"
      ],
      "execution_count": 2,
      "outputs": [
        {
          "output_type": "stream",
          "text": [
            "Mounted at /content/drive\n"
          ],
          "name": "stdout"
        }
      ]
    },
    {
      "cell_type": "markdown",
      "metadata": {
        "id": "U0R6Nj-i52Ni"
      },
      "source": [
        "#gather A549 cell lines"
      ]
    },
    {
      "cell_type": "code",
      "metadata": {
        "id": "GazyQALYKWCx"
      },
      "source": [
        "!pip install GEOparse"
      ],
      "execution_count": null,
      "outputs": []
    },
    {
      "cell_type": "code",
      "metadata": {
        "id": "TvWCvp-k-4cf"
      },
      "source": [
        "# https://geoparse.readthedocs.io/en/latest/Analyse_hsa-miR-124a-3p_transfection_time-course.html#\n",
        "import GEOparse\n",
        "# gsem = GEOparse.get_GEO(geo=\"GSE92511\", destdir=\"./\")\n",
        "# gsem = GEOparse.get_GEO(filepath=\"GSE92511_family.soft.gz\")\n",
        "\n",
        "##expression\n",
        "gsee1 = GEOparse.get_GEO(geo=\"GSE48134\", destdir=\"./\") ##https://www.ncbi.nlm.nih.gov/sites/GDSbrowser?acc=GDS5067\n",
        "gsee1 = GEOparse.get_GEO(filepath=\"GSE48134_family.soft.gz\") ##15\n",
        "gsee2 = GEOparse.get_GEO(geo=\"GSE53700\", destdir=\"./\") ##https://www.ncbi.nlm.nih.gov/sites/GDSbrowser?acc=GDS5206\n",
        "gsee2 = GEOparse.get_GEO(filepath=\"GSE53700_family.soft.gz\") ##18\n",
        "gsee3 = GEOparse.get_GEO(geo=\"GSE56843\", destdir=\"./\") ##https://www.ncbi.nlm.nih.gov/sites/GDSbrowser?acc=GDS5418\n",
        "gsee3 = GEOparse.get_GEO(filepath=\"GSE56843_family.soft.gz\") ##8\n",
        "gsee4 = GEOparse.get_GEO(geo=\"GSE17708\", destdir=\"./\") ##https://www.ncbi.nlm.nih.gov/sites/GDSbrowser?acc=GDS3710\n",
        "gsee4 = GEOparse.get_GEO(filepath=\"GSE17708_family.soft.gz\") ##26\n",
        "gsee5 = GEOparse.get_GEO(geo=\"GSE5542\", destdir=\"./\") ##https://www.ncbi.nlm.nih.gov/sites/GDSbrowser?acc=GDS2341\n",
        "gsee5 = GEOparse.get_GEO(filepath=\"GSE5542_family.soft.gz\")"
      ],
      "execution_count": null,
      "outputs": []
    },
    {
      "cell_type": "code",
      "metadata": {
        "id": "Cz_W9N3drC04"
      },
      "source": [
        "expression1 = gsee1.pivot_samples('VALUE')\n",
        "expression2 = gsee2.pivot_samples('VALUE')\n",
        "expression3 = gsee3.pivot_samples('VALUE')\n",
        "expression4 = gsee4.pivot_samples('VALUE')\n",
        "expression5 = gsee5.pivot_samples('VALUE')\n"
      ],
      "execution_count": null,
      "outputs": []
    },
    {
      "cell_type": "code",
      "metadata": {
        "id": "jnIBPsCuF0qC"
      },
      "source": [
        "names=pd.DataFrame([gsee1.gpls['GPL6244'].table['ID'],gsee1.gpls['GPL6244'].table['gene_assignment'].str.split('//').str[1]]).transpose()\n",
        "data1=pd.merge(expression1,names,left_index=True,right_on='ID')\n",
        "data1=data1.dropna(how='any')\n",
        "data1.index=data1['gene_assignment']\n",
        "del data1['ID'], data1['gene_assignment']\n",
        "\n",
        "data1.to_csv('drive/My Drive/Colab Notebooks/GSE48134.txt',sep='\\t')"
      ],
      "execution_count": null,
      "outputs": []
    },
    {
      "cell_type": "code",
      "metadata": {
        "id": "K3Qc9FfTN1Xw"
      },
      "source": [
        "names=pd.DataFrame([gsee2.gpls['GPL6480'].table['ID'],gsee2.gpls['GPL6480'].table['GENE_SYMBOL']]).transpose()\n",
        "data2=pd.merge(expression2,names,left_index=True,right_on='ID')\n",
        "data2=data2.dropna(how='any')\n",
        "data2.index=data2['GENE_SYMBOL']\n",
        "del data2['ID'], data2['GENE_SYMBOL']\n",
        "\n",
        "data2.to_csv('drive/My Drive/Colab Notebooks/GSE53700.txt',sep='\\t')"
      ],
      "execution_count": null,
      "outputs": []
    },
    {
      "cell_type": "code",
      "metadata": {
        "id": "6yuBzSkgN1gg"
      },
      "source": [
        "names=pd.DataFrame([gsee3.gpls['GPL570'].table['ID'],gsee3.gpls['GPL570'].table['Gene Symbol'].str.split('//').str[0]]).transpose()\n",
        "data3=pd.merge(expression3,names,left_index=True,right_on='ID')\n",
        "data3=data3.dropna(how='any')\n",
        "data3.index=data3['Gene Symbol']\n",
        "del data3['ID'], data3['Gene Symbol']\n",
        "\n",
        "data3.to_csv('drive/My Drive/Colab Notebooks/GSE56843.txt',sep='\\t')"
      ],
      "execution_count": null,
      "outputs": []
    },
    {
      "cell_type": "code",
      "metadata": {
        "id": "ZbTqp-YrN1dR"
      },
      "source": [
        "names=pd.DataFrame([gsee4.gpls['GPL570'].table['ID'],gsee4.gpls['GPL570'].table['Gene Symbol'].str.split('//').str[0]]).transpose()\n",
        "data4=pd.merge(expression4,names,left_index=True,right_on='ID')\n",
        "data4=data4.dropna(how='any')\n",
        "data4.index=data4['Gene Symbol']\n",
        "del data4['ID'], data4['Gene Symbol']\n",
        "\n",
        "data4.to_csv('drive/My Drive/Colab Notebooks/GSE17708.txt',sep='\\t')"
      ],
      "execution_count": null,
      "outputs": []
    },
    {
      "cell_type": "code",
      "metadata": {
        "id": "ojkV3FaJN1a4"
      },
      "source": [
        "names=pd.DataFrame([gsee5.gpls['GPL96'].table['ID'],gsee5.gpls['GPL96'].table['Gene Symbol'].str.split('//').str[0]]).transpose()\n",
        "data5=pd.merge(expression5,names,left_index=True,right_on='ID')\n",
        "data5=data5.dropna(how='any')\n",
        "data5.index=data5['Gene Symbol']\n",
        "del data5['ID'], data5['Gene Symbol']\n",
        "\n",
        "data5.to_csv('drive/My Drive/Colab Notebooks/GSE17708.txt',sep='\\t')"
      ],
      "execution_count": null,
      "outputs": []
    },
    {
      "cell_type": "code",
      "metadata": {
        "id": "OiwwvUvaYQbp"
      },
      "source": [
        "dfs = [data3,data4,data5]\n",
        "\n",
        "data=pd.concat(dfs, axis=0)#.reset_index()\n",
        "# data.dropna(how='any')\n",
        "# data\n",
        "# df0.groupby(df0['cat']).agg('mean')\n",
        "dataa=data.groupby(data.index).agg('mean')\n",
        "dataa=dataa.dropna(how='any')\n",
        "# dataa\n",
        "\n",
        "dataa.to_csv('drive/My Drive/Colab Notebooks/GSE56843_GSE17708GSE5542.txt',sep='\\t')\n",
        "# GSE56843_GSE17708GSE5542"
      ],
      "execution_count": null,
      "outputs": []
    },
    {
      "cell_type": "code",
      "metadata": {
        "id": "7hNSZzTBYQfB"
      },
      "source": [
        "# dataa.columns=['A549','A549','A549','A549','A549','A549','A549','A549','A549','A549','A549',\n",
        "#                'A549','A549','A549','A549','A549','A549','A549','A549','A549','A549','A549','A549',\n",
        "#                'A549','A549','A549','A549','A549','A549','A549','A549','A549','A549','A549','A549',\n",
        "#                'A549','A549','A549','A549','A549','A549','A549','A549','A549','A549',\n",
        "#                'A549','A549','A549','A549','A549','A549','A549','A549','A549','A549','A549',\n",
        "#                'A549','A549','A549','A549','A549','A549','A549','A549','A549','A549']\n",
        "dataa.rename(columns={'GSM1370129':'A549'}, inplace=True)\n",
        "\n",
        "dataa.to_csv('drive/My Drive/Colab Notebooks/A549_expression.txt',sep='\\t')\n",
        "dataa.to_csv('drive/My Drive/Colab Notebooks/A549_expression_panda.txt',sep='\\t',header=None,index=None)\n"
      ],
      "execution_count": null,
      "outputs": []
    },
    {
      "cell_type": "code",
      "metadata": {
        "id": "UD1FfzL6-4f6"
      },
      "source": [
        "LCL_ppi=pd.read_csv('https://granddb.s3.amazonaws.com/gpuPANDA/ppi2015_freezeCellLine.txt',sep='\\t',header=None)\n",
        "LCL_ppi.to_csv('drive/My Drive/Colab Notebooks/ppi_complete.txt',sep='\\t',index=False)\n",
        "# # expression.to_csv('GPL10558.txt',sep='\\t',index=True,header=True)\n",
        "# # methylation.to_csv('GSE76925.txt',sep='\\t',index=True,header=True)\n",
        "# # # LCL_motif=pd.read_csv('https://granddb.s3.amazonaws.com/gpuPANDA/Hugo_motifCellLine_reduced.txt',sep='\\t',header=None)\n",
        "# # # LCL_motif.to_csv('Hugo_motifCellLine_reduced.txt',sep='\\t',index=False)\n",
        "coding_LCL_motif=pd.read_csv('https://granddb.s3.amazonaws.com/optPANDA/motifs/Hugo_motifCellLine.txt',sep='\\t',header=None)\n",
        "coding_LCL_motif[coding_LCL_motif[2]!=0].to_csv('drive/My Drive/Colab Notebooks/one_coding_LCL_motif.txt',sep='\\t',index=False,header=False)\n",
        "# milipeed_test_motif=pd.read_csv('drive/My Drive/Colab Notebooks dcm/milipeed_test_tr.txt',sep='\\t',header=0,index_col=0)\n",
        "# milipeed_test_motif.columns = milipeed_test_motif.columns.str.replace(\"-\", \".\")\n",
        "# milipeed_test_motif.to_csv('milipeed_test_motif.txt',sep='\\t',index=True,header=True)\n"
      ],
      "execution_count": null,
      "outputs": []
    },
    {
      "cell_type": "code",
      "metadata": {
        "id": "YVBFVIDvfDDp"
      },
      "source": [
        "gen_motif=pd.read_csv('https://granddb.s3.amazonaws.com/gpuPANDA/Hugo_motifCellLine_reduced.txt',sep='\\t',header=None)\n",
        "gen_motif[gen_motif[2]!=0].to_csv('drive/My Drive/Colab Notebooks/gen_motif.txt',sep='\\t',index=False)\n",
        "# LCL_ppi=pd.read_csv('https://granddb.s3.amazonaws.com/gpuPANDA/ppi2015_freezeCellLine.txt',sep='\\t',header=None)\n",
        "# LCL_ppi.to_csv('ppi_complete.txt',sep='\\t',index=False)\n",
        "# milipeed_test_motif=pd.read_csv('drive/My Drive/Colab Notebooks/milipeed_test_tr.txt',sep='\\t',header=0,index_col=0)\n",
        "# milipeed_test_motif.columns = milipeed_test_motif.columns.str.replace(\"-\", \".\")\n",
        "# milipeed_test_motif.to_csv('milipeed_test_motif.txt',sep='\\t',index=True,header=True)\n"
      ],
      "execution_count": null,
      "outputs": []
    },
    {
      "cell_type": "code",
      "metadata": {
        "id": "RO1JmoBc4SuU"
      },
      "source": [
        "[coding_LCL_motif[coding_LCL_motif[2]!=0].shape,gen_motif[gen_motif[2]!=0].shape]"
      ],
      "execution_count": null,
      "outputs": []
    },
    {
      "cell_type": "code",
      "metadata": {
        "id": "cDQ4Hq77T7Cg"
      },
      "source": [
        "A549_motif=pd.read_csv('drive/My Drive/Colab Notebooks/A-549b.txt',sep='\\t',header=None)\n",
        "A549_motif.columns=['cg','A549']\n",
        "A549_motif.index=A549_motif['cg']\n",
        "del A549_motif['cg']\n",
        "A549_motif.to_csv('drive/My Drive/Colab Notebooks/A-549c.txt',sep='\\t')"
      ],
      "execution_count": null,
      "outputs": []
    },
    {
      "cell_type": "code",
      "metadata": {
        "id": "VgUoIeb6qqrG"
      },
      "source": [
        "# tmp_expdata = expression#pd.read_csv(expression_file,sep='\\t',header=0,nrows=0)\n",
        "# tmp_betadata = milipeed_test_motif#pd.read_csv(methylation_file,sep='\\t',header=0,nrows=0)\n",
        "# b_subj=tmp_betadata.columns[(tmp_betadata.columns).isin(tmp_expdata)].dropna().tolist()\n",
        "# e_subj=tmp_expdata.columns[(tmp_expdata.columns).isin(tmp_betadata)].dropna().tolist()\n",
        "# # tmp_betadata2[pd.DataFrame(tmp_betadata2).isin(tmp_expdata2),]\n",
        "# print('Number of subjects:', len(b_subj))\n",
        "\n"
      ],
      "execution_count": null,
      "outputs": []
    },
    {
      "cell_type": "code",
      "metadata": {
        "id": "Kpc1ITlTgTTb"
      },
      "source": [
        "\n",
        "time=datetime.datetime.utcnow()#.str.split(' ')[0]\n",
        "date=str(time).split(' ')[0]"
      ],
      "execution_count": null,
      "outputs": []
    },
    {
      "cell_type": "code",
      "metadata": {
        "id": "bV3PowTTwqrW"
      },
      "source": [
        "panda_obj=netZooPy.panda.Panda(expression_file='drive/My Drive/Colab Notebooks/A549_expression_panda.txt', ###matrixes need no patient info\n",
        "                      # methylation_file='drive/My Drive/Colab Notebooks/A-549c.txt',\n",
        "                      motif_file='drive/My Drive/Colab Notebooks/gen_motif.txt', ###motif need no patient info\n",
        "                      ppi_file='drive/My Drive/Colab Notebooks/ppi_complete.txt',\n",
        "    computing='gpu',save_memory=True,save_tmp=False,remove_missing=False,\n",
        "    keep_expression_matrix=False,modeProcess='intersection')\n",
        "\n",
        "panda_obj.save_panda_results('A549panda_full_'+date+'.txt')\n",
        "\n"
      ],
      "execution_count": null,
      "outputs": []
    },
    {
      "cell_type": "markdown",
      "metadata": {
        "id": "glCOWHdP6BYJ"
      },
      "source": [
        "## run mili partial"
      ]
    },
    {
      "cell_type": "code",
      "metadata": {
        "id": "l0fbeJBpwU4S"
      },
      "source": [
        "milipeed_objA=netZooPy.milipeed.Milipeed(expression_file='drive/My Drive/Colab Notebooks/A549_expression.txt',\n",
        "                      methylation_file='drive/My Drive/Colab Notebooks/A-549c.txt',\n",
        "                      # motif_file='drive/My Drive/Colab Notebooks/one_coding_LCL_motif.txt',\n",
        "                      ppi_file='drive/My Drive/Colab Notebooks/ppi_complete.txt',\n",
        "    computing='gpu',save_dir='milipeed_output/',start=0,end='agg',\n",
        "    save_fmt='npy',map_file='netZooPy/tests/milipeed/MotifPrior_CGmap.txt')\n",
        "\n",
        "milipeed_objA.save_milipeed_results(file='A549mili_partial_'+date+'.txt')\n",
        "\n"
      ],
      "execution_count": null,
      "outputs": []
    },
    {
      "cell_type": "markdown",
      "metadata": {
        "id": "7T29sbOL6En3"
      },
      "source": [
        "##run mili full"
      ]
    },
    {
      "cell_type": "code",
      "metadata": {
        "id": "Qg6AorRD-4q6",
        "colab": {
          "base_uri": "https://localhost:8080/",
          "height": 606
        },
        "outputId": "8b2f8605-4d3d-4505-b426-096ea58695b9"
      },
      "source": [
        "milipeed_objB=netZooPy.milipeed.Milipeed(expression_file='drive/My Drive/Colab Notebooks/A549_expression.txt',\n",
        "                      methylation_file='drive/My Drive/Colab Notebooks/A-549c.txt',\n",
        "                      motif_file='drive/My Drive/Colab Notebooks/one_coding_LCL_motif.txt',\n",
        "                      ppi_file='drive/My Drive/Colab Notebooks/ppi_complete.txt',\n",
        "    computing='gpu',save_dir='milipeed_output/',start=0,end='agg',\n",
        "    save_fmt='npy',map_file='netZooPy/tests/milipeed/MotifPrior_CGmap.txt')\n",
        "\n",
        "milipeed_objB.save_milipeed_results(file='A549mili_full_'+date+'.txt')\n",
        "\n"
      ],
      "execution_count": null,
      "outputs": [
        {
          "output_type": "stream",
          "text": [
            "Finding common subjects ...\n",
            "  Elapsed time: 0.02 sec.\n",
            "Number of subjects: 1\n",
            "Loading PPI data ...\n",
            "Number PPIs: 85315\n",
            "  Elapsed time: 0.14 sec.\n",
            "Loading expression data ...\n",
            "Expression matrix: (13435, 1)\n",
            "  Elapsed time: 0.15 sec.\n",
            "Creating motif ...\n",
            "  Elapsed time: 20.44 sec.\n"
          ],
          "name": "stdout"
        },
        {
          "output_type": "error",
          "ename": "AttributeError",
          "evalue": "ignored",
          "traceback": [
            "\u001b[0;31m---------------------------------------------------------------------------\u001b[0m",
            "\u001b[0;31mAttributeError\u001b[0m                            Traceback (most recent call last)",
            "\u001b[0;32m<ipython-input-22-0594fc4b8cb4>\u001b[0m in \u001b[0;36m<module>\u001b[0;34m()\u001b[0m\n\u001b[1;32m      4\u001b[0m                       \u001b[0mppi_file\u001b[0m\u001b[0;34m=\u001b[0m\u001b[0;34m'drive/My Drive/Colab Notebooks/ppi_complete.txt'\u001b[0m\u001b[0;34m,\u001b[0m\u001b[0;34m\u001b[0m\u001b[0;34m\u001b[0m\u001b[0m\n\u001b[1;32m      5\u001b[0m     \u001b[0mcomputing\u001b[0m\u001b[0;34m=\u001b[0m\u001b[0;34m'gpu'\u001b[0m\u001b[0;34m,\u001b[0m\u001b[0msave_dir\u001b[0m\u001b[0;34m=\u001b[0m\u001b[0;34m'milipeed_output/'\u001b[0m\u001b[0;34m,\u001b[0m\u001b[0mstart\u001b[0m\u001b[0;34m=\u001b[0m\u001b[0;36m0\u001b[0m\u001b[0;34m,\u001b[0m\u001b[0mend\u001b[0m\u001b[0;34m=\u001b[0m\u001b[0;36m2\u001b[0m\u001b[0;34m,\u001b[0m\u001b[0;34m\u001b[0m\u001b[0;34m\u001b[0m\u001b[0m\n\u001b[0;32m----> 6\u001b[0;31m     save_fmt='npy',map_file='netZooPy/tests/milipeed/MotifPrior_CGmap.txt')\n\u001b[0m\u001b[1;32m      7\u001b[0m \u001b[0;34m\u001b[0m\u001b[0m\n\u001b[1;32m      8\u001b[0m \u001b[0mmilipeed_objB\u001b[0m\u001b[0;34m.\u001b[0m\u001b[0msave_milipeed_results\u001b[0m\u001b[0;34m(\u001b[0m\u001b[0mfile\u001b[0m\u001b[0;34m=\u001b[0m\u001b[0;34m'A549mili_full_'\u001b[0m\u001b[0;34m+\u001b[0m\u001b[0mdate\u001b[0m\u001b[0;34m+\u001b[0m\u001b[0;34m'.txt'\u001b[0m\u001b[0;34m)\u001b[0m\u001b[0;34m\u001b[0m\u001b[0;34m\u001b[0m\u001b[0m\n",
            "\u001b[0;32m/content/netZooPy/netZooPy/milipeed/milipeed.py\u001b[0m in \u001b[0;36m__init__\u001b[0;34m(self, expression_file, methylation_file, ppi_file, motif_file, map_file, computing, precision, start, end, save_dir, save_fmt)\u001b[0m\n\u001b[1;32m    103\u001b[0m \u001b[0;34m\u001b[0m\u001b[0m\n\u001b[1;32m    104\u001b[0m         \u001b[0;31m# Run MILIPEED\u001b[0m\u001b[0;34m\u001b[0m\u001b[0;34m\u001b[0m\u001b[0;34m\u001b[0m\u001b[0m\n\u001b[0;32m--> 105\u001b[0;31m         \u001b[0mself\u001b[0m\u001b[0;34m.\u001b[0m\u001b[0mtotal_milipeed_network\u001b[0m \u001b[0;34m=\u001b[0m \u001b[0mself\u001b[0m\u001b[0;34m.\u001b[0m\u001b[0mmilipeed_loop\u001b[0m\u001b[0;34m(\u001b[0m\u001b[0mb_subj\u001b[0m\u001b[0;34m,\u001b[0m\u001b[0me_subj\u001b[0m\u001b[0;34m,\u001b[0m\u001b[0mexpression_file\u001b[0m\u001b[0;34m,\u001b[0m\u001b[0mmotif_file\u001b[0m\u001b[0;34m,\u001b[0m\u001b[0mmethylation_file\u001b[0m\u001b[0;34m,\u001b[0m \u001b[0mmap_file\u001b[0m\u001b[0;34m,\u001b[0m\u001b[0mstart\u001b[0m\u001b[0;34m,\u001b[0m\u001b[0mend\u001b[0m\u001b[0;34m)\u001b[0m\u001b[0;34m\u001b[0m\u001b[0;34m\u001b[0m\u001b[0m\n\u001b[0m\u001b[1;32m    106\u001b[0m \u001b[0;34m\u001b[0m\u001b[0m\n\u001b[1;32m    107\u001b[0m         \u001b[0;31m# # create result data frame\u001b[0m\u001b[0;34m\u001b[0m\u001b[0;34m\u001b[0m\u001b[0;34m\u001b[0m\u001b[0m\n",
            "\u001b[0;32m/content/netZooPy/netZooPy/milipeed/milipeed.py\u001b[0m in \u001b[0;36mmilipeed_loop\u001b[0;34m(self, b_subj, e_subj, expression_file, motif_file, methylation_file, map_file, start, end)\u001b[0m\n\u001b[1;32m    142\u001b[0m                 \u001b[0mself\u001b[0m\u001b[0;34m.\u001b[0m\u001b[0mmdata\u001b[0m\u001b[0;34m=\u001b[0m\u001b[0mnp\u001b[0m\u001b[0;34m.\u001b[0m\u001b[0mfloat32\u001b[0m\u001b[0;34m(\u001b[0m\u001b[0mself\u001b[0m\u001b[0;34m.\u001b[0m\u001b[0mmdata\u001b[0m\u001b[0;34m)\u001b[0m\u001b[0;34m\u001b[0m\u001b[0;34m\u001b[0m\u001b[0m\n\u001b[1;32m    143\u001b[0m \u001b[0;34m\u001b[0m\u001b[0m\n\u001b[0;32m--> 144\u001b[0;31m             \u001b[0mself\u001b[0m\u001b[0;34m.\u001b[0m\u001b[0mprocessData\u001b[0m\u001b[0;34m(\u001b[0m\u001b[0mmodeProcess\u001b[0m\u001b[0;34m=\u001b[0m\u001b[0;34m'intersection'\u001b[0m\u001b[0;34m,\u001b[0m \u001b[0mexpression_file\u001b[0m\u001b[0;34m=\u001b[0m\u001b[0mself\u001b[0m\u001b[0;34m.\u001b[0m\u001b[0mexpression_m\u001b[0m\u001b[0;34m,\u001b[0m \u001b[0mmotif_file\u001b[0m\u001b[0;34m=\u001b[0m\u001b[0mself\u001b[0m\u001b[0;34m.\u001b[0m\u001b[0mmdata\u001b[0m\u001b[0;34m,\u001b[0m \u001b[0mppi_file\u001b[0m\u001b[0;34m=\u001b[0m\u001b[0mself\u001b[0m\u001b[0;34m.\u001b[0m\u001b[0mppi_data\u001b[0m\u001b[0;34m,\u001b[0m\u001b[0mremove_missing\u001b[0m\u001b[0;34m=\u001b[0m\u001b[0;32mFalse\u001b[0m\u001b[0;34m,\u001b[0m\u001b[0mkeep_expression_matrix\u001b[0m\u001b[0;34m=\u001b[0m\u001b[0;32mTrue\u001b[0m\u001b[0;34m)\u001b[0m\u001b[0;34m\u001b[0m\u001b[0;34m\u001b[0m\u001b[0m\n\u001b[0m\u001b[1;32m    145\u001b[0m             \u001b[0mpd\u001b[0m\u001b[0;34m.\u001b[0m\u001b[0mDataFrame\u001b[0m\u001b[0;34m(\u001b[0m\u001b[0mself\u001b[0m\u001b[0;34m.\u001b[0m\u001b[0mexpression_matrix\u001b[0m\u001b[0;34m)\u001b[0m\u001b[0;34m.\u001b[0m\u001b[0mto_csv\u001b[0m\u001b[0;34m(\u001b[0m\u001b[0mself\u001b[0m\u001b[0;34m.\u001b[0m\u001b[0msave_dir\u001b[0m\u001b[0;34m+\u001b[0m\u001b[0;34m'exp_tmp.txt'\u001b[0m\u001b[0;34m,\u001b[0m\u001b[0msep\u001b[0m\u001b[0;34m=\u001b[0m\u001b[0;34m'\\t'\u001b[0m\u001b[0;34m,\u001b[0m\u001b[0mfloat_format\u001b[0m\u001b[0;34m=\u001b[0m\u001b[0;34m'%1.4f'\u001b[0m\u001b[0;34m,\u001b[0m\u001b[0mindex\u001b[0m\u001b[0;34m=\u001b[0m\u001b[0;32mFalse\u001b[0m\u001b[0;34m,\u001b[0m\u001b[0mheader\u001b[0m\u001b[0;34m=\u001b[0m\u001b[0;32mFalse\u001b[0m\u001b[0;34m)\u001b[0m\u001b[0;34m\u001b[0m\u001b[0;34m\u001b[0m\u001b[0m\n\u001b[1;32m    146\u001b[0m             \u001b[0;32mdel\u001b[0m \u001b[0mself\u001b[0m\u001b[0;34m.\u001b[0m\u001b[0mmdata\u001b[0m\u001b[0;31m#, self.ppi_data\u001b[0m\u001b[0;34m\u001b[0m\u001b[0;34m\u001b[0m\u001b[0m\n",
            "\u001b[0;31mAttributeError\u001b[0m: 'Milipeed' object has no attribute 'expression_m'"
          ]
        }
      ]
    },
    {
      "cell_type": "markdown",
      "metadata": {
        "id": "6lY3AafW5ubU"
      },
      "source": [
        "#load to compare vs spaso A549 0-1kb, 5-10, 20-25 ChIP"
      ]
    },
    {
      "cell_type": "code",
      "metadata": {
        "id": "dUytpu_GqE93"
      },
      "source": [
        "# from udd/spaso/\n",
        "uTF=['ATF3','BHLHE40','CEBPB','CREB1','CTCF','ELF1','EP300','ETS1','FOSL2','FOXA1','GABPA','MAX','NR3C1','REST','SIX5','TCF12','USF1','YY1','ZBTB33']\n",
        "uGene=pd.read_csv('drive/My Drive/Colab Notebooks/here.txt',sep='\\t',header=None)\n",
        "\n",
        "A549_GS=pd.read_csv('drive/My Drive/Colab Notebooks/adj_chip_abhi_A549_0-5kb.txt',sep='\\t',header=None)\n",
        "A549_GS=A549_GS.T\n",
        "A549_GS.shape\n",
        "A549_GS.columns=pd.DataFrame(uTF)[0]\n",
        "A549_GS.shape\n",
        "A549_GS.index=uGene[0]\n",
        "A549_GS\n",
        "A549_GS.to_csv('drive/My Drive/Colab Notebooks/GS_adj_chip_abhi_A549_0-5kb.txt',sep='\\t')\n",
        "\n",
        "A549_GS=pd.read_csv('drive/My Drive/Colab Notebooks/adj_chip_abhi_A549_5-10kb.txt',sep='\\t',header=None)\n",
        "A549_GS=A549_GS.T\n",
        "A549_GS.shape\n",
        "A549_GS.columns=pd.DataFrame(uTF)[0]\n",
        "A549_GS.shape\n",
        "A549_GS.index=uGene[0]\n",
        "A549_GS\n",
        "A549_GS.to_csv('drive/My Drive/Colab Notebooks/GS_adj_chip_abhi_A549_5-10kb.txt',sep='\\t')\n",
        "\n",
        "A549_GS=pd.read_csv('drive/My Drive/Colab Notebooks/adj_chip_abhi_A549_20-25kb.txt',sep='\\t',header=None)\n",
        "A549_GS=A549_GS.T\n",
        "A549_GS.shape\n",
        "A549_GS.columns=pd.DataFrame(uTF)[0]\n",
        "A549_GS.shape\n",
        "A549_GS.index=uGene[0]\n",
        "A549_GS\n",
        "A549_GS.to_csv('drive/My Drive/Colab Notebooks/GS_adj_chip_abhi_A549_20-25kb.txt',sep='\\t')"
      ],
      "execution_count": null,
      "outputs": []
    },
    {
      "cell_type": "markdown",
      "metadata": {
        "id": "YOx5P3VR8p_4"
      },
      "source": [
        "##format each GS"
      ]
    },
    {
      "cell_type": "code",
      "metadata": {
        "id": "aCNjdWgB9uAk"
      },
      "source": [
        "A549_GS=pd.read_csv('drive/My Drive/Colab Notebooks/GS_adj_chip_abhi_A549_0-1kb.txt',sep='\\t',header=0,index_col=0)\n",
        "A549_GS['index']=A549_GS.index\n",
        "df2 = pd.melt(A549_GS.reset_index(), id_vars='index')#,value_vars=A549_GS.columns)\n",
        "df2=df2[df2['value'].astype(str).str.isdigit()]\n",
        "df2.columns=['gene','TF','weight']\n",
        "A549_GS=pd.read_csv('drive/My Drive/Colab Notebooks/GS_adj_chip_abhi_A549_5-10kb.txt',sep='\\t',header=0,index_col=0)\n",
        "A549_GS['index']=A549_GS.index\n",
        "df3 = pd.melt(A549_GS.reset_index(), id_vars='index')#,value_vars=A549_GS.columns)\n",
        "df3=df3[df3['value'].astype(str).str.isdigit()]\n",
        "df3.columns=['gene','TF','weight']\n",
        "# df3\n",
        "A549_GS=pd.read_csv('drive/My Drive/Colab Notebooks/GS_adj_chip_abhi_A549_20-25kb.txt',sep='\\t',header=0,index_col=0)\n",
        "A549_GS['index']=A549_GS.index\n",
        "df4 = pd.melt(A549_GS.reset_index(), id_vars='index')#,value_vars=A549_GS.columns)\n",
        "df4=df4[df4['value'].astype(str).str.isdigit()]\n",
        "df4.columns=['gene','TF','weight']\n",
        "# df3"
      ],
      "execution_count": null,
      "outputs": []
    },
    {
      "cell_type": "markdown",
      "metadata": {
        "id": "VFC937X__w48"
      },
      "source": [
        "##load milipeed nets again"
      ]
    },
    {
      "cell_type": "code",
      "metadata": {
        "id": "9DGTQZ8qrKr4"
      },
      "source": [
        "A549_methyl_links=pd.read_csv('drive/My Drive/Colab Notebooks/A549_mili_bench_101420/link_names.txt',sep='\\t',header=None)\n",
        "A549_methyl=pd.read_csv('drive/My Drive/Colab Notebooks/A549_mili_bench_101420/A549mili_full_2020-10-14.txt',sep='\\t',header=None)\n",
        "A549_methyl.index=pd.DataFrame(A549_methyl_links)[0]\n",
        "A549_methyl['TF']=A549_methyl.index.str.split('_').str[0].tolist()\n",
        "A549_methyl['gene']=A549_methyl.index.str.split('_').str[1].tolist()\n",
        "\n",
        "A549_methyl=A549_methyl[['TF','gene',0]]\n",
        "A549_methyl.columns=['TF','gene','weight']\n",
        "# A549_methyl=A549_methyl.reset_index()\n",
        "# del A549_methyl[0]\n",
        "A549_methyl"
      ],
      "execution_count": null,
      "outputs": []
    },
    {
      "cell_type": "markdown",
      "metadata": {
        "id": "4UqzfTq1Eh3B"
      },
      "source": [
        "# compute AUROC and AUPR compared to GS"
      ]
    },
    {
      "cell_type": "code",
      "metadata": {
        "id": "oJIZ5LlZHxfY"
      },
      "source": [
        "A549_methyl_links=pd.read_csv('drive/My Drive/Colab Notebooks/A549_mili_bench_101420/link_names.txt',sep='\\t',header=None)\n",
        "A549_methyl=pd.read_csv('drive/My Drive/Colab Notebooks/A549_mili_bench_101420/A549mili_full_2020-10-14.txt',sep='\\t',header=None)\n",
        "A549_methyl.index=pd.DataFrame(A549_methyl_links)[0]\n",
        "A549_methyl['TF']=A549_methyl.index.str.split('_').str[0].tolist()\n",
        "A549_methyl['gene']=A549_methyl.index.str.split('_').str[1].tolist()\n",
        "\n",
        "A549_methyl=A549_methyl[['TF','gene',0]]\n",
        "A549_methyl.columns=['TF','gene','weight']\n",
        "# A549_methyl=A549_methyl.reset_index()\n",
        "del A549_methyl[0]\n",
        "A549_methyl"
      ],
      "execution_count": null,
      "outputs": []
    },
    {
      "cell_type": "code",
      "metadata": {
        "id": "tV7ODDoRzKUO"
      },
      "source": [
        "from functools import reduce\n",
        "data_frames = [A549_methyl, df2, df3,df4]\n",
        "df_merged = reduce(lambda  left,right: pd.merge(left,right,on=['TF','gene'],\n",
        "                                            how='inner'), data_frames)\n",
        "df_merged.columns=['TF','gene','mili_weight','GS 0-1kb','GS 5-10kb','GS 20-25kb']"
      ],
      "execution_count": null,
      "outputs": []
    },
    {
      "cell_type": "code",
      "metadata": {
        "id": "IVQZceFD4Ud5"
      },
      "source": [
        "df_merged['mili_weight']=pd.to_numeric(df_merged['mili_weight'])\n",
        "df_merged['GS 0-1kb']=pd.to_numeric(df_merged['GS 0-1kb'])\n",
        "df_merged['GS 5-10kb']=pd.to_numeric(df_merged['GS 5-10kb'])\n",
        "df_merged['GS 20-25kb']=pd.to_numeric(df_merged['GS 20-25kb'])\n",
        "\n",
        "# df_merged.weight_y=(compare.weight_y-compare.weight_y.min())/(compare.weight_y.max()-compare.weight_y.min())\n",
        "\n",
        "plt.plot([0, 1], [0, 1], 'k--')\n",
        "fpr, tpr, thresholds = metrics.roc_curve(df_merged['GS 0-1kb'], df_merged.mili_weight)\n",
        "roc_auc=metrics.auc(fpr, tpr)\n",
        "plt.plot(fpr, tpr,label='0-1kb GS (area = {0:0.2f})'''.format(roc_auc),color='k', linestyle=':', linewidth=4)\n",
        "\n",
        "# plt.plot([0, 1], [0, 1], 'k--')\n",
        "fpr, tpr, thresholds = metrics.roc_curve(df_merged['GS 5-10kb'], df_merged.mili_weight)\n",
        "roc_auc=metrics.auc(fpr, tpr)\n",
        "plt.plot(fpr, tpr,label='5-10kb GS (area = {0:0.2f})'''.format(roc_auc),color='r', linestyle=':', linewidth=4)\n",
        "\n",
        "# plt.plot([0, 1], [0, 1], 'k--')\n",
        "fpr, tpr, thresholds = metrics.roc_curve(df_merged['GS 20-25kb'], df_merged.mili_weight)\n",
        "roc_auc=metrics.auc(fpr, tpr)\n",
        "plt.plot(fpr, tpr,label='20-25kb GS (area = {0:0.2f})'''.format(roc_auc),color='b', linestyle=':', linewidth=4)\n",
        "plt.xlabel('False Positive Rate')\n",
        "plt.ylabel('True Positive Rate')\n",
        "plt.title('AUROC')\n",
        "plt.legend(loc=\"best\")"
      ],
      "execution_count": null,
      "outputs": []
    },
    {
      "cell_type": "code",
      "metadata": {
        "id": "15FwjS1FEcgl"
      },
      "source": [
        "plt.plot([0, 1], [0, 1], 'k--')\n",
        "precision, recall, thresholds = metrics.precision_recall_curve(df_merged['GS 0-1kb'], df_merged.mili_weight)\n",
        "roc_auc3=metrics.average_precision_score(df_merged['GS 0-1kb'], df_merged.mili_weight)\n",
        "plt.plot(recall,precision, label='0-1kb GS (avg Prec = {0:0.2f})'''.format(roc_auc3),color='k', linestyle=':', linewidth=4)\n",
        "\n",
        "precision, recall, thresholds = metrics.precision_recall_curve(df_merged['GS 5-10kb'], df_merged.mili_weight)\n",
        "roc_auc3=metrics.average_precision_score(df_merged['GS 5-10kb'], df_merged.mili_weight)\n",
        "plt.plot(recall,precision, label='5-10kb GS (avg Prec = {0:0.2f})'''.format(roc_auc3),color='r', linestyle=':', linewidth=4)\n",
        "\n",
        "precision, recall, thresholds = metrics.precision_recall_curve(df_merged['GS 20-25kb'], df_merged.mili_weight)\n",
        "roc_auc3=metrics.average_precision_score(df_merged['GS 20-25kb'], df_merged.mili_weight)\n",
        "plt.plot(recall,precision, label='20-25kb GS (avg Prec = {0:0.2f})'''.format(roc_auc3),color='b', linestyle=':', linewidth=4)\n",
        "\n",
        "plt.xlabel('Recall or TPR')\n",
        "plt.ylabel('Precision')\n",
        "plt.title('AUPR')\n",
        "plt.legend(loc=\"best\")"
      ],
      "execution_count": null,
      "outputs": []
    },
    {
      "cell_type": "markdown",
      "metadata": {
        "id": "u-M99hsxEog2"
      },
      "source": [
        "## compute AUROC and AUPR **adding 0s where no chip** in GS"
      ]
    },
    {
      "cell_type": "code",
      "metadata": {
        "id": "LpXyTtcYBDZQ"
      },
      "source": [
        "from functools import reduce\n",
        "data_frames = [A549_methyl, df2, df3,df4]\n",
        "df_merged = reduce(lambda  left,right: pd.merge(left,right,on=['TF','gene'],\n",
        "                                            how='outer'), data_frames)"
      ],
      "execution_count": null,
      "outputs": []
    },
    {
      "cell_type": "code",
      "metadata": {
        "id": "lRln1yq6BGhz"
      },
      "source": [
        "df_merged.columns=['TF','gene','mili_weight','GS 0-1kb','GS 5-10kb','GS 20-25kb']\n",
        "df_merged=df_merged.fillna(0)\n"
      ],
      "execution_count": null,
      "outputs": []
    },
    {
      "cell_type": "code",
      "metadata": {
        "id": "kWt4LsWe6eqv"
      },
      "source": [
        "df_merged['mili_weight']=pd.to_numeric(df_merged['mili_weight'])\n",
        "df_merged['GS 0-1kb']=pd.to_numeric(df_merged['GS 0-1kb'])\n",
        "df_merged['GS 5-10kb']=pd.to_numeric(df_merged['GS 5-10kb'])\n",
        "df_merged['GS 20-25kb']=pd.to_numeric(df_merged['GS 20-25kb'])\n",
        "\n",
        "# df_merged.weight_y=(compare.weight_y-compare.weight_y.min())/(compare.weight_y.max()-compare.weight_y.min())\n",
        "\n",
        "plt.plot([0, 1], [0, 1], 'k--')\n",
        "fpr, tpr, thresholds = metrics.roc_curve(df_merged['GS 0-1kb'], df_merged.mili_weight)\n",
        "roc_auc=metrics.auc(fpr, tpr)\n",
        "plt.plot(fpr, tpr,label='0-1kb GS (area = {0:0.2f})'''.format(roc_auc),color='k', linestyle=':', linewidth=4)\n",
        "\n",
        "# plt.plot([0, 1], [0, 1], 'k--')\n",
        "fpr, tpr, thresholds = metrics.roc_curve(df_merged['GS 5-10kb'], df_merged.mili_weight)\n",
        "roc_auc=metrics.auc(fpr, tpr)\n",
        "plt.plot(fpr, tpr,label='5-10kb GS (area = {0:0.2f})'''.format(roc_auc),color='r', linestyle=':', linewidth=4)\n",
        "\n",
        "# plt.plot([0, 1], [0, 1], 'k--')\n",
        "fpr, tpr, thresholds = metrics.roc_curve(df_merged['GS 20-25kb'], df_merged.mili_weight)\n",
        "roc_auc=metrics.auc(fpr, tpr)\n",
        "plt.plot(fpr, tpr,label='20-25kb GS (area = {0:0.2f})'''.format(roc_auc),color='b', linestyle=':', linewidth=4)\n",
        "plt.xlabel('False Positive Rate')\n",
        "plt.ylabel('True Positive Rate')\n",
        "plt.title('AUROC')\n",
        "plt.legend(loc=\"best\")"
      ],
      "execution_count": null,
      "outputs": []
    },
    {
      "cell_type": "code",
      "metadata": {
        "id": "mrKvejS1BwfK"
      },
      "source": [
        "plt.plot([0, 1], [0, 1], 'k--')\n",
        "precision, recall, thresholds = metrics.precision_recall_curve(df_merged['GS 0-1kb'], df_merged.mili_weight)\n",
        "roc_auc3=metrics.average_precision_score(df_merged['GS 0-1kb'], df_merged.mili_weight)\n",
        "plt.plot(recall,precision, label='0-1kb GS (avg Prec = {0:0.2f})'''.format(roc_auc3),color='k', linestyle=':', linewidth=4)\n",
        "\n",
        "precision, recall, thresholds = metrics.precision_recall_curve(df_merged['GS 5-10kb'], df_merged.mili_weight)\n",
        "roc_auc3=metrics.average_precision_score(df_merged['GS 5-10kb'], df_merged.mili_weight)\n",
        "plt.plot(recall,precision, label='5-10kb GS (avg Prec = {0:0.2f})'''.format(roc_auc3),color='r', linestyle=':', linewidth=4)\n",
        "\n",
        "precision, recall, thresholds = metrics.precision_recall_curve(df_merged['GS 20-25kb'], df_merged.mili_weight)\n",
        "roc_auc3=metrics.average_precision_score(df_merged['GS 20-25kb'], df_merged.mili_weight)\n",
        "plt.plot(recall,precision, label='20-25kb GS (avg Prec = {0:0.2f})'''.format(roc_auc3),color='b', linestyle=':', linewidth=4)\n",
        "\n",
        "plt.xlabel('Recall or TPR')\n",
        "plt.ylabel('Precision')\n",
        "plt.title('AUPR')\n",
        "plt.legend(loc=\"best\")"
      ],
      "execution_count": null,
      "outputs": []
    },
    {
      "cell_type": "code",
      "metadata": {
        "id": "2p4qGjkpD2XF"
      },
      "source": [
        ""
      ],
      "execution_count": null,
      "outputs": []
    },
    {
      "cell_type": "code",
      "metadata": {
        "id": "T2djXwCyAcI_"
      },
      "source": [
        ""
      ],
      "execution_count": null,
      "outputs": []
    },
    {
      "cell_type": "markdown",
      "metadata": {
        "id": "zMoi8kRjvX5S"
      },
      "source": [
        "# gather GM12878-ish EXP run Panda & Milipeed\n"
      ]
    },
    {
      "cell_type": "code",
      "metadata": {
        "id": "ZHYv6CRqvKLz"
      },
      "source": [
        "LCL_exp=pd.read_csv('drive/My Drive/Colab Notebooks/abhi_LCL_sub.txt',sep='\\t',header=0)\n",
        "# # LCL_exp=pd.read_csv('drive/My Drive/Colab Notebooks/LCL.txt',sep='\\t',header=None)\n",
        "LCL_names=pd.read_csv('drive/My Drive/Colab Notebooks/abhi_LCL_names.txt',sep='\\t',header=0)\n",
        "\n",
        "LCL_exp.index=LCL_names['x']\n",
        "LCL_exp.rename(columns={'GTEX-11EM3-0001-SM-5Q5BD':'GM12878'}, inplace=True)\n",
        "\n",
        "LCL_exp.to_csv('drive/My Drive/Colab Notebooks/LCL_exp.txt',sep='\\t')\n",
        "LCL_exp.to_csv('drive/My Drive/Colab Notebooks/LCL_exp_panda.txt',sep='\\t',header=None)\n"
      ],
      "execution_count": null,
      "outputs": []
    },
    {
      "cell_type": "code",
      "metadata": {
        "id": "YPDTXjyTJETt"
      },
      "source": [
        "LCL_exp"
      ],
      "execution_count": null,
      "outputs": []
    },
    {
      "cell_type": "code",
      "metadata": {
        "id": "-gCWoKBDAZoF"
      },
      "source": [
        "# gen_motif=pd.read_csv('https://granddb.s3.amazonaws.com/gpuPANDA/Hugo_motifCellLine_reduced.txt',sep='\\t',header=None)\n",
        "# gen_motif[gen_motif[2]!=0].to_csv('drive/My Drive/Colab Notebooks/gen_motif.txt',sep='\\t',index=False)\n",
        "\n",
        "# gen_motif2=pd.read_csv('https://granddb.s3.amazonaws.com/gpuPANDA/motif_complete_reduced.txt',sep='\\t',header=None)\n",
        "# gen_motif2[gen_motif2[2]!=0].to_csv('drive/My Drive/Colab Notebooks/gen_motif_complete.txt',sep='\\t',index=False)\n",
        "\n",
        "# coding_LCL_motif=pd.read_csv('https://granddb.s3.amazonaws.com/optPANDA/motifs/Hugo_motifCellLine.txt',sep='\\t',header=None)\n",
        "# coding_LCL_motif[coding_LCL_motif[2]!=0].to_csv('drive/My Drive/Colab Notebooks/one_coding_LCL_motif.txt',sep='\\t',index=False,header=False)\n",
        "\n",
        "# LCL_ppi=pd.read_csv('https://granddb.s3.amazonaws.com/gpuPANDA/ppi2015_freezeCellLine.txt',sep='\\t',header=None)\n",
        "# LCL_ppi.to_csv('drive/My Drive/Colab Notebooks/ppi_complete.txt',sep='\\t',index=False)\n",
        "\n",
        "time=datetime.datetime.utcnow()#.str.split(' ')[0]\n",
        "date=str(time).split(' ')[0]"
      ],
      "execution_count": null,
      "outputs": []
    },
    {
      "cell_type": "code",
      "metadata": {
        "id": "UIBAfNzP8Av0",
        "colab": {
          "base_uri": "https://localhost:8080/"
        },
        "outputId": "0196613e-2247-420d-e0ee-3ae0892b4538"
      },
      "source": [
        "D1=pd.read_csv('drive/My Drive/Colab Notebooks/one_coding_LCL_motif.txt',sep='\\t')\n",
        "D2=pd.read_csv('drive/My Drive/Colab Notebooks/gen_motif.txt',sep='\\t')\n",
        "D3=pd.read_csv('drive/My Drive/Colab Notebooks/gen_motif_complete.txt',sep='\\t')\n",
        "[D1.shape,D2.shape,D3.shape]"
      ],
      "execution_count": null,
      "outputs": [
        {
          "output_type": "execute_result",
          "data": {
            "text/plain": [
              "[(1592028, 3), (39702, 3), (1553604, 3)]"
            ]
          },
          "metadata": {
            "tags": []
          },
          "execution_count": 13
        }
      ]
    },
    {
      "cell_type": "code",
      "metadata": {
        "id": "TgmEYZm_BSpQ"
      },
      "source": [
        "c=np.random.choice(1592028, 50000,replace=False)\n",
        "D1.loc[c.tolist()].to_csv('drive/My Drive/Colab Notebooks/rand50k_motif.txt',sep='\\t',index=False)\n",
        "# D1=pd.read_csv('drive/My Drive/Colab Notebooks/gen_motif.txt',sep='\\t',header=None)\n",
        "# D1.shape"
      ],
      "execution_count": null,
      "outputs": []
    },
    {
      "cell_type": "code",
      "metadata": {
        "id": "XeuCIJvtTgFS"
      },
      "source": [
        "panda_obj.save_panda_results"
      ],
      "execution_count": null,
      "outputs": []
    },
    {
      "cell_type": "code",
      "metadata": {
        "id": "_2cRi5bvAcAH"
      },
      "source": [
        "panda_obj=netZooPy.panda.Panda(expression_file='drive/My Drive/Colab Notebooks/LCL_exp_panda.txt', ###matrixes need no patient info\n",
        "                      # methylation_file='drive/My Drive/Colab Notebooks/A-549c.txt',\n",
        "                      motif_file='drive/My Drive/Colab Notebooks/rand50k_motif.txt', ###motif need no patient info\n",
        "                        # motif_file='drive/My Drive/Colab Notebooks/gen_motif.txt', ###motif need no patient info\n",
        "                      ppi_file='drive/My Drive/Colab Notebooks/ppi_complete.txt',\n",
        "    computing='gpu',save_memory=True,save_tmp=False,remove_missing=True,\n",
        "    keep_expression_matrix=False,modeProcess='intersection',precision='single')\n",
        "\n",
        "# panda_obj.save_panda_results('drive/My Drive/Colab Notebooks/LCL_panda_'+date+'.txt')\n",
        "\n",
        "cc=pd.DataFrame(panda_obj.panda_network)\n",
        "cc.columns=panda_obj.motif_genes\n",
        "cc.index=panda_obj.motif_tfs\n",
        "jj=pd.DataFrame(cc.stack())\n",
        "jj=jj.reset_index()\n",
        "jj.to_csv('drive/My Drive/Colab Notebooks/LCL_panda_50k_'+date+'.txt',sep='\\t',header=False,index=False)"
      ],
      "execution_count": null,
      "outputs": []
    },
    {
      "cell_type": "code",
      "metadata": {
        "id": "CO3AR5zajTC_"
      },
      "source": [
        "panda_obj.motif_genes"
      ],
      "execution_count": null,
      "outputs": []
    },
    {
      "cell_type": "code",
      "metadata": {
        "colab": {
          "base_uri": "https://localhost:8080/"
        },
        "id": "3N7qe8JsLdJf",
        "outputId": "eb780537-2358-49c8-d61b-4d502f974e73"
      },
      "source": [
        "# !wget https://www.encodeproject.org/files/ENCFF279HCL/@@download/ENCFF279HCL.bed.gz ~\n",
        "# !gunzip ENCFF279HCL.bed.gz\n",
        "# annotate WGBS to gene via UCSC table browser\n",
        "# https://genome.ucsc.edu/cgi-bin/hgTables?hgsid=999044375_7MajAhXRV8D72iA8zwEVAEDXuTTR&boolshad.hgta_printCustomTrackHeaders=0&hgta_ctName=tb_knownGene&hgta_ctDesc=table+browser+query+on+knownGene&hgta_ctVis=pack&hgta_ctUrl=&fbQual=whole&fbUpBases=200&fbExonBases=0&fbIntronBases=0&fbDownBases=200&hgta_doGetBed=get+BED\n",
        "# https://genome.ucsc.edu/cgi-bin/hgTables\n",
        "loc=pd.read_csv('drive/My Drive/Colab Notebooks/ensmbl.txt',sep='\\t',header=None,names=['chr','start','end','enst'])\n",
        "loc_gene=pd.read_csv('drive/My Drive/Colab Notebooks/enst_to_gene.txt',sep='\\t',header=None,names=['enst','gene'])\n",
        "\n",
        "print(len(loc),len(loc_gene))"
      ],
      "execution_count": null,
      "outputs": [
        {
          "output_type": "stream",
          "text": [
            "247541 117494\n"
          ],
          "name": "stdout"
        }
      ]
    },
    {
      "cell_type": "code",
      "metadata": {
        "colab": {
          "base_uri": "https://localhost:8080/",
          "height": 424
        },
        "id": "o12h8k_2XgDV",
        "outputId": "8fce4749-21c8-4276-f058-768d83177c35"
      },
      "source": [
        "pd.merge(loc,loc_gene)"
      ],
      "execution_count": null,
      "outputs": [
        {
          "output_type": "execute_result",
          "data": {
            "text/html": [
              "<div>\n",
              "<style scoped>\n",
              "    .dataframe tbody tr th:only-of-type {\n",
              "        vertical-align: middle;\n",
              "    }\n",
              "\n",
              "    .dataframe tbody tr th {\n",
              "        vertical-align: top;\n",
              "    }\n",
              "\n",
              "    .dataframe thead th {\n",
              "        text-align: right;\n",
              "    }\n",
              "</style>\n",
              "<table border=\"1\" class=\"dataframe\">\n",
              "  <thead>\n",
              "    <tr style=\"text-align: right;\">\n",
              "      <th></th>\n",
              "      <th>chr</th>\n",
              "      <th>start</th>\n",
              "      <th>end</th>\n",
              "      <th>enst</th>\n",
              "      <th>gene</th>\n",
              "    </tr>\n",
              "  </thead>\n",
              "  <tbody>\n",
              "    <tr>\n",
              "      <th>0</th>\n",
              "      <td>chr1</td>\n",
              "      <td>65418</td>\n",
              "      <td>71585</td>\n",
              "      <td>ENST00000641515.2</td>\n",
              "      <td>OR4F5</td>\n",
              "    </tr>\n",
              "    <tr>\n",
              "      <th>1</th>\n",
              "      <td>chr1</td>\n",
              "      <td>69054</td>\n",
              "      <td>70108</td>\n",
              "      <td>ENST00000335137.4</td>\n",
              "      <td>OR4F5</td>\n",
              "    </tr>\n",
              "    <tr>\n",
              "      <th>2</th>\n",
              "      <td>chr1</td>\n",
              "      <td>685678</td>\n",
              "      <td>686673</td>\n",
              "      <td>ENST00000332831.4</td>\n",
              "      <td>OR4F16</td>\n",
              "    </tr>\n",
              "    <tr>\n",
              "      <th>3</th>\n",
              "      <td>chr1</td>\n",
              "      <td>817370</td>\n",
              "      <td>819837</td>\n",
              "      <td>ENST00000326734.2</td>\n",
              "      <td>Family_with_sequence_similarity_87_member_B</td>\n",
              "    </tr>\n",
              "    <tr>\n",
              "      <th>4</th>\n",
              "      <td>chr1</td>\n",
              "      <td>923927</td>\n",
              "      <td>939291</td>\n",
              "      <td>ENST00000420190.6</td>\n",
              "      <td>Sterile_alpha_motif_domain_containing_11</td>\n",
              "    </tr>\n",
              "    <tr>\n",
              "      <th>...</th>\n",
              "      <td>...</td>\n",
              "      <td>...</td>\n",
              "      <td>...</td>\n",
              "      <td>...</td>\n",
              "      <td>...</td>\n",
              "    </tr>\n",
              "    <tr>\n",
              "      <th>117599</th>\n",
              "      <td>chr22_KQ759761v1_alt</td>\n",
              "      <td>4239</td>\n",
              "      <td>7650</td>\n",
              "      <td>ENST00000636910.1</td>\n",
              "      <td>CYP2D6</td>\n",
              "    </tr>\n",
              "    <tr>\n",
              "      <th>117600</th>\n",
              "      <td>chr22_KQ759761v1_alt</td>\n",
              "      <td>4239</td>\n",
              "      <td>8551</td>\n",
              "      <td>ENST00000646114.2</td>\n",
              "      <td>CYP2D6</td>\n",
              "    </tr>\n",
              "    <tr>\n",
              "      <th>117601</th>\n",
              "      <td>chr22_KQ759761v1_alt</td>\n",
              "      <td>4241</td>\n",
              "      <td>8622</td>\n",
              "      <td>ENST00000636361.1</td>\n",
              "      <td>CYP2D6</td>\n",
              "    </tr>\n",
              "    <tr>\n",
              "      <th>117602</th>\n",
              "      <td>chr22_KQ759761v1_alt</td>\n",
              "      <td>4275</td>\n",
              "      <td>8554</td>\n",
              "      <td>ENST00000635910.1</td>\n",
              "      <td>CYP2D6</td>\n",
              "    </tr>\n",
              "    <tr>\n",
              "      <th>117603</th>\n",
              "      <td>chr22_KQ759761v1_alt</td>\n",
              "      <td>4296</td>\n",
              "      <td>8606</td>\n",
              "      <td>ENST00000637987.1</td>\n",
              "      <td>CYP2D6</td>\n",
              "    </tr>\n",
              "  </tbody>\n",
              "</table>\n",
              "<p>117604 rows × 5 columns</p>\n",
              "</div>"
            ],
            "text/plain": [
              "                         chr  ...                                         gene\n",
              "0                       chr1  ...                                        OR4F5\n",
              "1                       chr1  ...                                        OR4F5\n",
              "2                       chr1  ...                                       OR4F16\n",
              "3                       chr1  ...  Family_with_sequence_similarity_87_member_B\n",
              "4                       chr1  ...     Sterile_alpha_motif_domain_containing_11\n",
              "...                      ...  ...                                          ...\n",
              "117599  chr22_KQ759761v1_alt  ...                                       CYP2D6\n",
              "117600  chr22_KQ759761v1_alt  ...                                       CYP2D6\n",
              "117601  chr22_KQ759761v1_alt  ...                                       CYP2D6\n",
              "117602  chr22_KQ759761v1_alt  ...                                       CYP2D6\n",
              "117603  chr22_KQ759761v1_alt  ...                                       CYP2D6\n",
              "\n",
              "[117604 rows x 5 columns]"
            ]
          },
          "metadata": {
            "tags": []
          },
          "execution_count": 28
        }
      ]
    },
    {
      "cell_type": "code",
      "metadata": {
        "id": "JDTApSOTBZ_p"
      },
      "source": [
        "GM12878_motif=pd.read_csv('drive/My Drive/Colab Notebooks/GM12878b.txt',sep='\\t',header=None)\n",
        "GM12878_motif.columns=['cg','GM12878']\n",
        "GM12878_motif.index=GM12878_motif['cg']\n",
        "del GM12878_motif['cg']\n",
        "GM12878_motif.to_csv('drive/My Drive/Colab Notebooks/GM12878c.txt',sep='\\t')"
      ],
      "execution_count": null,
      "outputs": []
    },
    {
      "cell_type": "code",
      "metadata": {
        "colab": {
          "base_uri": "https://localhost:8080/",
          "height": 424
        },
        "id": "tP2kegw3Kezr",
        "outputId": "0f3bc83b-816f-41b5-c22f-75708b39e998"
      },
      "source": [
        "# GM12878_motif\n",
        "map_file=pd.read_csv('netZooPy/tests/milipeed/MotifPrior_CGmap.txt',sep='\\t')\n",
        "map_file"
      ],
      "execution_count": null,
      "outputs": [
        {
          "output_type": "execute_result",
          "data": {
            "text/html": [
              "<div>\n",
              "<style scoped>\n",
              "    .dataframe tbody tr th:only-of-type {\n",
              "        vertical-align: middle;\n",
              "    }\n",
              "\n",
              "    .dataframe tbody tr th {\n",
              "        vertical-align: top;\n",
              "    }\n",
              "\n",
              "    .dataframe thead th {\n",
              "        text-align: right;\n",
              "    }\n",
              "</style>\n",
              "<table border=\"1\" class=\"dataframe\">\n",
              "  <thead>\n",
              "    <tr style=\"text-align: right;\">\n",
              "      <th></th>\n",
              "      <th>ID1</th>\n",
              "      <th>ABCA12</th>\n",
              "      <th>cg26534460</th>\n",
              "    </tr>\n",
              "  </thead>\n",
              "  <tbody>\n",
              "    <tr>\n",
              "      <th>0</th>\n",
              "      <td>ID1</td>\n",
              "      <td>ABHD2</td>\n",
              "      <td>cg25523753</td>\n",
              "    </tr>\n",
              "    <tr>\n",
              "      <th>1</th>\n",
              "      <td>ID1</td>\n",
              "      <td>ACO2</td>\n",
              "      <td>cg05593780</td>\n",
              "    </tr>\n",
              "    <tr>\n",
              "      <th>2</th>\n",
              "      <td>ID1</td>\n",
              "      <td>ACOT7</td>\n",
              "      <td>cg17236617</td>\n",
              "    </tr>\n",
              "    <tr>\n",
              "      <th>3</th>\n",
              "      <td>ID1</td>\n",
              "      <td>ACOXL</td>\n",
              "      <td>cg10768548</td>\n",
              "    </tr>\n",
              "    <tr>\n",
              "      <th>4</th>\n",
              "      <td>ID1</td>\n",
              "      <td>ADGRE5</td>\n",
              "      <td>cg14212190</td>\n",
              "    </tr>\n",
              "    <tr>\n",
              "      <th>...</th>\n",
              "      <td>...</td>\n",
              "      <td>...</td>\n",
              "      <td>...</td>\n",
              "    </tr>\n",
              "    <tr>\n",
              "      <th>667728</th>\n",
              "      <td>ZNF589</td>\n",
              "      <td>ZNF436-AS1</td>\n",
              "      <td>cg00269115</td>\n",
              "    </tr>\n",
              "    <tr>\n",
              "      <th>667729</th>\n",
              "      <td>ZNF589</td>\n",
              "      <td>ZNF573</td>\n",
              "      <td>cg08173348</td>\n",
              "    </tr>\n",
              "    <tr>\n",
              "      <th>667730</th>\n",
              "      <td>ZNF589</td>\n",
              "      <td>ZNF610</td>\n",
              "      <td>cg07703337</td>\n",
              "    </tr>\n",
              "    <tr>\n",
              "      <th>667731</th>\n",
              "      <td>ZNF589</td>\n",
              "      <td>ZNF610</td>\n",
              "      <td>cg15062535</td>\n",
              "    </tr>\n",
              "    <tr>\n",
              "      <th>667732</th>\n",
              "      <td>ZNF589</td>\n",
              "      <td>ZSCAN32</td>\n",
              "      <td>cg14658900</td>\n",
              "    </tr>\n",
              "  </tbody>\n",
              "</table>\n",
              "<p>667733 rows × 3 columns</p>\n",
              "</div>"
            ],
            "text/plain": [
              "           ID1      ABCA12  cg26534460\n",
              "0          ID1       ABHD2  cg25523753\n",
              "1          ID1        ACO2  cg05593780\n",
              "2          ID1       ACOT7  cg17236617\n",
              "3          ID1       ACOXL  cg10768548\n",
              "4          ID1      ADGRE5  cg14212190\n",
              "...        ...         ...         ...\n",
              "667728  ZNF589  ZNF436-AS1  cg00269115\n",
              "667729  ZNF589      ZNF573  cg08173348\n",
              "667730  ZNF589      ZNF610  cg07703337\n",
              "667731  ZNF589      ZNF610  cg15062535\n",
              "667732  ZNF589     ZSCAN32  cg14658900\n",
              "\n",
              "[667733 rows x 3 columns]"
            ]
          },
          "metadata": {
            "tags": []
          },
          "execution_count": 31
        }
      ]
    },
    {
      "cell_type": "code",
      "metadata": {
        "id": "RDBoFDCcAcEG"
      },
      "source": [
        "milipeed_objA=netZooPy.milipeed.Milipeed(expression_file='drive/My Drive/Colab Notebooks/LCL_exp.txt',\n",
        "                      methylation_file='drive/My Drive/Colab Notebooks/GM12878c.txt',\n",
        "                      # motif_file='drive/My Drive/Colab Notebooks/one_coding_LCL_motif.txt',\n",
        "                      ppi_file='drive/My Drive/Colab Notebooks/ppi_complete.txt',\n",
        "    computing='gpu',save_dir='drive/My Drive/Colab Notebooks/LCL_mili_partial/',start=0,end='agg',\n",
        "    save_fmt='npy',map_file='netZooPy/tests/milipeed/MotifPrior_CGmap.txt')\n",
        "\n",
        "milipeed_objA.save_milipeed_results(file='LCL_mili_full/LCL_mili_partial_'+date+'.txt')\n",
        "\n"
      ],
      "execution_count": null,
      "outputs": []
    },
    {
      "cell_type": "code",
      "metadata": {
        "id": "8azlOXHAL7iC"
      },
      "source": [
        "plt.hist(milipeed_objA.motif_data[2])\n",
        "len(milipeed_objA.motif_data)"
      ],
      "execution_count": null,
      "outputs": []
    },
    {
      "cell_type": "code",
      "metadata": {
        "id": "Mw1BcCDtHR4u"
      },
      "source": [
        "milipeed_objB=netZooPy.milipeed.Milipeed(expression_file='drive/My Drive/Colab Notebooks/LCL_exp.txt',\n",
        "                      methylation_file='drive/My Drive/Colab Notebooks/GM12878c.txt',\n",
        "                      motif_file='drive/My Drive/Colab Notebooks/rand10k_motif.txt',\n",
        "                      ppi_file='drive/My Drive/Colab Notebooks/ppi_complete.txt',\n",
        "    computing='gpu',save_dir='drive/My Drive/Colab Notebooks/LCL_mili_10krand/',start=0,end='agg',\n",
        "    save_fmt='npy',map_file='netZooPy/tests/milipeed/MotifPrior_CGmap.txt')\n",
        "\n",
        "milipeed_objB.save_milipeed_results(file='drive/My Drive/Colab Notebooks/LCL_mili_10krand/LCL_mili_full_'+date+'.txt')"
      ],
      "execution_count": null,
      "outputs": []
    },
    {
      "cell_type": "code",
      "metadata": {
        "id": "UmZyC5NPVmIA"
      },
      "source": [
        "plt.hist(milipeed_objB.motif_data[2])\n",
        "len(milipeed_objB.motif_data)"
      ],
      "execution_count": null,
      "outputs": []
    },
    {
      "cell_type": "markdown",
      "metadata": {
        "id": "ZjY_j5f4ZF46"
      },
      "source": [
        "# compare and calc AUC"
      ]
    },
    {
      "cell_type": "code",
      "metadata": {
        "id": "cSv-pR4M0aSz"
      },
      "source": [
        "GM0 = scipy.io.loadmat('drive/My Drive/Colab Notebooks/GSNET_0-1kb_GM12878.mat')\n",
        "df=pd.DataFrame(GM0['uGene'])[0]\n",
        "genes = [i[0] for i in df]\n",
        "df=pd.DataFrame(GM0['uTF'])[0]\n",
        "TF = [i[0] for i in df]\n",
        "GM0_GS=pd.DataFrame(GM0['adj_chip'])\n",
        "GM0_GS.index=TF\n",
        "GM0_GS.columns=genes\n",
        "GM0_GS=GM0_GS.T\n",
        "GM0_GS.to_csv('drive/My Drive/Colab Notebooks/GSNET_0-1kb_GM12878.txt',sep='\\t')\n",
        "\n",
        "\n",
        "GM1 = scipy.io.loadmat('drive/My Drive/Colab Notebooks/GSNET_5-10kb_GM12878.mat')\n",
        "df=pd.DataFrame(GM1['uGene'])[0]\n",
        "genes = [i[0] for i in df]\n",
        "df=pd.DataFrame(GM1['uTF'])[0]\n",
        "TF = [i[0] for i in df]\n",
        "GM1_GS=pd.DataFrame(GM1['adj_chip'])\n",
        "GM1_GS.index=TF\n",
        "GM1_GS.columns=genes\n",
        "GM1_GS=GM1_GS.T\n",
        "GM1_GS.to_csv('drive/My Drive/Colab Notebooks/GSNET_5-10kb_GM12878.txt',sep='\\t')\n",
        "\n",
        "\n",
        "GM2 = scipy.io.loadmat('drive/My Drive/Colab Notebooks/GSNET_20-25kb_GM12878.mat')\n",
        "df=pd.DataFrame(GM2['uGene'])[0]\n",
        "genes = [i[0] for i in df]\n",
        "df=pd.DataFrame(GM2['uTF'])[0]\n",
        "TF = [i[0] for i in df]\n",
        "GM2_GS=pd.DataFrame(GM2['adj_chip'])\n",
        "GM2_GS.index=TF\n",
        "GM2_GS.columns=genes\n",
        "GM2_GS=GM2_GS.T\n",
        "GM2_GS.to_csv('drive/My Drive/Colab Notebooks/GSNET_20-25kb_GM12878.txt',sep='\\t')\n"
      ],
      "execution_count": null,
      "outputs": []
    },
    {
      "cell_type": "code",
      "metadata": {
        "id": "dyOv95S2Heyt"
      },
      "source": [
        "A549_GS=pd.read_csv('drive/My Drive/Colab Notebooks/GSNET_0-1kb_GM12878.txt',sep='\\t',header=0,index_col=0)\n",
        "A549_GS['index']=A549_GS.index\n",
        "df2 = pd.melt(A549_GS.reset_index(), id_vars='index')#,value_vars=A549_GS.columns)\n",
        "df2=df2[df2['value'].astype(str).str.isdigit()]\n",
        "df2.columns=['gene','TF','weight']\n",
        "A549_GS=pd.read_csv('drive/My Drive/Colab Notebooks/GSNET_5-10kb_GM12878.txt',sep='\\t',header=0,index_col=0)\n",
        "A549_GS['index']=A549_GS.index\n",
        "df3 = pd.melt(A549_GS.reset_index(), id_vars='index')#,value_vars=A549_GS.columns)\n",
        "df3=df3[df3['value'].astype(str).str.isdigit()]\n",
        "df3.columns=['gene','TF','weight']\n",
        "# df3\n",
        "A549_GS=pd.read_csv('drive/My Drive/Colab Notebooks/GSNET_20-25kb_GM12878.txt',sep='\\t',header=0,index_col=0)\n",
        "A549_GS['index']=A549_GS.index\n",
        "df4 = pd.melt(A549_GS.reset_index(), id_vars='index')#,value_vars=A549_GS.columns)\n",
        "df4=df4[df4['value'].astype(str).str.isdigit()]\n",
        "df4.columns=['gene','TF','weight']\n",
        "# df3"
      ],
      "execution_count": null,
      "outputs": []
    },
    {
      "cell_type": "code",
      "metadata": {
        "id": "xzgJ5y4SWkqZ"
      },
      "source": [
        "GM12878_methyl_links=pd.read_csv('drive/My Drive/Colab Notebooks/LCL_mili_1000rand/link_names.txt',sep='\\t',header=None)\n",
        "GM12878_methyl=pd.read_csv('drive/My Drive/Colab Notebooks/LCL_mili_1000rand/LCL_mili_full_2020-10-29.txt',sep='\\t',header=None)\n",
        "GM12878_methyl.index=pd.DataFrame(GM12878_methyl_links)[0]\n",
        "GM12878_methyl['TF']=GM12878_methyl.index.str.split('_').str[0].tolist()\n",
        "GM12878_methyl['gene']=GM12878_methyl.index.str.split('_').str[1].tolist()\n",
        "\n",
        "GM12878_methyl=GM12878_methyl[['TF','gene',0]]\n",
        "GM12878_methyl.columns=['TF','gene','weight']\n",
        "GM12878_methyl=GM12878_methyl.reset_index()\n",
        "del GM12878_methyl[0]\n",
        "# del GM12878_methyl['level_0']\n",
        "# GM12878_methyl\n",
        "\n",
        "GM12878_panda=pd.read_csv('drive/My Drive/Colab Notebooks/LCL_panda_2020-10-29.txt',sep='\\t',header=None)\n",
        "GM12878_panda.columns=['TF','gene','weight']\n"
      ],
      "execution_count": null,
      "outputs": []
    },
    {
      "cell_type": "code",
      "metadata": {
        "id": "NeSL5x20WVjI"
      },
      "source": [
        "from functools import reduce\n",
        "data_frames = [GM12878_methyl, GM12878_panda,df2, df3,df4]\n",
        "df_merged = reduce(lambda  left,right: pd.merge(left,right,on=['TF','gene'],\n",
        "                                            how='inner'), data_frames)\n",
        "df_merged.columns=['TF','gene','mili_weight','panda_weight','GS 0-1kb','GS 5-10kb','GS 20-25kb']"
      ],
      "execution_count": null,
      "outputs": []
    },
    {
      "cell_type": "markdown",
      "metadata": {
        "id": "kwwKIFjzV4Uq"
      },
      "source": [
        "# can add it alternative weighting schemes here perhaps!"
      ]
    },
    {
      "cell_type": "code",
      "metadata": {
        "id": "7vYKZ94GXDCw",
        "colab": {
          "base_uri": "https://localhost:8080/",
          "height": 421
        },
        "outputId": "424116fa-3b0e-4f7d-810a-796acc0c48e9"
      },
      "source": [
        "df_merged['mili_weight']=pd.to_numeric(df_merged['mili_weight'])\n",
        "df_merged['panda_weight']=pd.to_numeric(df_merged['panda_weight'])\n",
        "df_merged['GS 0-1kb']=pd.to_numeric(df_merged['GS 0-1kb'])\n",
        "df_merged['GS 5-10kb']=pd.to_numeric(df_merged['GS 5-10kb'])\n",
        "df_merged['GS 20-25kb']=pd.to_numeric(df_merged['GS 20-25kb'])\n",
        "plt.figure(figsize=(12, 6))\n",
        "# df_merged.weight_y=(compare.weight_y-compare.weight_y.min())/(compare.weight_y.max()-compare.weight_y.min())\n",
        "plt.subplot(1, 2, 1)\n",
        "plt.plot([0, 1], [0, 1], 'k--')\n",
        "fpr, tpr, thresholds = metrics.roc_curve(df_merged['GS 0-1kb'], df_merged.mili_weight)\n",
        "roc_auc1=metrics.auc(fpr, tpr)\n",
        "plt.plot(fpr, tpr,label='mili 0-1kb GS (area = {0:0.2f})'''.format(roc_auc1),color='k', linestyle='-', linewidth=1.5)\n",
        "\n",
        "# plt.plot([0, 1], [0, 1], 'k--')\n",
        "fpr, tpr, thresholds = metrics.roc_curve(df_merged['GS 5-10kb'], df_merged.mili_weight)\n",
        "roc_auc2=metrics.auc(fpr, tpr)\n",
        "plt.plot(fpr, tpr,label='mili 5-10kb GS (area = {0:0.2f})'''.format(roc_auc2),color='r', linestyle='-', linewidth=1.5)\n",
        "\n",
        "# # plt.plot([0, 1], [0, 1], 'k--')\n",
        "fpr, tpr, thresholds = metrics.roc_curve(df_merged['GS 20-25kb'], df_merged.mili_weight)\n",
        "roc_auc3=metrics.auc(fpr, tpr)\n",
        "plt.plot(fpr, tpr,label='mili 20-25kb GS (area = {0:0.2f})'''.format(roc_auc3),color='b', linestyle='-', linewidth=1.5)\n",
        "\n",
        "fpr, tpr, thresholds = metrics.roc_curve(df_merged['GS 0-1kb'], df_merged.panda_weight)\n",
        "roc_auc4=metrics.auc(fpr, tpr)\n",
        "plt.plot(fpr, tpr,label='panda 0-1kb GS (area = {0:0.2f})'''.format(roc_auc4),color='k', linestyle=':', linewidth=1.5)\n",
        "\n",
        "# plt.plot([0, 1], [0, 1], 'k--')\n",
        "fpr, tpr, thresholds = metrics.roc_curve(df_merged['GS 5-10kb'], df_merged.panda_weight)\n",
        "roc_auc5=metrics.auc(fpr, tpr)\n",
        "plt.plot(fpr, tpr,label='panda 5-10kb GS (area = {0:0.2f})'''.format(roc_auc5),color='r', linestyle=':', linewidth=1.5)\n",
        "\n",
        "fpr, tpr, thresholds = metrics.roc_curve(df_merged['GS 20-25kb'], df_merged.mili_weight)\n",
        "roc_auc6=metrics.auc(fpr, tpr)\n",
        "plt.plot(fpr, tpr,label='panda 20-25kb GS (area = {0:0.2f})'''.format(roc_auc6),color='b', linestyle=':', linewidth=1.5)\n",
        "\n",
        "\n",
        "plt.xlabel('False Positive Rate')\n",
        "plt.ylabel('True Positive Rate')\n",
        "plt.title('AUROC')\n",
        "plt.legend(loc=\"best\")\n",
        "\n",
        "plt.subplot(1, 2, 2)\n",
        "# plt.plot([0, 1], [0, 1], 'k--')\n",
        "precision, recall, thresholds = metrics.precision_recall_curve(df_merged['GS 0-1kb'], df_merged.mili_weight)\n",
        "roc_auc11=metrics.average_precision_score(df_merged['GS 0-1kb'], df_merged.mili_weight)\n",
        "plt.plot(recall,precision, label='mili 0-1kb GS (avg Prec = {0:0.2f})'''.format(roc_auc11),color='k', linestyle='-', linewidth=1.5)\n",
        "\n",
        "precision, recall, thresholds = metrics.precision_recall_curve(df_merged['GS 5-10kb'], df_merged.mili_weight)\n",
        "roc_auc22=metrics.average_precision_score(df_merged['GS 5-10kb'], df_merged.mili_weight)\n",
        "plt.plot(recall,precision, label='mili 5-10kb GS (avg Prec = {0:0.2f})'''.format(roc_auc22),color='r', linestyle='-', linewidth=1.5)\n",
        "\n",
        "precision, recall, thresholds = metrics.precision_recall_curve(df_merged['GS 20-25kb'], df_merged.mili_weight)\n",
        "roc_auc33=metrics.average_precision_score(df_merged['GS 20-25kb'], df_merged.mili_weight)\n",
        "plt.plot(recall,precision, label='mili 20-25kb GS (avg Prec = {0:0.2f})'''.format(roc_auc33),color='b', linestyle='-', linewidth=1.5)\n",
        "\n",
        "precision, recall, thresholds = metrics.precision_recall_curve(df_merged['GS 0-1kb'], df_merged.panda_weight)\n",
        "roc_auc44=metrics.average_precision_score(df_merged['GS 0-1kb'], df_merged.panda_weight)\n",
        "plt.plot(recall,precision, label='panda 0-1kb GS (avg Prec = {0:0.2f})'''.format(roc_auc44),color='k', linestyle=':', linewidth=1.5)\n",
        "\n",
        "precision, recall, thresholds = metrics.precision_recall_curve(df_merged['GS 5-10kb'], df_merged.panda_weight)\n",
        "roc_auc55=metrics.average_precision_score(df_merged['GS 5-10kb'], df_merged.panda_weight)\n",
        "plt.plot(recall,precision, label='panda 5-10kb GS (avg Prec = {0:0.2f})'''.format(roc_auc55),color='r', linestyle=':', linewidth=1.5)\n",
        "\n",
        "precision, recall, thresholds = metrics.precision_recall_curve(df_merged['GS 20-25kb'], df_merged.panda_weight)\n",
        "roc_auc66=metrics.average_precision_score(df_merged['GS 20-25kb'], df_merged.panda_weight)\n",
        "plt.plot(recall,precision, label='panda 20-25kb GS (avg Prec = {0:0.2f})'''.format(roc_auc66),color='b', linestyle=':', linewidth=1.5)\n",
        "\n",
        "\n",
        "plt.xlabel('Recall or TPR')\n",
        "plt.ylabel('Precision')\n",
        "plt.title('AUPR')\n",
        "plt.legend(loc=\"best\")"
      ],
      "execution_count": null,
      "outputs": [
        {
          "output_type": "execute_result",
          "data": {
            "text/plain": [
              "<matplotlib.legend.Legend at 0x7f16387e6240>"
            ]
          },
          "metadata": {
            "tags": []
          },
          "execution_count": 9
        },
        {
          "output_type": "display_data",
          "data": {
            "image/png": "[encoded data removed]",
            "text/plain": [
              "<Figure size 864x432 with 2 Axes>"
            ]
          },
          "metadata": {
            "tags": [],
            "needs_background": "light"
          }
        }
      ]
    },
    {
      "cell_type": "code",
      "metadata": {
        "id": "DYOLUrnDXZa5"
      },
      "source": [
        "df_merged.shape"
      ],
      "execution_count": null,
      "outputs": []
    },
    {
      "cell_type": "markdown",
      "metadata": {
        "id": "xuDcUb7ZIPsw"
      },
      "source": [
        "#### for comparison to just methylation motif -- match to milipeed genes/tf -- can use diagonal expr and ppi or just do by hand"
      ]
    },
    {
      "cell_type": "code",
      "metadata": {
        "id": "aRbLgfmBYYIB"
      },
      "source": [
        "panda_obj=netZooPy.panda.Panda(expression_file='netZooPy/tests/puma/ToyData/ToyExpressionData.txt', ###matrixes need no patient info\n",
        "                      # methylation_file='drive/My Drive/Colab Notebooks/A-549c.txt',\n",
        "                      motif_file='netZooPy/tests/puma/ToyData/ToyMotifData.txt', ###motif need no patient info\n",
        "                        # motif_file='drive/My Drive/Colab Notebooks/gen_motif.txt', ###motif need no patient info\n",
        "                      ppi_file='netZooPy/tests/puma/ToyData/ToyPPIData.txt',\n",
        "    computing='cpu',save_memory=False,save_tmp=True,remove_missing=False,\n",
        "    keep_expression_matrix=True,modeProcess='intersection',precision='single')\n"
      ],
      "execution_count": null,
      "outputs": []
    },
    {
      "cell_type": "code",
      "metadata": {
        "id": "mv4iRYcVYYKy"
      },
      "source": [
        "lioness_obj=netZooPy.lioness.lioness(panda_obj,computing='cpu',precision='single',ncores=2,start=4,end=7)\n",
        "# lioness_obj.total_lioness_network"
      ],
      "execution_count": null,
      "outputs": []
    },
    {
      "cell_type": "code",
      "metadata": {
        "id": "PLj8qQBv7D3q"
      },
      "source": [
        "\"\"\"A tic-toc analog in Python\n",
        "Adapted from http://stackoverflow.com/questions/5849800/tic-toc-functions-analog-in-python\n",
        "\"\"\"\n",
        "import time\n",
        "\n",
        "class Timer(object):\n",
        "    def __init__(self, name=None):\n",
        "        if name:\n",
        "            print(name)\n",
        "\n",
        "    def __enter__(self):\n",
        "        self.tic = time.time()\n",
        "\n",
        "    def __exit__(self, type, value, traceback):\n",
        "        print('  Elapsed time: %.2f sec.' % (time.time() - self.tic))"
      ],
      "execution_count": null,
      "outputs": []
    },
    {
      "cell_type": "code",
      "metadata": {
        "id": "jwQO-7vmCl8q"
      },
      "source": [
        "!python netZooPy/netZooPy/lioness/run_lioness.py -e netZooPy/tests/puma/ToyData/ToyExpressionData.txt -m netZooPy/tests/puma/ToyData/ToyMotifData.txt -p netZooPy/tests/puma/ToyData/ToyPPIData.txt -g cpu -r single -c 4 -o /lioness_output -f npy 1 10"
      ],
      "execution_count": null,
      "outputs": []
    },
    {
      "cell_type": "code",
      "metadata": {
        "id": "64i7PC9LXD5F"
      },
      "source": [
        ""
      ],
      "execution_count": null,
      "outputs": []
    },
    {
      "cell_type": "code",
      "metadata": {
        "id": "BA5WbMdwkzgB"
      },
      "source": [
        ""
      ],
      "execution_count": null,
      "outputs": []
    },
    {
      "cell_type": "code",
      "metadata": {
        "id": "5ANoQyzmkzld"
      },
      "source": [
        ""
      ],
      "execution_count": null,
      "outputs": []
    },
    {
      "cell_type": "markdown",
      "metadata": {
        "id": "ptwJKksilEkh"
      },
      "source": [
        "# run largeCOPD lioness"
      ]
    },
    {
      "cell_type": "code",
      "metadata": {
        "id": "l4Eonk5Ekz0Z"
      },
      "source": [
        "# LCL_ppi=pd.read_csv('https://granddb.s3.amazonaws.com/optPANDA/ppi/ppi_complete.txt',sep='\\t',header=None)\n",
        "# LCL_ppi.to_csv('drive/My Drive/ppi_complete.txt',sep='\\t',index=False,header=False)\n",
        "\n",
        "# coding_LCL_motif=pd.read_csv('https://granddb.s3.amazonaws.com/optPANDA/motifs/Hugo_motifCellLine.txt',sep='\\t',header=None)\n",
        "# coding_LCL_motif.to_csv('drive/My Drive/coding_LCL_motif.txt',sep='\\t',index=False,header=False)\n",
        "\n",
        "motif_data='drive/My Drive/coding_LCL_motif.txt'\n",
        "ppi_data='drive/My Drive/ppi_complete.txt'"
      ],
      "execution_count": 3,
      "outputs": []
    },
    {
      "cell_type": "code",
      "metadata": {
        "id": "L7K4HjZGlJNF"
      },
      "source": [
        "# LDcrossLTCOPD=pd.read_csv('drive/My Drive/Colab Notebooks/LARGE_COPD_crossLTCOPD.txt',sep='\\t',index_col=0)\n",
        "\n",
        "LDcrossLTCOPD=pd.read_csv('drive/My Drive/Colab Notebooks/time_group_largeCOPD.txt',sep='\\t',index_col=0)\n",
        "panda_obj1 = Panda(LDcrossLTCOPD, motif_data, ppi_data,computing='gpu',precision='single',save_tmp=False,\n",
        "                     save_memory = False, remove_missing=False, keep_expression_matrix = True,modeProcess = 'intersection')\n",
        "# np.save('drive/My Drive/LARGECOPD/Panda_LargeCrossLTCOPD.npy',panda_obj1.export_panda_results)\n",
        "# panda_obj1.save_panda_results('drive/My Drive/LARGECOPD/Panda_LargeCrossLTCOPD.npy')"
      ],
      "execution_count": 4,
      "outputs": []
    },
    {
      "cell_type": "code",
      "metadata": {
        "id": "pT7ckYzhlO3K"
      },
      "source": [
        "lioness_obj = Lioness(panda_obj1,computing='gpu',precision='single',save_dir='drive/My Drive/LARGECOPD2/',ncores=1)\n",
        "\n",
        "pd.DataFrame(lioness_obj.export_lioness_results).to_csv('drive/My Drive/LARGECOPD2/LARGECOPD2.txt')\n",
        "jj=pd.DataFrame(lioness_obj.export_panda_results,columns=['tf','gene','exp','test'])\n",
        "jj[['tf','gene']].to_csv('drive/My Drive/LARGECOPD2/LARGECOPD2links.txt')\n",
        "\n",
        "# !python netZooPy/netZooPy/lioness/run_lioness.py -e drive/My Drive/Colab Notebooks/LARGE_COPD_crossLTCOPD.txt -m coding_LCL_motif.txt -p ppi_complete.txt -g gpu -r single -c 1 -o /LARGElioness_output -f npy 1 10"
      ],
      "execution_count": null,
      "outputs": []
    },
    {
      "cell_type": "code",
      "metadata": {
        "id": "5QGrt2aRLIWZ"
      },
      "source": [
        ""
      ],
      "execution_count": null,
      "outputs": []
    },
    {
      "cell_type": "markdown",
      "metadata": {
        "id": "3NiZai_nLIts"
      },
      "source": [
        "# run large PANDA"
      ]
    },
    {
      "cell_type": "code",
      "metadata": {
        "id": "367CCSx_LKvu"
      },
      "source": [
        "largeCOPD=pd.read_csv('drive/My Drive/Colab Notebooks/LARGE_COPD_crossLTCOPD.txt',sep='\\t',index_col=0)"
      ],
      "execution_count": 56,
      "outputs": []
    },
    {
      "cell_type": "code",
      "metadata": {
        "id": "LOmiIS53LKyw"
      },
      "source": [
        "case=largeCOPD.iloc[:,largeCOPD.columns.str.contains('_0_')]\n",
        "# case.append(largeCOPD.iloc[:,largeCOPD.columns.str.contains('0_1')])\n",
        "control=largeCOPD.iloc[:,largeCOPD.columns.str.contains('_1_')]\n",
        "# control.append(largeCOPD.iloc[:,largeCOPD.columns.str.contains('1_1')])"
      ],
      "execution_count": 57,
      "outputs": []
    },
    {
      "cell_type": "code",
      "metadata": {
        "id": "_rqYm1JDLiny"
      },
      "source": [
        "case.columns=case.columns.str.split('_').str[0]\n",
        "case=case.sort_index(axis=1)\n",
        "control.columns=control.columns.str.split('_').str[0]\n",
        "control=control.sort_index(axis=1)\n",
        "motif_data='drive/My Drive/coding_LCL_motif.txt'\n",
        "ppi_data='drive/My Drive/ppi_complete.txt'"
      ],
      "execution_count": 58,
      "outputs": []
    },
    {
      "cell_type": "code",
      "metadata": {
        "id": "i3whPDXdLiu3"
      },
      "source": [
        "traces=pd.unique(case.columns)\n",
        "for j,trace in enumerate(traces):\n",
        "  exp=case[trace]\n",
        "  panda_obj1 = Panda(pd.DataFrame(exp), motif_data, ppi_data,computing='gpu',precision='single',save_tmp=False,\n",
        "                     save_memory = True, remove_missing=False, keep_expression_matrix = False,modeProcess = 'intersection')\n",
        "  panda_obj1.save_panda_results('drive/My Drive/LARGE_PANDA/case'+trace+'.npy')"
      ],
      "execution_count": null,
      "outputs": []
    },
    {
      "cell_type": "code",
      "metadata": {
        "id": "yvu7I7BfZmft"
      },
      "source": [
        "case=pd.DataFrame()\n",
        "traces=glob.glob('drive/MyDrive/LARGE_PANDA/case*.npy')\n",
        "for j,trace in enumerate(traces):\n",
        "  tmp=pd.DataFrame(np.load(trace).reshape(8783160)) #636 x 13810 # all TFs by first gene, then second gene\n",
        "  tmp.columns=[os.path.basename(trace).split('case')[1].split('.npy')[0]]\n",
        "  case=pd.concat([case,tmp],axis=1)\n",
        "case.to_csv('drive/MyDrive/LARGE_PANDA/case.txt',sep='\\t')\n"
      ],
      "execution_count": 51,
      "outputs": []
    },
    {
      "cell_type": "code",
      "metadata": {
        "id": "OcIF5dDJam9D"
      },
      "source": [
        "control=pd.DataFrame()\n",
        "traces=glob.glob('drive/MyDrive/LARGE_PANDA/control*.npy')\n",
        "for j,trace in enumerate(traces):\n",
        "  tmp=pd.DataFrame(np.load(trace).reshape(8783160))\n",
        "  tmp.columns=[os.path.basename(trace).split('control')[1].split('.npy')[0]]\n",
        "  control=pd.concat([control,tmp],axis=1)\n",
        "control.to_csv('drive/MyDrive/LARGE_PANDA/control.txt',sep='\\t')\n"
      ],
      "execution_count": 52,
      "outputs": []
    },
    {
      "cell_type": "code",
      "metadata": {
        "colab": {
          "base_uri": "https://localhost:8080/"
        },
        "id": "ze3ExXjDRQ_o",
        "outputId": "9cf39404-1a25-48f7-82b0-cfd9669ff2b6"
      },
      "source": [
        "control.shape"
      ],
      "execution_count": 113,
      "outputs": [
        {
          "output_type": "execute_result",
          "data": {
            "text/plain": [
              "(15209, 565)"
            ]
          },
          "metadata": {
            "tags": []
          },
          "execution_count": 113
        }
      ]
    },
    {
      "cell_type": "markdown",
      "metadata": {
        "id": "-NZ2f7CofpeF"
      },
      "source": [
        "#load Lioness"
      ]
    },
    {
      "cell_type": "code",
      "metadata": {
        "colab": {
          "base_uri": "https://localhost:8080/"
        },
        "id": "Og0WkAqC_qKk",
        "outputId": "2fa1f71d-7b7b-47db-95ac-406132119d4c"
      },
      "source": [
        "# panda_obj1.export_panda_results[['tf','gene']].to_csv('drive/My Drive/LARGE_PANDA/LARGECOPD_links.txt',header=False,index=False)\n",
        "# data=pd.read_csv('drive/My Drive/LARGECOPD2/LARGECOPD2.txt')\n",
        "# # tdata=pd.read_csv('drive/My Drive/LARGECOPD2/LARGECOPD2_time.txt')\n",
        "# del data['Unnamed: 0']\n",
        "\n",
        "links=pd.read_csv('drive/My Drive/LARGE_PANDA/LARGECOPD_links.txt',sep=',',header=None,index_col=None)\n",
        "case=pd.read_csv('drive/MyDrive/LARGE_PANDA/case.txt',sep='\\t',index_col=0)\n",
        "# control=pd.read_csv('drive/MyDrive/LARGE_PANDA/control.txt',sep='\\t')\n"
      ],
      "execution_count": 2,
      "outputs": [
        {
          "output_type": "stream",
          "text": [
            "/usr/local/lib/python3.6/dist-packages/numpy/lib/arraysetops.py:580: FutureWarning: elementwise comparison failed; returning scalar instead, but in the future will perform elementwise comparison\n",
            "  mask |= (ar1 == a)\n"
          ],
          "name": "stderr"
        }
      ]
    },
    {
      "cell_type": "code",
      "metadata": {
        "id": "s7zAwUQyZ1IR"
      },
      "source": [
        "tdata=pd.DataFrame(case.T, index=case.columns)#.interpolate(method='time')\n",
        "# jj = pd.to_datetime('190'+(data.iloc[:,0:10].columns.astype(str)) + ' ' +'10:00:00 ')\n",
        "tdata['Datetime']= pd.to_datetime('19'+(case.columns.astype(str)) + ' ' +'10:00:00 ')\n",
        "# tdata['Datetime']= #jj.append(cc)\n",
        "tdata = tdata.set_index('Datetime')\n",
        "# ALL.iloc[1,:].to_list()#.dropna(how='any')\n",
        "tdata=tdata.interpolate(method='time')\n",
        "# del data"
      ],
      "execution_count": 3,
      "outputs": []
    },
    {
      "cell_type": "code",
      "metadata": {
        "id": "jQgWonn6j7J5"
      },
      "source": [
        "del case"
      ],
      "execution_count": 4,
      "outputs": []
    },
    {
      "cell_type": "markdown",
      "metadata": {
        "id": "Jpc6FUqvr4kk"
      },
      "source": [
        "# build DNN"
      ]
    },
    {
      "cell_type": "code",
      "metadata": {
        "id": "FfHbJPOWcYya"
      },
      "source": [
        "from keras.preprocessing.sequence import TimeseriesGenerator\n",
        "from sklearn.preprocessing import MinMaxScaler\n",
        "from pandas.tseries.offsets import DateOffset\n",
        "import math\n",
        "from sklearn.metrics import mean_squared_error\n",
        "import tensorflow as tf\n",
        "import keras\n",
        "from keras import Sequential\n",
        "from keras.layers import Dense, LSTM, Conv1D, Bidirectional, Lambda,Dropout"
      ],
      "execution_count": 8,
      "outputs": []
    },
    {
      "cell_type": "code",
      "metadata": {
        "id": "Yv3HtsyCfGoK"
      },
      "source": [
        "\n",
        "dataset_x = np.array(tdata.T)#np.concatenate((dataset_delta_DJI, dataset_delta_APPL, dataset_delta_AMAZN), axis = 1)\n",
        "\n",
        "scaler_multi = MinMaxScaler(feature_range=(0, 1))\n",
        "scaler_multi.fit_transform(dataset_x.reshape(-1, 1))\n",
        "dataset_x = scaler_multi.transform(dataset_x)\n",
        "\n",
        "train_size = int(len(dataset_x) * 0.67)\n",
        "test_size = len(dataset_x) - train_size\n",
        "train_x, test_x = dataset_x[0:train_size,:], dataset_x[train_size:len(dataset_x),:]"
      ],
      "execution_count": 9,
      "outputs": []
    },
    {
      "cell_type": "code",
      "metadata": {
        "id": "N03m-cpYfG8r"
      },
      "source": [
        "\n",
        "n_input=5\n",
        "# tdata=tdata[::-1]\n",
        "add_dates = [tdata.index[-1] + DateOffset(years=x) for x in range(0,n_input+1) ]\n",
        "future_dates = pd.DataFrame(0,index=add_dates[1:],columns=tdata.columns)\n",
        "\n",
        "t2data=tdata.append(future_dates)\n",
        "# tdata=tdata[::-1]\n",
        "# t2data=t2data[::-1]\n",
        "t2data=np.array(t2data)\n",
        "\n",
        "scaler_multi = MinMaxScaler(feature_range=(0, 1)) ## batch normalization between layers\n",
        "scaler_multi.fit_transform(t2data.reshape(-1, 1))\n",
        "t2data = scaler_multi.transform(t2data)\n",
        "\n"
      ],
      "execution_count": 10,
      "outputs": []
    },
    {
      "cell_type": "code",
      "metadata": {
        "id": "TAz_cOoLfBBe"
      },
      "source": [
        "\n",
        "train = t2data[::-1]\n",
        "scaler = MinMaxScaler()\n",
        "scaler.fit(train)\n",
        "train = scaler.transform(train)\n",
        "# n_input = 5\n",
        "lookback=n_input\n",
        "n_features = t2data.data.shape[1]\n",
        "generator = TimeseriesGenerator(train,train,sampling_rate=1, length=lookback)#, batch_size=6)\n",
        "\n",
        "\n",
        "# train_x=train[:-7]\n",
        "# train_y=train[-7:]\n",
        "  ### subset\n",
        "\n",
        "trainA=train[:-6] \n",
        "trainA=trainA[:,np.var(trainA,axis=0)>.13]\n",
        "# trainA=trainA[:,np.var(trainA,axis=0)<.0001]\n",
        "train_x=trainA[:-6]\n",
        "train_y=trainA[-6:]\n",
        "\n",
        "training_sequence = TimeseriesGenerator(train_x, train_x, length=lookback,batch_size=1)\n",
        "validation_sequence = TimeseriesGenerator(train_y, train_y,  length=lookback,batch_size=1)\n"
      ],
      "execution_count": 13,
      "outputs": []
    },
    {
      "cell_type": "code",
      "metadata": {
        "colab": {
          "base_uri": "https://localhost:8080/"
        },
        "id": "5I7UIx02QkTx",
        "outputId": "a40230fa-ee92-4afb-cd99-9040c2ae0613"
      },
      "source": [
        "training_sequence.data.shape"
      ],
      "execution_count": 23,
      "outputs": [
        {
          "output_type": "execute_result",
          "data": {
            "text/plain": [
              "(48, 244)"
            ]
          },
          "metadata": {
            "tags": []
          },
          "execution_count": 23
        }
      ]
    },
    {
      "cell_type": "code",
      "metadata": {
        "colab": {
          "base_uri": "https://localhost:8080/"
        },
        "id": "Vqlg6Cg9fMT1",
        "outputId": "39a67fd8-a786-4fb0-9be3-d538d6b34766"
      },
      "source": [
        "model = Sequential()\n",
        "## graph neural network then (lower D space) to LSTM (neighborhood) NOT conv1d (spatial from images)\n",
        "initializer=tf.keras.initializers.Orthogonal()\n",
        "model.add(LSTM(256, input_shape=(lookback, training_sequence.data.shape[1]),return_sequences=True, kernel_initializer=initializer)) #orthoganal initialization for weight, he  # 5 time steps and 32831 features/genes\n",
        "model.add(Bidirectional(LSTM(128,activation='relu',return_sequences=True))),\n",
        "model.add((LSTM(128,activation='relu',return_sequences=True))),\n",
        "model.add((LSTM(64,activation='relu',return_sequences=True))),\n",
        "model.add((LSTM(48,activation='relu',return_sequences=True))),\n",
        "model.add((LSTM(32,activation='relu'))),\n",
        "# model.add(Dropout(0.15))\n",
        "# model.add((LSTM(32,activation='relu'))),\n",
        "model.add(Dense(training_sequence.data.shape[1]))\n",
        "model.compile(loss='mse', optimizer='adam',metrics=['mse','accuracy'])\n",
        "print(model.summary())\n"
      ],
      "execution_count": 24,
      "outputs": [
        {
          "output_type": "stream",
          "text": [
            "WARNING:tensorflow:Layer lstm_2 will not use cuDNN kernel since it doesn't meet the cuDNN kernel criteria. It will use generic GPU kernel as fallback when running on GPU\n",
            "WARNING:tensorflow:Layer lstm_2 will not use cuDNN kernel since it doesn't meet the cuDNN kernel criteria. It will use generic GPU kernel as fallback when running on GPU\n",
            "WARNING:tensorflow:Layer lstm_2 will not use cuDNN kernel since it doesn't meet the cuDNN kernel criteria. It will use generic GPU kernel as fallback when running on GPU\n",
            "WARNING:tensorflow:Layer lstm_3 will not use cuDNN kernel since it doesn't meet the cuDNN kernel criteria. It will use generic GPU kernel as fallback when running on GPU\n",
            "WARNING:tensorflow:Layer lstm_4 will not use cuDNN kernel since it doesn't meet the cuDNN kernel criteria. It will use generic GPU kernel as fallback when running on GPU\n",
            "WARNING:tensorflow:Layer lstm_5 will not use cuDNN kernel since it doesn't meet the cuDNN kernel criteria. It will use generic GPU kernel as fallback when running on GPU\n",
            "WARNING:tensorflow:Layer lstm_6 will not use cuDNN kernel since it doesn't meet the cuDNN kernel criteria. It will use generic GPU kernel as fallback when running on GPU\n",
            "Model: \"sequential_1\"\n",
            "_________________________________________________________________\n",
            "Layer (type)                 Output Shape              Param #   \n",
            "=================================================================\n",
            "lstm_1 (LSTM)                (None, 5, 256)            513024    \n",
            "_________________________________________________________________\n",
            "bidirectional (Bidirectional (None, 5, 256)            394240    \n",
            "_________________________________________________________________\n",
            "lstm_3 (LSTM)                (None, 5, 128)            197120    \n",
            "_________________________________________________________________\n",
            "lstm_4 (LSTM)                (None, 5, 64)             49408     \n",
            "_________________________________________________________________\n",
            "lstm_5 (LSTM)                (None, 5, 48)             21696     \n",
            "_________________________________________________________________\n",
            "lstm_6 (LSTM)                (None, 32)                10368     \n",
            "_________________________________________________________________\n",
            "dense (Dense)                (None, 244)               8052      \n",
            "=================================================================\n",
            "Total params: 1,193,908\n",
            "Trainable params: 1,193,908\n",
            "Non-trainable params: 0\n",
            "_________________________________________________________________\n",
            "None\n"
          ],
          "name": "stdout"
        }
      ]
    },
    {
      "cell_type": "code",
      "metadata": {
        "colab": {
          "base_uri": "https://localhost:8080/",
          "height": 865
        },
        "id": "Mdy0mdwOfMXJ",
        "outputId": "c91f5ef2-dc4a-4896-ca6f-9ded27f861c9"
      },
      "source": [
        "from keras.utils import plot_model\n",
        "plot_model(model, to_file='model.png', show_shapes=True)\n",
        "from IPython.display import Image\n",
        "Image(filename='model.png')"
      ],
      "execution_count": 25,
      "outputs": [
        {
          "output_type": "execute_result",
          "data": {
            "image/png": "[encoded data removed]",
            "text/plain": [
              "<IPython.core.display.Image object>"
            ]
          },
          "metadata": {
            "tags": []
          },
          "execution_count": 25
        }
      ]
    },
    {
      "cell_type": "code",
      "metadata": {
        "id": "-3dP1zzvfQdn"
      },
      "source": [
        "from keras.callbacks import EarlyStopping, LearningRateScheduler,ModelCheckpoint, ReduceLROnPlateau\n",
        "\n",
        "callbacks = [\n",
        "    LearningRateScheduler(lambda epoch: 1e-6 * 10**(epoch / 20)),\n",
        "    EarlyStopping(patience=5, verbose=1),#monitor='loss'),\n",
        "    # ReduceLROnPlateau(factor=0.1, patience=3, min_lr=0.00001, verbose=1),\n",
        "    ModelCheckpoint('model.h5', verbose=1, save_best_only=True, save_weights_only=False)\n",
        "]"
      ],
      "execution_count": 26,
      "outputs": []
    },
    {
      "cell_type": "code",
      "metadata": {
        "colab": {
          "base_uri": "https://localhost:8080/"
        },
        "id": "U83RsoxCfQgc",
        "outputId": "4cc6b8b5-c236-4074-d0cc-06ed755fb55a"
      },
      "source": [
        "history =model.fit(training_sequence, epochs=100, callbacks=callbacks,validation_data=validation_sequence)\n",
        "model.save('drive/MyDrive/largecopd_case_lstm_model.h')"
      ],
      "execution_count": 27,
      "outputs": [
        {
          "output_type": "stream",
          "text": [
            "Epoch 1/100\n",
            "43/43 [==============================] - 18s 102ms/step - loss: 0.3208 - mse: 0.3208 - accuracy: 0.0000e+00 - val_loss: 0.3742 - val_mse: 0.3742 - val_accuracy: 0.0000e+00\n",
            "\n",
            "Epoch 00001: val_loss improved from inf to 0.37424, saving model to model.h5\n",
            "Epoch 2/100\n",
            "43/43 [==============================] - 3s 72ms/step - loss: 0.3229 - mse: 0.3229 - accuracy: 0.0000e+00 - val_loss: 0.3742 - val_mse: 0.3742 - val_accuracy: 0.0000e+00\n",
            "\n",
            "Epoch 00002: val_loss improved from 0.37424 to 0.37420, saving model to model.h5\n",
            "Epoch 3/100\n",
            "43/43 [==============================] - 3s 74ms/step - loss: 0.3248 - mse: 0.3248 - accuracy: 0.0000e+00 - val_loss: 0.3741 - val_mse: 0.3741 - val_accuracy: 0.0000e+00\n",
            "\n",
            "Epoch 00003: val_loss improved from 0.37420 to 0.37415, saving model to model.h5\n",
            "Epoch 4/100\n",
            "43/43 [==============================] - 3s 71ms/step - loss: 0.3210 - mse: 0.3210 - accuracy: 0.0000e+00 - val_loss: 0.3741 - val_mse: 0.3741 - val_accuracy: 0.0000e+00\n",
            "\n",
            "Epoch 00004: val_loss improved from 0.37415 to 0.37409, saving model to model.h5\n",
            "Epoch 5/100\n",
            "43/43 [==============================] - 3s 74ms/step - loss: 0.3155 - mse: 0.3155 - accuracy: 0.0000e+00 - val_loss: 0.3740 - val_mse: 0.3740 - val_accuracy: 0.0000e+00\n",
            "\n",
            "Epoch 00005: val_loss improved from 0.37409 to 0.37402, saving model to model.h5\n",
            "Epoch 6/100\n",
            "43/43 [==============================] - 3s 75ms/step - loss: 0.3320 - mse: 0.3320 - accuracy: 0.0000e+00 - val_loss: 0.3740 - val_mse: 0.3740 - val_accuracy: 0.0000e+00\n",
            "\n",
            "Epoch 00006: val_loss improved from 0.37402 to 0.37395, saving model to model.h5\n",
            "Epoch 7/100\n",
            "43/43 [==============================] - 3s 72ms/step - loss: 0.3226 - mse: 0.3226 - accuracy: 0.0000e+00 - val_loss: 0.3739 - val_mse: 0.3739 - val_accuracy: 0.0000e+00\n",
            "\n",
            "Epoch 00007: val_loss improved from 0.37395 to 0.37387, saving model to model.h5\n",
            "Epoch 8/100\n",
            "43/43 [==============================] - 3s 69ms/step - loss: 0.3213 - mse: 0.3213 - accuracy: 0.0000e+00 - val_loss: 0.3738 - val_mse: 0.3738 - val_accuracy: 0.0000e+00\n",
            "\n",
            "Epoch 00008: val_loss improved from 0.37387 to 0.37378, saving model to model.h5\n",
            "Epoch 9/100\n",
            "43/43 [==============================] - 3s 73ms/step - loss: 0.3213 - mse: 0.3213 - accuracy: 0.0000e+00 - val_loss: 0.3737 - val_mse: 0.3737 - val_accuracy: 0.0000e+00\n",
            "\n",
            "Epoch 00009: val_loss improved from 0.37378 to 0.37367, saving model to model.h5\n",
            "Epoch 10/100\n",
            "43/43 [==============================] - 3s 72ms/step - loss: 0.3023 - mse: 0.3023 - accuracy: 0.0000e+00 - val_loss: 0.3735 - val_mse: 0.3735 - val_accuracy: 0.0000e+00\n",
            "\n",
            "Epoch 00010: val_loss improved from 0.37367 to 0.37355, saving model to model.h5\n",
            "Epoch 11/100\n",
            "43/43 [==============================] - 3s 71ms/step - loss: 0.3288 - mse: 0.3288 - accuracy: 0.0000e+00 - val_loss: 0.3734 - val_mse: 0.3734 - val_accuracy: 0.0000e+00\n",
            "\n",
            "Epoch 00011: val_loss improved from 0.37355 to 0.37341, saving model to model.h5\n",
            "Epoch 12/100\n",
            "43/43 [==============================] - 3s 75ms/step - loss: 0.3229 - mse: 0.3229 - accuracy: 0.0000e+00 - val_loss: 0.3732 - val_mse: 0.3732 - val_accuracy: 0.0000e+00\n",
            "\n",
            "Epoch 00012: val_loss improved from 0.37341 to 0.37324, saving model to model.h5\n",
            "Epoch 13/100\n",
            "43/43 [==============================] - 3s 71ms/step - loss: 0.3376 - mse: 0.3376 - accuracy: 0.0000e+00 - val_loss: 0.3730 - val_mse: 0.3730 - val_accuracy: 0.0000e+00\n",
            "\n",
            "Epoch 00013: val_loss improved from 0.37324 to 0.37304, saving model to model.h5\n",
            "Epoch 14/100\n",
            "43/43 [==============================] - 3s 71ms/step - loss: 0.3216 - mse: 0.3216 - accuracy: 0.0000e+00 - val_loss: 0.3728 - val_mse: 0.3728 - val_accuracy: 0.0000e+00\n",
            "\n",
            "Epoch 00014: val_loss improved from 0.37304 to 0.37281, saving model to model.h5\n",
            "Epoch 15/100\n",
            "43/43 [==============================] - 3s 73ms/step - loss: 0.3137 - mse: 0.3137 - accuracy: 0.0000e+00 - val_loss: 0.3725 - val_mse: 0.3725 - val_accuracy: 0.0000e+00\n",
            "\n",
            "Epoch 00015: val_loss improved from 0.37281 to 0.37251, saving model to model.h5\n",
            "Epoch 16/100\n",
            "43/43 [==============================] - 3s 70ms/step - loss: 0.3274 - mse: 0.3274 - accuracy: 0.0000e+00 - val_loss: 0.3721 - val_mse: 0.3721 - val_accuracy: 0.0000e+00\n",
            "\n",
            "Epoch 00016: val_loss improved from 0.37251 to 0.37211, saving model to model.h5\n",
            "Epoch 17/100\n",
            "43/43 [==============================] - 3s 76ms/step - loss: 0.3138 - mse: 0.3138 - accuracy: 0.0000e+00 - val_loss: 0.3715 - val_mse: 0.3715 - val_accuracy: 0.0000e+00\n",
            "\n",
            "Epoch 00017: val_loss improved from 0.37211 to 0.37147, saving model to model.h5\n",
            "Epoch 18/100\n",
            "43/43 [==============================] - 3s 73ms/step - loss: 0.3237 - mse: 0.3237 - accuracy: 0.0000e+00 - val_loss: 0.3701 - val_mse: 0.3701 - val_accuracy: 0.0000e+00\n",
            "\n",
            "Epoch 00018: val_loss improved from 0.37147 to 0.37009, saving model to model.h5\n",
            "Epoch 19/100\n",
            "43/43 [==============================] - 3s 72ms/step - loss: 0.3362 - mse: 0.3362 - accuracy: 0.0000e+00 - val_loss: 0.3635 - val_mse: 0.3635 - val_accuracy: 0.0000e+00\n",
            "\n",
            "Epoch 00019: val_loss improved from 0.37009 to 0.36347, saving model to model.h5\n",
            "Epoch 20/100\n",
            "43/43 [==============================] - 3s 72ms/step - loss: 0.3072 - mse: 0.3072 - accuracy: 0.0000e+00 - val_loss: 0.3407 - val_mse: 0.3407 - val_accuracy: 0.0000e+00\n",
            "\n",
            "Epoch 00020: val_loss improved from 0.36347 to 0.34066, saving model to model.h5\n",
            "Epoch 21/100\n",
            "43/43 [==============================] - 3s 75ms/step - loss: 0.3087 - mse: 0.3087 - accuracy: 0.0000e+00 - val_loss: 0.3308 - val_mse: 0.3308 - val_accuracy: 0.0000e+00\n",
            "\n",
            "Epoch 00021: val_loss improved from 0.34066 to 0.33082, saving model to model.h5\n",
            "Epoch 22/100\n",
            "43/43 [==============================] - 3s 68ms/step - loss: 0.2938 - mse: 0.2938 - accuracy: 0.0000e+00 - val_loss: 0.3238 - val_mse: 0.3238 - val_accuracy: 0.0000e+00\n",
            "\n",
            "Epoch 00022: val_loss improved from 0.33082 to 0.32381, saving model to model.h5\n",
            "Epoch 23/100\n",
            "43/43 [==============================] - 3s 74ms/step - loss: 0.2890 - mse: 0.2890 - accuracy: 0.0000e+00 - val_loss: 0.3148 - val_mse: 0.3148 - val_accuracy: 0.0000e+00\n",
            "\n",
            "Epoch 00023: val_loss improved from 0.32381 to 0.31478, saving model to model.h5\n",
            "Epoch 24/100\n",
            "43/43 [==============================] - 3s 70ms/step - loss: 0.2835 - mse: 0.2835 - accuracy: 0.0000e+00 - val_loss: 0.3068 - val_mse: 0.3068 - val_accuracy: 0.0000e+00\n",
            "\n",
            "Epoch 00024: val_loss improved from 0.31478 to 0.30683, saving model to model.h5\n",
            "Epoch 25/100\n",
            "43/43 [==============================] - 3s 75ms/step - loss: 0.2736 - mse: 0.2736 - accuracy: 0.0000e+00 - val_loss: 0.2983 - val_mse: 0.2983 - val_accuracy: 0.0000e+00\n",
            "\n",
            "Epoch 00025: val_loss improved from 0.30683 to 0.29835, saving model to model.h5\n",
            "Epoch 26/100\n",
            "43/43 [==============================] - 3s 76ms/step - loss: 0.2768 - mse: 0.2768 - accuracy: 0.0000e+00 - val_loss: 0.2845 - val_mse: 0.2845 - val_accuracy: 0.0000e+00\n",
            "\n",
            "Epoch 00026: val_loss improved from 0.29835 to 0.28450, saving model to model.h5\n",
            "Epoch 27/100\n",
            "43/43 [==============================] - 3s 68ms/step - loss: 0.2679 - mse: 0.2679 - accuracy: 0.0000e+00 - val_loss: 0.2710 - val_mse: 0.2710 - val_accuracy: 0.0000e+00\n",
            "\n",
            "Epoch 00027: val_loss improved from 0.28450 to 0.27095, saving model to model.h5\n",
            "Epoch 28/100\n",
            "43/43 [==============================] - 3s 75ms/step - loss: 0.2556 - mse: 0.2556 - accuracy: 0.0000e+00 - val_loss: 0.2588 - val_mse: 0.2588 - val_accuracy: 0.0000e+00\n",
            "\n",
            "Epoch 00028: val_loss improved from 0.27095 to 0.25882, saving model to model.h5\n",
            "Epoch 29/100\n",
            "43/43 [==============================] - 3s 72ms/step - loss: 0.2369 - mse: 0.2369 - accuracy: 0.0000e+00 - val_loss: 0.2395 - val_mse: 0.2395 - val_accuracy: 0.0000e+00\n",
            "\n",
            "Epoch 00029: val_loss improved from 0.25882 to 0.23949, saving model to model.h5\n",
            "Epoch 30/100\n",
            "43/43 [==============================] - 3s 73ms/step - loss: 0.2198 - mse: 0.2198 - accuracy: 0.0000e+00 - val_loss: 0.2238 - val_mse: 0.2238 - val_accuracy: 0.0000e+00\n",
            "\n",
            "Epoch 00030: val_loss improved from 0.23949 to 0.22379, saving model to model.h5\n",
            "Epoch 31/100\n",
            "43/43 [==============================] - 3s 73ms/step - loss: 0.2095 - mse: 0.2095 - accuracy: 0.0000e+00 - val_loss: 0.2006 - val_mse: 0.2006 - val_accuracy: 0.0000e+00\n",
            "\n",
            "Epoch 00031: val_loss improved from 0.22379 to 0.20061, saving model to model.h5\n",
            "Epoch 32/100\n",
            "43/43 [==============================] - 3s 72ms/step - loss: 0.2005 - mse: 0.2005 - accuracy: 0.0000e+00 - val_loss: 0.1826 - val_mse: 0.1826 - val_accuracy: 0.0000e+00\n",
            "\n",
            "Epoch 00032: val_loss improved from 0.20061 to 0.18264, saving model to model.h5\n",
            "Epoch 33/100\n",
            "43/43 [==============================] - 3s 74ms/step - loss: 0.1892 - mse: 0.1892 - accuracy: 0.0000e+00 - val_loss: 0.1642 - val_mse: 0.1642 - val_accuracy: 0.0000e+00\n",
            "\n",
            "Epoch 00033: val_loss improved from 0.18264 to 0.16424, saving model to model.h5\n",
            "Epoch 34/100\n",
            "43/43 [==============================] - 3s 72ms/step - loss: 0.1747 - mse: 0.1747 - accuracy: 0.0000e+00 - val_loss: 0.1478 - val_mse: 0.1478 - val_accuracy: 0.0000e+00\n",
            "\n",
            "Epoch 00034: val_loss improved from 0.16424 to 0.14776, saving model to model.h5\n",
            "Epoch 35/100\n",
            "43/43 [==============================] - 3s 67ms/step - loss: 0.1667 - mse: 0.1667 - accuracy: 0.0000e+00 - val_loss: 0.1328 - val_mse: 0.1328 - val_accuracy: 0.0000e+00\n",
            "\n",
            "Epoch 00035: val_loss improved from 0.14776 to 0.13277, saving model to model.h5\n",
            "Epoch 36/100\n",
            "43/43 [==============================] - 3s 70ms/step - loss: 0.1593 - mse: 0.1593 - accuracy: 0.0000e+00 - val_loss: 0.1233 - val_mse: 0.1233 - val_accuracy: 0.0000e+00\n",
            "\n",
            "Epoch 00036: val_loss improved from 0.13277 to 0.12328, saving model to model.h5\n",
            "Epoch 37/100\n",
            "43/43 [==============================] - 3s 72ms/step - loss: 0.1578 - mse: 0.1578 - accuracy: 0.0000e+00 - val_loss: 0.1109 - val_mse: 0.1109 - val_accuracy: 0.0000e+00\n",
            "\n",
            "Epoch 00037: val_loss improved from 0.12328 to 0.11089, saving model to model.h5\n",
            "Epoch 38/100\n",
            "43/43 [==============================] - 3s 72ms/step - loss: 0.1460 - mse: 0.1460 - accuracy: 0.0000e+00 - val_loss: 0.1069 - val_mse: 0.1069 - val_accuracy: 0.0000e+00\n",
            "\n",
            "Epoch 00038: val_loss improved from 0.11089 to 0.10686, saving model to model.h5\n",
            "Epoch 39/100\n",
            "43/43 [==============================] - 3s 73ms/step - loss: 0.1357 - mse: 0.1357 - accuracy: 0.0000e+00 - val_loss: 0.1075 - val_mse: 0.1075 - val_accuracy: 0.0000e+00\n",
            "\n",
            "Epoch 00039: val_loss did not improve from 0.10686\n",
            "Epoch 40/100\n",
            "43/43 [==============================] - 3s 68ms/step - loss: 0.1321 - mse: 0.1321 - accuracy: 0.0000e+00 - val_loss: 0.0970 - val_mse: 0.0970 - val_accuracy: 0.0000e+00\n",
            "\n",
            "Epoch 00040: val_loss improved from 0.10686 to 0.09696, saving model to model.h5\n",
            "Epoch 41/100\n",
            "43/43 [==============================] - 3s 65ms/step - loss: 0.1355 - mse: 0.1355 - accuracy: 0.0000e+00 - val_loss: 0.0922 - val_mse: 0.0922 - val_accuracy: 0.0000e+00\n",
            "\n",
            "Epoch 00041: val_loss improved from 0.09696 to 0.09222, saving model to model.h5\n",
            "Epoch 42/100\n",
            "43/43 [==============================] - 3s 69ms/step - loss: 0.1231 - mse: 0.1231 - accuracy: 0.0000e+00 - val_loss: 0.1022 - val_mse: 0.1022 - val_accuracy: 0.0000e+00\n",
            "\n",
            "Epoch 00042: val_loss did not improve from 0.09222\n",
            "Epoch 43/100\n",
            "43/43 [==============================] - 3s 73ms/step - loss: 0.1336 - mse: 0.1336 - accuracy: 0.0000e+00 - val_loss: 0.0915 - val_mse: 0.0915 - val_accuracy: 0.0000e+00\n",
            "\n",
            "Epoch 00043: val_loss improved from 0.09222 to 0.09154, saving model to model.h5\n",
            "Epoch 44/100\n",
            "43/43 [==============================] - 3s 72ms/step - loss: 0.1268 - mse: 0.1268 - accuracy: 0.0000e+00 - val_loss: 0.0985 - val_mse: 0.0985 - val_accuracy: 0.0000e+00\n",
            "\n",
            "Epoch 00044: val_loss did not improve from 0.09154\n",
            "Epoch 45/100\n",
            "43/43 [==============================] - 3s 74ms/step - loss: 0.1274 - mse: 0.1274 - accuracy: 0.0000e+00 - val_loss: 0.0961 - val_mse: 0.0961 - val_accuracy: 0.0000e+00\n",
            "\n",
            "Epoch 00045: val_loss did not improve from 0.09154\n",
            "Epoch 46/100\n",
            "43/43 [==============================] - 3s 75ms/step - loss: 0.1327 - mse: 0.1327 - accuracy: 0.0000e+00 - val_loss: 0.0985 - val_mse: 0.0985 - val_accuracy: 0.0000e+00\n",
            "\n",
            "Epoch 00046: val_loss did not improve from 0.09154\n",
            "Epoch 47/100\n",
            "43/43 [==============================] - 3s 76ms/step - loss: 0.1288 - mse: 0.1288 - accuracy: 0.0000e+00 - val_loss: 0.0916 - val_mse: 0.0916 - val_accuracy: 0.0000e+00\n",
            "\n",
            "Epoch 00047: val_loss did not improve from 0.09154\n",
            "Epoch 48/100\n",
            "43/43 [==============================] - 3s 67ms/step - loss: 0.1290 - mse: 0.1290 - accuracy: 0.0000e+00 - val_loss: 0.0950 - val_mse: 0.0950 - val_accuracy: 0.0000e+00\n",
            "\n",
            "Epoch 00048: val_loss did not improve from 0.09154\n",
            "Epoch 00048: early stopping\n"
          ],
          "name": "stdout"
        },
        {
          "output_type": "stream",
          "text": [
            "WARNING:absl:Found untraced functions such as lstm_cell_1_layer_call_and_return_conditional_losses, lstm_cell_1_layer_call_fn, lstm_cell_1_layer_call_fn, lstm_cell_1_layer_call_and_return_conditional_losses, lstm_cell_1_layer_call_and_return_conditional_losses while saving (showing 5 of 5). These functions will not be directly callable after loading.\n",
            "WARNING:absl:Found untraced functions such as lstm_cell_1_layer_call_and_return_conditional_losses, lstm_cell_1_layer_call_fn, lstm_cell_1_layer_call_fn, lstm_cell_1_layer_call_and_return_conditional_losses, lstm_cell_1_layer_call_and_return_conditional_losses while saving (showing 5 of 5). These functions will not be directly callable after loading.\n"
          ],
          "name": "stderr"
        },
        {
          "output_type": "stream",
          "text": [
            "INFO:tensorflow:Assets written to: drive/MyDrive/largecopd_lstm_model.h/assets\n"
          ],
          "name": "stdout"
        },
        {
          "output_type": "stream",
          "text": [
            "INFO:tensorflow:Assets written to: drive/MyDrive/largecopd_lstm_model.h/assets\n"
          ],
          "name": "stderr"
        }
      ]
    },
    {
      "cell_type": "code",
      "metadata": {
        "colab": {
          "base_uri": "https://localhost:8080/",
          "height": 497
        },
        "id": "BFTjsyVQfQjI",
        "outputId": "b36271c9-14b7-4876-9ae4-b7016c32496e"
      },
      "source": [
        "hist = pd.DataFrame(history.history)\n",
        "hist['epoch'] = history.epoch\n",
        "\n",
        "# import matplotlib.pyplot as plt\n",
        "\n",
        "plt.figure(figsize=(18, 8))\n",
        "plt.plot(hist['epoch'],hist['val_loss'], color= 'green')\n",
        "# plt.plot(loss, color='red')\n",
        "# plt.title(\"Close price of stocks sold\")\n",
        "plt.xlabel(\"EPOCH\")\n",
        "plt.ylabel(\"VAL_LOSS\")\n",
        "plt.show()\n"
      ],
      "execution_count": 28,
      "outputs": [
        {
          "output_type": "display_data",
          "data": {
            "image/png": "[encoded data removed]",
            "text/plain": [
              "<Figure size 1296x576 with 1 Axes>"
            ]
          },
          "metadata": {
            "tags": [],
            "needs_background": "light"
          }
        }
      ]
    },
    {
      "cell_type": "code",
      "metadata": {
        "colab": {
          "base_uri": "https://localhost:8080/"
        },
        "id": "CBeaO7KIfQlq",
        "outputId": "41011e88-e1b8-412e-96df-01f9072f836a"
      },
      "source": [
        "from keras.models import load_model\n",
        "model = load_model('drive/MyDrive/largecopd_lstm_model.h')"
      ],
      "execution_count": 5,
      "outputs": [
        {
          "output_type": "stream",
          "text": [
            "WARNING:tensorflow:Layer lstm_2 will not use cuDNN kernel since it doesn't meet the cuDNN kernel criteria. It will use generic GPU kernel as fallback when running on GPU\n",
            "WARNING:tensorflow:Layer lstm_2 will not use cuDNN kernel since it doesn't meet the cuDNN kernel criteria. It will use generic GPU kernel as fallback when running on GPU\n",
            "WARNING:tensorflow:Layer lstm_2 will not use cuDNN kernel since it doesn't meet the cuDNN kernel criteria. It will use generic GPU kernel as fallback when running on GPU\n",
            "WARNING:tensorflow:Layer lstm_3 will not use cuDNN kernel since it doesn't meet the cuDNN kernel criteria. It will use generic GPU kernel as fallback when running on GPU\n",
            "WARNING:tensorflow:Layer lstm_4 will not use cuDNN kernel since it doesn't meet the cuDNN kernel criteria. It will use generic GPU kernel as fallback when running on GPU\n",
            "WARNING:tensorflow:Layer lstm_5 will not use cuDNN kernel since it doesn't meet the cuDNN kernel criteria. It will use generic GPU kernel as fallback when running on GPU\n",
            "WARNING:tensorflow:Layer lstm_6 will not use cuDNN kernel since it doesn't meet the cuDNN kernel criteria. It will use generic GPU kernel as fallback when running on GPU\n"
          ],
          "name": "stdout"
        }
      ]
    },
    {
      "cell_type": "code",
      "metadata": {
        "colab": {
          "base_uri": "https://localhost:8080/"
        },
        "id": "Nvu7UO0OUpcA",
        "outputId": "b481fc28-4eaf-476a-e9ea-87f8ab76c70e"
      },
      "source": [
        "t2data.shape"
      ],
      "execution_count": 11,
      "outputs": [
        {
          "output_type": "execute_result",
          "data": {
            "text/plain": [
              "(60, 8783160)"
            ]
          },
          "metadata": {
            "tags": []
          },
          "execution_count": 11
        }
      ]
    },
    {
      "cell_type": "code",
      "metadata": {
        "colab": {
          "base_uri": "https://localhost:8080/"
        },
        "id": "bjmFmXZPfXVt",
        "outputId": "89f9d197-5af7-4b1f-e17a-551bc35024ff"
      },
      "source": [
        "# t2data=t2data[::-1]\n",
        "train = t2data#[:-30]\n",
        "scaler = MinMaxScaler()\n",
        "scaler.fit(train)\n",
        "train = scaler.transform(train)\n",
        "# batch=[]\n",
        "pred_list = []\n",
        "# batch = train_y[-n_input:].reshape((1, n_input, t2data.shape[1]))\n",
        "\n",
        "##subset\n",
        "train = trainA\n",
        "scaler = MinMaxScaler()\n",
        "scaler.fit(train)\n",
        "train = scaler.transform(train)\n",
        "batch = train_y[-n_input:].reshape((1, n_input, trainA.shape[1]))\n",
        "\n",
        "# batch=batch.T\n",
        "for i in range(n_input):\n",
        "  # print(batch[0,1:,:])\n",
        "  pred_list.append(model.predict(batch))#[0])  ## comment T then uncomment\n",
        "  batch = np.append(batch[0,1:,:],pred_list[i],axis=0)\n",
        "  # print([batch.shape,pred_list[i].T.shape])\n",
        "  # batch=batch.T\n",
        "  # print(pred_list[i])\n",
        "  batch = np.expand_dims(batch, 0)\n",
        "  # print([i,batch.shape])\n",
        "print(pd.DataFrame(np.squeeze(pred_list)))"
      ],
      "execution_count": 14,
      "outputs": [
        {
          "output_type": "stream",
          "text": [
            "        0         1         2    ...       241       242       243\n",
            "0  0.351425  0.568207  0.598298  ...  0.445553  0.561477  0.547566\n",
            "1  0.357817  0.525517  0.550223  ...  0.419519  0.545229  0.512173\n",
            "2  0.355539  0.524431  0.541806  ...  0.421878  0.556863  0.513379\n",
            "3  0.355546  0.523671  0.541409  ...  0.421889  0.557950  0.512210\n",
            "4  0.357679  0.523443  0.545207  ...  0.421177  0.556150  0.510613\n",
            "\n",
            "[5 rows x 244 columns]\n"
          ],
          "name": "stdout"
        }
      ]
    },
    {
      "cell_type": "code",
      "metadata": {
        "colab": {
          "base_uri": "https://localhost:8080/"
        },
        "id": "7zs9eq2GfXYR",
        "outputId": "7426bbf2-19e7-461e-c076-642de3d40503"
      },
      "source": [
        "# pred_list=pd.DataFrame(np.reshape(pred_list,[lookback,t2data.shape[1]]))\n",
        "pred_list=pd.DataFrame(np.reshape(pred_list,[lookback,trainA.shape[1]]))\n",
        "\n",
        "pred_list=(np.squeeze(pred_list))\n",
        "pred_list=pd.DataFrame(pred_list)\n",
        "print(pred_list)\n",
        "\n",
        "# pred=pd.DataFrame(t2data[::-1])[6:]\n",
        "pred=pd.DataFrame(trainA)\n",
        "pred=pred.append(pred_list)\n",
        "pred=pred.reset_index()\n",
        "del pred['index']"
      ],
      "execution_count": 18,
      "outputs": [
        {
          "output_type": "stream",
          "text": [
            "        0         1         2    ...       241       242       243\n",
            "0  0.351425  0.568207  0.598298  ...  0.445553  0.561477  0.547566\n",
            "1  0.357817  0.525517  0.550223  ...  0.419519  0.545229  0.512173\n",
            "2  0.355539  0.524431  0.541806  ...  0.421878  0.556863  0.513379\n",
            "3  0.355546  0.523671  0.541409  ...  0.421889  0.557950  0.512210\n",
            "4  0.357679  0.523443  0.545207  ...  0.421177  0.556150  0.510613\n",
            "\n",
            "[5 rows x 244 columns]\n"
          ],
          "name": "stdout"
        }
      ]
    },
    {
      "cell_type": "code",
      "metadata": {
        "colab": {
          "base_uri": "https://localhost:8080/"
        },
        "id": "a2JY_PzzUyPw",
        "outputId": "e6eb557d-a2d3-407e-a174-d004b0f500e7"
      },
      "source": [
        "pred.shape"
      ],
      "execution_count": 19,
      "outputs": [
        {
          "output_type": "execute_result",
          "data": {
            "text/plain": [
              "(59, 244)"
            ]
          },
          "metadata": {
            "tags": []
          },
          "execution_count": 19
        }
      ]
    },
    {
      "cell_type": "code",
      "metadata": {
        "colab": {
          "base_uri": "https://localhost:8080/",
          "height": 265
        },
        "id": "MZP9gYObfXa2",
        "outputId": "fe094c23-fd73-403e-ea8f-e88a7e2e0735"
      },
      "source": [
        "w=plt.plot(pred.iloc[:,0:9])\n"
      ],
      "execution_count": 21,
      "outputs": [
        {
          "output_type": "display_data",
          "data": {
            "image/png": "[encoded data removed]",
            "text/plain": [
              "<Figure size 432x288 with 1 Axes>"
            ]
          },
          "metadata": {
            "tags": [],
            "needs_background": "light"
          }
        }
      ]
    },
    {
      "cell_type": "code",
      "metadata": {
        "id": "FrAgDJLeUS4v"
      },
      "source": [
        ""
      ],
      "execution_count": null,
      "outputs": []
    }
  ]
}