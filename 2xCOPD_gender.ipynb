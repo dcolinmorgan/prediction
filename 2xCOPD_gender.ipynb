{
  "nbformat": 4,
  "nbformat_minor": 0,
  "metadata": {
    "accelerator": "GPU",
    "colab": {
      "name": "2xCOPD_gender",
      "provenance": [],
      "collapsed_sections": [
        "s__pesv2DbAt",
        "ZE7LZlKhENto",
        "-IwHRfXWMGpi",
        "ExjHtUlvtQft",
        "a7xuPz0MtTZg",
        "z6adI-dq2nLT",
        "IXHNorl32sG4",
        "O2i3O_AeS-ht",
        "dX4Ud-HNLTSV",
        "T3jSwAJVRT71"
      ],
      "include_colab_link": true
    },
    "kernelspec": {
      "display_name": "Python 3",
      "name": "python3"
    }
  },
  "cells": [
    {
      "cell_type": "markdown",
      "metadata": {
        "id": "view-in-github",
        "colab_type": "text"
      },
      "source": [
        "<a href=\"https://colab.research.google.com/github/dcolinmorgan/prediction/blob/master/2xCOPD_gender.ipynb\" target=\"_parent\"><img src=\"https://colab.research.google.com/assets/colab-badge.svg\" alt=\"Open In Colab\"/></a>"
      ]
    },
    {
      "cell_type": "code",
      "metadata": {
        "id": "tqU5e6cD0X1i"
      },
      "source": [
        "# !pip install s3fs\n",
        "import os,time\n",
        "# import s3fs\n",
        "import pandas as pd\n",
        "import numpy as np\n",
        "from psutil import *\n",
        "import matplotlib.pyplot as plt\n",
        "import gc\n",
        "import random\n",
        "from scipy import stats\n",
        "import seaborn as sns\n",
        "from IPython.display import Image\n",
        "from scipy.stats import zscore\n",
        "timestr = time.strftime(\"%Y%m%d\")"
      ],
      "execution_count": 2,
      "outputs": []
    },
    {
      "cell_type": "code",
      "metadata": {
        "id": "QVqEHJuQ0bOd",
        "colab": {
          "base_uri": "https://localhost:8080/"
        },
        "outputId": "22d0bebe-1966-4071-b636-dc93ae479eaf"
      },
      "source": [
        "from google.colab import drive\n",
        "drive.mount('/content/drive')"
      ],
      "execution_count": 3,
      "outputs": [
        {
          "output_type": "stream",
          "text": [
            "Drive already mounted at /content/drive; to attempt to forcibly remount, call drive.mount(\"/content/drive\", force_remount=True).\n"
          ],
          "name": "stdout"
        }
      ]
    },
    {
      "cell_type": "code",
      "metadata": {
        "id": "BP_2NmhEC-xH"
      },
      "source": [
        "# data=np.load('/content/drive/MyDrive/LARGE_PANDA/LTRCcase.npy')\n",
        "# plt.hist(data.flatten())"
      ],
      "execution_count": null,
      "outputs": []
    },
    {
      "cell_type": "code",
      "metadata": {
        "id": "OxqvrbnT0bFB"
      },
      "source": [
        "# !git clone https://github.com/netZoo/netZooPy.git\n",
        "!git clone --single-branch --branch devel https://github.com/netZoo/netZooPy.git\n",
        "os.chdir('netZooPy')\n",
        "!pip install -e ./"
      ],
      "execution_count": null,
      "outputs": []
    },
    {
      "cell_type": "code",
      "metadata": {
        "id": "dVVyHKaL0bIX"
      },
      "source": [
        "import netZooPy\n",
        "from netZooPy.panda import Panda\n",
        "from netZooPy.lioness import Lioness\n",
        "from netZooPy import condor\n",
        "os.chdir('..')"
      ],
      "execution_count": 3,
      "outputs": []
    },
    {
      "cell_type": "code",
      "metadata": {
        "id": "iX09NjiD0bKc"
      },
      "source": [
        "!pip install GEOparse\n",
        "# !pip install pycombat"
      ],
      "execution_count": null,
      "outputs": []
    },
    {
      "cell_type": "code",
      "metadata": {
        "id": "a2nb5HDJ0bMV"
      },
      "source": [
        "import GEOparse\n",
        "gse = GEOparse.get_GEO(geo=\"GSE76925\", destdir=\"./\")"
      ],
      "execution_count": null,
      "outputs": []
    },
    {
      "cell_type": "code",
      "metadata": {
        "id": "2pExQ9Pu0let"
      },
      "source": [
        "ww=pd.unique(gse.gpls['GPL10558'].table['Chromosome'])"
      ],
      "execution_count": null,
      "outputs": []
    },
    {
      "cell_type": "code",
      "metadata": {
        "id": "l28nDQImS5zk"
      },
      "source": [
        "# data1=pd.read_csv('drive/My Drive/Colab Notebooks/GSE76925.txt',sep='\\t',index_col=0)"
      ],
      "execution_count": null,
      "outputs": []
    },
    {
      "cell_type": "code",
      "metadata": {
        "id": "ddOON1xsaGBw"
      },
      "source": [
        "# largeCOPD=pd.read_csv('drive/My Drive/Colab Notebooks/LARGE_COPD_crossLTCOPD.txt',sep='\\t',index_col=0)"
      ],
      "execution_count": null,
      "outputs": []
    },
    {
      "cell_type": "markdown",
      "metadata": {
        "id": "s__pesv2DbAt"
      },
      "source": [
        "###this data is same as clean expression per Jarrett"
      ]
    },
    {
      "cell_type": "code",
      "metadata": {
        "id": "GCWOMJFkXtZw",
        "colab": {
          "base_uri": "https://localhost:8080/",
          "height": 456
        },
        "outputId": "07e7e597-4828-4bf7-8178-9eda65770f81"
      },
      "source": [
        "del data1['loc']\n",
        "plot=pd.melt(data1)['value']\n",
        "# plot=np.array(plot.astype(float))\n",
        "plt.hist(plot,bins=26)"
      ],
      "execution_count": null,
      "outputs": [
        {
          "output_type": "execute_result",
          "data": {
            "text/plain": [
              "(array([ 49562., 383964., 543655., 376433., 258462., 209012., 191210.,\n",
              "        187397., 187620., 194343., 203225., 212293., 217659., 214960.,\n",
              "        198194., 171715., 144220., 114421.,  85028.,  60959.,  41408.,\n",
              "         31360.,  22740.,  17207.,  13377.,   7051.]),\n",
              " array([ 1.99184613,  2.49559272,  2.99933931,  3.5030859 ,  4.00683249,\n",
              "         4.51057908,  5.01432566,  5.51807225,  6.02181884,  6.52556543,\n",
              "         7.02931202,  7.53305861,  8.0368052 ,  8.54055178,  9.04429837,\n",
              "         9.54804496, 10.05179155, 10.55553814, 11.05928473, 11.56303131,\n",
              "        12.0667779 , 12.57052449, 13.07427108, 13.57801767, 14.08176426,\n",
              "        14.58551085, 15.08925743]),\n",
              " <a list of 26 Patch objects>)"
            ]
          },
          "metadata": {
            "tags": []
          },
          "execution_count": 47
        },
        {
          "output_type": "display_data",
          "data": {
            "image/png": "[encoded data removed]",
            "text/plain": [
              "<Figure size 432x288 with 1 Axes>"
            ]
          },
          "metadata": {
            "tags": [],
            "needs_background": "light"
          }
        }
      ]
    },
    {
      "cell_type": "code",
      "metadata": {
        "id": "UrKxN_VGhZND",
        "colab": {
          "base_uri": "https://localhost:8080/",
          "height": 355
        },
        "outputId": "29c6fc4d-8f69-4a41-b042-330813cf859c"
      },
      "source": [
        "Image(filename='drive/My Drive/Colab Notebooks/clean_LTCOPD.png',width=500)"
      ],
      "execution_count": null,
      "outputs": [
        {
          "output_type": "execute_result",
          "data": {
            "image/png": "[encoded data removed]",
            "text/plain": [
              "<IPython.core.display.Image object>"
            ]
          },
          "metadata": {
            "tags": [],
            "image/png": {
              "width": 500
            }
          },
          "execution_count": 48
        }
      ]
    },
    {
      "cell_type": "code",
      "metadata": {
        "id": "AXHRAdABeyRv"
      },
      "source": [
        "plt.rcParams.update(plt.rcParamsDefault)\n",
        "cc=plt.hist(np.log(data1.values.flatten()),bins=100)"
      ],
      "execution_count": null,
      "outputs": []
    },
    {
      "cell_type": "markdown",
      "metadata": {
        "id": "ZE7LZlKhENto"
      },
      "source": [
        "##test merged lung tissue datasets in PCA and heirarchical clustering"
      ]
    },
    {
      "cell_type": "code",
      "metadata": {
        "colab": {
          "base_uri": "https://localhost:8080/",
          "height": 259
        },
        "id": "eaDQb-c8EU-x",
        "outputId": "6990c3ee-9ba3-4515-e7b5-40c26723a7e2"
      },
      "source": [
        "X=largeCOPD#.merge(data1,left_index=True, right_index=True)\n",
        "X=X.T\n",
        "y=(pd.DataFrame(np.zeros(largeCOPD.shape[1]))).astype('int').to_numpy().flatten()\n",
        "# from sklearn.cluster import AgglomerativeClustering\n",
        "X.fillna(0, inplace=True)\n",
        "# model = AgglomerativeClustering(distance_threshold=0, n_clusters=None)\n",
        "from sklearn.decomposition import PCA\n",
        "lw = 2\n",
        "pca = PCA(n_components=lw)\n",
        "X_r=pca.fit(X).transform(X)\n",
        "# model = model.fit(data1)\n",
        "from sklearn import datasets\n",
        "iris = datasets.load_iris()\n",
        "target_names = ['large','small']#iris.target_names\n",
        "\n",
        "plt.figure(figsize=(20, 4))\n",
        "\n",
        "colors = ['turquoise', 'darkorange']\n",
        "\n",
        "\n",
        "for color, i, target_name in zip(colors, [0, 1], target_names):\n",
        "    plt.scatter(X_r[y == i, 0], X_r[y == i, 1], color=color, alpha=.8, lw=lw,\n",
        "                label=target_name)\n",
        "plt.legend(loc='best', shadow=False, scatterpoints=1)\n",
        "plt.title('PCA of LT-RC datasets')"
      ],
      "execution_count": null,
      "outputs": [
        {
          "output_type": "execute_result",
          "data": {
            "text/plain": [
              "Text(0.5, 1.0, 'PCA of LT-RC datasets')"
            ]
          },
          "metadata": {
            "tags": []
          },
          "execution_count": 67
        },
        {
          "output_type": "display_data",
          "data": {
            "image/png": "[encoded data removed]",
            "text/plain": [
              "<Figure size 1440x288 with 1 Axes>"
            ]
          },
          "metadata": {
            "tags": [],
            "needs_background": "light"
          }
        }
      ]
    },
    {
      "cell_type": "code",
      "metadata": {
        "colab": {
          "base_uri": "https://localhost:8080/",
          "height": 248
        },
        "id": "Uw_agMGsFcyA",
        "outputId": "232b1be1-47ee-469f-90a1-a283a24f371e"
      },
      "source": [
        "X=data1#,left_index=True, right_index=True)\n",
        "X=X.T\n",
        "y=(pd.DataFrame(np.zeros(data1.shape[1]))).astype('int').to_numpy().flatten()\n",
        "# from sklearn.cluster import AgglomerativeClustering\n",
        "X.fillna(0, inplace=True)\n",
        "# model = AgglomerativeClustering(distance_threshold=0, n_clusters=None)\n",
        "from sklearn.decomposition import PCA\n",
        "lw = 2\n",
        "pca = PCA(n_components=lw)\n",
        "X_r=pca.fit(X).transform(X)\n",
        "# model = model.fit(data1)\n",
        "from sklearn import datasets\n",
        "iris = datasets.load_iris()\n",
        "target_names = ['large','small']#iris.target_names\n",
        "\n",
        "plt.figure(figsize=(20, 4))\n",
        "\n",
        "colors = ['turquoise', 'darkorange']\n",
        "\n",
        "\n",
        "for color, i, target_name in zip(colors, [0, 1], target_names):\n",
        "    plt.scatter(X_r[y == i, 0], X_r[y == i, 1], color=color, alpha=.8, lw=lw,\n",
        "                label=target_name)\n",
        "plt.legend(loc='best', shadow=False, scatterpoints=1)\n",
        "plt.title('PCA of LT-RC datasets')"
      ],
      "execution_count": null,
      "outputs": [
        {
          "output_type": "execute_result",
          "data": {
            "text/plain": [
              "Text(0.5, 1.0, 'PCA of LT-RC datasets')"
            ]
          },
          "metadata": {
            "tags": []
          },
          "execution_count": 68
        },
        {
          "output_type": "display_data",
          "data": {
            "image/png": "[encoded data removed]",
            "text/plain": [
              "<Figure size 1440x288 with 1 Axes>"
            ]
          },
          "metadata": {
            "tags": [],
            "needs_background": "light"
          }
        }
      ]
    },
    {
      "cell_type": "code",
      "metadata": {
        "colab": {
          "base_uri": "https://localhost:8080/",
          "height": 943
        },
        "id": "uMgIa5N0dq32",
        "outputId": "3dc07632-9797-4eef-eb24-300d74892673"
      },
      "source": [
        "X=largeCOPD.merge(data1,left_index=True, right_index=True)\n",
        "X=X.T\n",
        "y=(pd.DataFrame(np.zeros(largeCOPD.shape[1])).append(pd.DataFrame(np.ones(data1.shape[1])))).astype('int').to_numpy().flatten()\n",
        "# from sklearn.cluster import AgglomerativeClustering\n",
        "X.fillna(0, inplace=True)\n",
        "# model = AgglomerativeClustering(distance_threshold=0, n_clusters=None)\n",
        "from sklearn.decomposition import PCA\n",
        "lw = 2\n",
        "pca = PCA(n_components=lw)\n",
        "X_r=pca.fit(X).transform(X)\n",
        "# model = model.fit(data1)\n",
        "from sklearn import datasets\n",
        "iris = datasets.load_iris()\n",
        "target_names = ['large','small']#iris.target_names\n",
        "\n",
        "plt.figure(figsize=(20, 20))\n",
        "\n",
        "colors = ['turquoise', 'darkorange']\n",
        "\n",
        "\n",
        "for color, i, target_name in zip(colors, [0, 1], target_names):\n",
        "    plt.scatter(X_r[y == i, 0], X_r[y == i, 1], color=color, alpha=.5, lw=lw,\n",
        "                label=target_name, )\n",
        "plt.legend(loc='best', shadow=False, scatterpoints=1)\n",
        "plt.title('PCA of LT-RC and LT-COPD datasets')"
      ],
      "execution_count": null,
      "outputs": [
        {
          "output_type": "execute_result",
          "data": {
            "text/plain": [
              "Text(0.5, 1.0, 'PCA of LT-RC and LT-COPD datasets')"
            ]
          },
          "metadata": {
            "tags": []
          },
          "execution_count": 73
        },
        {
          "output_type": "display_data",
          "data": {
            "image/png": "[encoded data removed]",
            "text/plain": [
              "<Figure size 1440x1440 with 1 Axes>"
            ]
          },
          "metadata": {
            "tags": [],
            "needs_background": "light"
          }
        }
      ]
    },
    {
      "cell_type": "code",
      "metadata": {
        "id": "wDzY3Lyok3mg"
      },
      "source": [
        "from scipy.cluster.hierarchy import dendrogram\n",
        "def plot_dendrogram(model, **kwargs):\n",
        "    # Create linkage matrix and then plot the dendrogram\n",
        "\n",
        "    # create the counts of samples under each node\n",
        "    counts = np.zeros(model.children_.shape[0])\n",
        "    n_samples = len(model.labels_)\n",
        "    for i, merge in enumerate(model.children_):\n",
        "        current_count = 0\n",
        "        for child_idx in merge:\n",
        "            if child_idx < n_samples:\n",
        "                current_count += 1  # leaf node\n",
        "            else:\n",
        "                current_count += counts[child_idx - n_samples]\n",
        "        counts[i] = current_count\n",
        "\n",
        "    linkage_matrix = np.column_stack([model.children_, model.distances_,\n",
        "                                      counts]).astype(float)\n",
        "\n",
        "    # Plot the corresponding dendrogram\n",
        "    dendrogram(linkage_matrix, **kwargs)\n"
      ],
      "execution_count": null,
      "outputs": []
    },
    {
      "cell_type": "code",
      "metadata": {
        "colab": {
          "base_uri": "https://localhost:8080/",
          "height": 245
        },
        "id": "rAlxMoO7kfqp",
        "outputId": "02d9ad5f-dee8-4f70-f776-b1ed8783e6b9"
      },
      "source": [
        "plt.figure(figsize=(20, 4))\n",
        "plt.title('Hierarchical Clustering Dendrogram')\n",
        "# plot the top three levels of the dendrogram\n",
        "plot_dendrogram(model, truncate_mode='level', p=3,)\n",
        "plt.xlabel(\"Number of points in node (or index of point if no parenthesis).\")\n",
        "plt.show()"
      ],
      "execution_count": null,
      "outputs": [
        {
          "output_type": "display_data",
          "data": {
            "image/png": "[encoded data removed]",
            "text/plain": [
              "<Figure size 1440x288 with 1 Axes>"
            ]
          },
          "metadata": {
            "tags": [],
            "needs_background": "light"
          }
        }
      ]
    },
    {
      "cell_type": "code",
      "metadata": {
        "id": "cfBn-tUXqUeI"
      },
      "source": [
        "plt.xkcd();\n",
        "from scipy import stats, spatial, cluster\n",
        "Z = cluster.hierarchy.linkage(cc, \"complete\")"
      ],
      "execution_count": null,
      "outputs": []
    },
    {
      "cell_type": "code",
      "metadata": {
        "id": "W9Ydp2TgvVlI"
      },
      "source": [
        "plt.style.use('classic')\n",
        "plt.figure(figsize=(70, 4))\n",
        "plt.title(\"Here's a dendrogram of our hierarchical clustering\")\n",
        "cluster.hierarchy.dendrogram(Z);"
      ],
      "execution_count": null,
      "outputs": []
    },
    {
      "cell_type": "markdown",
      "metadata": {
        "id": "-IwHRfXWMGpi"
      },
      "source": [
        "#create and run PANDA"
      ]
    },
    {
      "cell_type": "code",
      "metadata": {
        "id": "hJ92A0TC0lht"
      },
      "source": [
        "expression1 = gse.pivot_samples('VALUE')\n",
        "gpl = gse.gpls[next(iter(gse.gpls))]\n",
        "data = gse.pivot_samples(values=\"VALUE\")#, gpl=gpl, annotation_column=\"Symbol\")\n",
        "pheno=gse.phenotype_data.rename(columns={'characteristics_ch1.0.age': 'age',\"characteristics_ch1.1.Sex\":\"sex\",\"characteristics_ch1.3.bmi\":\"bmi\",\"characteristics_ch1.6.fev1.pp\":\"fev1\",\"characteristics_ch1.4.packyears\":\"PY\"})\n",
        "pheno[['age',\"sex\",\"bmi\",\"fev1\",\"PY\"]].to_csv('pheno_data.txt',sep='\\t',index=True,header=True)\n",
        "\n",
        "names=pd.DataFrame([gse.gpls['GPL10558'].table['ID'],gse.gpls['GPL10558'].table['ILMN_Gene']]).transpose()\n",
        "data1=pd.merge(expression1,names,left_index=True,right_on='ID')\n",
        "\n",
        "data1['loc']=gse.gpls['GPL10558'].table['Chromosome']\n",
        "\n",
        "data1.index=data1['ILMN_Gene']\n",
        "data1=data1.dropna(how='any')\n",
        "del data1['ID'], data1['ILMN_Gene']\n",
        "\n",
        "# data1.to_csv('drive/My Drive/Colab Notebooks/GSE76925.txt',sep='\\t')"
      ],
      "execution_count": null,
      "outputs": []
    },
    {
      "cell_type": "code",
      "metadata": {
        "id": "wl4G2MG2UkUx"
      },
      "source": [
        "jeff=(data1)\n",
        "cc=jeff[jeff['loc']=='Y'].index"
      ],
      "execution_count": null,
      "outputs": []
    },
    {
      "cell_type": "code",
      "metadata": {
        "id": "Fp0Hi228cVy-"
      },
      "source": [
        "ltrc_genes=pd.read_csv('drive/My Drive/Colab Notebooks/LTRC_genes_chr.txt',sep='\\t')\n",
        "data2=data1.merge(ltrc_genes,left_index=True,right_on='gene')"
      ],
      "execution_count": null,
      "outputs": []
    },
    {
      "cell_type": "code",
      "metadata": {
        "colab": {
          "base_uri": "https://localhost:8080/"
        },
        "id": "Z1rdvcsWc1Cc",
        "outputId": "a8fbb0b3-de3a-4dd1-83e0-b172b09d3cbb"
      },
      "source": [
        "pd.unique(data2.gene).shape"
      ],
      "execution_count": null,
      "outputs": [
        {
          "output_type": "execute_result",
          "data": {
            "text/plain": [
              "(14212,)"
            ]
          },
          "metadata": {
            "tags": []
          },
          "execution_count": 48
        }
      ]
    },
    {
      "cell_type": "code",
      "metadata": {
        "id": "ATyuL5NK8txw"
      },
      "source": [
        "cc=pd.unique(data2['gene'][data2['chr']=='chrY'].tolist())"
      ],
      "execution_count": null,
      "outputs": []
    },
    {
      "cell_type": "code",
      "metadata": {
        "id": "9ospROvRBNRu"
      },
      "source": [
        "data2.index=data2.gene\n",
        "data2=data2.groupby(data2.index).mean()\n",
        "del data2['GSM2040941'],data2['GSM2040942'] ##remove rather than combat adjusting, only two samples from seperate batch\n",
        "# combat.fit(Y=data2, b=b, X=X, C=C)"
      ],
      "execution_count": null,
      "outputs": []
    },
    {
      "cell_type": "code",
      "metadata": {
        "id": "VCJz6JJ-ZfkQ"
      },
      "source": [
        "pd.DataFrame(data2.index).to_csv('drive/My Drive/Colab Notebooks/LTCOPD_genes.txt',index=False,header=False,sep='\\t')"
      ],
      "execution_count": null,
      "outputs": []
    },
    {
      "cell_type": "code",
      "metadata": {
        "id": "Nu6tHmPo0q5I",
        "colab": {
          "base_uri": "https://localhost:8080/"
        },
        "outputId": "ff322bbb-8b6a-4884-b9f2-fc2001f683d4"
      },
      "source": [
        "# data3=data1data1[data1['loc']!='Y']\n",
        "\n",
        "# del data2['loc'], data2['ensg'], data2['gene'], data2['chr']\n",
        "\n",
        "data2.columns=[gse.phenotype_data['characteristics_ch1.1.Sex'][:-2]+gse.phenotype_data['characteristics_ch1.5.copd'][:-2]]\n",
        "data2.loc[:,'Fcase'].to_csv('Fcase.txt',sep='\\t',index=True,header=False)\n",
        "data2.loc[:,'Fcont'].to_csv('Fcont.txt',sep='\\t',index=True,header=False)\n",
        "print([data2.loc[:,'Fcase'].shape,data2.loc[:,'Fcont'].shape])\n",
        "\n",
        "# data4=data1 #pd.DataFrame(np.copy(data1)) #data4[data4['loc']!='Y']\n",
        "# del data4['loc']\n",
        "# data2.columns=[gse.phenotype_data['characteristics_ch1.1.Sex']+gse.phenotype_data['characteristics_ch1.5.copd']]\n",
        "data2.loc[:,'Mcase'].to_csv('Mcase.txt',sep='\\t',index=True,header=False)\n",
        "data2.loc[:,'Mcont'].to_csv('Mcont.txt',sep='\\t',index=True,header=False)\n",
        "print([data2.loc[:,'Mcase'].shape,data2.loc[:,'Mcont'].shape])"
      ],
      "execution_count": null,
      "outputs": [
        {
          "output_type": "stream",
          "text": [
            "[(14212, 57), (14212, 25)]\n",
            "[(14212, 52), (14212, 15)]\n"
          ],
          "name": "stdout"
        }
      ]
    },
    {
      "cell_type": "code",
      "metadata": {
        "id": "MP5s05AN0q7Z"
      },
      "source": [
        "# LCL_ppi=pd.read_csv('https://granddb.s3.amazonaws.com/optPANDA/ppi/ppi_complete.txt',sep='\\t',header=None)\n",
        "# LCL_ppi.to_csv('drive/My Drive/Colab Notebooks/ppi_complete.txt',sep='\\t',index=False,header=False)\n",
        "\n",
        "# coding_LCL_motif=pd.read_csv('https://granddb.s3.amazonaws.com/optPANDA/motifs/Hugo_motifCellLine.txt',sep='\\t',header=None)\n",
        "# coding_LCL_motif.to_csv('drive/My Drive/Colab Notebooks/coding_LCL_motif.txt',sep='\\t',index=False,header=False)\n",
        "\n",
        "motif_data='drive/My Drive/Colab Notebooks/coding_LCL_motif.txt'\n",
        "ppi_data='drive/My Drive/Colab Notebooks/ppi_complete.txt'\n",
        "F_motif_data='drive/My Drive/Colab Notebooks/F_coding_LCL_motif.txt'"
      ],
      "execution_count": null,
      "outputs": []
    },
    {
      "cell_type": "code",
      "metadata": {
        "id": "Ga3_ySlaVWvB"
      },
      "source": [
        "# coding_LCL_motif.columns=['TF','gene','W']\n",
        "# aa=coding_LCL_motif[~coding_LCL_motif['TF'].isin(cc)]\n",
        "# bb=coding_LCL_motif[coding_LCL_motif['TF'].isin(cc)]\n",
        "# bb['W']=0\n",
        "# F_coding_LCL_motif=aa.append(bb)\n",
        "\n",
        "# aa=coding_LCL_motif[~coding_LCL_motif['gene'].isin(cc)]\n",
        "# bb=coding_LCL_motif[coding_LCL_motif['gene'].isin(cc)]\n",
        "# bb['W']=0\n",
        "# F_coding_LCL_motif=aa.append(bb)\n",
        "# coding_LCL_motif.to_csv('drive/My Drive/Colab Notebooks/F_coding_LCL_motif.txt',sep='\\t',index=False,header=False)\n",
        "# F_motif_data='drive/My Drive/Colab Notebooks/F_coding_LCL_motif.txt'"
      ],
      "execution_count": null,
      "outputs": []
    },
    {
      "cell_type": "code",
      "metadata": {
        "id": "vh0eSqHB0q95"
      },
      "source": [
        "panda_obj1 = Panda('Fcase.txt', F_motif_data, ppi_data,computing='gpu',precision='single',save_tmp=False,save_memory = False, remove_missing=False, keep_expression_matrix = False,modeProcess = 'intersection')\n",
        "np.save('drive/My Drive/Colab Notebooks/model_output/Panda_F0case.npy',panda_obj1.export_panda_results)\n",
        "del panda_obj1\n",
        "panda_obj2 = Panda('Mcase.txt', motif_data, ppi_data,computing='gpu',precision='single',save_tmp=False,save_memory = False, remove_missing=False, keep_expression_matrix = False,modeProcess = 'intersection')\n",
        "np.save('drive/My Drive/Colab Notebooks/model_output/Panda_Mcase.npy',panda_obj2.export_panda_results)\n",
        "del panda_obj2\n",
        "panda_obj3 = Panda('Fcont.txt', F_motif_data, ppi_data,computing='gpu',precision='single',save_tmp=False,save_memory = False, remove_missing=False, keep_expression_matrix = False,modeProcess = 'intersection')\n",
        "np.save('drive/My Drive/Colab Notebooks/model_output/Panda_F0cont.npy',panda_obj3.export_panda_results)\n",
        "del panda_obj3\n",
        "panda_obj4 = Panda('Mcont.txt', motif_data, ppi_data,computing='gpu',precision='single',save_tmp=False,save_memory = False, remove_missing=False, keep_expression_matrix = False,modeProcess = 'intersection')\n",
        "np.save('drive/My Drive/Colab Notebooks/model_output/Panda_Mcont.npy',panda_obj4.export_panda_results)\n",
        "del panda_obj4\n",
        "# panda_obj5 = Panda('FcaseFULL.txt', motif_data, ppi_data,computing='gpu',precision='single',save_tmp=False,save_memory = False, remove_missing=False, keep_expression_matrix = True,modeProcess = 'intersection')\n",
        "# np.save('drive/My Drive/Panda_FcaseFULL.npy',panda_obj5.export_panda_results)\n",
        "# del panda_obj5\n",
        "# panda_obj6 = Panda('FcontFULL.txt', motif_data, ppi_data,computing='gpu',precision='single',save_tmp=False,save_memory = False, remove_missing=False, keep_expression_matrix = True,modeProcess = 'intersection')\n",
        "# np.save('drive/My Drive/Panda_FcontFULL.npy',panda_obj6.export_panda_results)\n",
        "# del panda_obj6\n"
      ],
      "execution_count": null,
      "outputs": []
    },
    {
      "cell_type": "markdown",
      "metadata": {
        "id": "t-GfiKxM14s1"
      },
      "source": [
        "##Load Panda nets"
      ]
    },
    {
      "cell_type": "code",
      "metadata": {
        "id": "6AFg-bA00loh"
      },
      "source": [
        "# Panda_Fcase=np.load('drive/My Drive/Colab Notebooks dcm/Panda_Fcase.npy',allow_pickle=True)#,sep='\\t',index_col=0,header=None,names=['loc','symbol'])\n",
        "# Panda_Fcont=np.load('drive/My Drive/Colab Notebooks dcm/Panda_Fcont.npy',allow_pickle=True)#,sep='\\t',index_col=0,header=None,names=['loc','symbol'])\n",
        "# Panda_Fcont=pd.DataFrame(Panda_Fcont)\n",
        "# Panda_Fcont.columns=['tf','gene','motif','force']\n",
        "# Panda_Fcase=pd.DataFrame(Panda_Fcase)\n",
        "# Panda_Fcase.columns=['tf','gene','motif','force']\n",
        "\n",
        "Panda_Mcase=np.load('drive/My Drive/Colab Notebooks/model_output/Panda_Mcase.npy',allow_pickle=True)#,sep='\\t',index_col=0,header=None,names=['loc','symbol'])\n",
        "Panda_Mcont=np.load('drive/My Drive/Colab Notebooks/model_output/Panda_Mcont.npy',allow_pickle=True)#,sep='\\t',index_col=0,header=None,names=['loc','symbol'])\n",
        "Panda_Mcont=pd.DataFrame(Panda_Mcont)\n",
        "Panda_Mcont.columns=['tf','gene','motif','force']\n",
        "Panda_Mcase=pd.DataFrame(Panda_Mcase)\n",
        "Panda_Mcase.columns=['tf','gene','motif','force']\n",
        "\n",
        "Panda_FcaseFULL=np.load('drive/My Drive/Colab Notebooks/model_output/Panda_F0case.npy',allow_pickle=True)#,sep='\\t',index_col=0,header=None,names=['loc','symbol'])\n",
        "Panda_FcontFULL=np.load('drive/My Drive/Colab Notebooks/model_output/Panda_F0cont.npy',allow_pickle=True)#,sep='\\t',index_col=0,header=None,names=['loc','symbol'])\n",
        "Panda_FcontFULL=pd.DataFrame(Panda_FcontFULL)\n",
        "Panda_FcontFULL.columns=['tf','gene','motif','force']\n",
        "Panda_FcaseFULL=pd.DataFrame(Panda_FcaseFULL)\n",
        "Panda_FcaseFULL.columns=['tf','gene','motif','force']\n"
      ],
      "execution_count": null,
      "outputs": []
    },
    {
      "cell_type": "markdown",
      "metadata": {
        "id": "Uif2YCiRPfgI"
      },
      "source": [
        "##TF and gene specific zscore diff F\n",
        "\n"
      ]
    },
    {
      "cell_type": "code",
      "metadata": {
        "id": "HYHlMqcwOJ8y"
      },
      "source": [
        "from scipy.stats import zscore\n",
        "# Panda_nullA.panda_results = pd.DataFrame(Panda_nullA.export_panda_results, columns=['tf','gene','motif','force'])\n",
        "subset_panda_results3 = Panda_FcontFULL.sort_values(by=['force'], ascending=False)\n",
        "# subset_panda_results3['merge']=subset_panda_results3.tf+'-'+subset_panda_results3.gene\n",
        "\n",
        "# Panda_nullB.panda_results = pd.DataFrame(Panda_nullB.export_panda_results, columns=['tf','gene','motif','force'])\n",
        "subset_panda_results1 = Panda_FcaseFULL.sort_values(by=['force'], ascending=False)\n",
        "# subset_panda_results1['merge']=subset_panda_results1.tf+'-'+subset_panda_results1.gene\n",
        "del subset_panda_results3['motif'],subset_panda_results1['motif']\n",
        "TFsum_3=subset_panda_results3.groupby(['tf']).agg({'force':sum})\n",
        "TFsum_1=subset_panda_results1.groupby(['tf']).agg({'force':sum})\n",
        "TFsum_1['force']=zscore(TFsum_1['force'])\n",
        "TFsum_3['force']=zscore(TFsum_3['force']) ##reduces range from 1500 to 3\n",
        "\n",
        "geneSum_3=subset_panda_results3.groupby(['gene']).agg({'force':sum})\n",
        "geneSum_1=subset_panda_results1.groupby(['gene']).agg({'force':sum})\n",
        "geneSum_3['force']=zscore(geneSum_3['force'])\n",
        "geneSum_1['force']=zscore(geneSum_1['force'])\n",
        "\n",
        "mmm=TFsum_3.merge(TFsum_1, left_on=['tf'], right_on=['tf'])\n",
        "mmmm=geneSum_3.merge(geneSum_1, left_on=['gene'], right_on=['gene'])\n",
        "\n",
        "del [[subset_panda_results3, subset_panda_results1,Panda_FcontFULL,Panda_FcaseFULL]]\n",
        "gc.collect()\n",
        "subset_panda_results3=pd.DataFrame()\n",
        "subset_panda_results1=pd.DataFrame()\n",
        "Panda_FcontFULL=pd.DataFrame()\n",
        "Panda_FcontFULL=pd.DataFrame()\n",
        "\n",
        "\n",
        "mmm['diff']=mmm.force_x-mmm.force_y\n",
        "mmm = mmm.sort_values(by ='diff' )\n",
        "\n",
        "\n",
        "mmmm['diff']=mmmm.force_x-mmmm.force_y\n",
        "mmmm = mmmm.sort_values(by ='diff' )\n",
        "mmm.to_csv('drive/My Drive/TF_zscore_F.txt',sep='\\t')\n",
        "mmmm.to_csv('drive/My Drive/gene_zscore_F.txt',sep='\\t')"
      ],
      "execution_count": null,
      "outputs": []
    },
    {
      "cell_type": "markdown",
      "metadata": {
        "id": "MjWLN5s8P_00"
      },
      "source": [
        "##TF and gene specific zscore diff M"
      ]
    },
    {
      "cell_type": "code",
      "metadata": {
        "id": "jDy-eg-IPuGE"
      },
      "source": [
        "# Panda_nullA.panda_results = pd.DataFrame(Panda_nullA.export_panda_results, columns=['tf','gene','motif','force'])\n",
        "subset_panda_results3 = Panda_Mcont.sort_values(by=['force'], ascending=False)\n",
        "# subset_panda_results3['merge']=subset_panda_results3.tf+'-'+subset_panda_results3.gene\n",
        "\n",
        "# Panda_nullB.panda_results = pd.DataFrame(Panda_nullB.export_panda_results, columns=['tf','gene','motif','force'])\n",
        "subset_panda_results1 = Panda_Mcase.sort_values(by=['force'], ascending=False)\n",
        "# subset_panda_results1['merge']=subset_panda_results1.tf+'-'+subset_panda_results1.gene\n",
        "del subset_panda_results3['motif'],subset_panda_results1['motif']\n",
        "TFsum_3=subset_panda_results3.groupby(['tf']).agg({'force':sum})\n",
        "TFsum_1=subset_panda_results1.groupby(['tf']).agg({'force':sum})\n",
        "TFsum_1['force']=zscore(TFsum_1['force'])\n",
        "TFsum_3['force']=zscore(TFsum_3['force'])\n",
        "\n",
        "geneSum_3=subset_panda_results3.groupby(['gene']).agg({'force':sum})\n",
        "geneSum_1=subset_panda_results1.groupby(['gene']).agg({'force':sum})\n",
        "geneSum_3['force']=zscore(geneSum_3['force'])\n",
        "geneSum_1['force']=zscore(geneSum_1['force'])\n",
        "\n",
        "nnn=TFsum_3.merge(TFsum_1, left_on=['tf'], right_on=['tf'])\n",
        "nnnn=geneSum_3.merge(geneSum_1, left_on=['gene'], right_on=['gene'])\n",
        "\n",
        "del [[subset_panda_results3, subset_panda_results1,Panda_Mcont,Panda_Mcase]]\n",
        "gc.collect()\n",
        "subset_panda_results3=pd.DataFrame()\n",
        "subset_panda_results1=pd.DataFrame()\n",
        "Panda_Mcont=pd.DataFrame()\n",
        "Panda_Mcase=pd.DataFrame()\n",
        "\n",
        "nnn['diff']=nnn.force_x-nnn.force_y\n",
        "nnn = nnn.sort_values(by ='diff' )\n",
        "\n",
        "nnnn['diff']=nnnn.force_x-nnnn.force_y\n",
        "nnnn = nnnn.sort_values(by ='diff' )\n",
        "nnn.to_csv('drive/My Drive/TF_zscore_M.txt',sep='\\t')\n",
        "nnnn.to_csv('drive/My Drive/gene_zscore_M.txt',sep='\\t')"
      ],
      "execution_count": null,
      "outputs": []
    },
    {
      "cell_type": "code",
      "metadata": {
        "id": "zpinAPt6XgjN",
        "colab": {
          "base_uri": "https://localhost:8080/",
          "height": 299
        },
        "outputId": "27ec4273-84b0-4a4d-c3e3-ce3e8ff28b92"
      },
      "source": [
        "sex_tf_diff=mmm.merge(nnn,on='tf')\n",
        "a=plt.hist(sex_tf_diff['diff_x'],bins=100,label='male')\n",
        "b=plt.hist(sex_tf_diff['diff_y'],bins=100,label='female')\n",
        "plt.title('Sex-specific Ca-Co TF degree diff')\n",
        "plt.legend(loc=\"best\")"
      ],
      "execution_count": null,
      "outputs": [
        {
          "output_type": "execute_result",
          "data": {
            "text/plain": [
              "<matplotlib.legend.Legend at 0x7fc8c41cb910>"
            ]
          },
          "metadata": {
            "tags": []
          },
          "execution_count": 13
        },
        {
          "output_type": "display_data",
          "data": {
            "image/png": "[encoded data removed]",
            "text/plain": [
              "<Figure size 432x288 with 1 Axes>"
            ]
          },
          "metadata": {
            "tags": [],
            "needs_background": "light"
          }
        }
      ]
    },
    {
      "cell_type": "code",
      "metadata": {
        "colab": {
          "base_uri": "https://localhost:8080/"
        },
        "id": "6o_WFyXK_jOR",
        "outputId": "e82b29af-ee91-4c5c-8c9a-2043d54da6ad"
      },
      "source": [
        "[sex_tf_diff[(sex_tf_diff['diff_y'])>.4].index.values,sex_tf_diff[(sex_tf_diff['diff_y'])<-0.5].index.values] #,sex_tf_diff[np.abs(sex_tf_diff['diff_y'])>.4].tf]"
      ],
      "execution_count": null,
      "outputs": [
        {
          "output_type": "execute_result",
          "data": {
            "text/plain": [
              "[array(['MEF2A', 'ZFHX3', 'POU2F2', 'HOXD9', 'POU4F1', 'DMRTC2', 'HMG20B',\n",
              "        'POU1F1', 'POU3F1', 'LHX3', 'NKX6-1', 'LIN54', 'MSX2', 'ZNF32',\n",
              "        'MSX1', 'DMRT2', 'POU3F3', 'BARX1', 'LHX1', 'POU3F2', 'FOXD2',\n",
              "        'FOXB1', 'TBPL2'], dtype=object),\n",
              " array(['KLF5', 'KLF15', 'KLF1', 'ZEB1', 'MAZ', 'ZNF281', 'ZNF263', 'PURA',\n",
              "        'KLF4', 'SMAD1'], dtype=object)]"
            ]
          },
          "metadata": {
            "tags": []
          },
          "execution_count": 21
        }
      ]
    },
    {
      "cell_type": "code",
      "metadata": {
        "id": "6bJVKb2CX1VJ",
        "colab": {
          "base_uri": "https://localhost:8080/",
          "height": 299
        },
        "outputId": "f42bdbe9-0299-4446-fa20-417bc0a01d74"
      },
      "source": [
        "sex_gene_diff=mmmm.merge(nnnn,on='gene')\n",
        "a=plt.hist(sex_gene_diff['diff_x'],bins=100,label='male')\n",
        "b=plt.hist(sex_gene_diff['diff_y'],bins=100,label='female')\n",
        "plt.title('Sex-specific Ca-Co gene degree diff')\n",
        "plt.legend(loc=\"best\")"
      ],
      "execution_count": null,
      "outputs": [
        {
          "output_type": "execute_result",
          "data": {
            "text/plain": [
              "<matplotlib.legend.Legend at 0x7fc8c30a3090>"
            ]
          },
          "metadata": {
            "tags": []
          },
          "execution_count": 24
        },
        {
          "output_type": "display_data",
          "data": {
            "image/png": "[encoded data removed]",
            "text/plain": [
              "<Figure size 432x288 with 1 Axes>"
            ]
          },
          "metadata": {
            "tags": [],
            "needs_background": "light"
          }
        }
      ]
    },
    {
      "cell_type": "code",
      "metadata": {
        "id": "5OVnHA9AnxI9",
        "colab": {
          "base_uri": "https://localhost:8080/"
        },
        "outputId": "d2e66a6c-b8a4-4f7a-d9c3-3b919141beaf"
      },
      "source": [
        "[sex_gene_diff[(sex_gene_diff['diff_y'])>1].index.values,sex_gene_diff[(sex_gene_diff['diff_y'])<-1].index.values] #,sex_tf_diff[np.abs(sex_tf_diff['diff_y'])>.4].tf]"
      ],
      "execution_count": null,
      "outputs": [
        {
          "output_type": "execute_result",
          "data": {
            "text/plain": [
              "[array(['EFR3B', 'ULK4', 'SYT13', 'PDPN', 'SV2B', 'GRM5', 'RAVER2',\n",
              "        'PTPRN2', 'ZBTB32', 'CPLX2', 'PCDHA1', 'SYN2', 'ADRB2', 'BBS12',\n",
              "        'NR6A1', 'CAMP', 'TMEM9', 'CHRNB3', 'TNP1', 'MUL1', 'PSMG3',\n",
              "        'TSPAN31', 'RPS19', 'TMEM159', 'BTBD9', 'ZNF706', 'CRIPT',\n",
              "        'MRPS36', 'HIRIP3', 'SNAPIN', 'CHRNB4', 'TMEM18', 'BCDIN3D',\n",
              "        'RNF121', 'CXCR1', 'COL9A3', 'CEACAM3', 'TCL6', 'RBP2', 'NAIF1',\n",
              "        'FKBP1B', 'FETUB', 'LOH12CR2', 'SNIP1', 'TP53RK', 'CARD6', 'GZMM',\n",
              "        'ARHGEF3', 'CCR9'], dtype=object),\n",
              " array(['SNORA6', 'HSD17B13', 'PLGLB1', 'FGD2', 'ZMAT3', 'BTAF1',\n",
              "        'DNAJC5B', 'ATF4', 'HNRNPA2B1', 'FCRL4', 'KIF11', 'SNORA4',\n",
              "        'ETFDH', 'GREM1', 'ACO2', 'CD4', 'NBPF10', 'OLAH', 'SNORD10',\n",
              "        'BTN2A1', 'YBX1', 'SFXN3', 'SH2B3', 'CD74', 'CD37', 'CCR4', 'MED1',\n",
              "        'TSTD2', 'NCF1B'], dtype=object)]"
            ]
          },
          "metadata": {
            "tags": []
          },
          "execution_count": 26
        }
      ]
    },
    {
      "cell_type": "code",
      "metadata": {
        "id": "UGv0ho-UzZCg"
      },
      "source": [
        ""
      ],
      "execution_count": null,
      "outputs": []
    },
    {
      "cell_type": "markdown",
      "metadata": {
        "id": "li6B2LG0UJeH"
      },
      "source": [
        "#Run larger COPD panda nets"
      ]
    },
    {
      "cell_type": "code",
      "metadata": {
        "colab": {
          "base_uri": "https://localhost:8080/"
        },
        "id": "vLTfZMr7UNRE",
        "outputId": "49deb17b-56a0-47cd-9fea-5f782d61318d"
      },
      "source": [
        "LTRC_exp=pd.read_csv('drive/My Drive/harvard/LARGE_COPD/age_sex_LTRC_XXX.txt',sep='\\t',index_col=0)\n",
        "LTRC_exp_key=pd.read_csv('drive/My Drive/harvard/LARGE_COPD/age_sex_LTRC_XXXkey.txt',sep='\\t')\n",
        "data=np.divide(LTRC_exp,LTRC_exp_key)\n",
        "data=data.groupby(data.index).mean()"
      ],
      "execution_count": 53,
      "outputs": [
        {
          "output_type": "stream",
          "text": [
            "/usr/local/lib/python3.7/dist-packages/IPython/core/interactiveshell.py:2718: DtypeWarning: Columns (0) have mixed types.Specify dtype option on import or set low_memory=False.\n",
            "  interactivity=interactivity, compiler=compiler, result=result)\n",
            "/usr/local/lib/python3.7/dist-packages/ipykernel_launcher.py:3: RuntimeWarning: invalid value encountered in true_divide\n",
            "  This is separate from the ipykernel package so we can avoid doing imports until\n"
          ],
          "name": "stderr"
        }
      ]
    },
    {
      "cell_type": "code",
      "metadata": {
        "colab": {
          "base_uri": "https://localhost:8080/"
        },
        "id": "1YXUi3ZaYTog",
        "outputId": "6503d6de-b0e9-4deb-ab6a-6c9ba0b9a38d"
      },
      "source": [
        "LTCOPD_genes=pd.read_csv('drive/My Drive/Colab Notebooks/LTCOPD_genes.txt',index_col=None,header=None,sep='\\t')\n",
        "data1=np.log2(data.dropna(how='all'))\n",
        "data1=data1.merge(LTCOPD_genes,left_index=True,right_on=0)\n",
        "data1.index=data1[0]\n",
        "data1.replace([np.inf, -np.inf], np.nan,inplace=True)\n",
        "data1.replace(np.nan, 0,inplace=True)"
      ],
      "execution_count": 54,
      "outputs": [
        {
          "output_type": "stream",
          "text": [
            "/usr/local/lib/python3.7/dist-packages/ipykernel_launcher.py:2: RuntimeWarning: divide by zero encountered in log2\n",
            "  \n"
          ],
          "name": "stderr"
        }
      ]
    },
    {
      "cell_type": "code",
      "metadata": {
        "colab": {
          "base_uri": "https://localhost:8080/"
        },
        "id": "WwUF5dWjWckC",
        "outputId": "b58f89b1-8a00-4a00-945a-0eb80f24a68e"
      },
      "source": [
        "del data1[0]\n",
        "FC=data1.iloc[:,data1.columns.str.contains('_0_1')]\n",
        "FNC=data1.iloc[:,data1.columns.str.contains('_0_0')]\n",
        "MC=data1.iloc[:,data1.columns.str.contains('_1_1')]\n",
        "MNC=data1.iloc[:,data1.columns.str.contains('_1_0')]\n",
        "print([FC.shape,FNC.shape,MC.shape,MNC.shape])\n",
        "# FC.to_csv('drive/My Drive/harvard/LARGE_COPD/FC_exp.txt',sep='\\t',index=True,header=False)\n",
        "# FNC.to_csv('drive/My Drive/harvard/LARGE_COPD/FNC_exp.txt',sep='\\t',index=True,header=False)\n",
        "# MC.to_csv('drive/My Drive/harvard/LARGE_COPD/MC_exp.txt',sep='\\t',index=True,header=False)\n",
        "# MNC.to_csv('drive/My Drive/harvard/LARGE_COPD/MNC_exp.txt',sep='\\t',index=True,header=False)"
      ],
      "execution_count": 56,
      "outputs": [
        {
          "output_type": "stream",
          "text": [
            "[(14212, 272), (14212, 266), (14212, 354), (14212, 211)]\n"
          ],
          "name": "stdout"
        }
      ]
    },
    {
      "cell_type": "code",
      "metadata": {
        "id": "YpwuKCutUNYk"
      },
      "source": [
        "panda_obj1 = Panda('drive/My Drive/harvard/LARGE_COPD/FC_exp.txt', F_motif_data, ppi_data,computing='gpu',precision='single',save_tmp=False,save_memory = False, remove_missing=False, keep_expression_matrix = False,modeProcess = 'intersection')\n",
        "np.save('drive/My Drive/Colab Notebooks/model_output/FC_LTRC.npy',panda_obj1.export_panda_results)\n",
        "del panda_obj1\n",
        "panda_obj2 = Panda('drive/My Drive/harvard/LARGE_COPD/MC_exp.txt', motif_data, ppi_data,computing='gpu',precision='single',save_tmp=False,save_memory = False, remove_missing=False, keep_expression_matrix = False,modeProcess = 'intersection')\n",
        "np.save('drive/My Drive/Colab Notebooks/model_output/MC_LTRC.npy',panda_obj2.export_panda_results)\n",
        "del panda_obj2\n",
        "panda_obj3 = Panda('drive/My Drive/harvard/LARGE_COPD/FNC_exp.txt', F_motif_data, ppi_data,computing='gpu',precision='single',save_tmp=False,save_memory = False, remove_missing=False, keep_expression_matrix = False,modeProcess = 'intersection')\n",
        "np.save('drive/My Drive/Colab Notebooks/model_output/FNC_LTRC.npy',panda_obj3.export_panda_results)\n",
        "del panda_obj3\n",
        "panda_obj4 = Panda('drive/My Drive/harvard/LARGE_COPD/MNC_exp.txt', motif_data, ppi_data,computing='gpu',precision='single',save_tmp=False,save_memory = False, remove_missing=False, keep_expression_matrix = False,modeProcess = 'intersection')\n",
        "np.save('drive/My Drive/Colab Notebooks/model_output/MNC_LTRC.npy',panda_obj4.export_panda_results)\n",
        "del panda_obj4\n",
        "# panda_obj5 = Panda('FcaseFULL.txt', motif_data, ppi_data,computing='gpu',precision='single',save_tmp=False,save_memory = False, remove_missing=False, keep_expression_matrix = True,modeProcess = 'intersection')\n",
        "# np.save('drive/My Drive/Panda_FcaseFULL.npy',panda_obj5.export_panda_results)\n",
        "# del panda_obj5\n",
        "# panda_obj6 = Panda('FcontFULL.txt', motif_data, ppi_data,computing='gpu',precision='single',save_tmp=False,save_memory = False, remove_missing=False, keep_expression_matrix = True,modeProcess = 'intersection')\n",
        "# np.save('drive/My Drive/Panda_FcontFULL.npy',panda_obj6.export_panda_results)\n",
        "# del panda_obj6\n"
      ],
      "execution_count": null,
      "outputs": []
    },
    {
      "cell_type": "markdown",
      "metadata": {
        "id": "Zxe3WSTC1-DT"
      },
      "source": [
        "##MALE"
      ]
    },
    {
      "cell_type": "code",
      "metadata": {
        "id": "vHJnKTZs18US"
      },
      "source": [
        "from scipy.stats import zscore"
      ],
      "execution_count": null,
      "outputs": []
    },
    {
      "cell_type": "code",
      "metadata": {
        "id": "ip6P12IlHUL1"
      },
      "source": [
        "MC=np.load('drive/My Drive/Colab Notebooks/model_output/MC_LTRC.npy',allow_pickle=True)#,sep='\\t',index_col=0,header=None,names=['loc','symbol'])\n",
        "MNC=np.load('drive/My Drive/Colab Notebooks/model_output/MNC_LTRC.npy',allow_pickle=True)#,sep='\\t',index_col=0,header=None,names=['loc','symbol'])\n",
        "MNC=pd.DataFrame(MNC)\n",
        "MNC.columns=['tf','gene','motif','force']\n",
        "MC=pd.DataFrame(MC)\n",
        "MC.columns=['tf','gene','motif','force']"
      ],
      "execution_count": null,
      "outputs": []
    },
    {
      "cell_type": "code",
      "metadata": {
        "id": "PJ0AF5Yk18Wv"
      },
      "source": [
        "TFsum_3=MC.groupby(['tf']).agg({'force':sum})\n",
        "TFsum_1=MNC.groupby(['tf']).agg({'force':sum})\n",
        "TFsum_1['force']=zscore(TFsum_1['force'])\n",
        "TFsum_3['force']=zscore(TFsum_3['force']) ##reduces range from 1500 to 3\n",
        "\n",
        "geneSum_3=MC.groupby(['gene']).agg({'force':sum})\n",
        "geneSum_1=MNC.groupby(['gene']).agg({'force':sum})\n",
        "geneSum_3['force']=zscore(geneSum_3['force'])\n",
        "geneSum_1['force']=zscore(geneSum_1['force'])\n",
        "\n",
        "mmm=TFsum_3.merge(TFsum_1, left_on=['tf'], right_on=['tf'])\n",
        "mmmm=geneSum_3.merge(geneSum_1, left_on=['gene'], right_on=['gene'])\n",
        "\n",
        "# del [[MC, MNC]]\n",
        "# gc.collect()\n",
        "MC=pd.DataFrame()\n",
        "MNC=pd.DataFrame()\n",
        "# Panda_FcontFULL=pd.DataFrame()\n",
        "# Panda_FcontFULL=pd.DataFrame()\n",
        "\n",
        "\n",
        "mmm['diff']=mmm.force_x-mmm.force_y\n",
        "mmm = mmm.sort_values(by ='diff' )\n",
        "\n",
        "\n",
        "mmmm['diff']=mmmm.force_x-mmmm.force_y\n",
        "mmmm = mmmm.sort_values(by ='diff' )\n",
        "mmm.to_csv('drive/My Drive/TF_zscore_M_large.txt',sep='\\t')\n",
        "mmmm.to_csv('drive/My Drive/gene_zscore_M_large.txt',sep='\\t')"
      ],
      "execution_count": null,
      "outputs": []
    },
    {
      "cell_type": "markdown",
      "metadata": {
        "id": "YuTypM6n2O4m"
      },
      "source": [
        "##FEMALE"
      ]
    },
    {
      "cell_type": "code",
      "metadata": {
        "id": "0I2e9ghc2NxO"
      },
      "source": [
        "FC=np.load('drive/My Drive/Colab Notebooks/model_output/FC_LTRC.npy',allow_pickle=True)#,sep='\\t',index_col=0,header=None,names=['loc','symbol'])\n",
        "FNC=np.load('drive/My Drive/Colab Notebooks/model_output/FNC_LTRC.npy',allow_pickle=True)#,sep='\\t',index_col=0,header=None,names=['loc','symbol'])\n",
        "FNC=pd.DataFrame(FNC)\n",
        "FNC.columns=['tf','gene','motif','force']\n",
        "FC=pd.DataFrame(FC)\n",
        "FC.columns=['tf','gene','motif','force']"
      ],
      "execution_count": null,
      "outputs": []
    },
    {
      "cell_type": "code",
      "metadata": {
        "id": "j8RTpBG718ZT"
      },
      "source": [
        "TFsum_4=FC.groupby(['tf']).agg({'force':sum})\n",
        "TFsum_2=FNC.groupby(['tf']).agg({'force':sum})\n",
        "TFsum_2['force']=zscore(TFsum_2['force'])\n",
        "TFsum_4['force']=zscore(TFsum_4['force']) ##reduces range from 2500 to 4\n",
        "\n",
        "geneSum_4=FC.groupby(['gene']).agg({'force':sum})\n",
        "geneSum_2=FNC.groupby(['gene']).agg({'force':sum})\n",
        "geneSum_4['force']=zscore(geneSum_4['force'])\n",
        "geneSum_2['force']=zscore(geneSum_2['force'])\n",
        "\n",
        "nnn=TFsum_4.merge(TFsum_2, left_on=['tf'], right_on=['tf'])\n",
        "nnnn=geneSum_4.merge(geneSum_2, left_on=['gene'], right_on=['gene'])\n",
        "\n",
        "# del [[FC, FNC]]\n",
        "# gc.collect()\n",
        "FC=pd.DataFrame()\n",
        "FNC=pd.DataFrame()\n",
        "Panda_FcontFULL=pd.DataFrame()\n",
        "Panda_FcontFULL=pd.DataFrame()\n",
        "\n",
        "\n",
        "nnn['diff']=nnn.force_x-nnn.force_y\n",
        "nnn = nnn.sort_values(by ='diff' )\n",
        "\n",
        "\n",
        "nnnn['diff']=mmmm.force_x-nnnn.force_y\n",
        "nnnn = nnnn.sort_values(by ='diff' )\n",
        "nnn.to_csv('drive/My Drive/TF_zscore_F_large.txt',sep='\\t')\n",
        "nnnn.to_csv('drive/My Drive/gene_zscore_F_large.txt',sep='\\t')"
      ],
      "execution_count": null,
      "outputs": []
    },
    {
      "cell_type": "code",
      "metadata": {
        "colab": {
          "base_uri": "https://localhost:8080/",
          "height": 299
        },
        "id": "yfzCpS_Vh-8i",
        "outputId": "d5f2a921-ccc5-4992-ea47-ec10cb1e9caf"
      },
      "source": [
        "sex_tf_diff=mmm.merge(nnn,on='tf')\n",
        "a=plt.hist(sex_tf_diff['diff_x'],bins=100,label='male')\n",
        "b=plt.hist(sex_tf_diff['diff_y'],bins=100,label='female')\n",
        "plt.title('Sex-specific Ca-Co TF degree diff')\n",
        "plt.legend(loc=\"best\")"
      ],
      "execution_count": null,
      "outputs": [
        {
          "output_type": "execute_result",
          "data": {
            "text/plain": [
              "<matplotlib.legend.Legend at 0x7efb38d512d0>"
            ]
          },
          "metadata": {
            "tags": []
          },
          "execution_count": 10
        },
        {
          "output_type": "display_data",
          "data": {
            "image/png": "[encoded data removed]",
            "text/plain": [
              "<Figure size 432x288 with 1 Axes>"
            ]
          },
          "metadata": {
            "tags": [],
            "needs_background": "light"
          }
        }
      ]
    },
    {
      "cell_type": "code",
      "metadata": {
        "colab": {
          "base_uri": "https://localhost:8080/"
        },
        "id": "iKttBxA2inFY",
        "outputId": "a3aa824d-86dd-4987-a51e-73c0da6ae619"
      },
      "source": [
        "[sex_tf_diff[(sex_tf_diff['diff_y'])>.15].index.values,sex_tf_diff[(sex_tf_diff['diff_y'])<-0.15].index.values] #,sex_tf_diff[np.abs(sex_tf_diff['diff_y'])>.4].tf]"
      ],
      "execution_count": null,
      "outputs": [
        {
          "output_type": "execute_result",
          "data": {
            "text/plain": [
              "[array(['SP3', 'SP1', 'WT1', 'GABPA', 'ELK4', 'SP4', 'ETS1', 'KLF16',\n",
              "        'ZNF143', 'PLAGL1', 'KLF5', 'ZFX', 'SPDEF', 'KLF8', 'HIC2', 'SPIB',\n",
              "        'ELF1', 'HIVEP2', 'CTCFL', 'E2F6', 'ESR2', 'NR2C1', 'ELK3',\n",
              "        'ZNF148', 'KLF14', 'SP8', 'RFX2', 'ZNF219', 'TCF3', 'YBX1', 'NFYC',\n",
              "        'ETS2', 'HSF1', 'NEUROD1', 'REST', 'CEBPZ', 'TFAP2A', 'TFAP2C',\n",
              "        'RXRG', 'KLF3', 'NHLH2', 'NR4A3', 'HNF4G', 'MAZ', 'ZNF281', 'NFYB',\n",
              "        'PURA', 'ESRRB', 'NR5A1', 'ZNF263', 'SMAD1', 'TWIST1', 'RREB1',\n",
              "        'KLF4', 'MXI1', 'KLF1', 'ZEB1'], dtype=object),\n",
              " array(['NKX6-1', 'ARX', 'HOXD9', 'PROP1', 'DMRTC2', 'ALX1', 'SOX21',\n",
              "        'ZFHX3', 'POU4F2', 'HOXD10', 'DLX1', 'NRL', 'NKX2-2', 'FOXI1',\n",
              "        'CPEB1', 'NFE2', 'BARHL2', 'MEF2A', 'HOXC6', 'GATA5', 'LHX3',\n",
              "        'ONECUT2', 'FOXL1', 'HMX1', 'LHX1', 'HHEX', 'BARX1', 'CDC5L',\n",
              "        'PDX1', 'NFATC2', 'PBX2', 'HMG20B', 'NR2E1', 'FOXB1', 'POU3F1',\n",
              "        'SOX3', 'POU3F3', 'LIN54', 'HNF1A', 'FOXF2', 'SIX3', 'RUNX1'],\n",
              "       dtype=object)]"
            ]
          },
          "metadata": {
            "tags": []
          },
          "execution_count": 17
        }
      ]
    },
    {
      "cell_type": "code",
      "metadata": {
        "colab": {
          "base_uri": "https://localhost:8080/",
          "height": 299
        },
        "id": "aF1WWreTiv0q",
        "outputId": "9bb938fd-b4ad-4b4f-e7ea-274862c56714"
      },
      "source": [
        "sex_gene_diff=mmmm.merge(nnnn,on='gene')\n",
        "a=plt.hist(sex_gene_diff['diff_x'],bins=100,label='male')\n",
        "b=plt.hist(sex_gene_diff['diff_y'],bins=100,label='female')\n",
        "plt.title('Sex-specific Ca-Co gene degree diff')\n",
        "# plt.xlim(.1,-0.1)\n",
        "plt.legend(loc=\"best\")"
      ],
      "execution_count": null,
      "outputs": [
        {
          "output_type": "execute_result",
          "data": {
            "text/plain": [
              "<matplotlib.legend.Legend at 0x7efae8c24710>"
            ]
          },
          "metadata": {
            "tags": []
          },
          "execution_count": 12
        },
        {
          "output_type": "display_data",
          "data": {
            "image/png": "[encoded data removed]",
            "text/plain": [
              "<Figure size 432x288 with 1 Axes>"
            ]
          },
          "metadata": {
            "tags": [],
            "needs_background": "light"
          }
        }
      ]
    },
    {
      "cell_type": "code",
      "metadata": {
        "colab": {
          "base_uri": "https://localhost:8080/"
        },
        "id": "ghzaypLjiv3d",
        "outputId": "3f94a81c-81d5-479b-a50a-3c744595dba0"
      },
      "source": [
        "[sex_gene_diff[(sex_gene_diff['diff_y'])>1].index.values,sex_gene_diff[(sex_gene_diff['diff_y'])<-1].index.values] #,sex_tf_diff[np.abs(sex_tf_diff['diff_y'])>.4].tf]"
      ],
      "execution_count": null,
      "outputs": [
        {
          "output_type": "execute_result",
          "data": {
            "text/plain": [
              "[array(['MCM3', 'APBA2', 'CD14'], dtype=object),\n",
              " array(['SLC10A4', 'GCLM', 'PEX13', 'CCNG2', 'HMGN4', 'GPX5', 'OTUD6B',\n",
              "        'IFI27', 'TMEM167B', 'APOL3', 'BMPR1A', 'SLC35D2', 'PGM2', 'CISD2',\n",
              "        'LLPH', 'PGAM1', 'HLA-DQB2', 'GSG1', 'RNF170', 'GIMAP5', 'RARRES3',\n",
              "        'VTI1A'], dtype=object)]"
            ]
          },
          "metadata": {
            "tags": []
          },
          "execution_count": 18
        }
      ]
    },
    {
      "cell_type": "code",
      "metadata": {
        "id": "BYBNb5uC18b9"
      },
      "source": [
        "ff=pd.read_csv('drive/My Drive/TF_zscore_F_large.txt',sep='\\t',header=0)\n",
        "fff=pd.read_csv('drive/My Drive/gene_zscore_F_large.txt',sep='\\t',header=0)\n",
        "mm=pd.read_csv('drive/My Drive/TF_zscore_M_large.txt',sep='\\t',header=0)\n",
        "mmm=pd.read_csv('drive/My Drive/gene_zscore_M_large.txt',sep='\\t',header=0)\n",
        "sex_tf_diff=ff.merge(mm,on='tf')\n",
        "\n",
        "# a=plt.hist(sex_tf_diff['diff_x'],bins=100,label='female')\n",
        "# b=plt.hist(sex_tf_diff['diff_y'],bins=100,label='male')\n",
        "# plt.title('LTRC Sex-specific Ca-Co TF degree diff')\n",
        "# plt.legend(loc=\"best\")\n",
        "\n",
        "# [sex_tf_diff[(sex_tf_diff['diff_y'])>.1].TF.values,sex_tf_diff[(sex_tf_diff['diff_y'])<-0.1].TF.values] #,sex_tf_diff[np.abs(sex_tf_diff['diff_y'])>.4].tf]\n",
        "\n",
        "sex_tf_diff.columns=['TF','F_case','F_cont','Fdiff','M_case','M_cont','Mdiff']\n",
        "sex_tf_diff.to_csv('drive/My Drive/TF_sex_diff.txt',sep='\\t',index=0)\n",
        "\n",
        "\n",
        "sex_gene_diff=fff.merge(mmm,on='gene')\n",
        "sex_gene_diff.columns=['gene','F_case','F_cont','Fdiff','M_case','M_cont','Mdiff']\n",
        "sex_gene_diff.to_csv('drive/My Drive/gene_sex_diff.txt',sep='\\t',index=0)\n"
      ],
      "execution_count": null,
      "outputs": []
    },
    {
      "cell_type": "markdown",
      "metadata": {
        "id": "GVU9Aj9nKFMi"
      },
      "source": [
        "##Compare All"
      ]
    },
    {
      "cell_type": "code",
      "metadata": {
        "id": "C48pnadvmaSn"
      },
      "source": [
        "ff=pd.read_csv('drive/My Drive/TF_zscore_F.txt',sep='\\t',header=0)\n",
        "fff=pd.read_csv('drive/My Drive/gene_zscore_F.txt',sep='\\t',header=0)\n",
        "mm=pd.read_csv('drive/My Drive/TF_zscore_M.txt',sep='\\t',header=0)\n",
        "mmm=pd.read_csv('drive/My Drive/gene_zscore_M.txt',sep='\\t',header=0)\n",
        "\n",
        "sex_tf_diffB=ff.merge(mm,on='tf')\n",
        "sex_tf_diffB.columns=['TF','F_case','F_cont','Fdiff','M_case','M_cont','Mdiff']\n",
        "# sex_tf_diffB.to_csv('drive/My Drive/TF_sex_diff.txt',sep='\\t',index=0)\n",
        "\n",
        "\n",
        "sex_gene_diffB=fff.merge(mmm,on='gene')\n",
        "sex_gene_diffB.columns=['gene','F_case','F_cont','Fdiff','M_case','M_cont','Mdiff']\n",
        "# sex_gene_diffB.to_csv('drive/My Drive/gene_sex_diff.txt',sep='\\t',index=0)\n"
      ],
      "execution_count": 4,
      "outputs": []
    },
    {
      "cell_type": "code",
      "metadata": {
        "id": "NveSiy0iPzrV"
      },
      "source": [
        "ff=pd.read_csv('drive/My Drive/TF_zscore_F_large.txt',sep='\\t',header=0)\n",
        "fff=pd.read_csv('drive/My Drive/gene_zscore_F_large.txt',sep='\\t',header=0)\n",
        "mm=pd.read_csv('drive/My Drive/TF_zscore_M_large.txt',sep='\\t',header=0)\n",
        "mmm=pd.read_csv('drive/My Drive/gene_zscore_M_large.txt',sep='\\t',header=0)\n",
        "\n",
        "sex_tf_diffA=ff.merge(mm,on='tf')\n",
        "sex_tf_diffA.columns=['TF','F_case','F_cont','Fdiff','M_case','M_cont','Mdiff']\n",
        "# sex_tf_diffA.to_csv('drive/My Drive/TF_sex_diff.txt',sep='\\t',index=0)\n",
        "\n",
        "\n",
        "sex_gene_diffA=fff.merge(mmm,on='gene')\n",
        "sex_gene_diffA.columns=['gene','F_case','F_cont','Fdiff','M_case','M_cont','Mdiff']\n",
        "# sex_gene_diffA.to_csv('drive/My Drive/gene_sex_diff.txt',sep='\\t',index=0)\n"
      ],
      "execution_count": 5,
      "outputs": []
    },
    {
      "cell_type": "code",
      "metadata": {
        "id": "RfMTLa5oSOWb"
      },
      "source": [
        "sex_tf_diffA=sex_tf_diffA.sort_values('TF')\n",
        "sex_tf_diffB=sex_tf_diffB.sort_values('TF')\n",
        "sex_gene_diffA=sex_gene_diffA.sort_values('gene')\n",
        "sex_gene_diffB=sex_gene_diffB.sort_values('gene')"
      ],
      "execution_count": 6,
      "outputs": []
    },
    {
      "cell_type": "code",
      "metadata": {
        "id": "UuHf6a_xRWiH",
        "colab": {
          "base_uri": "https://localhost:8080/",
          "height": 297
        },
        "outputId": "06835ed4-6a92-4d18-d014-a44b41ed3860"
      },
      "source": [
        "# plt.figure(figsize=(20, 4))\n",
        "# p1=plt.bar(sex_tf_diffB.index,sex_tf_diffB['Mdiff'])\n",
        "# p2=plt.bar(sex_tf_diffA.index,sex_tf_diffA['Mdiff'],bottom=sex_tf_diffB['Mdiff']) \n",
        "# p3=plt.bar(sex_tf_diffB.index,sex_tf_diffB['Fdiff'])\n",
        "# p4=plt.bar(sex_tf_diffA.index,sex_tf_diffA['Fdiff'],bottom=sex_tf_diffB['Fdiff'])\n",
        "# plt.legend((p1[0], p2[0],p3[0],p4[0]), ('smallMen', 'largeMen','smallWomen','largeWomen'))\n",
        "\n",
        "p1=plt.scatter(sex_tf_diffB['Mdiff'],-sex_tf_diffA['Mdiff'],alpha=.5) ## minus because one is case-control, other control-case!!\n",
        "p2=plt.scatter(sex_tf_diffB['Fdiff'],-sex_tf_diffA['Fdiff'],alpha=.25)\n",
        "plt.ylabel('LTRC control-case TF targeting diff')\n",
        "plt.xlabel('LTCOPD control-case TF targeting diff')\n",
        "plt.legend((p1, p2),('Male','Female'))"
      ],
      "execution_count": 7,
      "outputs": [
        {
          "output_type": "execute_result",
          "data": {
            "text/plain": [
              "<matplotlib.legend.Legend at 0x7f14d54dc690>"
            ]
          },
          "metadata": {
            "tags": []
          },
          "execution_count": 7
        },
        {
          "output_type": "display_data",
          "data": {
            "image/png": "[encoded data removed]",
            "text/plain": [
              "<Figure size 432x288 with 1 Axes>"
            ]
          },
          "metadata": {
            "tags": [],
            "needs_background": "light"
          }
        }
      ]
    },
    {
      "cell_type": "code",
      "metadata": {
        "id": "W3hk1uI371MZ"
      },
      "source": [
        "# from scipy.stats import spearmanr\n",
        "# from scipy.stats import zscore"
      ],
      "execution_count": 28,
      "outputs": []
    },
    {
      "cell_type": "code",
      "metadata": {
        "colab": {
          "base_uri": "https://localhost:8080/"
        },
        "id": "Isfn3xR68MG5",
        "outputId": "c620cc91-7bbb-467d-8147-99183b4b403e"
      },
      "source": [
        "rhoM, pvalM = np.corrcoef(sex_tf_diffB['Mdiff'], -sex_tf_diffA['Mdiff'])\n",
        "# pvalM\n",
        "rhoF, pvalF = np.corrcoef(sex_tf_diffB['Fdiff'], -sex_tf_diffA['Fdiff'])\n",
        "# pvalF\n",
        "print([pvalM[0],pvalF[0]])\n",
        "\n",
        "rhoM, pvalM = stats.spearmanr(sex_tf_diffB['Mdiff'], -sex_tf_diffA['Mdiff'])\n",
        "# pvalM\n",
        "rhoF, pvalF = stats.spearmanr(sex_tf_diffB['Fdiff'], -sex_tf_diffA['Fdiff'])\n",
        "# pvalF\n",
        "print([pvalM,pvalF])"
      ],
      "execution_count": 36,
      "outputs": [
        {
          "output_type": "stream",
          "text": [
            "[0.5452874371806159, 0.8495012710209533]\n",
            "[9.099787198051655e-48, 7.783961159174113e-181]\n"
          ],
          "name": "stdout"
        }
      ]
    },
    {
      "cell_type": "code",
      "metadata": {
        "colab": {
          "base_uri": "https://localhost:8080/"
        },
        "id": "Bb1nkHAEyjef",
        "outputId": "361fb1ac-b1ce-4b33-8f1c-737eb034bb63"
      },
      "source": [
        "[sex_tf_diffA.sort_values(by='Fdiff')['TF'].values.tolist()[0:5],\n",
        "sex_tf_diffA.sort_values(by='Fdiff')['TF'].values.tolist()[631:636],\n",
        " sex_tf_diffA.sort_values(by='Mdiff')['TF'].values.tolist()[0:5],\n",
        "sex_tf_diffA.sort_values(by='Mdiff')['TF'].values.tolist()[631:636],\n",
        "sex_tf_diffB.sort_values(by='Fdiff')['TF'].values.tolist()[0:5],\n",
        "sex_tf_diffB.sort_values(by='Fdiff')['TF'].values.tolist()[631:636],\n",
        " sex_tf_diffB.sort_values(by='Mdiff')['TF'].values.tolist()[0:5],\n",
        "sex_tf_diffB.sort_values(by='Mdiff')['TF'].values.tolist()[631:636]]"
      ],
      "execution_count": 25,
      "outputs": [
        {
          "output_type": "execute_result",
          "data": {
            "text/plain": [
              "[['ZFHX3', 'HOXD9', 'HOXC6', 'ARX', 'NRL'],\n",
              " ['SP1', 'KLF14', 'MAZ', 'KLF1', 'ZFX'],\n",
              " ['NKX2-8', 'OVOL1', 'E2F2', 'NKX2-3', 'NKX6-1'],\n",
              " ['MZF1', 'MXI1', 'KLF1', 'ZEB1', 'TLX1'],\n",
              " ['ZFX', 'KLF5', 'KLF15', 'SP1', 'WT1'],\n",
              " ['LHX1', 'POU3F2', 'FOXD2', 'FOXB1', 'TBPL2'],\n",
              " ['KLF1', 'PURA', 'KLF5', 'KLF15', 'KLF4'],\n",
              " ['DMRTC2', 'BARX1', 'POU3F3', 'HMG20B', 'TBPL2']]"
            ]
          },
          "metadata": {
            "tags": []
          },
          "execution_count": 25
        }
      ]
    },
    {
      "cell_type": "code",
      "metadata": {
        "id": "BX-fd7LAWKqu",
        "colab": {
          "base_uri": "https://localhost:8080/",
          "height": 297
        },
        "outputId": "2041598f-3273-4de4-ae70-82f97f0c5931"
      },
      "source": [
        "p1=plt.scatter(sex_gene_diffB['Mdiff'],sex_gene_diffA['Mdiff'],alpha=.5)\n",
        "p2=plt.scatter(sex_gene_diffB['Fdiff'],sex_gene_diffA['Fdiff'],alpha=.25)\n",
        "plt.ylabel('LTRC control-case gene targeting diff')\n",
        "plt.xlabel('LTCOPD control-case gene targeting diff')\n",
        "plt.legend((p1, p2),('Male','Female'))"
      ],
      "execution_count": 8,
      "outputs": [
        {
          "output_type": "execute_result",
          "data": {
            "text/plain": [
              "<matplotlib.legend.Legend at 0x7f14d550a850>"
            ]
          },
          "metadata": {
            "tags": []
          },
          "execution_count": 8
        },
        {
          "output_type": "display_data",
          "data": {
            "image/png": "[encoded data removed]",
            "text/plain": [
              "<Figure size 432x288 with 1 Axes>"
            ]
          },
          "metadata": {
            "tags": [],
            "needs_background": "light"
          }
        }
      ]
    },
    {
      "cell_type": "code",
      "metadata": {
        "id": "sy02iSVqVD5Z",
        "colab": {
          "base_uri": "https://localhost:8080/"
        },
        "outputId": "066e37ee-7d6e-4c99-cbc4-a41048dfbad1"
      },
      "source": [
        "[sex_gene_diffB['Mdiff'].shape,sex_tf_diffB['Mdiff'].shape]"
      ],
      "execution_count": null,
      "outputs": [
        {
          "output_type": "execute_result",
          "data": {
            "text/plain": [
              "[(13020,), (636,)]"
            ]
          },
          "metadata": {
            "tags": []
          },
          "execution_count": 27
        }
      ]
    },
    {
      "cell_type": "code",
      "metadata": {
        "id": "YZwh6lgMV0nU"
      },
      "source": [
        "sex_tf_diffB.sort_values(by='Mdiff')['TF']#['Mdiff']"
      ],
      "execution_count": null,
      "outputs": []
    },
    {
      "cell_type": "code",
      "metadata": {
        "id": "AHs2Ek1tV-GY"
      },
      "source": [
        "sex_tf_diffA.sort_values(by='Mdiff')['TF']#['Mdiff']"
      ],
      "execution_count": null,
      "outputs": []
    },
    {
      "cell_type": "code",
      "metadata": {
        "id": "hKBhxSYiWJnD"
      },
      "source": [
        "sex_tf_diffB.sort_values(by='Fdiff')['TF']#['Mdiff']"
      ],
      "execution_count": null,
      "outputs": []
    },
    {
      "cell_type": "code",
      "metadata": {
        "id": "c5S3wD9ZW-Jl"
      },
      "source": [
        "sex_tf_diffA.sort_values(by='Fdiff')['TF']#['Mdiff']"
      ],
      "execution_count": null,
      "outputs": []
    },
    {
      "cell_type": "markdown",
      "metadata": {
        "id": "BqkpNZ_qZmzL"
      },
      "source": [
        "####load and compare Clue-Reg results"
      ]
    },
    {
      "cell_type": "code",
      "metadata": {
        "id": "uIiQNdGTZmGP"
      },
      "source": [
        "# LTRC_male=pd.read_csv('drive/My Drive/LARGE_sex_panda/clue-reg_output/LTRC_male.csv',header=0)\n",
        "# LTRC_female=pd.read_csv('drive/My Drive/LARGE_sex_panda/clue-reg_output/LTRC_female.csv',header=0)\n",
        "# LTCOPD_male=pd.read_csv('drive/My Drive/LARGE_sex_panda/clue-reg_output/LTCOPD_male.csv',header=0)\n",
        "# LTCOPD_female=pd.read_csv('drive/My Drive/LARGE_sex_panda/clue-reg_output/LTCOPD_female.csv',header=0)\n",
        "\n",
        "LTRC_male=pd.read_csv('drive/My Drive/Colab Notebooks/GRAND_LTRC_M.csv',header=0)\n",
        "LTRC_female=pd.read_csv('drive/My Drive/Colab Notebooks/GRAND_LTRC_F.csv',header=0)\n",
        "LTCOPD_male=pd.read_csv('drive/My Drive/Colab Notebooks/GRAND_LTCOPD_M.csv',header=0)\n",
        "LTCOPD_female=pd.read_csv('drive/My Drive/Colab Notebooks/GRAND_LTCOPD_F.csv',header=0)\n",
        "female=LTRC_female[['Drug','Overlap','Cosine','P-value']].merge(LTCOPD_female[['Drug','Overlap','Cosine','P-value']],right_on='Drug',left_on='Drug')\n",
        "male=LTRC_male[['Drug','Overlap','Cosine','P-value']].merge(LTCOPD_male[['Drug','Overlap','Cosine','P-value']],right_on='Drug',left_on='Drug')\n"
      ],
      "execution_count": 77,
      "outputs": []
    },
    {
      "cell_type": "code",
      "metadata": {
        "id": "p4R_xVN1ZmOA",
        "colab": {
          "base_uri": "https://localhost:8080/",
          "height": 112
        },
        "outputId": "aebec135-e99b-4107-8bb8-485fd5d4fd0a"
      },
      "source": [
        "female[female['Cosine_x']<-0.15]"
      ],
      "execution_count": 78,
      "outputs": [
        {
          "output_type": "execute_result",
          "data": {
            "text/html": [
              "<div>\n",
              "<style scoped>\n",
              "    .dataframe tbody tr th:only-of-type {\n",
              "        vertical-align: middle;\n",
              "    }\n",
              "\n",
              "    .dataframe tbody tr th {\n",
              "        vertical-align: top;\n",
              "    }\n",
              "\n",
              "    .dataframe thead th {\n",
              "        text-align: right;\n",
              "    }\n",
              "</style>\n",
              "<table border=\"1\" class=\"dataframe\">\n",
              "  <thead>\n",
              "    <tr style=\"text-align: right;\">\n",
              "      <th></th>\n",
              "      <th>Drug</th>\n",
              "      <th>Overlap_x</th>\n",
              "      <th>Cosine_x</th>\n",
              "      <th>P-value_x</th>\n",
              "      <th>Overlap_y</th>\n",
              "      <th>Cosine_y</th>\n",
              "      <th>P-value_y</th>\n",
              "    </tr>\n",
              "  </thead>\n",
              "  <tbody>\n",
              "    <tr>\n",
              "      <th>0</th>\n",
              "      <td>SA-1938219</td>\n",
              "      <td>2.0</td>\n",
              "      <td>-0.1754</td>\n",
              "      <td>0.0023</td>\n",
              "      <td>3.0</td>\n",
              "      <td>-0.2631</td>\n",
              "      <td>0.0</td>\n",
              "    </tr>\n",
              "    <tr>\n",
              "      <th>1</th>\n",
              "      <td>MD-II-051</td>\n",
              "      <td>6.0</td>\n",
              "      <td>-0.1747</td>\n",
              "      <td>0.0000</td>\n",
              "      <td>4.0</td>\n",
              "      <td>-0.1164</td>\n",
              "      <td>0.0</td>\n",
              "    </tr>\n",
              "  </tbody>\n",
              "</table>\n",
              "</div>"
            ],
            "text/plain": [
              "         Drug  Overlap_x  Cosine_x  P-value_x  Overlap_y  Cosine_y  P-value_y\n",
              "0  SA-1938219        2.0   -0.1754     0.0023        3.0   -0.2631        0.0\n",
              "1   MD-II-051        6.0   -0.1747     0.0000        4.0   -0.1164        0.0"
            ]
          },
          "metadata": {
            "tags": []
          },
          "execution_count": 78
        }
      ]
    },
    {
      "cell_type": "code",
      "metadata": {
        "id": "EdUTYAZ8b0Y3",
        "colab": {
          "base_uri": "https://localhost:8080/",
          "height": 238
        },
        "outputId": "76697a6e-31b7-4754-80f7-53f7fa3af09e"
      },
      "source": [
        "male[male['Cosine_x']<-0.15]"
      ],
      "execution_count": 80,
      "outputs": [
        {
          "output_type": "execute_result",
          "data": {
            "text/html": [
              "<div>\n",
              "<style scoped>\n",
              "    .dataframe tbody tr th:only-of-type {\n",
              "        vertical-align: middle;\n",
              "    }\n",
              "\n",
              "    .dataframe tbody tr th {\n",
              "        vertical-align: top;\n",
              "    }\n",
              "\n",
              "    .dataframe thead th {\n",
              "        text-align: right;\n",
              "    }\n",
              "</style>\n",
              "<table border=\"1\" class=\"dataframe\">\n",
              "  <thead>\n",
              "    <tr style=\"text-align: right;\">\n",
              "      <th></th>\n",
              "      <th>Drug</th>\n",
              "      <th>Overlap_x</th>\n",
              "      <th>Cosine_x</th>\n",
              "      <th>P-value_x</th>\n",
              "      <th>Overlap_y</th>\n",
              "      <th>Cosine_y</th>\n",
              "      <th>P-value_y</th>\n",
              "    </tr>\n",
              "  </thead>\n",
              "  <tbody>\n",
              "    <tr>\n",
              "      <th>0</th>\n",
              "      <td>Flumequine</td>\n",
              "      <td>3.0</td>\n",
              "      <td>-0.2449</td>\n",
              "      <td>0.0000</td>\n",
              "      <td>2.0</td>\n",
              "      <td>-0.1721</td>\n",
              "      <td>0.0022</td>\n",
              "    </tr>\n",
              "    <tr>\n",
              "      <th>1</th>\n",
              "      <td>Acetohexamide</td>\n",
              "      <td>1.0</td>\n",
              "      <td>-0.1826</td>\n",
              "      <td>0.0000</td>\n",
              "      <td>2.0</td>\n",
              "      <td>-0.3849</td>\n",
              "      <td>0.0000</td>\n",
              "    </tr>\n",
              "    <tr>\n",
              "      <th>2</th>\n",
              "      <td>Flumethasone</td>\n",
              "      <td>3.0</td>\n",
              "      <td>-0.1762</td>\n",
              "      <td>0.0000</td>\n",
              "      <td>4.0</td>\n",
              "      <td>-0.2476</td>\n",
              "      <td>0.0000</td>\n",
              "    </tr>\n",
              "    <tr>\n",
              "      <th>3</th>\n",
              "      <td>SA-1938219</td>\n",
              "      <td>2.0</td>\n",
              "      <td>-0.1754</td>\n",
              "      <td>0.0044</td>\n",
              "      <td>3.0</td>\n",
              "      <td>-0.2774</td>\n",
              "      <td>0.0000</td>\n",
              "    </tr>\n",
              "    <tr>\n",
              "      <th>4</th>\n",
              "      <td>Trimethadione</td>\n",
              "      <td>2.0</td>\n",
              "      <td>-0.1690</td>\n",
              "      <td>0.0000</td>\n",
              "      <td>4.0</td>\n",
              "      <td>-0.3563</td>\n",
              "      <td>0.0000</td>\n",
              "    </tr>\n",
              "    <tr>\n",
              "      <th>5</th>\n",
              "      <td>Chlorhexidine</td>\n",
              "      <td>1.0</td>\n",
              "      <td>-0.1581</td>\n",
              "      <td>0.0010</td>\n",
              "      <td>2.0</td>\n",
              "      <td>-0.3333</td>\n",
              "      <td>0.0028</td>\n",
              "    </tr>\n",
              "  </tbody>\n",
              "</table>\n",
              "</div>"
            ],
            "text/plain": [
              "            Drug  Overlap_x  Cosine_x  ...  Overlap_y  Cosine_y  P-value_y\n",
              "0     Flumequine        3.0   -0.2449  ...        2.0   -0.1721     0.0022\n",
              "1  Acetohexamide        1.0   -0.1826  ...        2.0   -0.3849     0.0000\n",
              "2   Flumethasone        3.0   -0.1762  ...        4.0   -0.2476     0.0000\n",
              "3     SA-1938219        2.0   -0.1754  ...        3.0   -0.2774     0.0000\n",
              "4  Trimethadione        2.0   -0.1690  ...        4.0   -0.3563     0.0000\n",
              "5  Chlorhexidine        1.0   -0.1581  ...        2.0   -0.3333     0.0028\n",
              "\n",
              "[6 rows x 7 columns]"
            ]
          },
          "metadata": {
            "tags": []
          },
          "execution_count": 80
        }
      ]
    },
    {
      "cell_type": "code",
      "metadata": {
        "id": "fPk0WY7zcMOu"
      },
      "source": [
        ""
      ],
      "execution_count": null,
      "outputs": []
    },
    {
      "cell_type": "markdown",
      "metadata": {
        "id": "z6adI-dq2nLT"
      },
      "source": [
        "##MALE V FEMALE CASE"
      ]
    },
    {
      "cell_type": "code",
      "metadata": {
        "id": "3c1UpZUA2r6I"
      },
      "source": [
        "MC=pd.read_csv('drive/My Drive/LARGE_sex_panda/MC_LTRC.txt',names=['TF','gene','motif','force'],sep=' ')\n",
        "FC=pd.read_csv('drive/My Drive/LARGE_sex_panda/FC_LTRC.txt',names=['TF','gene','motif','force'],sep='\\t')\n"
      ],
      "execution_count": null,
      "outputs": []
    },
    {
      "cell_type": "code",
      "metadata": {
        "id": "naPwoh9u2r8y"
      },
      "source": [
        "TFsum_3=MC.groupby(['TF']).agg({'force':sum})\n",
        "TFsum_1=FC.groupby(['TF']).agg({'force':sum})\n",
        "TFsum_1['force']=zscore(TFsum_1['force'])\n",
        "TFsum_3['force']=zscore(TFsum_3['force']) ##reduces range from 1500 to 3\n",
        "\n",
        "geneSum_3=MC.groupby(['gene']).agg({'force':sum})\n",
        "geneSum_1=FC.groupby(['gene']).agg({'force':sum})\n",
        "geneSum_3['force']=zscore(geneSum_3['force'])\n",
        "geneSum_1['force']=zscore(geneSum_1['force'])\n",
        "\n",
        "mmm=TFsum_3.merge(TFsum_1, left_on=['TF'], right_on=['TF'])\n",
        "mmmm=geneSum_3.merge(geneSum_1, left_on=['gene'], right_on=['gene'])\n",
        "\n",
        "# del [[MC, MNC]]\n",
        "# gc.collect()\n",
        "MC=pd.DataFrame()\n",
        "MNC=pd.DataFrame()\n",
        "Panda_FcontFULL=pd.DataFrame()\n",
        "Panda_FcontFULL=pd.DataFrame()\n",
        "\n",
        "\n",
        "mmm['diff']=mmm.force_x-mmm.force_y\n",
        "mmm = mmm.sort_values(by ='diff' )\n",
        "\n",
        "\n",
        "mmmm['diff']=mmmm.force_x-mmmm.force_y\n",
        "mmmm = mmmm.sort_values(by ='diff' )\n",
        "mmm.to_csv('drive/My Drive/LARGE_sex_panda/TF_zscore_Case.txt',sep='\\t')\n",
        "mmmm.to_csv('drive/My Drive/LARGE_sex_panda/gene_zscore_Case.txt',sep='\\t',index=0)"
      ],
      "execution_count": null,
      "outputs": []
    },
    {
      "cell_type": "markdown",
      "metadata": {
        "id": "IXHNorl32sG4"
      },
      "source": [
        "##MALE V FEMALE CONTROL\n"
      ]
    },
    {
      "cell_type": "code",
      "metadata": {
        "id": "-oQfUjiA2uK_"
      },
      "source": [
        "MNC=pd.read_csv('data/LTRC/sex/MNC_LTRC.txt',names=['TF','gene','motif','force'],sep=' ')\n",
        "FNC=pd.read_csv('data/LTRC/sex/FNC_LTRC.txt',names=['TF','gene','motif','force'],sep=' ')"
      ],
      "execution_count": null,
      "outputs": []
    },
    {
      "cell_type": "code",
      "metadata": {
        "id": "PgMYW-dG2uNz"
      },
      "source": [
        "TFsum_4=MNC.groupby(['TF']).agg({'force':sum})\n",
        "TFsum_2=FNC.groupby(['TF']).agg({'force':sum})\n",
        "TFsum_2['force']=zscore(TFsum_2['force'])\n",
        "TFsum_4['force']=zscore(TFsum_4['force']) ##reduces range from 2500 to 4\n",
        "\n",
        "geneSum_4=FNC.groupby(['gene']).agg({'force':sum})\n",
        "geneSum_2=MNC.groupby(['gene']).agg({'force':sum})\n",
        "geneSum_4['force']=zscore(geneSum_4['force'])\n",
        "geneSum_2['force']=zscore(geneSum_2['force'])\n",
        "\n",
        "mmm=TFsum_4.merge(TFsum_2, left_on=['TF'], right_on=['TF'])\n",
        "mmmm=geneSum_4.merge(geneSum_2, left_on=['gene'], right_on=['gene'])\n",
        "\n",
        "# del [[FC, FNC]]\n",
        "# gc.collect()\n",
        "FC=pd.DataFrame()\n",
        "FNC=pd.DataFrame()\n",
        "Panda_FcontFULL=pd.DataFrame()\n",
        "Panda_FcontFULL=pd.DataFrame()\n",
        "\n",
        "\n",
        "mmm['diff']=mmm.force_x-mmm.force_y\n",
        "mmm = mmm.sort_values(by ='diff' )\n",
        "\n",
        "\n",
        "mmmm['diff']=mmmm.force_x-mmmm.force_y\n",
        "mmmm = mmmm.sort_values(by ='diff' )\n",
        "mmm.to_csv('drive/My Drive/LARGE_sex_panda/TF_zscore_Control.txt',sep='\\t')\n",
        "mmmm.to_csv('drive/My Drive/LARGE_sex_panda/gene_zscore_Control.txt',sep='\\t',index=0)"
      ],
      "execution_count": null,
      "outputs": []
    },
    {
      "cell_type": "code",
      "metadata": {
        "id": "TND_Ihrg20_e"
      },
      "source": [
        "ff=pd.read_csv('data/LTRC/sex/TF_zscore_Case.txt',sep='\\t',header=0)\n",
        "fff=pd.read_csv('data/LTRC/sex/gene_zscore_Case.txt',sep='\\t',header=0)\n",
        "mm=pd.read_csv('data/LTRC/sex/TF_zscore_Control.txt',sep='\\t',header=0)\n",
        "mmm=pd.read_csv('data/LTRC/sex/gene_zscore_Control.txt',sep='\\t',header=0)\n",
        "sex_tf_diff=ff.merge(mm,on='TF')\n",
        "\n",
        "a=plt.hist(sex_tf_diff['diff_x'],bins=100,label='Case')\n",
        "b=plt.hist(sex_tf_diff['diff_y'],bins=100,label='Control')\n",
        "plt.title('LTRC Sex-specific Male-Female TF degree diff')\n",
        "plt.legend(loc=\"best\")\n"
      ],
      "execution_count": null,
      "outputs": []
    },
    {
      "cell_type": "code",
      "metadata": {
        "id": "aS_zESgI21Bl"
      },
      "source": [
        ""
      ],
      "execution_count": null,
      "outputs": []
    },
    {
      "cell_type": "markdown",
      "metadata": {
        "id": "O2i3O_AeS-ht"
      },
      "source": [
        "#negative control\n",
        "create 4 randomly chosen subsets to test difference of differences between panda nets\n",
        "\n",
        "use other colab for more memory:\n",
        "https://colab.research.google.com/drive/1ebLeRX6Gwywgs1Yn_gcL8TYufgkfbchX#scrollTo=wS_rwFkacl74\n",
        "\n",
        "\n",
        "\n",
        "\n"
      ]
    },
    {
      "cell_type": "code",
      "metadata": {
        "id": "voahkf1Mxs26"
      },
      "source": [
        "# !pip install GEOparse\n",
        "# import GEOparse\n",
        "# gse = GEOparse.get_GEO(geo=\"GSE76925\", destdir=\"./\")\n",
        "# illumina_labels=pd.read_csv('drive/My Drive/Colab Notebooks dcm/GPL10558_illumina_prb_loc.txt',sep='\\t',index_col=0,header=None,names=['loc','symbol'])\n",
        "\n",
        "# gpl = gse.gpls[next(iter(gse.gpls))]\n",
        "# data = gse.pivot_samples(values=\"VALUE\")#, gpl=gpl, annotation_column=\"Symbol\")\n",
        "# data.sort_index\n",
        "\n",
        "LCL_ppi=pd.read_csv('https://granddb.s3.amazonaws.com/optPANDA/ppi/ppi_complete.txt',sep='\\t',header=None)\n",
        "LCL_ppi.to_csv('drive/My Drive/ppi_complete.txt',sep='\\t',index=False,header=False)\n",
        "\n",
        "coding_LCL_motif=pd.read_csv('https://granddb.s3.amazonaws.com/optPANDA/motifs/Hugo_motifCellLine.txt',sep='\\t',header=None)\n",
        "coding_LCL_motif.to_csv('drive/My Drive/coding_LCL_motif.txt',sep='\\t',index=False,header=False)\n",
        "\n",
        "motif_data='drive/My Drive/Colab Notebooks/coding_LCL_motif.txt'\n",
        "ppi_data='drive/My Drive/Colab Notebooks/ppi_complete.txt'\n",
        "\n",
        "# plt.hist(nullA.values.flatten(),alpha=.5,log=True)\n",
        "# plt.hist(nullB.values.flatten(),alpha=.5,log=True)\n",
        "# plt.hist(nullC.values.flatten(),alpha=.5,log=True)\n",
        "# plt.hist(nullD.values.flatten(),alpha=.5,log=True)\n",
        "# plt.xlabel('test')\n"
      ],
      "execution_count": 96,
      "outputs": []
    },
    {
      "cell_type": "code",
      "metadata": {
        "id": "id-MeAb2xupv"
      },
      "source": [
        "null=data.merge(illumina_labels,left_index=True,right_index=True)\n",
        "null.index=null['symbol']\n",
        "del null['loc'], null['symbol']"
      ],
      "execution_count": null,
      "outputs": []
    },
    {
      "cell_type": "code",
      "metadata": {
        "id": "XE4_CjD6xw33"
      },
      "source": [
        "def negCont(nullA,nullB,i):\n",
        "  panda_nullA = Panda(nullA, motif_data, ppi_data,computing='gpu',precision='single',save_tmp=False,save_memory = True, remove_missing=False, keep_expression_matrix = False,modeProcess = 'intersection')\n",
        "  # np.save('drive/My Drive/Panda_nullA.npy',panda_nullA.export_panda_results)\n",
        "  panda_nullB = Panda(nullB, motif_data, ppi_data,computing='gpu',precision='single',save_tmp=False,save_memory = True, remove_missing=False, keep_expression_matrix = False,modeProcess = 'intersection')\n",
        "  # np.save('drive/My Drive/Panda_nullB.npy',panda_nullB.export_panda_results)\n",
        "\n",
        "  subset_panda_results3 = panda_nullA.export_panda_results.sort_values(by=['force'], ascending=False)\n",
        "  subset_panda_results1 = panda_nullB.export_panda_results.sort_values(by=['force'], ascending=False)\n",
        "  del subset_panda_results3['motif'],subset_panda_results1['motif']\n",
        "  del panda_nullA, panda_nullB\n",
        "\n",
        "  ##aggregate TF link sum and zscore\n",
        "  TFsum_3=subset_panda_results3.groupby(['tf']).agg({'force':sum})\n",
        "  TFsum_1=subset_panda_results1.groupby(['tf']).agg({'force':sum})\n",
        "  TFsum_1['force']=zscore(TFsum_1['force'])\n",
        "  TFsum_3['force']=zscore(TFsum_3['force'])\n",
        "\n",
        "  ##aggregate gene link sum and zscore\n",
        "  geneSum_3=subset_panda_results3.groupby(['gene']).agg({'force':sum})\n",
        "  geneSum_1=subset_panda_results1.groupby(['gene']).agg({'force':sum})\n",
        "  geneSum_3['force']=zscore(geneSum_3['force'])\n",
        "  geneSum_1['force']=zscore(geneSum_1['force'])\n",
        "\n",
        "  ##merge\n",
        "  nnn=TFsum_3.merge(TFsum_1, left_on=['tf'], right_on=['tf'])\n",
        "  nnnn=geneSum_3.merge(geneSum_1, left_on=['gene'], right_on=['gene'])\n",
        "\n",
        "  del [[subset_panda_results3, subset_panda_results1]]\n",
        "  gc.collect()\n",
        "  subset_panda_results3=pd.DataFrame()\n",
        "  subset_panda_results1=pd.DataFrame()\n",
        "\n",
        "  ##diff\n",
        "  nnn['diff']=nnn.force_x-nnn.force_y\n",
        "  # nnn = nnn.sort_values(by ='diff' )\n",
        "  del nnn['force_x'], nnn['force_y']\n",
        "  nnn=nnn.sort_index(axis=0)\n",
        "  nnn=nnn.T\n",
        "  nnnn['diff']=nnnn.force_x-nnnn.force_y\n",
        "  # nnnn = nnnn.sort_values(by ='diff' )\n",
        "  del nnnn['force_x'], nnnn['force_y']\n",
        "  nnnn=nnnn.sort_index(axis=0)\n",
        "  nnnn=nnnn.T\n",
        "  if i==1:\n",
        "    nnn.to_csv('drive/My Drive/Colab Notebooks/model_output/TF_zscore_rand_CLE.txt',sep='\\t',header=True,index=None)\n",
        "    nnnn.to_csv('drive/My Drive/Colab Notebooks/model_output/gene_zscore_rand_CLE.txt',sep='\\t',header=True,index=None)\n",
        "  elif i!=1:\n",
        "    nnn.to_csv('drive/My Drive/Colab Notebooks/model_output/TF_zscore_rand_CLE.txt',sep='\\t',header=None,index=None,mode='a')\n",
        "    nnnn.to_csv('drive/My Drive/Colab Notebooks/model_output/gene_zscore_rand_CLE.txt',sep='\\t',header=None,index=None,mode='a')\n",
        "  \n",
        "  del nnn, nnnn\n",
        "  gc.collect()\n",
        "\n"
      ],
      "execution_count": null,
      "outputs": []
    },
    {
      "cell_type": "code",
      "metadata": {
        "id": "nJzX1xvI3FrZ"
      },
      "source": [
        "for i in range(1,10):\n",
        "  ## four random group exact same size as LTCOPD cases and controls\n",
        "  null=data.merge(illumina_labels,left_index=True,right_index=True)\n",
        "  null.index=null['symbol']\n",
        "  del null['loc'], null['symbol']\n",
        "  j=np.random.choice(151, size=(67, ),replace=False) ##67 total males\n",
        "  nullA=null.iloc[:,j.tolist()] ##reduce to random 68\n",
        "  null2=null.drop(nullA.columns,axis=1) ## create second group without these 68\n",
        "\n",
        "  k=np.random.choice(j,15,replace=False) ##15 male controls\n",
        "  nullB=null.iloc[:,k.tolist()] ##take 15 of 68 for male control random\n",
        "  nullA=nullA.drop(nullB.columns,axis=1) ## remove these 15 from male cases\n",
        "\n",
        "  l=np.random.choice(null2.shape[1], size=(84, ),replace=False) ##84 total females\n",
        "  nullC=null2.iloc[:,l.tolist()] ##subset leftover from first null to 85\n",
        "  m=np.random.choice(l[l<85],25,replace=False) ##25 controls\n",
        "  nullD=nullC.iloc[:,m.tolist()] ##take 25 for female random control\n",
        "  nullC=nullC.drop(nullD.columns,axis=1)\n",
        "\n",
        "  negCont(nullA,nullB,i)\n",
        "  negCont(nullC,nullD,i+1)\n",
        "\n",
        "  print('saved iteration='+str(i))"
      ],
      "execution_count": null,
      "outputs": []
    },
    {
      "cell_type": "code",
      "metadata": {
        "id": "4BcUH_ZJF1sB"
      },
      "source": [
        "TF_diffNull=pd.read_csv('drive/My Drive/Colab Notebooks/model_output/TF_zscore_rand_CLE.txt',sep='\\t')\n",
        "gene_diffNull=pd.read_csv('drive/My Drive/Colab Notebooks/model_output/gene_zscore_rand_CLE.txt',sep='\\t')\n",
        "TF_diffNull=TF_diffNull.T\n",
        "gene_diffNull=gene_diffNull.T"
      ],
      "execution_count": 4,
      "outputs": []
    },
    {
      "cell_type": "code",
      "metadata": {
        "colab": {
          "base_uri": "https://localhost:8080/",
          "height": 279
        },
        "id": "0nmbS0NsHL6r",
        "outputId": "eead7553-0af5-49a4-efb2-794d64a3531b"
      },
      "source": [
        "for i, col in enumerate(TF_diffNull.columns):\n",
        "    # plt.figure(i)\n",
        "    tmp=sns.kdeplot(TF_diffNull[col])"
      ],
      "execution_count": 11,
      "outputs": [
        {
          "output_type": "display_data",
          "data": {
            "image/png": "[encoded data removed]",
            "text/plain": [
              "<Figure size 432x288 with 1 Axes>"
            ]
          },
          "metadata": {
            "tags": [],
            "needs_background": "light"
          }
        }
      ]
    },
    {
      "cell_type": "code",
      "metadata": {
        "colab": {
          "base_uri": "https://localhost:8080/",
          "height": 279
        },
        "id": "1Q31dYw5QqbE",
        "outputId": "760a113a-8f0d-4a62-cdbe-3f6e4ebc7bd8"
      },
      "source": [
        "for i, col in enumerate(gene_diffNull.columns):\n",
        "    # plt.figure(i)\n",
        "    tmp=sns.kdeplot(gene_diffNull[col])"
      ],
      "execution_count": 12,
      "outputs": [
        {
          "output_type": "display_data",
          "data": {
            "image/png": "[encoded data removed]",
            "text/plain": [
              "<Figure size 432x288 with 1 Axes>"
            ]
          },
          "metadata": {
            "tags": [],
            "needs_background": "light"
          }
        }
      ]
    },
    {
      "cell_type": "markdown",
      "metadata": {
        "id": "oW_96Huk4uxJ"
      },
      "source": [
        "# LTRC negCont"
      ]
    },
    {
      "cell_type": "code",
      "metadata": {
        "id": "liaGW2Oi4uAd",
        "colab": {
          "base_uri": "https://localhost:8080/"
        },
        "outputId": "16263471-901f-4200-fbb6-54c02f61b293"
      },
      "source": [
        "LTRC_exp=pd.read_csv('drive/My Drive/harvard/LARGE_COPD/age_sex_LTRC_XXX.txt',sep='\\t',index_col=0)\n",
        "LTRC_exp_key=pd.read_csv('drive/My Drive/harvard/LARGE_COPD/age_sex_LTRC_XXXkey.txt',sep='\\t')\n",
        "data=np.divide(LTRC_exp,LTRC_exp_key)\n",
        "data=data.groupby(data.index).mean()\n",
        "\n",
        "motif_data='drive/My Drive/coding_LCL_motif.txt'\n",
        "ppi_data='drive/My Drive/ppi_complete.txt'\n",
        "\n",
        "LTCOPD_genes=pd.read_csv('drive/My Drive/Colab Notebooks/LTCOPD_genes.txt',index_col=None,header=None,sep='\\t')\n",
        "data1=np.log2(data.dropna(how='all'))\n",
        "data1=data1.merge(LTCOPD_genes,left_index=True,right_on=0)\n",
        "data1.index=data1[0]\n",
        "data1.replace([np.inf, -np.inf], np.nan,inplace=True)\n",
        "data1.replace(np.nan, 0,inplace=True)\n",
        "del data1[0]"
      ],
      "execution_count": 4,
      "outputs": [
        {
          "output_type": "stream",
          "text": [
            "/usr/local/lib/python3.7/dist-packages/IPython/core/interactiveshell.py:2718: DtypeWarning: Columns (0) have mixed types.Specify dtype option on import or set low_memory=False.\n",
            "  interactivity=interactivity, compiler=compiler, result=result)\n",
            "/usr/local/lib/python3.7/dist-packages/ipykernel_launcher.py:3: RuntimeWarning: invalid value encountered in true_divide\n",
            "  This is separate from the ipykernel package so we can avoid doing imports until\n",
            "/usr/local/lib/python3.7/dist-packages/ipykernel_launcher.py:10: RuntimeWarning: divide by zero encountered in log2\n",
            "  # Remove the CWD from sys.path while we load stuff.\n"
          ],
          "name": "stderr"
        }
      ]
    },
    {
      "cell_type": "code",
      "metadata": {
        "id": "Q1cVpQUL9t4m"
      },
      "source": [
        "FC=data1.iloc[:,data1.columns.str.contains('_0_1')]\n",
        "FNC=data1.iloc[:,data1.columns.str.contains('_0_0')]\n",
        "MC=data1.iloc[:,data1.columns.str.contains('_1_1')]\n",
        "MNC=data1.iloc[:,data1.columns.str.contains('_1_0')]"
      ],
      "execution_count": 5,
      "outputs": []
    },
    {
      "cell_type": "code",
      "metadata": {
        "id": "Uogxf4Fv-SKg"
      },
      "source": [
        "def negCont(nullA,nullB,i,timestr,motif_data,ppi_data):\n",
        "  panda_nullA = Panda(nullA, motif_data, ppi_data,computing='gpu',precision='single',save_tmp=False,save_memory = True, remove_missing=True, keep_expression_matrix = False,modeProcess = 'intersection')\n",
        "  # np.save('drive/My Drive/Panda_nullA.npy',panda_nullA.export_panda_results)\n",
        "  gc.collect()\n",
        "  panda_nullB = Panda(nullB, motif_data, ppi_data,computing='gpu',precision='single',save_tmp=False,save_memory = True, remove_missing=True, keep_expression_matrix = False,modeProcess = 'intersection')\n",
        "  # np.save('drive/My Drive/Panda_nullB.npy',panda_nullB.export_panda_results)\n",
        "  uniq_tfs=np.intersect1d(panda_nullA.ppi_tfs,panda_nullA.motif_tfs)\n",
        "  uniq_genes=np.intersect1d(panda_nullA.motif_genes,panda_nullA.expression_genes)\n",
        "  tfs = np.tile(uniq_tfs, (len(uniq_genes), 1)).flatten()\n",
        "  genes = np.repeat(uniq_genes,panda_nullA.num_tfs)\n",
        "  forceA = panda_nullA.motif_matrix.flatten(order='F')\n",
        "  forceB = panda_nullB.motif_matrix.flatten(order='F')\n",
        "  export_panda_results = pd.DataFrame({'tf':tfs, 'gene': genes,'forceA': forceA,'forceB': forceB})#.sort_values(by=['force'], ascending=False)\n",
        "\n",
        "  # subset_panda_resultsA = panda_nullA.export_panda_results.sort_values(by=['force'], ascending=False)\n",
        "  # subset_panda_resultsB = panda_nullB.export_panda_results.sort_values(by=['force'], ascending=False)\n",
        "  # del subset_panda_resultsA['motif'],subset_panda_resultsB['motif']\n",
        "  del panda_nullA, panda_nullB, forceA, forceB\n",
        "\n",
        "  ##aggregate TF link sum and zscore\n",
        "  TFsum_A=export_panda_results.groupby(['tf']).agg({'forceA':sum})\n",
        "  TFsum_B=export_panda_results.groupby(['tf']).agg({'forceB':sum})\n",
        "  TFsum_B['force']=zscore(TFsum_B['forceB'])\n",
        "  TFsum_A['force']=zscore(TFsum_A['forceA'])\n",
        "\n",
        "  ##aggregate gene link sum and zscore\n",
        "  geneSum_A=export_panda_results.groupby(['gene']).agg({'forceA':sum})\n",
        "  geneSum_B=export_panda_results.groupby(['gene']).agg({'forceB':sum})\n",
        "  geneSum_A['force']=zscore(geneSum_A['forceA'])\n",
        "  geneSum_B['force']=zscore(geneSum_B['forceB'])\n",
        "\n",
        "  ##merge\n",
        "  sumTFdiff=TFsum_A.merge(TFsum_B, left_on=['tf'], right_on=['tf'])\n",
        "  sumGenediff=geneSum_A.merge(geneSum_B, left_on=['gene'], right_on=['gene'])\n",
        "\n",
        "  del export_panda_results, tfs, genes,forceA,forceB #[[subset_panda_resultsA, subset_panda_resultsB]]\n",
        "  gc.collect()\n",
        "  export_panda_results=pd.DataFrame()\n",
        "  # subset_panda_resultsA=pd.DataFrame()\n",
        "  # subset_panda_resultsB=pd.DataFrame()\n",
        "\n",
        "  ##diff\n",
        "  sumTFdiff['diff']=sumTFdiff.force_x-sumTFdiff.force_y\n",
        "  # sumTFdiff = sumTFdiff.sort_values(by ='diff' )\n",
        "  del sumTFdiff['force_x'], sumTFdiff['force_y']\n",
        "  sumTFdiff=sumTFdiff.sort_index(axis=0)\n",
        "  sumTFdiff=sumTFdiff.T\n",
        "  sumGenediff['diff']=sumGenediff.force_x-sumGenediff.force_y\n",
        "  # sumGenediff = sumGenediff.sort_values(by ='diff' )\n",
        "  del sumGenediff['force_x'], sumGenediff['force_y']\n",
        "  sumGenediff=sumGenediff.sort_index(axis=0)\n",
        "  sumGenediff=sumGenediff.T\n",
        "  if i==1:\n",
        "    sumTFdiff.to_csv('drive/My Drive/Colab Notebooks/model_output/null/TF_zscore_rand_'+timestr+'.txt',sep='\\t',header=True,index=None)\n",
        "    sumGenediff.to_csv('drive/My Drive/Colab Notebooks/model_output/null/gene_zscore_rand_'+timestr+'.txt',sep='\\t',header=True,index=None)\n",
        "  elif i!=1:\n",
        "    sumTFdiff.to_csv('drive/My Drive/Colab Notebooks/model_output/null/TF_zscore_rand_'+timestr+'.txt',sep='\\t',header=None,index=None,mode='a')\n",
        "    sumGenediff.to_csv('drive/My Drive/Colab Notebooks/model_output/null/gene_zscore_rand_'+timestr+'.txt',sep='\\t',header=None,index=None,mode='a')\n",
        "  del sumTFdiff, sumGenediff\n",
        "  gc.collect()"
      ],
      "execution_count": 6,
      "outputs": []
    },
    {
      "cell_type": "code",
      "metadata": {
        "id": "eYBdSOZO3GPN"
      },
      "source": [
        "inits=100\n",
        "for i in range(1,inits):\n",
        "    ## form two random groups of exact size as initial cases and controls\n",
        "    # data=pd.read_csv(expression_file,sep='\\t',index_col=0)\n",
        "    j=np.random.choice(data1.shape[1], size=(MC.shape[1]+MNC.shape[1], ),replace=False) ## total males\n",
        "    nullA=data1.iloc[:,j.tolist()] ##reduce to random set\n",
        "    # null2=data.drop(nullA.columns,axis=1) ## create second group without these\n",
        "\n",
        "    k=np.random.choice(j,MNC.shape[1],replace=False) ## male controls\n",
        "    nullB=data1.iloc[:,k.tolist()] ##remove controls from male pop\n",
        "    nullA=nullA.drop(nullB.columns,axis=1) ## remove these from male cases\n",
        "\n",
        "    # l=np.random.choice(null2.shape[1], size=(FC.shape[1]+FNC.shape[1], ),replace=False) ##84 total females\n",
        "    # nullC=null2.iloc[:,l.tolist()] ##subset leftover from first null to 85\n",
        "    # m=np.random.choice(l[l<FC.shape[1]+1+FNC.shape[1]],FNC.shape[1],replace=False) ##25 controls\n",
        "    # nullD=nullC.iloc[:,m.tolist()] ##take 25 for female random control\n",
        "    # nullC=nullC.drop(nullD.columns,axis=1)\n",
        "\n",
        "    sumTFdiff,sumGenediff=negCont(nullA,nullB,i,timestr,motif_data,ppi_data)\n",
        "    # negCont(nullC,nullD,i+1)\n",
        "\n",
        "    print('saved iteration='+str(i))"
      ],
      "execution_count": null,
      "outputs": []
    },
    {
      "cell_type": "code",
      "metadata": {
        "id": "sQQgwB91DgX5"
      },
      "source": [
        "\n",
        "# f_pval =[]\n",
        "# m_pval = []#pd.DataFrame()\n",
        "# f_pval = np.array(f_pval, dtype = np.float32)\n",
        "# m_pval = np.array(m_pval, dtype = np.float32)\n",
        "\n",
        "# for i, col in enumerate(TF_diffNull.columns):\n",
        "#   t0f, p0f=stats.ttest_ind(mmm['diff'],TF_diffNull[col],nan_policy='omit',equal_var=False)\n",
        "#   t0m, p0m=stats.ttest_ind(nnn['diff'],TF_diffNull[col],nan_policy='omit',equal_var=False)\n",
        "#   f_pval=np.append(f_pval,p0f)\n",
        "#   m_pval=np.append(m_pval,p0m)\n",
        "# plt.hist([m_pval])"
      ],
      "execution_count": null,
      "outputs": []
    },
    {
      "cell_type": "code",
      "metadata": {
        "id": "wDIiYfRYbt9W"
      },
      "source": [
        ""
      ],
      "execution_count": null,
      "outputs": []
    },
    {
      "cell_type": "code",
      "metadata": {
        "id": "pQ4gbUvU1M9b"
      },
      "source": [
        "TF_diffNull=pd.read_csv('drive/My Drive/Colab Notebooks/model_output/TF_zscore_rand_1000.txt',sep='\\t',header=0)\n",
        "gene_diffNull=pd.read_csv('drive/My Drive/Colab Notebooks/model_output/gene_zscore_rand_1000.txt',sep='\\t',header=0)\n",
        "TF_diffNull=TF_diffNull.T\n",
        "gene_diffNull=gene_diffNull.T\n",
        "gene_diffNull.shape\n",
        "\n",
        "# TF_diffNull=pd.read_csv('drive/My Drive/TF_zscore_rand_camb.txt',sep='\\t',header=0)\n",
        "# gene_diffNull=pd.read_csv('drive/My Drive/gene_zscore_rand_camb.txt',sep='\\t',header=0)\n",
        "# TF_diffNull=TF_diffNull.T\n",
        "# gene_diffNull=gene_diffNull.T\n",
        "# gene_diffNull.shape"
      ],
      "execution_count": null,
      "outputs": []
    },
    {
      "cell_type": "code",
      "metadata": {
        "id": "eqenM27mA42h"
      },
      "source": [
        "male=pd.DataFrame()\n",
        "for i in range(0,200,2):\n",
        "  xx=pd.DataFrame([TF_diffNull[TF_diffNull[i]>.5].index,TF_diffNull[TF_diffNull[i]<-.5].index])\n",
        "  if not xx.empty:\n",
        "    print(xx)\n",
        "    male=np.append(male,xx)"
      ],
      "execution_count": null,
      "outputs": []
    },
    {
      "cell_type": "code",
      "metadata": {
        "id": "76h18hrGGunV"
      },
      "source": [
        "male"
      ],
      "execution_count": null,
      "outputs": []
    },
    {
      "cell_type": "code",
      "metadata": {
        "id": "Zs3xPwYTcNuZ"
      },
      "source": [
        "for i in range(1,201,2):\n",
        "  xx=pd.DataFrame([TF_diffNull[TF_diffNull[i]>.5][0],TF_diffNull[TF_diffNull[i]<-.5][0]])\n",
        "  if not xx.empty:\n",
        "    print(i)"
      ],
      "execution_count": null,
      "outputs": []
    },
    {
      "cell_type": "code",
      "metadata": {
        "id": "naQsEEwR_4Ju",
        "colab": {
          "base_uri": "https://localhost:8080/",
          "height": 444
        },
        "outputId": "614f55e7-417b-49f1-974e-28801e76bd6d"
      },
      "source": [
        "TF_diffNull"
      ],
      "execution_count": 26,
      "outputs": [
        {
          "output_type": "execute_result",
          "data": {
            "text/html": [
              "<div>\n",
              "<style scoped>\n",
              "    .dataframe tbody tr th:only-of-type {\n",
              "        vertical-align: middle;\n",
              "    }\n",
              "\n",
              "    .dataframe tbody tr th {\n",
              "        vertical-align: top;\n",
              "    }\n",
              "\n",
              "    .dataframe thead th {\n",
              "        text-align: right;\n",
              "    }\n",
              "</style>\n",
              "<table border=\"1\" class=\"dataframe\">\n",
              "  <thead>\n",
              "    <tr style=\"text-align: right;\">\n",
              "      <th></th>\n",
              "      <th>AHR</th>\n",
              "      <th>AIRE</th>\n",
              "      <th>ALX1</th>\n",
              "      <th>ALX3</th>\n",
              "      <th>ALX4</th>\n",
              "      <th>AR</th>\n",
              "      <th>ARID2</th>\n",
              "      <th>ARID3A</th>\n",
              "      <th>ARID5B</th>\n",
              "      <th>ARNT</th>\n",
              "      <th>ARNT2</th>\n",
              "      <th>ARNTL</th>\n",
              "      <th>ARX</th>\n",
              "      <th>ASCL1</th>\n",
              "      <th>ATF1</th>\n",
              "      <th>ATF2</th>\n",
              "      <th>ATF3</th>\n",
              "      <th>ATF4</th>\n",
              "      <th>ATF5</th>\n",
              "      <th>ATF6</th>\n",
              "      <th>ATF7</th>\n",
              "      <th>ATOH8</th>\n",
              "      <th>BACH1</th>\n",
              "      <th>BACH2</th>\n",
              "      <th>BARHL2</th>\n",
              "      <th>BARX1</th>\n",
              "      <th>BARX2</th>\n",
              "      <th>BATF</th>\n",
              "      <th>BATF3</th>\n",
              "      <th>BCL11A</th>\n",
              "      <th>BCL6</th>\n",
              "      <th>BCL6B</th>\n",
              "      <th>BHLHA15</th>\n",
              "      <th>BHLHE22</th>\n",
              "      <th>BHLHE23</th>\n",
              "      <th>BHLHE40</th>\n",
              "      <th>BHLHE41</th>\n",
              "      <th>BPTF</th>\n",
              "      <th>CDC5L</th>\n",
              "      <th>CDX1</th>\n",
              "      <th>...</th>\n",
              "      <th>ZBTB6</th>\n",
              "      <th>ZBTB7A</th>\n",
              "      <th>ZBTB7B</th>\n",
              "      <th>ZBTB7C</th>\n",
              "      <th>ZEB1</th>\n",
              "      <th>ZFHX2</th>\n",
              "      <th>ZFHX3</th>\n",
              "      <th>ZFX</th>\n",
              "      <th>ZIC1</th>\n",
              "      <th>ZIC2</th>\n",
              "      <th>ZIC3</th>\n",
              "      <th>ZIC4</th>\n",
              "      <th>ZKSCAN1</th>\n",
              "      <th>ZKSCAN3</th>\n",
              "      <th>ZNF143</th>\n",
              "      <th>ZNF148</th>\n",
              "      <th>ZNF202</th>\n",
              "      <th>ZNF219</th>\n",
              "      <th>ZNF232</th>\n",
              "      <th>ZNF263</th>\n",
              "      <th>ZNF274</th>\n",
              "      <th>ZNF281</th>\n",
              "      <th>ZNF282</th>\n",
              "      <th>ZNF32</th>\n",
              "      <th>ZNF333</th>\n",
              "      <th>ZNF35</th>\n",
              "      <th>ZNF350</th>\n",
              "      <th>ZNF384</th>\n",
              "      <th>ZNF410</th>\n",
              "      <th>ZNF423</th>\n",
              "      <th>ZNF524</th>\n",
              "      <th>ZNF589</th>\n",
              "      <th>ZNF683</th>\n",
              "      <th>ZNF713</th>\n",
              "      <th>ZNF740</th>\n",
              "      <th>ZNF75A</th>\n",
              "      <th>ZNF784</th>\n",
              "      <th>ZSCAN10</th>\n",
              "      <th>ZSCAN16</th>\n",
              "      <th>ZSCAN4</th>\n",
              "    </tr>\n",
              "  </thead>\n",
              "  <tbody>\n",
              "    <tr>\n",
              "      <th>0</th>\n",
              "      <td>-0.000364</td>\n",
              "      <td>-0.000941</td>\n",
              "      <td>0.001208</td>\n",
              "      <td>-0.000125</td>\n",
              "      <td>0.000666</td>\n",
              "      <td>0.002291</td>\n",
              "      <td>-0.001333</td>\n",
              "      <td>0.001299</td>\n",
              "      <td>-0.002536</td>\n",
              "      <td>0.001593</td>\n",
              "      <td>0.000217</td>\n",
              "      <td>0.001153</td>\n",
              "      <td>-0.001419</td>\n",
              "      <td>-0.000738</td>\n",
              "      <td>-0.001850</td>\n",
              "      <td>0.001120</td>\n",
              "      <td>0.000670</td>\n",
              "      <td>0.000506</td>\n",
              "      <td>0.000088</td>\n",
              "      <td>-0.000739</td>\n",
              "      <td>-0.000005</td>\n",
              "      <td>0.002112</td>\n",
              "      <td>-0.000379</td>\n",
              "      <td>-0.000059</td>\n",
              "      <td>0.000017</td>\n",
              "      <td>-0.001312</td>\n",
              "      <td>-0.001114</td>\n",
              "      <td>-0.003205</td>\n",
              "      <td>0.000931</td>\n",
              "      <td>-0.001257</td>\n",
              "      <td>-0.001183</td>\n",
              "      <td>-0.005068</td>\n",
              "      <td>-0.001541</td>\n",
              "      <td>-0.001696</td>\n",
              "      <td>-0.001294</td>\n",
              "      <td>0.000659</td>\n",
              "      <td>0.000296</td>\n",
              "      <td>0.001285</td>\n",
              "      <td>-0.000072</td>\n",
              "      <td>0.000789</td>\n",
              "      <td>...</td>\n",
              "      <td>-0.002490</td>\n",
              "      <td>0.001809</td>\n",
              "      <td>0.000361</td>\n",
              "      <td>0.000616</td>\n",
              "      <td>-0.002214</td>\n",
              "      <td>-0.001427</td>\n",
              "      <td>-0.000391</td>\n",
              "      <td>0.000725</td>\n",
              "      <td>-0.000797</td>\n",
              "      <td>0.001571</td>\n",
              "      <td>0.000967</td>\n",
              "      <td>-0.002390</td>\n",
              "      <td>0.001254</td>\n",
              "      <td>0.001249</td>\n",
              "      <td>0.003948</td>\n",
              "      <td>0.002210</td>\n",
              "      <td>0.000586</td>\n",
              "      <td>-0.003257</td>\n",
              "      <td>-0.000580</td>\n",
              "      <td>0.003308</td>\n",
              "      <td>0.001576</td>\n",
              "      <td>0.002354</td>\n",
              "      <td>-0.000590</td>\n",
              "      <td>-0.001832</td>\n",
              "      <td>0.002883</td>\n",
              "      <td>-0.001296</td>\n",
              "      <td>-0.000985</td>\n",
              "      <td>0.002224</td>\n",
              "      <td>0.001274</td>\n",
              "      <td>-0.003140</td>\n",
              "      <td>-0.001046</td>\n",
              "      <td>0.001169</td>\n",
              "      <td>0.000592</td>\n",
              "      <td>0.001749</td>\n",
              "      <td>-0.000356</td>\n",
              "      <td>-0.001486</td>\n",
              "      <td>0.001496</td>\n",
              "      <td>0.004141</td>\n",
              "      <td>0.001396</td>\n",
              "      <td>-0.003466</td>\n",
              "    </tr>\n",
              "    <tr>\n",
              "      <th>1</th>\n",
              "      <td>0.001235</td>\n",
              "      <td>-0.000466</td>\n",
              "      <td>-0.000138</td>\n",
              "      <td>0.001272</td>\n",
              "      <td>0.001132</td>\n",
              "      <td>0.000095</td>\n",
              "      <td>-0.000663</td>\n",
              "      <td>-0.000390</td>\n",
              "      <td>-0.000210</td>\n",
              "      <td>-0.000132</td>\n",
              "      <td>0.000209</td>\n",
              "      <td>0.000273</td>\n",
              "      <td>0.000842</td>\n",
              "      <td>-0.000075</td>\n",
              "      <td>-0.000009</td>\n",
              "      <td>-0.000789</td>\n",
              "      <td>-0.000323</td>\n",
              "      <td>-0.000572</td>\n",
              "      <td>-0.000840</td>\n",
              "      <td>0.000096</td>\n",
              "      <td>-0.000339</td>\n",
              "      <td>0.000149</td>\n",
              "      <td>-0.000667</td>\n",
              "      <td>-0.000611</td>\n",
              "      <td>-0.000078</td>\n",
              "      <td>-0.000942</td>\n",
              "      <td>0.000318</td>\n",
              "      <td>-0.001006</td>\n",
              "      <td>-0.000308</td>\n",
              "      <td>0.000894</td>\n",
              "      <td>0.001466</td>\n",
              "      <td>-0.001755</td>\n",
              "      <td>0.000245</td>\n",
              "      <td>0.000043</td>\n",
              "      <td>-0.000487</td>\n",
              "      <td>-0.000267</td>\n",
              "      <td>0.002395</td>\n",
              "      <td>-0.000235</td>\n",
              "      <td>0.000435</td>\n",
              "      <td>0.000823</td>\n",
              "      <td>...</td>\n",
              "      <td>-0.000267</td>\n",
              "      <td>0.000013</td>\n",
              "      <td>-0.000201</td>\n",
              "      <td>-0.000310</td>\n",
              "      <td>-0.000776</td>\n",
              "      <td>0.001298</td>\n",
              "      <td>0.000536</td>\n",
              "      <td>0.001259</td>\n",
              "      <td>-0.000067</td>\n",
              "      <td>-0.000006</td>\n",
              "      <td>0.000278</td>\n",
              "      <td>0.000053</td>\n",
              "      <td>0.000417</td>\n",
              "      <td>-0.001298</td>\n",
              "      <td>-0.000918</td>\n",
              "      <td>-0.000621</td>\n",
              "      <td>-0.000430</td>\n",
              "      <td>-0.000069</td>\n",
              "      <td>-0.000632</td>\n",
              "      <td>-0.000043</td>\n",
              "      <td>-0.000594</td>\n",
              "      <td>-0.000345</td>\n",
              "      <td>-0.000505</td>\n",
              "      <td>-0.000445</td>\n",
              "      <td>0.000602</td>\n",
              "      <td>-0.000572</td>\n",
              "      <td>0.001381</td>\n",
              "      <td>0.001049</td>\n",
              "      <td>0.000519</td>\n",
              "      <td>0.000603</td>\n",
              "      <td>-0.001064</td>\n",
              "      <td>0.000447</td>\n",
              "      <td>-0.000658</td>\n",
              "      <td>0.001508</td>\n",
              "      <td>0.000823</td>\n",
              "      <td>0.000498</td>\n",
              "      <td>0.000058</td>\n",
              "      <td>-0.000541</td>\n",
              "      <td>-0.001764</td>\n",
              "      <td>0.001514</td>\n",
              "    </tr>\n",
              "    <tr>\n",
              "      <th>2</th>\n",
              "      <td>0.000122</td>\n",
              "      <td>0.001049</td>\n",
              "      <td>-0.001532</td>\n",
              "      <td>-0.001032</td>\n",
              "      <td>-0.000915</td>\n",
              "      <td>-0.000532</td>\n",
              "      <td>0.002355</td>\n",
              "      <td>0.005572</td>\n",
              "      <td>-0.000107</td>\n",
              "      <td>0.001395</td>\n",
              "      <td>0.000667</td>\n",
              "      <td>0.002405</td>\n",
              "      <td>-0.000228</td>\n",
              "      <td>0.003468</td>\n",
              "      <td>0.001852</td>\n",
              "      <td>0.000928</td>\n",
              "      <td>0.000327</td>\n",
              "      <td>0.000923</td>\n",
              "      <td>-0.001164</td>\n",
              "      <td>0.001860</td>\n",
              "      <td>-0.001583</td>\n",
              "      <td>0.000354</td>\n",
              "      <td>0.001577</td>\n",
              "      <td>-0.001107</td>\n",
              "      <td>0.000139</td>\n",
              "      <td>0.002345</td>\n",
              "      <td>-0.003311</td>\n",
              "      <td>0.000233</td>\n",
              "      <td>-0.000632</td>\n",
              "      <td>-0.001816</td>\n",
              "      <td>-0.000748</td>\n",
              "      <td>-0.003008</td>\n",
              "      <td>0.000160</td>\n",
              "      <td>0.000103</td>\n",
              "      <td>0.001373</td>\n",
              "      <td>0.000735</td>\n",
              "      <td>-0.001074</td>\n",
              "      <td>0.002395</td>\n",
              "      <td>0.000546</td>\n",
              "      <td>0.001174</td>\n",
              "      <td>...</td>\n",
              "      <td>0.002166</td>\n",
              "      <td>0.001692</td>\n",
              "      <td>-0.000423</td>\n",
              "      <td>0.001396</td>\n",
              "      <td>-0.003197</td>\n",
              "      <td>0.000390</td>\n",
              "      <td>-0.001148</td>\n",
              "      <td>-0.000477</td>\n",
              "      <td>-0.001002</td>\n",
              "      <td>0.001157</td>\n",
              "      <td>-0.001593</td>\n",
              "      <td>-0.003319</td>\n",
              "      <td>-0.002924</td>\n",
              "      <td>0.000934</td>\n",
              "      <td>0.007068</td>\n",
              "      <td>0.001186</td>\n",
              "      <td>-0.001085</td>\n",
              "      <td>-0.001156</td>\n",
              "      <td>-0.001667</td>\n",
              "      <td>0.000088</td>\n",
              "      <td>0.000749</td>\n",
              "      <td>-0.000721</td>\n",
              "      <td>-0.001612</td>\n",
              "      <td>0.000477</td>\n",
              "      <td>-0.002561</td>\n",
              "      <td>0.002022</td>\n",
              "      <td>0.002364</td>\n",
              "      <td>-0.004233</td>\n",
              "      <td>-0.005449</td>\n",
              "      <td>0.000578</td>\n",
              "      <td>-0.000081</td>\n",
              "      <td>0.000186</td>\n",
              "      <td>0.002369</td>\n",
              "      <td>-0.002874</td>\n",
              "      <td>0.000842</td>\n",
              "      <td>-0.000857</td>\n",
              "      <td>0.001724</td>\n",
              "      <td>-0.004594</td>\n",
              "      <td>-0.010885</td>\n",
              "      <td>0.001505</td>\n",
              "    </tr>\n",
              "    <tr>\n",
              "      <th>3</th>\n",
              "      <td>0.000046</td>\n",
              "      <td>-0.001204</td>\n",
              "      <td>-0.000495</td>\n",
              "      <td>-0.001442</td>\n",
              "      <td>-0.001118</td>\n",
              "      <td>-0.000564</td>\n",
              "      <td>-0.000917</td>\n",
              "      <td>-0.000936</td>\n",
              "      <td>0.000261</td>\n",
              "      <td>0.000463</td>\n",
              "      <td>-0.000425</td>\n",
              "      <td>-0.000321</td>\n",
              "      <td>-0.001340</td>\n",
              "      <td>-0.000345</td>\n",
              "      <td>0.000242</td>\n",
              "      <td>-0.000063</td>\n",
              "      <td>0.000469</td>\n",
              "      <td>0.000149</td>\n",
              "      <td>-0.001341</td>\n",
              "      <td>-0.000214</td>\n",
              "      <td>-0.000184</td>\n",
              "      <td>0.000538</td>\n",
              "      <td>-0.000585</td>\n",
              "      <td>0.000711</td>\n",
              "      <td>-0.000010</td>\n",
              "      <td>-0.000383</td>\n",
              "      <td>-0.000562</td>\n",
              "      <td>0.000384</td>\n",
              "      <td>0.000051</td>\n",
              "      <td>-0.000183</td>\n",
              "      <td>-0.001255</td>\n",
              "      <td>0.000502</td>\n",
              "      <td>-0.000008</td>\n",
              "      <td>-0.000294</td>\n",
              "      <td>-0.000488</td>\n",
              "      <td>0.000124</td>\n",
              "      <td>-0.000399</td>\n",
              "      <td>-0.000437</td>\n",
              "      <td>0.000930</td>\n",
              "      <td>0.000657</td>\n",
              "      <td>...</td>\n",
              "      <td>-0.000714</td>\n",
              "      <td>0.001165</td>\n",
              "      <td>0.001400</td>\n",
              "      <td>-0.000052</td>\n",
              "      <td>-0.000023</td>\n",
              "      <td>0.000448</td>\n",
              "      <td>0.001002</td>\n",
              "      <td>0.000072</td>\n",
              "      <td>0.000067</td>\n",
              "      <td>0.001636</td>\n",
              "      <td>0.000206</td>\n",
              "      <td>0.000095</td>\n",
              "      <td>-0.001762</td>\n",
              "      <td>0.000144</td>\n",
              "      <td>0.000003</td>\n",
              "      <td>-0.000379</td>\n",
              "      <td>0.001765</td>\n",
              "      <td>0.000845</td>\n",
              "      <td>-0.000632</td>\n",
              "      <td>0.000304</td>\n",
              "      <td>-0.001425</td>\n",
              "      <td>0.000068</td>\n",
              "      <td>0.001277</td>\n",
              "      <td>-0.000766</td>\n",
              "      <td>0.001630</td>\n",
              "      <td>-0.001345</td>\n",
              "      <td>0.001285</td>\n",
              "      <td>-0.000615</td>\n",
              "      <td>0.000476</td>\n",
              "      <td>-0.000410</td>\n",
              "      <td>0.000100</td>\n",
              "      <td>-0.001098</td>\n",
              "      <td>0.000602</td>\n",
              "      <td>-0.000900</td>\n",
              "      <td>0.000754</td>\n",
              "      <td>-0.000320</td>\n",
              "      <td>0.000999</td>\n",
              "      <td>-0.001892</td>\n",
              "      <td>0.003917</td>\n",
              "      <td>0.000102</td>\n",
              "    </tr>\n",
              "    <tr>\n",
              "      <th>4</th>\n",
              "      <td>-0.001310</td>\n",
              "      <td>0.000402</td>\n",
              "      <td>0.001262</td>\n",
              "      <td>-0.001108</td>\n",
              "      <td>-0.001156</td>\n",
              "      <td>-0.000751</td>\n",
              "      <td>0.003014</td>\n",
              "      <td>0.002910</td>\n",
              "      <td>0.001104</td>\n",
              "      <td>0.000697</td>\n",
              "      <td>0.000599</td>\n",
              "      <td>-0.000793</td>\n",
              "      <td>-0.002478</td>\n",
              "      <td>0.002841</td>\n",
              "      <td>-0.001804</td>\n",
              "      <td>-0.000925</td>\n",
              "      <td>0.001075</td>\n",
              "      <td>-0.001433</td>\n",
              "      <td>0.000101</td>\n",
              "      <td>0.001735</td>\n",
              "      <td>0.000061</td>\n",
              "      <td>-0.000552</td>\n",
              "      <td>0.000274</td>\n",
              "      <td>0.001907</td>\n",
              "      <td>0.000028</td>\n",
              "      <td>0.001732</td>\n",
              "      <td>0.000451</td>\n",
              "      <td>-0.004865</td>\n",
              "      <td>0.000754</td>\n",
              "      <td>0.000491</td>\n",
              "      <td>-0.001106</td>\n",
              "      <td>-0.001589</td>\n",
              "      <td>0.002938</td>\n",
              "      <td>0.000941</td>\n",
              "      <td>0.002293</td>\n",
              "      <td>0.000615</td>\n",
              "      <td>-0.000292</td>\n",
              "      <td>0.001053</td>\n",
              "      <td>-0.002052</td>\n",
              "      <td>-0.000981</td>\n",
              "      <td>...</td>\n",
              "      <td>-0.001031</td>\n",
              "      <td>-0.000418</td>\n",
              "      <td>0.000003</td>\n",
              "      <td>0.000349</td>\n",
              "      <td>0.001306</td>\n",
              "      <td>0.001069</td>\n",
              "      <td>0.000944</td>\n",
              "      <td>-0.004546</td>\n",
              "      <td>-0.000493</td>\n",
              "      <td>0.000338</td>\n",
              "      <td>0.000082</td>\n",
              "      <td>0.000547</td>\n",
              "      <td>0.000225</td>\n",
              "      <td>-0.001810</td>\n",
              "      <td>0.000633</td>\n",
              "      <td>-0.000309</td>\n",
              "      <td>0.001296</td>\n",
              "      <td>0.001508</td>\n",
              "      <td>-0.001471</td>\n",
              "      <td>0.000805</td>\n",
              "      <td>-0.001059</td>\n",
              "      <td>0.000170</td>\n",
              "      <td>0.000103</td>\n",
              "      <td>0.001532</td>\n",
              "      <td>0.000285</td>\n",
              "      <td>0.002264</td>\n",
              "      <td>-0.002594</td>\n",
              "      <td>-0.000985</td>\n",
              "      <td>-0.000444</td>\n",
              "      <td>-0.001664</td>\n",
              "      <td>0.001810</td>\n",
              "      <td>-0.000724</td>\n",
              "      <td>-0.001880</td>\n",
              "      <td>0.000182</td>\n",
              "      <td>0.000601</td>\n",
              "      <td>0.000045</td>\n",
              "      <td>0.001765</td>\n",
              "      <td>0.000550</td>\n",
              "      <td>-0.000597</td>\n",
              "      <td>-0.001304</td>\n",
              "    </tr>\n",
              "    <tr>\n",
              "      <th>...</th>\n",
              "      <td>...</td>\n",
              "      <td>...</td>\n",
              "      <td>...</td>\n",
              "      <td>...</td>\n",
              "      <td>...</td>\n",
              "      <td>...</td>\n",
              "      <td>...</td>\n",
              "      <td>...</td>\n",
              "      <td>...</td>\n",
              "      <td>...</td>\n",
              "      <td>...</td>\n",
              "      <td>...</td>\n",
              "      <td>...</td>\n",
              "      <td>...</td>\n",
              "      <td>...</td>\n",
              "      <td>...</td>\n",
              "      <td>...</td>\n",
              "      <td>...</td>\n",
              "      <td>...</td>\n",
              "      <td>...</td>\n",
              "      <td>...</td>\n",
              "      <td>...</td>\n",
              "      <td>...</td>\n",
              "      <td>...</td>\n",
              "      <td>...</td>\n",
              "      <td>...</td>\n",
              "      <td>...</td>\n",
              "      <td>...</td>\n",
              "      <td>...</td>\n",
              "      <td>...</td>\n",
              "      <td>...</td>\n",
              "      <td>...</td>\n",
              "      <td>...</td>\n",
              "      <td>...</td>\n",
              "      <td>...</td>\n",
              "      <td>...</td>\n",
              "      <td>...</td>\n",
              "      <td>...</td>\n",
              "      <td>...</td>\n",
              "      <td>...</td>\n",
              "      <td>...</td>\n",
              "      <td>...</td>\n",
              "      <td>...</td>\n",
              "      <td>...</td>\n",
              "      <td>...</td>\n",
              "      <td>...</td>\n",
              "      <td>...</td>\n",
              "      <td>...</td>\n",
              "      <td>...</td>\n",
              "      <td>...</td>\n",
              "      <td>...</td>\n",
              "      <td>...</td>\n",
              "      <td>...</td>\n",
              "      <td>...</td>\n",
              "      <td>...</td>\n",
              "      <td>...</td>\n",
              "      <td>...</td>\n",
              "      <td>...</td>\n",
              "      <td>...</td>\n",
              "      <td>...</td>\n",
              "      <td>...</td>\n",
              "      <td>...</td>\n",
              "      <td>...</td>\n",
              "      <td>...</td>\n",
              "      <td>...</td>\n",
              "      <td>...</td>\n",
              "      <td>...</td>\n",
              "      <td>...</td>\n",
              "      <td>...</td>\n",
              "      <td>...</td>\n",
              "      <td>...</td>\n",
              "      <td>...</td>\n",
              "      <td>...</td>\n",
              "      <td>...</td>\n",
              "      <td>...</td>\n",
              "      <td>...</td>\n",
              "      <td>...</td>\n",
              "      <td>...</td>\n",
              "      <td>...</td>\n",
              "      <td>...</td>\n",
              "      <td>...</td>\n",
              "    </tr>\n",
              "    <tr>\n",
              "      <th>144</th>\n",
              "      <td>-0.000587</td>\n",
              "      <td>0.001975</td>\n",
              "      <td>-0.001422</td>\n",
              "      <td>0.000706</td>\n",
              "      <td>0.000930</td>\n",
              "      <td>0.001577</td>\n",
              "      <td>0.002314</td>\n",
              "      <td>0.000051</td>\n",
              "      <td>-0.000664</td>\n",
              "      <td>0.001352</td>\n",
              "      <td>0.001248</td>\n",
              "      <td>-0.000504</td>\n",
              "      <td>-0.000271</td>\n",
              "      <td>-0.003294</td>\n",
              "      <td>0.001342</td>\n",
              "      <td>-0.000477</td>\n",
              "      <td>0.002366</td>\n",
              "      <td>0.001505</td>\n",
              "      <td>-0.000824</td>\n",
              "      <td>0.000306</td>\n",
              "      <td>0.000751</td>\n",
              "      <td>-0.003597</td>\n",
              "      <td>0.003264</td>\n",
              "      <td>0.002736</td>\n",
              "      <td>0.002561</td>\n",
              "      <td>0.001642</td>\n",
              "      <td>0.000136</td>\n",
              "      <td>0.001990</td>\n",
              "      <td>-0.001363</td>\n",
              "      <td>0.001300</td>\n",
              "      <td>0.001334</td>\n",
              "      <td>0.000767</td>\n",
              "      <td>-0.000299</td>\n",
              "      <td>-0.001469</td>\n",
              "      <td>-0.000150</td>\n",
              "      <td>-0.001095</td>\n",
              "      <td>-0.002899</td>\n",
              "      <td>-0.001336</td>\n",
              "      <td>0.002289</td>\n",
              "      <td>0.001911</td>\n",
              "      <td>...</td>\n",
              "      <td>-0.001894</td>\n",
              "      <td>-0.001258</td>\n",
              "      <td>0.001184</td>\n",
              "      <td>-0.001183</td>\n",
              "      <td>0.000890</td>\n",
              "      <td>-0.000590</td>\n",
              "      <td>0.000046</td>\n",
              "      <td>0.000641</td>\n",
              "      <td>-0.000446</td>\n",
              "      <td>0.001414</td>\n",
              "      <td>0.000151</td>\n",
              "      <td>-0.002179</td>\n",
              "      <td>0.004838</td>\n",
              "      <td>-0.000887</td>\n",
              "      <td>-0.000138</td>\n",
              "      <td>-0.001508</td>\n",
              "      <td>0.000016</td>\n",
              "      <td>-0.000349</td>\n",
              "      <td>0.001792</td>\n",
              "      <td>-0.000137</td>\n",
              "      <td>0.001035</td>\n",
              "      <td>0.000507</td>\n",
              "      <td>-0.000131</td>\n",
              "      <td>0.000595</td>\n",
              "      <td>-0.003861</td>\n",
              "      <td>0.000960</td>\n",
              "      <td>0.001802</td>\n",
              "      <td>-0.003057</td>\n",
              "      <td>-0.002392</td>\n",
              "      <td>0.000421</td>\n",
              "      <td>0.002159</td>\n",
              "      <td>-0.000905</td>\n",
              "      <td>0.000991</td>\n",
              "      <td>-0.000245</td>\n",
              "      <td>0.001435</td>\n",
              "      <td>0.002288</td>\n",
              "      <td>-0.000942</td>\n",
              "      <td>0.003580</td>\n",
              "      <td>0.003544</td>\n",
              "      <td>-0.002146</td>\n",
              "    </tr>\n",
              "    <tr>\n",
              "      <th>145</th>\n",
              "      <td>0.001365</td>\n",
              "      <td>-0.000505</td>\n",
              "      <td>0.000452</td>\n",
              "      <td>0.001009</td>\n",
              "      <td>0.000468</td>\n",
              "      <td>-0.000822</td>\n",
              "      <td>-0.001308</td>\n",
              "      <td>-0.000423</td>\n",
              "      <td>-0.000278</td>\n",
              "      <td>-0.000206</td>\n",
              "      <td>0.000654</td>\n",
              "      <td>-0.000309</td>\n",
              "      <td>0.000118</td>\n",
              "      <td>-0.000724</td>\n",
              "      <td>-0.000808</td>\n",
              "      <td>-0.001399</td>\n",
              "      <td>0.000327</td>\n",
              "      <td>0.001663</td>\n",
              "      <td>-0.000636</td>\n",
              "      <td>0.000498</td>\n",
              "      <td>0.000531</td>\n",
              "      <td>0.000211</td>\n",
              "      <td>0.000057</td>\n",
              "      <td>0.000365</td>\n",
              "      <td>0.000734</td>\n",
              "      <td>0.000140</td>\n",
              "      <td>-0.000001</td>\n",
              "      <td>-0.000074</td>\n",
              "      <td>0.001221</td>\n",
              "      <td>-0.001421</td>\n",
              "      <td>-0.000354</td>\n",
              "      <td>-0.001845</td>\n",
              "      <td>-0.000062</td>\n",
              "      <td>-0.000305</td>\n",
              "      <td>-0.000550</td>\n",
              "      <td>-0.000564</td>\n",
              "      <td>0.000575</td>\n",
              "      <td>-0.001070</td>\n",
              "      <td>-0.000174</td>\n",
              "      <td>0.001205</td>\n",
              "      <td>...</td>\n",
              "      <td>-0.000714</td>\n",
              "      <td>0.000810</td>\n",
              "      <td>-0.002240</td>\n",
              "      <td>-0.000019</td>\n",
              "      <td>-0.000171</td>\n",
              "      <td>0.001273</td>\n",
              "      <td>0.000761</td>\n",
              "      <td>-0.000226</td>\n",
              "      <td>-0.000925</td>\n",
              "      <td>0.000162</td>\n",
              "      <td>-0.001641</td>\n",
              "      <td>-0.000796</td>\n",
              "      <td>-0.001641</td>\n",
              "      <td>0.000030</td>\n",
              "      <td>-0.003631</td>\n",
              "      <td>-0.001399</td>\n",
              "      <td>-0.000226</td>\n",
              "      <td>0.001180</td>\n",
              "      <td>0.001755</td>\n",
              "      <td>-0.000810</td>\n",
              "      <td>0.000504</td>\n",
              "      <td>-0.001933</td>\n",
              "      <td>-0.000656</td>\n",
              "      <td>0.000858</td>\n",
              "      <td>-0.000018</td>\n",
              "      <td>-0.000653</td>\n",
              "      <td>-0.000625</td>\n",
              "      <td>0.000052</td>\n",
              "      <td>0.000937</td>\n",
              "      <td>-0.000684</td>\n",
              "      <td>-0.000096</td>\n",
              "      <td>0.000480</td>\n",
              "      <td>0.001133</td>\n",
              "      <td>-0.000525</td>\n",
              "      <td>-0.000332</td>\n",
              "      <td>-0.000887</td>\n",
              "      <td>-0.000052</td>\n",
              "      <td>-0.001460</td>\n",
              "      <td>0.001841</td>\n",
              "      <td>0.001366</td>\n",
              "    </tr>\n",
              "    <tr>\n",
              "      <th>146</th>\n",
              "      <td>-0.000645</td>\n",
              "      <td>0.001408</td>\n",
              "      <td>-0.000208</td>\n",
              "      <td>0.000056</td>\n",
              "      <td>0.000628</td>\n",
              "      <td>0.001802</td>\n",
              "      <td>-0.000778</td>\n",
              "      <td>0.000531</td>\n",
              "      <td>0.000113</td>\n",
              "      <td>0.000151</td>\n",
              "      <td>-0.003977</td>\n",
              "      <td>0.001036</td>\n",
              "      <td>0.000674</td>\n",
              "      <td>-0.000381</td>\n",
              "      <td>0.001227</td>\n",
              "      <td>-0.000207</td>\n",
              "      <td>0.000479</td>\n",
              "      <td>-0.000138</td>\n",
              "      <td>-0.000039</td>\n",
              "      <td>-0.001844</td>\n",
              "      <td>0.000913</td>\n",
              "      <td>-0.001191</td>\n",
              "      <td>0.000898</td>\n",
              "      <td>-0.000552</td>\n",
              "      <td>0.002125</td>\n",
              "      <td>0.002535</td>\n",
              "      <td>-0.001314</td>\n",
              "      <td>-0.002766</td>\n",
              "      <td>-0.000467</td>\n",
              "      <td>-0.001065</td>\n",
              "      <td>-0.001884</td>\n",
              "      <td>0.001636</td>\n",
              "      <td>-0.001137</td>\n",
              "      <td>-0.002402</td>\n",
              "      <td>-0.003165</td>\n",
              "      <td>0.000240</td>\n",
              "      <td>0.001044</td>\n",
              "      <td>-0.000515</td>\n",
              "      <td>0.000344</td>\n",
              "      <td>0.002444</td>\n",
              "      <td>...</td>\n",
              "      <td>0.000539</td>\n",
              "      <td>0.001712</td>\n",
              "      <td>-0.000107</td>\n",
              "      <td>-0.000348</td>\n",
              "      <td>-0.002301</td>\n",
              "      <td>-0.000054</td>\n",
              "      <td>0.001103</td>\n",
              "      <td>-0.001998</td>\n",
              "      <td>0.002815</td>\n",
              "      <td>-0.000834</td>\n",
              "      <td>-0.000501</td>\n",
              "      <td>-0.000393</td>\n",
              "      <td>0.002536</td>\n",
              "      <td>0.002325</td>\n",
              "      <td>-0.001435</td>\n",
              "      <td>0.001443</td>\n",
              "      <td>0.001978</td>\n",
              "      <td>-0.002167</td>\n",
              "      <td>-0.000471</td>\n",
              "      <td>0.001071</td>\n",
              "      <td>0.001036</td>\n",
              "      <td>0.002777</td>\n",
              "      <td>-0.002530</td>\n",
              "      <td>0.000625</td>\n",
              "      <td>-0.002826</td>\n",
              "      <td>0.001456</td>\n",
              "      <td>0.005088</td>\n",
              "      <td>0.002478</td>\n",
              "      <td>-0.000373</td>\n",
              "      <td>0.002481</td>\n",
              "      <td>-0.001718</td>\n",
              "      <td>-0.001615</td>\n",
              "      <td>0.000267</td>\n",
              "      <td>0.000181</td>\n",
              "      <td>0.000126</td>\n",
              "      <td>-0.004250</td>\n",
              "      <td>0.000243</td>\n",
              "      <td>0.002526</td>\n",
              "      <td>0.001350</td>\n",
              "      <td>0.002537</td>\n",
              "    </tr>\n",
              "    <tr>\n",
              "      <th>147</th>\n",
              "      <td>0.000592</td>\n",
              "      <td>0.000461</td>\n",
              "      <td>-0.002000</td>\n",
              "      <td>-0.001041</td>\n",
              "      <td>-0.001437</td>\n",
              "      <td>-0.000269</td>\n",
              "      <td>0.001514</td>\n",
              "      <td>-0.001491</td>\n",
              "      <td>0.001142</td>\n",
              "      <td>0.000052</td>\n",
              "      <td>0.000324</td>\n",
              "      <td>-0.000012</td>\n",
              "      <td>0.000126</td>\n",
              "      <td>0.000296</td>\n",
              "      <td>0.000328</td>\n",
              "      <td>0.000213</td>\n",
              "      <td>-0.000827</td>\n",
              "      <td>0.000137</td>\n",
              "      <td>0.000190</td>\n",
              "      <td>0.001987</td>\n",
              "      <td>-0.000207</td>\n",
              "      <td>0.000037</td>\n",
              "      <td>0.000897</td>\n",
              "      <td>-0.000546</td>\n",
              "      <td>-0.000150</td>\n",
              "      <td>-0.001294</td>\n",
              "      <td>-0.000563</td>\n",
              "      <td>0.000224</td>\n",
              "      <td>0.000243</td>\n",
              "      <td>-0.001486</td>\n",
              "      <td>-0.000524</td>\n",
              "      <td>-0.001519</td>\n",
              "      <td>0.000938</td>\n",
              "      <td>-0.000290</td>\n",
              "      <td>-0.000290</td>\n",
              "      <td>-0.000938</td>\n",
              "      <td>-0.000103</td>\n",
              "      <td>-0.000386</td>\n",
              "      <td>-0.000927</td>\n",
              "      <td>-0.001713</td>\n",
              "      <td>...</td>\n",
              "      <td>-0.000084</td>\n",
              "      <td>0.000253</td>\n",
              "      <td>-0.000235</td>\n",
              "      <td>0.000178</td>\n",
              "      <td>0.000767</td>\n",
              "      <td>0.000906</td>\n",
              "      <td>-0.000020</td>\n",
              "      <td>0.001262</td>\n",
              "      <td>0.001096</td>\n",
              "      <td>0.001203</td>\n",
              "      <td>-0.000153</td>\n",
              "      <td>0.000538</td>\n",
              "      <td>-0.000110</td>\n",
              "      <td>0.000176</td>\n",
              "      <td>0.000547</td>\n",
              "      <td>0.000098</td>\n",
              "      <td>-0.000745</td>\n",
              "      <td>0.002011</td>\n",
              "      <td>-0.000797</td>\n",
              "      <td>0.000396</td>\n",
              "      <td>-0.000114</td>\n",
              "      <td>0.000433</td>\n",
              "      <td>0.000361</td>\n",
              "      <td>-0.001573</td>\n",
              "      <td>-0.000603</td>\n",
              "      <td>0.000734</td>\n",
              "      <td>0.000639</td>\n",
              "      <td>0.001027</td>\n",
              "      <td>0.000825</td>\n",
              "      <td>-0.000011</td>\n",
              "      <td>0.000436</td>\n",
              "      <td>-0.001265</td>\n",
              "      <td>-0.000002</td>\n",
              "      <td>-0.000646</td>\n",
              "      <td>0.000008</td>\n",
              "      <td>0.000959</td>\n",
              "      <td>0.000230</td>\n",
              "      <td>-0.000664</td>\n",
              "      <td>0.003615</td>\n",
              "      <td>-0.001055</td>\n",
              "    </tr>\n",
              "    <tr>\n",
              "      <th>148</th>\n",
              "      <td>0.002424</td>\n",
              "      <td>0.002832</td>\n",
              "      <td>-0.002311</td>\n",
              "      <td>0.001982</td>\n",
              "      <td>0.002110</td>\n",
              "      <td>-0.001845</td>\n",
              "      <td>-0.000315</td>\n",
              "      <td>0.003255</td>\n",
              "      <td>0.002751</td>\n",
              "      <td>0.000371</td>\n",
              "      <td>0.000645</td>\n",
              "      <td>-0.001898</td>\n",
              "      <td>0.003158</td>\n",
              "      <td>-0.004287</td>\n",
              "      <td>-0.000756</td>\n",
              "      <td>-0.000889</td>\n",
              "      <td>-0.000979</td>\n",
              "      <td>0.002612</td>\n",
              "      <td>0.004435</td>\n",
              "      <td>-0.000138</td>\n",
              "      <td>0.001525</td>\n",
              "      <td>-0.000091</td>\n",
              "      <td>-0.000854</td>\n",
              "      <td>-0.003209</td>\n",
              "      <td>0.001614</td>\n",
              "      <td>-0.001481</td>\n",
              "      <td>0.000316</td>\n",
              "      <td>0.001841</td>\n",
              "      <td>0.000705</td>\n",
              "      <td>0.001554</td>\n",
              "      <td>-0.001809</td>\n",
              "      <td>0.000180</td>\n",
              "      <td>0.000287</td>\n",
              "      <td>0.001099</td>\n",
              "      <td>0.001980</td>\n",
              "      <td>-0.003663</td>\n",
              "      <td>-0.001646</td>\n",
              "      <td>-0.001348</td>\n",
              "      <td>-0.001120</td>\n",
              "      <td>0.001456</td>\n",
              "      <td>...</td>\n",
              "      <td>0.002524</td>\n",
              "      <td>0.000394</td>\n",
              "      <td>0.001019</td>\n",
              "      <td>0.001621</td>\n",
              "      <td>-0.004880</td>\n",
              "      <td>0.000525</td>\n",
              "      <td>0.000569</td>\n",
              "      <td>-0.001599</td>\n",
              "      <td>-0.001304</td>\n",
              "      <td>-0.000881</td>\n",
              "      <td>0.000800</td>\n",
              "      <td>-0.000859</td>\n",
              "      <td>0.004410</td>\n",
              "      <td>0.000798</td>\n",
              "      <td>0.005134</td>\n",
              "      <td>-0.003507</td>\n",
              "      <td>-0.002125</td>\n",
              "      <td>-0.005575</td>\n",
              "      <td>0.001036</td>\n",
              "      <td>0.000684</td>\n",
              "      <td>0.000326</td>\n",
              "      <td>-0.002776</td>\n",
              "      <td>-0.001389</td>\n",
              "      <td>0.004135</td>\n",
              "      <td>0.003249</td>\n",
              "      <td>-0.002613</td>\n",
              "      <td>0.001034</td>\n",
              "      <td>0.004185</td>\n",
              "      <td>0.004455</td>\n",
              "      <td>0.001350</td>\n",
              "      <td>-0.001249</td>\n",
              "      <td>-0.001008</td>\n",
              "      <td>0.002264</td>\n",
              "      <td>0.000507</td>\n",
              "      <td>0.001909</td>\n",
              "      <td>0.000893</td>\n",
              "      <td>0.001218</td>\n",
              "      <td>0.000118</td>\n",
              "      <td>-0.005903</td>\n",
              "      <td>0.003236</td>\n",
              "    </tr>\n",
              "  </tbody>\n",
              "</table>\n",
              "<p>149 rows × 636 columns</p>\n",
              "</div>"
            ],
            "text/plain": [
              "          AHR      AIRE      ALX1  ...   ZSCAN10   ZSCAN16    ZSCAN4\n",
              "0   -0.000364 -0.000941  0.001208  ...  0.004141  0.001396 -0.003466\n",
              "1    0.001235 -0.000466 -0.000138  ... -0.000541 -0.001764  0.001514\n",
              "2    0.000122  0.001049 -0.001532  ... -0.004594 -0.010885  0.001505\n",
              "3    0.000046 -0.001204 -0.000495  ... -0.001892  0.003917  0.000102\n",
              "4   -0.001310  0.000402  0.001262  ...  0.000550 -0.000597 -0.001304\n",
              "..        ...       ...       ...  ...       ...       ...       ...\n",
              "144 -0.000587  0.001975 -0.001422  ...  0.003580  0.003544 -0.002146\n",
              "145  0.001365 -0.000505  0.000452  ... -0.001460  0.001841  0.001366\n",
              "146 -0.000645  0.001408 -0.000208  ...  0.002526  0.001350  0.002537\n",
              "147  0.000592  0.000461 -0.002000  ... -0.000664  0.003615 -0.001055\n",
              "148  0.002424  0.002832 -0.002311  ...  0.000118 -0.005903  0.003236\n",
              "\n",
              "[149 rows x 636 columns]"
            ]
          },
          "metadata": {
            "tags": []
          },
          "execution_count": 26
        }
      ]
    },
    {
      "cell_type": "code",
      "metadata": {
        "id": "87hASlQ_1Bbw"
      },
      "source": [
        "[sex_tf_diff[(sex_tf_diff['diff_y'])>.4].tf.values,sex_tf_diff[(sex_tf_diff['diff_y'])<-0.4].tf.values] #,sex_tf_diff[np.abs(sex_tf_diff['diff_y'])>.4].tf]"
      ],
      "execution_count": null,
      "outputs": []
    },
    {
      "cell_type": "code",
      "metadata": {
        "id": "IfA5aKCmEBgc"
      },
      "source": [
        "for i, col in enumerate(TF_diffNull.columns):\n",
        "    # plt.figure(i)\n",
        "    tmp=sns.distplot(TF_diffNull[col])"
      ],
      "execution_count": null,
      "outputs": []
    },
    {
      "cell_type": "code",
      "metadata": {
        "id": "E7aaqYvZAu2e"
      },
      "source": [
        "for i, col in enumerate(gene_diffNull.columns):\n",
        "    # plt.figure(i)\n",
        "    tmp=sns.distplot(gene_diffNull[col])"
      ],
      "execution_count": null,
      "outputs": []
    },
    {
      "cell_type": "code",
      "metadata": {
        "id": "4nQRblCiCPlS"
      },
      "source": [
        "hist=np.histogram(np.array(TF_diffNull).flatten())#,log=False)\n",
        "stats.rv_histogram(hist)"
      ],
      "execution_count": null,
      "outputs": []
    },
    {
      "cell_type": "code",
      "metadata": {
        "id": "sqNqvYuZ3wMG"
      },
      "source": [
        "plt.hist(TF_diffNull.unstack(),log=True)"
      ],
      "execution_count": null,
      "outputs": []
    },
    {
      "cell_type": "code",
      "metadata": {
        "id": "-CeKcgiv39wk"
      },
      "source": [
        "plt.hist(TF_diffNull.unstack())"
      ],
      "execution_count": null,
      "outputs": []
    },
    {
      "cell_type": "code",
      "metadata": {
        "id": "aDKhmWpVEML9"
      },
      "source": [
        "sns.distplot(np.median(TF_diffNull,axis=1))\n",
        "sns.distplot(np.mean(TF_diffNull,axis=1))"
      ],
      "execution_count": null,
      "outputs": []
    },
    {
      "cell_type": "code",
      "metadata": {
        "id": "JpEgv6Rbt1LF"
      },
      "source": [
        ""
      ],
      "execution_count": null,
      "outputs": []
    },
    {
      "cell_type": "code",
      "metadata": {
        "id": "7ciWDHa9ockC"
      },
      "source": [
        "hist=np.histogram(np.array(TF_diffNull).flatten(),100)#,log=False)\n",
        "TF_dNull=stats.rv_histogram(hist)\n",
        "sampled_list = random.sample(set(mmm['diff']), 100)\n",
        "stat2, pvalue2 = stats.kstest(sampled_list, cdf=TF_dNull.cdf)#,args=(weight1, mean1, stdv1, mean2, stdv2))\n",
        "pvalue2"
      ],
      "execution_count": null,
      "outputs": []
    },
    {
      "cell_type": "code",
      "metadata": {
        "id": "ZVC3Qd7xzL8y"
      },
      "source": [
        "TFpvalue=pd.DataFrame()\n",
        "for i, col in enumerate(TF_diffNull.columns):\n",
        "  hist=np.histogram(np.array(TF_diffNull[col]))#.flatten())#,log=False)\n",
        "  TF_dNull=stats.rv_histogram(hist)\n",
        "  sampled_list = random.sample(set(mmm['diff']), 100)\n",
        "  stat2, pvalue2 = stats.kstest(sampled_list, cdf=TF_dNull.cdf)#,args=(weight1, mean1, stdv1, mean2, stdv2))\n",
        "  TFpvalue[i+1]=[pvalue2] #np.concatenate([pvalue,pvalue2],axis=0)\n",
        "TFpvalue=TFpvalue.T\n",
        "print(TFpvalue)"
      ],
      "execution_count": null,
      "outputs": []
    },
    {
      "cell_type": "code",
      "metadata": {
        "id": "hkEQPcqx2Eep"
      },
      "source": [
        "TFpvalue[TFpvalue<.005].dropna()"
      ],
      "execution_count": null,
      "outputs": []
    },
    {
      "cell_type": "code",
      "metadata": {
        "id": "4hbX_mwJ3vBH"
      },
      "source": [
        "Gpvalue=pd.DataFrame()\n",
        "for i, col in enumerate(gene_diffNull.columns):\n",
        "  hist=np.histogram(np.array(gene_diffNull[col]))#.flatten())#,log=False)\n",
        "  gene_dNull=stats.rv_histogram(hist)\n",
        "  sampled_list = random.sample(set(mmmm['diff']), 100)\n",
        "  stat2, pvalue2 = stats.kstest(sampled_list, cdf=gene_dNull.cdf)#,args=(weight1, mean1, stdv1, mean2, stdv2))\n",
        "  Gpvalue[i+1]=[pvalue2] #np.concatenate([pvalue,pvalue2],axis=0)\n",
        "Gpvalue=Gpvalue.T\n",
        "print(Gpvalue)"
      ],
      "execution_count": null,
      "outputs": []
    },
    {
      "cell_type": "code",
      "metadata": {
        "id": "OGbvrnEW6-C2"
      },
      "source": [
        "Gpvalue[Gpvalue<.005].dropna()"
      ],
      "execution_count": null,
      "outputs": []
    },
    {
      "cell_type": "markdown",
      "metadata": {
        "id": "dX4Ud-HNLTSV"
      },
      "source": [
        "#Age case v control (65yo)"
      ]
    },
    {
      "cell_type": "code",
      "metadata": {
        "id": "XFchVEvpMNto"
      },
      "source": [
        "# del data1['loc']\n",
        "# Age=(gse.phenotype_data['characteristics_ch1.0.age'].values).astype('float')>64\n",
        "# len(Age.astype('str'))\n",
        "# data1=pd.read_csv('drive/My Drive/Colab Notebooks/GSE76925.txt',sep='\\t',index_col=0)\n",
        "# data1\n",
        "# data1.columns=[Age.astype('str')+gse.phenotype_data['characteristics_ch1.5.copd'].values]\n",
        "\n",
        "# data1.loc[:,'Truecase'].to_csv('OldCase.txt',sep='\\t',index=True,header=False)\n",
        "# data1.loc[:,'Truecont'].to_csv('OldCont.txt',sep='\\t',index=True,header=False)\n",
        "[data1.loc[:,'Truecase'].shape,#.to_csv('OldCase.txt',sep='\\t',index=True,header=False)\n",
        "data1.loc[:,'Truecont'].shape,\n",
        "\n",
        "# # data4=data1[data1['age']<=65]\n",
        "# # del  data4['loc']\n",
        "# # data4.columns=[gse.phenotype_data['characteristics_ch1.1.Sex']+gse.phenotype_data['characteristics_ch1.5.copd']]\n",
        "# data1.loc[:,'Falsecase'].to_csv('YoungCase.txt',sep='\\t',index=True,header=False)\n",
        "# data1.loc[:,'Falsecont'].to_csv('YoungCont.txt',sep='\\t',index=True,header=False)\n",
        "data1.loc[:,'Falsecase'].shape,#.to_csv('YoungCase.txt',sep='\\t',index=True,header=False)\n",
        "data1.loc[:,'Falsecont'].shape]"
      ],
      "execution_count": null,
      "outputs": []
    },
    {
      "cell_type": "code",
      "metadata": {
        "id": "gzNNCvGPMRWh"
      },
      "source": [
        "LCL_ppi=pd.read_csv('https://granddb.s3.amazonaws.com/optPANDA/ppi/ppi_complete.txt',sep='\\t',header=None)\n",
        "LCL_ppi.to_csv('ppi_complete.txt',sep='\\t',index=False,header=False)\n",
        "\n",
        "coding_LCL_motif=pd.read_csv('https://granddb.s3.amazonaws.com/optPANDA/motifs/Hugo_motifCellLine.txt',sep='\\t',header=None)\n",
        "coding_LCL_motif.to_csv('coding_LCL_motif.txt',sep='\\t',index=False,header=False)\n",
        "\n",
        "motif_data='coding_LCL_motif.txt'\n",
        "ppi_data='ppi_complete.txt'"
      ],
      "execution_count": null,
      "outputs": []
    },
    {
      "cell_type": "code",
      "metadata": {
        "id": "PU39axBX7Q77"
      },
      "source": [
        "panda_obj1 = Panda('OldCase.txt', motif_data, ppi_data,computing='gpu',precision='single',save_tmp=False,save_memory = False, remove_missing=False, keep_expression_matrix = True,modeProcess = 'intersection')\n",
        "np.save('drive/My Drive/Panda_OldCase.npy',panda_obj1.export_panda_results)\n",
        "del panda_obj1\n",
        "panda_obj2 = Panda('OldCont.txt', motif_data, ppi_data,computing='gpu',precision='single',save_tmp=False,save_memory = False, remove_missing=False, keep_expression_matrix = True,modeProcess = 'intersection')\n",
        "np.save('drive/My Drive/Panda_OldCont.npy',panda_obj2.export_panda_results)\n",
        "del panda_obj2\n",
        "panda_obj3 = Panda('YoungCase.txt', motif_data, ppi_data,computing='gpu',precision='single',save_tmp=False,save_memory = False, remove_missing=False, keep_expression_matrix = True,modeProcess = 'intersection')\n",
        "np.save('drive/My Drive/Panda_YoungCase.npy',panda_obj3.export_panda_results)\n",
        "del panda_obj3\n",
        "panda_obj4 = Panda('YoungCont.txt', motif_data, ppi_data,computing='gpu',precision='single',save_tmp=False,save_memory = False, remove_missing=False, keep_expression_matrix = True,modeProcess = 'intersection')\n",
        "np.save('drive/My Drive/Panda_YoungCont.npy',panda_obj4.export_panda_results)\n",
        "del panda_obj4\n"
      ],
      "execution_count": null,
      "outputs": []
    },
    {
      "cell_type": "code",
      "metadata": {
        "id": "EmA2YJXYTFcM"
      },
      "source": [
        "Panda_OldCase=np.load('drive/My Drive/Colab Notebooks/Panda_OldCase.npy',allow_pickle=True)#,sep='\\t',index_col=0,header=None,names=['loc','symbol'])\n",
        "Panda_OldCont=np.load('drive/My Drive/Colab Notebooks/Panda_OldCont.npy',allow_pickle=True)#,sep='\\t',index_col=0,header=None,names=['loc','symbol'])\n",
        "Panda_OldCont=pd.DataFrame(Panda_OldCont)\n",
        "Panda_OldCont.columns=['tf','gene','motif','force']\n",
        "Panda_OldCase=pd.DataFrame(Panda_OldCase)\n",
        "Panda_OldCase.columns=['tf','gene','motif','force']\n",
        "\n",
        "Panda_YoungCase=np.load('drive/My Drive/Colab Notebooks/Panda_YoungCase.npy',allow_pickle=True)#,sep='\\t',index_col=0,header=None,names=['loc','symbol'])\n",
        "Panda_YoungCont=np.load('drive/My Drive/Colab Notebooks/Panda_YoungCont.npy',allow_pickle=True)#,sep='\\t',index_col=0,header=None,names=['loc','symbol'])\n",
        "Panda_YoungCont=pd.DataFrame(Panda_YoungCont)\n",
        "Panda_YoungCont.columns=['tf','gene','motif','force']\n",
        "Panda_YoungCase=pd.DataFrame(Panda_YoungCase)\n",
        "Panda_YoungCase.columns=['tf','gene','motif','force']"
      ],
      "execution_count": null,
      "outputs": []
    },
    {
      "cell_type": "markdown",
      "metadata": {
        "id": "T3jSwAJVRT71"
      },
      "source": [
        "#TF and gene specific zscore diff OLD, YOUNG"
      ]
    },
    {
      "cell_type": "code",
      "metadata": {
        "id": "d5KtPm3PQ6UR"
      },
      "source": [
        "from scipy.stats import zscore\n",
        "# Panda_nullA.panda_results = pd.DataFrame(Panda_nullA.export_panda_results, columns=['tf','gene','motif','force'])\n",
        "subset_panda_results3 = Panda_OldCase.sort_values(by=['force'], ascending=False)\n",
        "# subset_panda_results3['merge']=subset_panda_results3.tf+'-'+subset_panda_results3.gene\n",
        "\n",
        "# Panda_nullB.panda_results = pd.DataFrame(Panda_nullB.export_panda_results, columns=['tf','gene','motif','force'])\n",
        "subset_panda_results1 = Panda_OldCont.sort_values(by=['force'], ascending=False)\n",
        "# subset_panda_results1['merge']=subset_panda_results1.tf+'-'+subset_panda_results1.gene\n",
        "del subset_panda_results3['motif'],subset_panda_results1['motif']\n",
        "TFsum_3=subset_panda_results3.groupby(['tf']).agg({'force':sum})\n",
        "TFsum_1=subset_panda_results1.groupby(['tf']).agg({'force':sum})\n",
        "TFsum_1['force']=zscore(TFsum_1['force'])\n",
        "TFsum_3['force']=zscore(TFsum_3['force']) ##reduces range from 1500 to 3\n",
        "\n",
        "geneSum_3=subset_panda_results3.groupby(['gene']).agg({'force':sum})\n",
        "geneSum_1=subset_panda_results1.groupby(['gene']).agg({'force':sum})\n",
        "geneSum_3['force']=zscore(geneSum_3['force'])\n",
        "geneSum_1['force']=zscore(geneSum_1['force'])\n",
        "\n",
        "mmm=TFsum_3.merge(TFsum_1, left_on=['tf'], right_on=['tf'])\n",
        "mmmm=geneSum_3.merge(geneSum_1, left_on=['gene'], right_on=['gene'])\n",
        "\n",
        "del [[subset_panda_results3, subset_panda_results1,Panda_OldCont,Panda_OldCase]]\n",
        "gc.collect()\n",
        "subset_panda_results3=pd.DataFrame()\n",
        "subset_panda_results1=pd.DataFrame()\n",
        "Panda_FcontFULL=pd.DataFrame()\n",
        "Panda_FcontFULL=pd.DataFrame()\n",
        "\n",
        "\n",
        "mmm['diff']=mmm.force_x-mmm.force_y\n",
        "mmm = mmm.sort_values(by ='diff' )\n",
        "\n",
        "\n",
        "mmmm['diff']=mmmm.force_x-mmmm.force_y\n",
        "mmmm = mmmm.sort_values(by ='diff' )\n",
        "mmm.to_csv('drive/My Drive/TF_zscore_O.txt',sep='\\t')\n",
        "mmmm.to_csv('drive/My Drive/gene_zscore_O.txt',sep='\\t',index=0)"
      ],
      "execution_count": null,
      "outputs": []
    },
    {
      "cell_type": "code",
      "metadata": {
        "id": "a5I7BBWARcjJ"
      },
      "source": [
        "\n",
        "# Panda_nullA.panda_results = pd.DataFrame(Panda_nullA.export_panda_results, columns=['tf','gene','motif','force'])\n",
        "subset_panda_results3 = Panda_YoungCase.sort_values(by=['force'], ascending=False)\n",
        "# subset_panda_results3['merge']=subset_panda_results3.tf+'-'+subset_panda_results3.gene\n",
        "\n",
        "# Panda_nullB.panda_results = pd.DataFrame(Panda_nullB.export_panda_results, columns=['tf','gene','motif','force'])\n",
        "subset_panda_results1 = Panda_YoungCont.sort_values(by=['force'], ascending=False)\n",
        "# subset_panda_results1['merge']=subset_panda_results1.tf+'-'+subset_panda_results1.gene\n",
        "del subset_panda_results3['motif'],subset_panda_results1['motif']\n",
        "TFsum_3=subset_panda_results3.groupby(['tf']).agg({'force':sum})\n",
        "TFsum_1=subset_panda_results1.groupby(['tf']).agg({'force':sum})\n",
        "TFsum_1['force']=zscore(TFsum_1['force'])\n",
        "TFsum_3['force']=zscore(TFsum_3['force'])\n",
        "\n",
        "geneSum_3=subset_panda_results3.groupby(['gene']).agg({'force':sum})\n",
        "geneSum_1=subset_panda_results1.groupby(['gene']).agg({'force':sum})\n",
        "geneSum_3['force']=zscore(geneSum_3['force'])\n",
        "geneSum_1['force']=zscore(geneSum_1['force'])\n",
        "\n",
        "nnn=TFsum_3.merge(TFsum_1, left_on=['tf'], right_on=['tf'])\n",
        "nnnn=geneSum_3.merge(geneSum_1, left_on=['gene'], right_on=['gene'])\n",
        "\n",
        "del [[subset_panda_results3, subset_panda_results1,Panda_YoungCase,Panda_YoungCont]]\n",
        "gc.collect()\n",
        "subset_panda_results3=pd.DataFrame()\n",
        "subset_panda_results1=pd.DataFrame()\n",
        "Panda_Mcont=pd.DataFrame()\n",
        "Panda_Mcase=pd.DataFrame()\n",
        "\n",
        "\n",
        "nnn['diff']=nnn.force_x-nnn.force_y\n",
        "nnn = nnn.sort_values(by ='diff' )\n",
        "\n",
        "\n",
        "nnnn['diff']=nnnn.force_x-nnnn.force_y\n",
        "nnnn = nnnn.sort_values(by ='diff' )\n",
        "nnn.to_csv('drive/My Drive/TF_zscore_Y.txt',sep='\\t')\n",
        "nnnn.to_csv('drive/My Drive/gene_zscore_Y.txt',sep='\\t')\n"
      ],
      "execution_count": null,
      "outputs": []
    },
    {
      "cell_type": "code",
      "metadata": {
        "id": "84sc0fr-VVJh"
      },
      "source": [
        "ff=pd.read_csv('drive/My Drive/TF_zscore_O.txt',sep='\\t',header=0)\n",
        "fff=pd.read_csv('drive/My Drive/gene_zscore_O.txt',sep='\\t',header=0)\n",
        "mm=pd.read_csv('drive/My Drive/TF_zscore_Y.txt',sep='\\t',header=0)\n",
        "mmm=pd.read_csv('drive/My Drive/gene_zscore_Y.txt',sep='\\t',header=0)\n",
        "sex_tf_diff=ff.merge(mm,on='tf')\n",
        "# sex_gene_diff=fff.merge(mmm,on='gene')\n",
        " \n",
        "plt.figure(figsize=(15,6))\n",
        "sex_tf_diff['sexdiff']=sex_tf_diff['diff_x']-sex_tf_diff['diff_y']\n",
        "# sex_tf_diff=sex_tf_diff.sort_values(by=['sexdiff'])\n",
        "sex_tf_diff=sex_tf_diff.sort_values(by=['tf'])\n",
        "sns.barplot(data=sex_tf_diff,y='sexdiff',x='tf')"
      ],
      "execution_count": null,
      "outputs": []
    },
    {
      "cell_type": "code",
      "metadata": {
        "id": "zLMHwaMBRsmc"
      },
      "source": [
        "a=plt.hist(sex_tf_diff['diff_x'],bins=100,label='<65',color='c')\n",
        "b=plt.hist(sex_tf_diff['diff_y'],bins=100,label='>=65',color='m')\n",
        "plt.title('Age-specific Ca-Co TF degree diff')\n",
        "plt.legend(loc=\"best\")"
      ],
      "execution_count": null,
      "outputs": []
    },
    {
      "cell_type": "code",
      "metadata": {
        "id": "5RCpdCYeUPg-"
      },
      "source": [
        "# [sex_tf_diff[np.abs(sex_tf_diff['diff_x'])>.4].tf,\n",
        "sex_tf_diff#[np.abs(sex_tf_diff['diff_y'])>.4].tf]"
      ],
      "execution_count": null,
      "outputs": []
    },
    {
      "cell_type": "markdown",
      "metadata": {
        "id": "GPFgR6DHv4zS"
      },
      "source": [
        "#LTCOPD DE"
      ]
    },
    {
      "cell_type": "code",
      "metadata": {
        "id": "YnTeKi6Qv3_B"
      },
      "source": [
        "LTCOPD_DE=pd.read_csv(\"drive/My Drive/LTCOPD_sex_DE_covar.txt\",sep='\\t')\n",
        "LTRC_DE=pd.read_csv(\"drive/My Drive/LTRC_sex_DE_covar.txt\",sep='\\t')"
      ],
      "execution_count": null,
      "outputs": []
    },
    {
      "cell_type": "code",
      "metadata": {
        "id": "2mI64kEerMNQ"
      },
      "source": [
        "LTCOPD_DE"
      ],
      "execution_count": null,
      "outputs": []
    },
    {
      "cell_type": "code",
      "metadata": {
        "id": "sK01lRdDv-Kh"
      },
      "source": [
        "LTRC_DE"
      ],
      "execution_count": null,
      "outputs": []
    },
    {
      "cell_type": "code",
      "metadata": {
        "id": "P9x9Kp94wlY1"
      },
      "source": [
        ""
      ],
      "execution_count": null,
      "outputs": []
    }
  ]
}