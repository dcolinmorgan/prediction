{
  "nbformat": 4,
  "nbformat_minor": 0,
  "metadata": {
    "kernelspec": {
      "display_name": "Python 3",
      "language": "python",
      "name": "python3"
    },
    "language_info": {
      "codemirror_mode": {
        "name": "ipython",
        "version": 3
      },
      "file_extension": ".py",
      "mimetype": "text/x-python",
      "name": "python",
      "nbconvert_exporter": "python",
      "pygments_lexer": "ipython3",
      "version": "3.6.7"
    },
    "colab": {
      "name": "forecast_lstm_stock.ipynb",
      "provenance": [],
      "collapsed_sections": [],
      "include_colab_link": true
    }
  },
  "cells": [
    {
      "cell_type": "markdown",
      "metadata": {
        "id": "view-in-github",
        "colab_type": "text"
      },
      "source": [
        "<a href=\"https://colab.research.google.com/github/dcolinmorgan/test/blob/master/forecast_lstm_stock.ipynb\" target=\"_parent\"><img src=\"https://colab.research.google.com/assets/colab-badge.svg\" alt=\"Open In Colab\"/></a>"
      ]
    },
    {
      "cell_type": "code",
      "metadata": {
        "id": "rn5_kKiVWCHi",
        "colab": {
          "base_uri": "https://localhost:8080/",
          "height": 193
        },
        "outputId": "d6755654-7c14-43e1-bc45-3b798798b078"
      },
      "source": [
        "import numpy as np\n",
        "import pandas as pd\n",
        "from pandas.tseries.offsets import DateOffset\n",
        "from sklearn.preprocessing import MinMaxScaler\n",
        "\n",
        "import tensorflow as tf\n",
        "from tensorflow import keras\n",
        "\n",
        "from tensorflow.keras.preprocessing.sequence import TimeseriesGenerator\n",
        "from tensorflow.keras.models import Sequential\n",
        "from tensorflow.keras.layers import Dense\n",
        "from tensorflow.keras.layers import LSTM\n",
        "from tensorflow.keras.layers import Dropout\n",
        "import warnings\n",
        "warnings.filterwarnings(\"ignore\")\n",
        "\n",
        "!pip install chart_studio\n",
        "import chart_studio.plotly as py\n",
        "import plotly.offline as pyoff\n",
        "import plotly.graph_objs as go\n",
        "pyoff.init_notebook_mode(connected=True)"
      ],
      "execution_count": 7,
      "outputs": [
        {
          "output_type": "stream",
          "text": [
            "Requirement already satisfied: chart_studio in /usr/local/lib/python3.6/dist-packages (1.1.0)\n",
            "Requirement already satisfied: retrying>=1.3.3 in /usr/local/lib/python3.6/dist-packages (from chart_studio) (1.3.3)\n",
            "Requirement already satisfied: requests in /usr/local/lib/python3.6/dist-packages (from chart_studio) (2.23.0)\n",
            "Requirement already satisfied: plotly in /usr/local/lib/python3.6/dist-packages (from chart_studio) (4.4.1)\n",
            "Requirement already satisfied: six in /usr/local/lib/python3.6/dist-packages (from chart_studio) (1.15.0)\n",
            "Requirement already satisfied: idna<3,>=2.5 in /usr/local/lib/python3.6/dist-packages (from requests->chart_studio) (2.10)\n",
            "Requirement already satisfied: chardet<4,>=3.0.2 in /usr/local/lib/python3.6/dist-packages (from requests->chart_studio) (3.0.4)\n",
            "Requirement already satisfied: certifi>=2017.4.17 in /usr/local/lib/python3.6/dist-packages (from requests->chart_studio) (2020.12.5)\n",
            "Requirement already satisfied: urllib3!=1.25.0,!=1.25.1,<1.26,>=1.21.1 in /usr/local/lib/python3.6/dist-packages (from requests->chart_studio) (1.24.3)\n"
          ],
          "name": "stdout"
        },
        {
          "output_type": "display_data",
          "data": {
            "text/html": [
              "        <script type=\"text/javascript\">\n",
              "        window.PlotlyConfig = {MathJaxConfig: 'local'};\n",
              "        if (window.MathJax) {MathJax.Hub.Config({SVG: {font: \"STIX-Web\"}});}\n",
              "        if (typeof require !== 'undefined') {\n",
              "        require.undef(\"plotly\");\n",
              "        requirejs.config({\n",
              "            paths: {\n",
              "                'plotly': ['https://cdn.plot.ly/plotly-latest.min']\n",
              "            }\n",
              "        });\n",
              "        require(['plotly'], function(Plotly) {\n",
              "            window._Plotly = Plotly;\n",
              "        });\n",
              "        }\n",
              "        </script>\n",
              "        "
            ]
          },
          "metadata": {
            "tags": []
          }
        }
      ]
    },
    {
      "cell_type": "code",
      "metadata": {
        "id": "2Bt1zoQFabNx"
      },
      "source": [
        "import numpy as np\n",
        "import matplotlib.pyplot as plt\n",
        "import pandas_datareader as pdr\n",
        "import datetime as dt\n",
        "from datetime import timedelta\n",
        "import pandas as pd\n",
        "import tensorflow as tf\n",
        "from sklearn.preprocessing import MinMaxScaler\n",
        "def plot_series(time, series, format=\"-\", start=0, end=None):\n",
        "    plt.plot(time[start:end], series[start:end], format)\n",
        "    plt.xlabel(\"Time\")\n",
        "    plt.ylabel(\"Value\")\n",
        "    \n",
        "    plt.grid(True)"
      ],
      "execution_count": 8,
      "outputs": []
    },
    {
      "cell_type": "code",
      "metadata": {
        "id": "GoVjKWKCadqc"
      },
      "source": [
        "f = pdr.DataReader('ticker=RGDPUS', 'econdb')\n",
        "today=dt.datetime.today().strftime(\"%Y-%m-%d\")\n",
        "thirtyya=str(int(str(today).split('-')[0])-30)+'-'+str(today).split('-')[1]+'-'+str(today).split('-')[2]"
      ],
      "execution_count": 9,
      "outputs": []
    },
    {
      "cell_type": "code",
      "metadata": {
        "id": "9_DVxDnXaf_W",
        "colab": {
          "base_uri": "https://localhost:8080/",
          "height": 296
        },
        "outputId": "be3bf1f7-fdbd-434a-e2d8-5e748e6a6555"
      },
      "source": [
        "portfolio = ['TSLA','CPE','TCEHY','JD','NYMT']#\"UCO\",\"NYMT\", \"SPOT\", \"TWTR\",\"NCLH\",'SAVE',\"SNAP\",'PLTR',\"IQ\",'NIO','EUFN']#,'DBX','FLXN','ZNGA','OCUL','WEAT','CLDR','SPWR','NRGU','IPOB','VKTX']\n",
        "multpl_stocks = pdr.get_data_yahoo(portfolio,\n",
        "start = thirtyya,\n",
        "end = today)\n",
        "multpl_stock_daily_returns = multpl_stocks['Adj Close'].pct_change()\n",
        "multpl_stock_monthly_returns = multpl_stocks['Adj Close'].resample('M').ffill().pct_change()\n",
        "fig = plt.figure()\n",
        "(multpl_stock_monthly_returns + 1).cumprod().plot()\n",
        "plt.show()\n"
      ],
      "execution_count": 10,
      "outputs": [
        {
          "output_type": "display_data",
          "data": {
            "text/plain": [
              "<Figure size 432x288 with 0 Axes>"
            ]
          },
          "metadata": {
            "tags": []
          }
        },
        {
          "output_type": "display_data",
          "data": {
            "image/png": "[encoded data removed]",
            "text/plain": [
              "<Figure size 432x288 with 1 Axes>"
            ]
          },
          "metadata": {
            "tags": [],
            "needs_background": "light"
          }
        }
      ]
    },
    {
      "cell_type": "code",
      "metadata": {
        "id": "KY93ho87anQt"
      },
      "source": [
        "\n",
        "portfolio = ['NYMT']#'TCEHY','JD','NYMT']#\"UCO\",\"NYMT\", \"SPOT\", \"TWTR\",\"NCLH\",'SAVE',\"SNAP\",'PLTR',\"IQ\",'NIO','EUFN']#,'DBX','FLXN','ZNGA','OCUL','WEAT','CLDR','SPWR','NRGU','IPOB','VKTX']\n",
        "stock_data = pdr.get_data_yahoo(portfolio,\n",
        "start = thirtyya,\n",
        "end = today,)\n",
        "stock_data=stock_data[['Open', 'High', 'Low', 'Volume', 'Close']]\n",
        "\n",
        "base = dt.datetime.today()\n",
        "date_list = [base + dt.timedelta(days=x) for x in range(90)]\n",
        "date_list=pd.DataFrame(date_list,columns=['AB'])\n",
        "date_list['AB']=date_list['AB'].astype(str)\n",
        "date_list[['A', 'B']] = date_list['AB'].str.split(' ', 1, expand=True)\n",
        "del date_list['AB'], date_list['B']\n",
        "d = pd.DataFrame(0, index=date_list[1:]['A'], columns=stock_data.columns)\n",
        "d.index=pd.DatetimeIndex(d.index)\n",
        "stock_data=stock_data.append(d)\n",
        "stock_data=stock_data[::-1]\n",
        "# y=y[::-1]\n",
        "input_feature = stock_data[['Open', 'High', 'Low', 'Volume', 'Close']]\n",
        "input_data = input_feature.values\n",
        "\n",
        "\n",
        "scaler = MinMaxScaler(feature_range=(0,1))\n",
        "input_data = scaler.fit_transform(stock_data)\n",
        "\n",
        "\n"
      ],
      "execution_count": 181,
      "outputs": []
    },
    {
      "cell_type": "code",
      "metadata": {
        "id": "uwQtCZw1anTj",
        "colab": {
          "base_uri": "https://localhost:8080/",
          "height": 424
        },
        "outputId": "d7a697a5-62c5-442f-b878-272b26150dd4"
      },
      "source": [
        "# stock_data.index.str.split('       ')#[1]\n",
        "# stock_data.index.str.split('00:00:00')\n",
        "stock_data['Date']=stock_data.index\n",
        "stock_data.columns=['Open','High','Low','Volume','Close','Date']\n",
        "# stock_data=stock_data.reset_index\n",
        "stock_data.reindex(index=stock_data.index[::-1])\n",
        "stock_data.reset_index(inplace=True)\n",
        "del stock_data['index']\n",
        "stock_data"
      ],
      "execution_count": 182,
      "outputs": [
        {
          "output_type": "execute_result",
          "data": {
            "text/html": [
              "<div>\n",
              "<style scoped>\n",
              "    .dataframe tbody tr th:only-of-type {\n",
              "        vertical-align: middle;\n",
              "    }\n",
              "\n",
              "    .dataframe tbody tr th {\n",
              "        vertical-align: top;\n",
              "    }\n",
              "\n",
              "    .dataframe thead th {\n",
              "        text-align: right;\n",
              "    }\n",
              "</style>\n",
              "<table border=\"1\" class=\"dataframe\">\n",
              "  <thead>\n",
              "    <tr style=\"text-align: right;\">\n",
              "      <th></th>\n",
              "      <th>Open</th>\n",
              "      <th>High</th>\n",
              "      <th>Low</th>\n",
              "      <th>Volume</th>\n",
              "      <th>Close</th>\n",
              "      <th>Date</th>\n",
              "    </tr>\n",
              "  </thead>\n",
              "  <tbody>\n",
              "    <tr>\n",
              "      <th>0</th>\n",
              "      <td>0.000000</td>\n",
              "      <td>0.000000</td>\n",
              "      <td>0.000000</td>\n",
              "      <td>0.0</td>\n",
              "      <td>0.000000</td>\n",
              "      <td>2021-03-26</td>\n",
              "    </tr>\n",
              "    <tr>\n",
              "      <th>1</th>\n",
              "      <td>0.000000</td>\n",
              "      <td>0.000000</td>\n",
              "      <td>0.000000</td>\n",
              "      <td>0.0</td>\n",
              "      <td>0.000000</td>\n",
              "      <td>2021-03-25</td>\n",
              "    </tr>\n",
              "    <tr>\n",
              "      <th>2</th>\n",
              "      <td>0.000000</td>\n",
              "      <td>0.000000</td>\n",
              "      <td>0.000000</td>\n",
              "      <td>0.0</td>\n",
              "      <td>0.000000</td>\n",
              "      <td>2021-03-24</td>\n",
              "    </tr>\n",
              "    <tr>\n",
              "      <th>3</th>\n",
              "      <td>0.000000</td>\n",
              "      <td>0.000000</td>\n",
              "      <td>0.000000</td>\n",
              "      <td>0.0</td>\n",
              "      <td>0.000000</td>\n",
              "      <td>2021-03-23</td>\n",
              "    </tr>\n",
              "    <tr>\n",
              "      <th>4</th>\n",
              "      <td>0.000000</td>\n",
              "      <td>0.000000</td>\n",
              "      <td>0.000000</td>\n",
              "      <td>0.0</td>\n",
              "      <td>0.000000</td>\n",
              "      <td>2021-03-22</td>\n",
              "    </tr>\n",
              "    <tr>\n",
              "      <th>...</th>\n",
              "      <td>...</td>\n",
              "      <td>...</td>\n",
              "      <td>...</td>\n",
              "      <td>...</td>\n",
              "      <td>...</td>\n",
              "      <td>...</td>\n",
              "    </tr>\n",
              "    <tr>\n",
              "      <th>4220</th>\n",
              "      <td>87.500000</td>\n",
              "      <td>87.599998</td>\n",
              "      <td>87.000000</td>\n",
              "      <td>8000.0</td>\n",
              "      <td>87.400002</td>\n",
              "      <td>2004-07-30</td>\n",
              "    </tr>\n",
              "    <tr>\n",
              "      <th>4221</th>\n",
              "      <td>88.400002</td>\n",
              "      <td>89.000000</td>\n",
              "      <td>88.000000</td>\n",
              "      <td>1300.0</td>\n",
              "      <td>88.500000</td>\n",
              "      <td>2004-07-29</td>\n",
              "    </tr>\n",
              "    <tr>\n",
              "      <th>4222</th>\n",
              "      <td>88.500000</td>\n",
              "      <td>88.699997</td>\n",
              "      <td>88.300003</td>\n",
              "      <td>1200.0</td>\n",
              "      <td>88.599998</td>\n",
              "      <td>2004-07-28</td>\n",
              "    </tr>\n",
              "    <tr>\n",
              "      <th>4223</th>\n",
              "      <td>89.199997</td>\n",
              "      <td>89.199997</td>\n",
              "      <td>88.500000</td>\n",
              "      <td>900.0</td>\n",
              "      <td>88.699997</td>\n",
              "      <td>2004-07-27</td>\n",
              "    </tr>\n",
              "    <tr>\n",
              "      <th>4224</th>\n",
              "      <td>89.800003</td>\n",
              "      <td>90.000000</td>\n",
              "      <td>89.000000</td>\n",
              "      <td>1000.0</td>\n",
              "      <td>89.599998</td>\n",
              "      <td>2004-07-26</td>\n",
              "    </tr>\n",
              "  </tbody>\n",
              "</table>\n",
              "<p>4225 rows × 6 columns</p>\n",
              "</div>"
            ],
            "text/plain": [
              "           Open       High        Low  Volume      Close       Date\n",
              "0      0.000000   0.000000   0.000000     0.0   0.000000 2021-03-26\n",
              "1      0.000000   0.000000   0.000000     0.0   0.000000 2021-03-25\n",
              "2      0.000000   0.000000   0.000000     0.0   0.000000 2021-03-24\n",
              "3      0.000000   0.000000   0.000000     0.0   0.000000 2021-03-23\n",
              "4      0.000000   0.000000   0.000000     0.0   0.000000 2021-03-22\n",
              "...         ...        ...        ...     ...        ...        ...\n",
              "4220  87.500000  87.599998  87.000000  8000.0  87.400002 2004-07-30\n",
              "4221  88.400002  89.000000  88.000000  1300.0  88.500000 2004-07-29\n",
              "4222  88.500000  88.699997  88.300003  1200.0  88.599998 2004-07-28\n",
              "4223  89.199997  89.199997  88.500000   900.0  88.699997 2004-07-27\n",
              "4224  89.800003  90.000000  89.000000  1000.0  89.599998 2004-07-26\n",
              "\n",
              "[4225 rows x 6 columns]"
            ]
          },
          "metadata": {
            "tags": []
          },
          "execution_count": 182
        }
      ]
    },
    {
      "cell_type": "code",
      "metadata": {
        "id": "PNkyypwRanWL"
      },
      "source": [
        "stock_data.reindex(index=stock_data.index[::-1])\n",
        "\n",
        "df2=stock_data[['Date','Close']]\n",
        "df2.index=df2['Date']\n",
        "del df2['Date']\n",
        "df2=df2[89:]\n",
        "df2=df2[::-1]"
      ],
      "execution_count": 183,
      "outputs": []
    },
    {
      "cell_type": "code",
      "metadata": {
        "id": "NdEGdau0WCHl"
      },
      "source": [
        "train = df2\n",
        "scaler = MinMaxScaler()\n",
        "scaler.fit(train)\n",
        "train = scaler.transform(train)\n",
        "n_input = 61\n",
        "n_features = 1\n",
        "generator = TimeseriesGenerator(train,train,sampling_rate=1, length=n_input, batch_size=6)\n",
        "\n",
        "# train_x=train[0:2999]\n",
        "# train_y=train[3000:5999]\n",
        "train_x=train[:-366]\n",
        "train_y=train[-366:]\n",
        "\n",
        "training_sequence = TimeseriesGenerator(train_x, train_x,sampling_rate=1, length=n_input, batch_size=6)\n",
        "validation_sequence = TimeseriesGenerator(train_y, train_y,sampling_rate=1, stride=30, length=n_input, batch_size=6)"
      ],
      "execution_count": 388,
      "outputs": []
    },
    {
      "cell_type": "code",
      "metadata": {
        "id": "OZxby5SGnVC8"
      },
      "source": [
        "from keras.callbacks import EarlyStopping, LearningRateScheduler,ModelCheckpoint, ReduceLROnPlateau\n",
        "\n",
        "callbacks = [\n",
        "    LearningRateScheduler(lambda epoch: 1e-6 * 10**(epoch / 20)),\n",
        "    EarlyStopping(patience=3, verbose=1),#monitor='loss'),\n",
        "    # ReduceLROnPlateau(factor=0.1, patience=3, min_lr=0.00001, verbose=1),\n",
        "    ModelCheckpoint('model.h5', verbose=1, save_best_only=True, save_weights_only=False)\n",
        "]"
      ],
      "execution_count": 412,
      "outputs": []
    },
    {
      "cell_type": "code",
      "metadata": {
        "id": "HxncpnXlWCHm"
      },
      "source": [
        "import keras\n",
        "from keras import Sequential\n",
        "from keras.layers import Dense, LSTM, Conv1D, Bidirectional, Lambda\n",
        "\n",
        "model = Sequential()\n",
        "# model.add(Conv1D(filters=32, kernel_size=5,strides=1, padding=\"causal\",\n",
        "#                  activation=\"relu\",input_shape=[n_input, n_features])),\n",
        "model.add(LSTM(200, activation='relu',return_sequences=True, input_shape=(n_input, n_features)))\n",
        "# model.add(LSTM(200, activation='relu', input_shape=(n_input, n_features)))\n",
        "\n",
        "model.add(Bidirectional(LSTM(20, activation='relu'))),\n",
        "\n",
        "# model.add(LSTM(50)),\n",
        "model.add(Dropout(0.15)),\n",
        "model.add(Dense(1))\n",
        "\n",
        "\n",
        "# optimizer = tf.keras.optimizers.SGD(lr=1e-5, momentum=0.9)\n",
        "# model.compile(loss='tf.keras.losses.Huber()',optimizer=optimizer,metrics=[\"mae\"])\n",
        "optimizer = keras.optimizers.Adam(learning_rate=0.001)\n",
        "model.compile(optimizer=optimizer, loss='mse',metrics=[['accuracy', 'mse']])"
      ],
      "execution_count": 393,
      "outputs": []
    },
    {
      "cell_type": "code",
      "metadata": {
        "colab": {
          "base_uri": "https://localhost:8080/"
        },
        "id": "G5oYRqfbrU9D",
        "outputId": "07f150e8-0f0d-45eb-e299-b2ad3ac7b319"
      },
      "source": [
        "model.summary()"
      ],
      "execution_count": 394,
      "outputs": [
        {
          "output_type": "stream",
          "text": [
            "Model: \"sequential_48\"\n",
            "_________________________________________________________________\n",
            "Layer (type)                 Output Shape              Param #   \n",
            "=================================================================\n",
            "lstm_94 (LSTM)               (None, 61, 200)           161600    \n",
            "_________________________________________________________________\n",
            "bidirectional_19 (Bidirectio (None, 40)                35360     \n",
            "_________________________________________________________________\n",
            "dropout_43 (Dropout)         (None, 40)                0         \n",
            "_________________________________________________________________\n",
            "dense_56 (Dense)             (None, 1)                 41        \n",
            "=================================================================\n",
            "Total params: 197,001\n",
            "Trainable params: 197,001\n",
            "Non-trainable params: 0\n",
            "_________________________________________________________________\n"
          ],
          "name": "stdout"
        }
      ]
    },
    {
      "cell_type": "code",
      "metadata": {
        "id": "jFlHzg5OWCHn",
        "colab": {
          "base_uri": "https://localhost:8080/"
        },
        "outputId": "91d43af5-dd2c-470b-dab2-abd4dfbbc0e3"
      },
      "source": [
        "# history = model.fit_generator(generator,epochs=100,callbacks=callbacks,verbose=1)\n",
        "history =model.fit_generator(training_sequence, epochs=100, callbacks=callbacks,validation_data=validation_sequence)\n",
        "\n",
        "# history =model.fit(training_sequence, epochs=100, callbacks=callbacks,validation_data=validation_sequence)\n"
      ],
      "execution_count": 395,
      "outputs": [
        {
          "output_type": "stream",
          "text": [
            "Epoch 1/100\n",
            "619/619 [==============================] - 67s 103ms/step - loss: 0.0595 - accuracy: 0.0000e+00 - mse: 0.0595 - val_loss: 7.3349e-04 - val_accuracy: 0.0000e+00 - val_mse: 7.3349e-04\n",
            "\n",
            "Epoch 00001: val_loss improved from inf to 0.00073, saving model to model.h5\n",
            "Epoch 2/100\n",
            "619/619 [==============================] - 63s 102ms/step - loss: 0.0628 - accuracy: 0.0000e+00 - mse: 0.0628 - val_loss: 5.5107e-04 - val_accuracy: 0.0000e+00 - val_mse: 5.5107e-04\n",
            "\n",
            "Epoch 00002: val_loss improved from 0.00073 to 0.00055, saving model to model.h5\n",
            "Epoch 3/100\n",
            "619/619 [==============================] - 63s 102ms/step - loss: 0.0544 - accuracy: 0.0000e+00 - mse: 0.0544 - val_loss: 4.1647e-04 - val_accuracy: 0.0000e+00 - val_mse: 4.1647e-04\n",
            "\n",
            "Epoch 00003: val_loss improved from 0.00055 to 0.00042, saving model to model.h5\n",
            "Epoch 4/100\n",
            "619/619 [==============================] - 64s 103ms/step - loss: 0.0593 - accuracy: 0.0000e+00 - mse: 0.0593 - val_loss: 3.1171e-04 - val_accuracy: 0.0000e+00 - val_mse: 3.1171e-04\n",
            "\n",
            "Epoch 00004: val_loss improved from 0.00042 to 0.00031, saving model to model.h5\n",
            "Epoch 5/100\n",
            "619/619 [==============================] - 64s 103ms/step - loss: 0.0518 - accuracy: 0.0000e+00 - mse: 0.0518 - val_loss: 2.4114e-04 - val_accuracy: 0.0000e+00 - val_mse: 2.4114e-04\n",
            "\n",
            "Epoch 00005: val_loss improved from 0.00031 to 0.00024, saving model to model.h5\n",
            "Epoch 6/100\n",
            "619/619 [==============================] - 63s 102ms/step - loss: 0.0622 - accuracy: 0.0000e+00 - mse: 0.0622 - val_loss: 2.1736e-04 - val_accuracy: 0.0000e+00 - val_mse: 2.1736e-04\n",
            "\n",
            "Epoch 00006: val_loss improved from 0.00024 to 0.00022, saving model to model.h5\n",
            "Epoch 7/100\n",
            "619/619 [==============================] - 63s 102ms/step - loss: 0.0402 - accuracy: 0.0000e+00 - mse: 0.0402 - val_loss: 2.5810e-04 - val_accuracy: 0.0000e+00 - val_mse: 2.5810e-04\n",
            "\n",
            "Epoch 00007: val_loss did not improve from 0.00022\n",
            "Epoch 8/100\n",
            "619/619 [==============================] - 63s 101ms/step - loss: 0.0482 - accuracy: 0.0000e+00 - mse: 0.0482 - val_loss: 3.8972e-04 - val_accuracy: 0.0000e+00 - val_mse: 3.8972e-04\n",
            "\n",
            "Epoch 00008: val_loss did not improve from 0.00022\n",
            "Epoch 9/100\n",
            "619/619 [==============================] - 63s 101ms/step - loss: 0.0336 - accuracy: 0.0000e+00 - mse: 0.0336 - val_loss: 6.2037e-04 - val_accuracy: 0.0000e+00 - val_mse: 6.2037e-04\n",
            "\n",
            "Epoch 00009: val_loss did not improve from 0.00022\n",
            "Epoch 10/100\n",
            "619/619 [==============================] - 63s 101ms/step - loss: 0.0386 - accuracy: 0.0000e+00 - mse: 0.0386 - val_loss: 8.3762e-04 - val_accuracy: 0.0000e+00 - val_mse: 8.3762e-04\n",
            "\n",
            "Epoch 00010: val_loss did not improve from 0.00022\n",
            "Epoch 11/100\n",
            "619/619 [==============================] - 63s 101ms/step - loss: 0.0288 - accuracy: 0.0000e+00 - mse: 0.0288 - val_loss: 0.0010 - val_accuracy: 0.0000e+00 - val_mse: 0.0010\n",
            "\n",
            "Epoch 00011: val_loss did not improve from 0.00022\n",
            "Epoch 12/100\n",
            "619/619 [==============================] - 62s 101ms/step - loss: 0.0246 - accuracy: 0.0000e+00 - mse: 0.0246 - val_loss: 0.0011 - val_accuracy: 0.0000e+00 - val_mse: 0.0011\n",
            "\n",
            "Epoch 00012: val_loss did not improve from 0.00022\n",
            "Epoch 13/100\n",
            "619/619 [==============================] - 62s 100ms/step - loss: 0.0156 - accuracy: 2.6217e-04 - mse: 0.0156 - val_loss: 8.1223e-04 - val_accuracy: 0.0000e+00 - val_mse: 8.1223e-04\n",
            "\n",
            "Epoch 00013: val_loss did not improve from 0.00022\n",
            "Epoch 14/100\n",
            "619/619 [==============================] - 63s 101ms/step - loss: 0.0039 - accuracy: 3.8667e-05 - mse: 0.0039 - val_loss: 3.2305e-04 - val_accuracy: 0.0000e+00 - val_mse: 3.2305e-04\n",
            "\n",
            "Epoch 00014: val_loss did not improve from 0.00022\n",
            "Epoch 15/100\n",
            "619/619 [==============================] - 62s 100ms/step - loss: 0.0026 - accuracy: 7.3400e-04 - mse: 0.0026 - val_loss: 1.5552e-04 - val_accuracy: 0.0000e+00 - val_mse: 1.5552e-04\n",
            "\n",
            "Epoch 00015: val_loss improved from 0.00022 to 0.00016, saving model to model.h5\n",
            "Epoch 16/100\n",
            "619/619 [==============================] - 63s 102ms/step - loss: 0.0024 - accuracy: 5.1522e-04 - mse: 0.0024 - val_loss: 1.3039e-04 - val_accuracy: 0.0000e+00 - val_mse: 1.3039e-04\n",
            "\n",
            "Epoch 00016: val_loss improved from 0.00016 to 0.00013, saving model to model.h5\n",
            "Epoch 17/100\n",
            "619/619 [==============================] - 63s 102ms/step - loss: 0.0018 - accuracy: 5.1522e-04 - mse: 0.0018 - val_loss: 1.4343e-04 - val_accuracy: 0.0000e+00 - val_mse: 1.4343e-04\n",
            "\n",
            "Epoch 00017: val_loss did not improve from 0.00013\n",
            "Epoch 18/100\n",
            "619/619 [==============================] - 63s 102ms/step - loss: 0.0027 - accuracy: 3.8170e-04 - mse: 0.0027 - val_loss: 1.0779e-04 - val_accuracy: 0.0000e+00 - val_mse: 1.0779e-04\n",
            "\n",
            "Epoch 00018: val_loss improved from 0.00013 to 0.00011, saving model to model.h5\n",
            "Epoch 19/100\n",
            "619/619 [==============================] - 63s 101ms/step - loss: 0.0020 - accuracy: 0.0017 - mse: 0.0020 - val_loss: 1.2035e-04 - val_accuracy: 0.0000e+00 - val_mse: 1.2035e-04\n",
            "\n",
            "Epoch 00019: val_loss did not improve from 0.00011\n",
            "Epoch 20/100\n",
            "619/619 [==============================] - 63s 102ms/step - loss: 0.0015 - accuracy: 7.9123e-04 - mse: 0.0015 - val_loss: 1.1295e-04 - val_accuracy: 0.0000e+00 - val_mse: 1.1295e-04\n",
            "\n",
            "Epoch 00020: val_loss did not improve from 0.00011\n",
            "Epoch 21/100\n",
            "619/619 [==============================] - 63s 102ms/step - loss: 0.0015 - accuracy: 8.7484e-06 - mse: 0.0015 - val_loss: 1.4908e-04 - val_accuracy: 0.0000e+00 - val_mse: 1.4908e-04\n",
            "\n",
            "Epoch 00021: val_loss did not improve from 0.00011\n",
            "Epoch 22/100\n",
            "619/619 [==============================] - 63s 101ms/step - loss: 0.0015 - accuracy: 3.4938e-06 - mse: 0.0015 - val_loss: 1.5949e-04 - val_accuracy: 0.0000e+00 - val_mse: 1.5949e-04\n",
            "\n",
            "Epoch 00022: val_loss did not improve from 0.00011\n",
            "Epoch 23/100\n",
            "619/619 [==============================] - 63s 102ms/step - loss: 0.0016 - accuracy: 3.1538e-04 - mse: 0.0016 - val_loss: 1.9064e-04 - val_accuracy: 0.0000e+00 - val_mse: 1.9064e-04\n",
            "\n",
            "Epoch 00023: val_loss did not improve from 0.00011\n",
            "Epoch 24/100\n",
            "619/619 [==============================] - 63s 102ms/step - loss: 0.0017 - accuracy: 7.6639e-04 - mse: 0.0017 - val_loss: 1.8336e-04 - val_accuracy: 0.0000e+00 - val_mse: 1.8336e-04\n",
            "\n",
            "Epoch 00024: val_loss did not improve from 0.00011\n",
            "Epoch 00024: early stopping\n"
          ],
          "name": "stdout"
        }
      ]
    },
    {
      "cell_type": "code",
      "metadata": {
        "id": "3EeRhBZrvgLz"
      },
      "source": [
        ""
      ],
      "execution_count": 344,
      "outputs": []
    },
    {
      "cell_type": "code",
      "metadata": {
        "id": "-arN0ueyWCHo",
        "colab": {
          "base_uri": "https://localhost:8080/",
          "height": 326
        },
        "outputId": "47af6f11-0450-423c-83b1-3ff108078e47"
      },
      "source": [
        "hist = pd.DataFrame(history.history)\n",
        "hist['epoch'] = history.epoch\n",
        "\n",
        "# import matplotlib.pyplot as plt\n",
        "\n",
        "plt.figure(figsize=(18, 8))\n",
        "plt.plot(hist['epoch'],hist['loss'], color= 'green')\n",
        "# plt.plot(loss, color='red')\n",
        "# plt.title(\"Close price of stocks sold\")\n",
        "plt.xlabel(\"EPOCH\")\n",
        "plt.ylabel(\"LOSS\")\n",
        "plt.show()\n"
      ],
      "execution_count": 396,
      "outputs": [
        {
          "output_type": "display_data",
          "data": {
            "image/png": "[encoded data removed]",
            "text/plain": [
              "<Figure size 1296x576 with 1 Axes>"
            ]
          },
          "metadata": {
            "tags": [],
            "needs_background": "light"
          }
        }
      ]
    },
    {
      "cell_type": "code",
      "metadata": {
        "id": "emcp7PTwfBHb"
      },
      "source": [
        "# df2=df2[::-1]\n",
        "# train = np.array(pd.DataFrame(train_y).append(pd.DataFrame(train_x)))\n",
        "# train=train[::-1]\n",
        "train = df2\n",
        "\n",
        "scaler = MinMaxScaler()\n",
        "scaler.fit(train)\n",
        "train = scaler.transform(train)\n",
        "\n",
        "# scaler = MinMaxScaler()\n",
        "# scaler.fit(train)\n",
        "# train = scaler.transform(train)"
      ],
      "execution_count": 407,
      "outputs": []
    },
    {
      "cell_type": "code",
      "metadata": {
        "id": "djjimGzWWCHo"
      },
      "source": [
        "pred_list = []\n",
        "batch = train[-n_input:].reshape((1, n_input, n_features))\n",
        "\n",
        "for i in range(n_input):   \n",
        "    pred_list.append(model.predict(batch)[0]) \n",
        "    batch = np.append(batch[:,1:,:],[[pred_list[i]]],axis=1)"
      ],
      "execution_count": 408,
      "outputs": []
    },
    {
      "cell_type": "code",
      "metadata": {
        "id": "rUYI_tIdWCHp"
      },
      "source": [
        "add_dates = [df2.index[-1] + DateOffset(days=x) for x in range(0,n_input+1) ]\n",
        "future_dates = pd.DataFrame(index=add_dates[1:],columns=df2.columns)"
      ],
      "execution_count": 409,
      "outputs": []
    },
    {
      "cell_type": "code",
      "metadata": {
        "id": "xdvp_DygWCHp",
        "colab": {
          "base_uri": "https://localhost:8080/",
          "height": 426
        },
        "outputId": "4b88c29f-c631-4e10-f107-dfdcc7d8491b"
      },
      "source": [
        "df_predict = pd.DataFrame(scaler.inverse_transform(pred_list),\n",
        "                          index=future_dates[-n_input:].index, columns=['Prediction'])\n",
        "# df_predict=df_predict[::-1]\n",
        "df_proj = pd.concat([df2,df_predict], axis=1)\n",
        "\n",
        "df_proj.tail(12)"
      ],
      "execution_count": 410,
      "outputs": [
        {
          "output_type": "execute_result",
          "data": {
            "text/html": [
              "<div>\n",
              "<style scoped>\n",
              "    .dataframe tbody tr th:only-of-type {\n",
              "        vertical-align: middle;\n",
              "    }\n",
              "\n",
              "    .dataframe tbody tr th {\n",
              "        vertical-align: top;\n",
              "    }\n",
              "\n",
              "    .dataframe thead th {\n",
              "        text-align: right;\n",
              "    }\n",
              "</style>\n",
              "<table border=\"1\" class=\"dataframe\">\n",
              "  <thead>\n",
              "    <tr style=\"text-align: right;\">\n",
              "      <th></th>\n",
              "      <th>Close</th>\n",
              "      <th>Prediction</th>\n",
              "    </tr>\n",
              "  </thead>\n",
              "  <tbody>\n",
              "    <tr>\n",
              "      <th>2022-12-15</th>\n",
              "      <td>NaN</td>\n",
              "      <td>4.584336</td>\n",
              "    </tr>\n",
              "    <tr>\n",
              "      <th>2022-12-16</th>\n",
              "      <td>NaN</td>\n",
              "      <td>4.599943</td>\n",
              "    </tr>\n",
              "    <tr>\n",
              "      <th>2022-12-17</th>\n",
              "      <td>NaN</td>\n",
              "      <td>4.615625</td>\n",
              "    </tr>\n",
              "    <tr>\n",
              "      <th>2022-12-18</th>\n",
              "      <td>NaN</td>\n",
              "      <td>4.636254</td>\n",
              "    </tr>\n",
              "    <tr>\n",
              "      <th>2022-12-19</th>\n",
              "      <td>NaN</td>\n",
              "      <td>4.658004</td>\n",
              "    </tr>\n",
              "    <tr>\n",
              "      <th>2022-12-20</th>\n",
              "      <td>NaN</td>\n",
              "      <td>4.677357</td>\n",
              "    </tr>\n",
              "    <tr>\n",
              "      <th>2022-12-21</th>\n",
              "      <td>NaN</td>\n",
              "      <td>4.708554</td>\n",
              "    </tr>\n",
              "    <tr>\n",
              "      <th>2022-12-22</th>\n",
              "      <td>NaN</td>\n",
              "      <td>4.744743</td>\n",
              "    </tr>\n",
              "    <tr>\n",
              "      <th>2022-12-23</th>\n",
              "      <td>NaN</td>\n",
              "      <td>4.795895</td>\n",
              "    </tr>\n",
              "    <tr>\n",
              "      <th>2022-12-24</th>\n",
              "      <td>NaN</td>\n",
              "      <td>4.855490</td>\n",
              "    </tr>\n",
              "    <tr>\n",
              "      <th>2022-12-25</th>\n",
              "      <td>NaN</td>\n",
              "      <td>4.930103</td>\n",
              "    </tr>\n",
              "    <tr>\n",
              "      <th>2022-12-26</th>\n",
              "      <td>NaN</td>\n",
              "      <td>5.012812</td>\n",
              "    </tr>\n",
              "  </tbody>\n",
              "</table>\n",
              "</div>"
            ],
            "text/plain": [
              "            Close  Prediction\n",
              "2022-12-15    NaN    4.584336\n",
              "2022-12-16    NaN    4.599943\n",
              "2022-12-17    NaN    4.615625\n",
              "2022-12-18    NaN    4.636254\n",
              "2022-12-19    NaN    4.658004\n",
              "2022-12-20    NaN    4.677357\n",
              "2022-12-21    NaN    4.708554\n",
              "2022-12-22    NaN    4.744743\n",
              "2022-12-23    NaN    4.795895\n",
              "2022-12-24    NaN    4.855490\n",
              "2022-12-25    NaN    4.930103\n",
              "2022-12-26    NaN    5.012812"
            ]
          },
          "metadata": {
            "tags": []
          },
          "execution_count": 410
        }
      ]
    },
    {
      "cell_type": "code",
      "metadata": {
        "colab": {
          "base_uri": "https://localhost:8080/",
          "height": 424
        },
        "id": "pHFXn_vvcriM",
        "outputId": "37b577f2-4e81-4c7f-cbf7-a4f98cd09bdc"
      },
      "source": [
        "df_proj"
      ],
      "execution_count": 414,
      "outputs": [
        {
          "output_type": "execute_result",
          "data": {
            "text/html": [
              "<div>\n",
              "<style scoped>\n",
              "    .dataframe tbody tr th:only-of-type {\n",
              "        vertical-align: middle;\n",
              "    }\n",
              "\n",
              "    .dataframe tbody tr th {\n",
              "        vertical-align: top;\n",
              "    }\n",
              "\n",
              "    .dataframe thead th {\n",
              "        text-align: right;\n",
              "    }\n",
              "</style>\n",
              "<table border=\"1\" class=\"dataframe\">\n",
              "  <thead>\n",
              "    <tr style=\"text-align: right;\">\n",
              "      <th></th>\n",
              "      <th>Close</th>\n",
              "      <th>Prediction</th>\n",
              "    </tr>\n",
              "  </thead>\n",
              "  <tbody>\n",
              "    <tr>\n",
              "      <th>2004-07-26</th>\n",
              "      <td>89.599998</td>\n",
              "      <td>NaN</td>\n",
              "    </tr>\n",
              "    <tr>\n",
              "      <th>2004-07-27</th>\n",
              "      <td>88.699997</td>\n",
              "      <td>NaN</td>\n",
              "    </tr>\n",
              "    <tr>\n",
              "      <th>2004-07-28</th>\n",
              "      <td>88.599998</td>\n",
              "      <td>NaN</td>\n",
              "    </tr>\n",
              "    <tr>\n",
              "      <th>2004-07-29</th>\n",
              "      <td>88.500000</td>\n",
              "      <td>NaN</td>\n",
              "    </tr>\n",
              "    <tr>\n",
              "      <th>2004-07-30</th>\n",
              "      <td>87.400002</td>\n",
              "      <td>NaN</td>\n",
              "    </tr>\n",
              "    <tr>\n",
              "      <th>...</th>\n",
              "      <td>...</td>\n",
              "      <td>...</td>\n",
              "    </tr>\n",
              "    <tr>\n",
              "      <th>2022-12-22</th>\n",
              "      <td>NaN</td>\n",
              "      <td>4.744743</td>\n",
              "    </tr>\n",
              "    <tr>\n",
              "      <th>2022-12-23</th>\n",
              "      <td>NaN</td>\n",
              "      <td>4.795895</td>\n",
              "    </tr>\n",
              "    <tr>\n",
              "      <th>2022-12-24</th>\n",
              "      <td>NaN</td>\n",
              "      <td>4.855490</td>\n",
              "    </tr>\n",
              "    <tr>\n",
              "      <th>2022-12-25</th>\n",
              "      <td>NaN</td>\n",
              "      <td>4.930103</td>\n",
              "    </tr>\n",
              "    <tr>\n",
              "      <th>2022-12-26</th>\n",
              "      <td>NaN</td>\n",
              "      <td>5.012812</td>\n",
              "    </tr>\n",
              "  </tbody>\n",
              "</table>\n",
              "<p>4868 rows × 2 columns</p>\n",
              "</div>"
            ],
            "text/plain": [
              "                Close  Prediction\n",
              "2004-07-26  89.599998         NaN\n",
              "2004-07-27  88.699997         NaN\n",
              "2004-07-28  88.599998         NaN\n",
              "2004-07-29  88.500000         NaN\n",
              "2004-07-30  87.400002         NaN\n",
              "...               ...         ...\n",
              "2022-12-22        NaN    4.744743\n",
              "2022-12-23        NaN    4.795895\n",
              "2022-12-24        NaN    4.855490\n",
              "2022-12-25        NaN    4.930103\n",
              "2022-12-26        NaN    5.012812\n",
              "\n",
              "[4868 rows x 2 columns]"
            ]
          },
          "metadata": {
            "tags": []
          },
          "execution_count": 414
        }
      ]
    },
    {
      "cell_type": "code",
      "metadata": {
        "id": "c9DcOvLpWCHq",
        "colab": {
          "base_uri": "https://localhost:8080/",
          "height": 341
        },
        "outputId": "fcf4e38f-fd83-4613-95a0-487aab723644"
      },
      "source": [
        "import matplotlib.pyplot as plt\n",
        "\n",
        "plt.figure(figsize=(18, 8))\n",
        "plt.plot(df_proj['Close'][-2000:], color= 'green')\n",
        "plt.plot(df_proj['Prediction'][-2000:], color='red')\n",
        "plt.title(\"Close price of stocks sold\")\n",
        "plt.xlabel(\"Time (latest ->oldest-> )\")\n",
        "plt.ylabel(\"Stock Opening Price\")\n",
        "plt.show()\n"
      ],
      "execution_count": 416,
      "outputs": [
        {
          "output_type": "display_data",
          "data": {
            "image/png": "[encoded data removed]",
            "text/plain": [
              "<Figure size 1296x576 with 1 Axes>"
            ]
          },
          "metadata": {
            "tags": [],
            "needs_background": "light"
          }
        }
      ]
    },
    {
      "cell_type": "code",
      "metadata": {
        "id": "lsTFQMPzWCHr"
      },
      "source": [
        ""
      ],
      "execution_count": 359,
      "outputs": []
    }
  ]
}