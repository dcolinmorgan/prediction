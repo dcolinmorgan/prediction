{
  "nbformat": 4,
  "nbformat_minor": 0,
  "metadata": {
    "accelerator": "GPU",
    "colab": {
      "name": "PANDA_null",
      "provenance": [],
      "collapsed_sections": [
        "-IwHRfXWMGpi",
        "dX4Ud-HNLTSV",
        "T3jSwAJVRT71"
      ],
      "include_colab_link": true
    },
    "kernelspec": {
      "display_name": "Python 3",
      "name": "python3"
    }
  },
  "cells": [
    {
      "cell_type": "markdown",
      "metadata": {
        "id": "view-in-github",
        "colab_type": "text"
      },
      "source": [
        "<a href=\"https://colab.research.google.com/github/dcolinmorgan/prediction/blob/master/PANDA_null.ipynb\" target=\"_parent\"><img src=\"https://colab.research.google.com/assets/colab-badge.svg\" alt=\"Open In Colab\"/></a>"
      ]
    },
    {
      "cell_type": "markdown",
      "metadata": {
        "id": "ywk48LQzPE90"
      },
      "source": [
        "\n",
        "## Skip to relevant sections:\n",
        "* [__negative control function__](#negative-control)\n",
        "   * [LTCOPD negCont](#LTCOPD_netCont)\n",
        "   * [load diff net data](#load-diff-net-data)\n",
        "   * [plot diff degree distributions](#plot-diff-degree-distribution)"
      ]
    },
    {
      "cell_type": "code",
      "metadata": {
        "id": "tqU5e6cD0X1i"
      },
      "source": [
        "# !pip install s3fs\n",
        "import os\n",
        "# import s3fs\n",
        "import pandas as pd\n",
        "import numpy as np\n",
        "from psutil import *\n",
        "import matplotlib.pyplot as plt\n",
        "import gc\n",
        "import random\n",
        "from scipy import stats\n",
        "import seaborn as sns\n",
        "from IPython.display import Image\n",
        "from scipy.stats import zscore\n",
        "import time\n",
        "\n",
        "\n",
        "timestr = time.strftime(\"%Y%m%d-%H%M\")"
      ],
      "execution_count": null,
      "outputs": []
    },
    {
      "cell_type": "code",
      "metadata": {
        "id": "QVqEHJuQ0bOd",
        "colab": {
          "base_uri": "https://localhost:8080/"
        },
        "outputId": "3e96fe34-afd7-40b3-f38f-8811f1c32ed5"
      },
      "source": [
        "from google.colab import drive\n",
        "drive.mount('/content/drive')"
      ],
      "execution_count": null,
      "outputs": [
        {
          "output_type": "stream",
          "text": [
            "Mounted at /content/drive\n"
          ],
          "name": "stdout"
        }
      ]
    },
    {
      "cell_type": "code",
      "metadata": {
        "id": "OxqvrbnT0bFB"
      },
      "source": [
        "# !git clone https://github.com/netZoo/netZooPy.git\n",
        "!git clone --single-branch --branch devel https://github.com/netZoo/netZooPy.git\n",
        "os.chdir('netZooPy')\n",
        "!pip install -e ./"
      ],
      "execution_count": null,
      "outputs": []
    },
    {
      "cell_type": "code",
      "metadata": {
        "id": "dVVyHKaL0bIX"
      },
      "source": [
        "import netZooPy\n",
        "from netZooPy.panda import Panda\n",
        "from netZooPy.lioness import Lioness\n",
        "from netZooPy import condor\n",
        "# os.chdir('..')"
      ],
      "execution_count": null,
      "outputs": []
    },
    {
      "cell_type": "code",
      "metadata": {
        "id": "iX09NjiD0bKc"
      },
      "source": [
        "!pip install GEOparse"
      ],
      "execution_count": null,
      "outputs": []
    },
    {
      "cell_type": "code",
      "metadata": {
        "id": "a2nb5HDJ0bMV",
        "colab": {
          "base_uri": "https://localhost:8080/"
        },
        "outputId": "81cea842-a4f5-43ef-86c4-a977ffc9753b"
      },
      "source": [
        "import GEOparse\n",
        "gse = GEOparse.get_GEO(geo=\"GSE76925\", destdir=\"./\")"
      ],
      "execution_count": null,
      "outputs": [
        {
          "output_type": "stream",
          "text": [
            "20-May-2021 17:37:34 DEBUG utils - Directory ./ already exists. Skipping.\n",
            "20-May-2021 17:37:34 INFO GEOparse - Downloading ftp://ftp.ncbi.nlm.nih.gov/geo/series/GSE76nnn/GSE76925/soft/GSE76925_family.soft.gz to ./GSE76925_family.soft.gz\n",
            "100%|██████████| 70.3M/70.3M [00:02<00:00, 32.7MB/s]\n",
            "20-May-2021 17:37:37 DEBUG downloader - Size validation passed\n",
            "20-May-2021 17:37:37 DEBUG downloader - Moving /tmp/tmpmhor42zg to /content/GSE76925_family.soft.gz\n",
            "20-May-2021 17:37:37 DEBUG downloader - Successfully downloaded ftp://ftp.ncbi.nlm.nih.gov/geo/series/GSE76nnn/GSE76925/soft/GSE76925_family.soft.gz\n",
            "20-May-2021 17:37:37 INFO GEOparse - Parsing ./GSE76925_family.soft.gz: \n",
            "20-May-2021 17:37:37 DEBUG GEOparse - DATABASE: GeoMiame\n",
            "20-May-2021 17:37:37 DEBUG GEOparse - SERIES: GSE76925\n",
            "20-May-2021 17:37:37 DEBUG GEOparse - PLATFORM: GPL10558\n",
            "20-May-2021 17:37:38 DEBUG GEOparse - SAMPLE: GSM2040792\n",
            "20-May-2021 17:37:39 DEBUG GEOparse - SAMPLE: GSM2040793\n",
            "20-May-2021 17:37:39 DEBUG GEOparse - SAMPLE: GSM2040794\n",
            "20-May-2021 17:37:39 DEBUG GEOparse - SAMPLE: GSM2040795\n",
            "20-May-2021 17:37:39 DEBUG GEOparse - SAMPLE: GSM2040796\n",
            "20-May-2021 17:37:39 DEBUG GEOparse - SAMPLE: GSM2040797\n",
            "20-May-2021 17:37:39 DEBUG GEOparse - SAMPLE: GSM2040798\n",
            "20-May-2021 17:37:39 DEBUG GEOparse - SAMPLE: GSM2040799\n",
            "20-May-2021 17:37:39 DEBUG GEOparse - SAMPLE: GSM2040800\n",
            "20-May-2021 17:37:39 DEBUG GEOparse - SAMPLE: GSM2040801\n",
            "20-May-2021 17:37:39 DEBUG GEOparse - SAMPLE: GSM2040802\n",
            "20-May-2021 17:37:39 DEBUG GEOparse - SAMPLE: GSM2040803\n",
            "20-May-2021 17:37:39 DEBUG GEOparse - SAMPLE: GSM2040804\n",
            "20-May-2021 17:37:40 DEBUG GEOparse - SAMPLE: GSM2040805\n",
            "20-May-2021 17:37:40 DEBUG GEOparse - SAMPLE: GSM2040806\n",
            "20-May-2021 17:37:40 DEBUG GEOparse - SAMPLE: GSM2040807\n",
            "20-May-2021 17:37:40 DEBUG GEOparse - SAMPLE: GSM2040808\n",
            "20-May-2021 17:37:40 DEBUG GEOparse - SAMPLE: GSM2040809\n",
            "20-May-2021 17:37:40 DEBUG GEOparse - SAMPLE: GSM2040810\n",
            "20-May-2021 17:37:40 DEBUG GEOparse - SAMPLE: GSM2040811\n",
            "20-May-2021 17:37:40 DEBUG GEOparse - SAMPLE: GSM2040812\n",
            "20-May-2021 17:37:40 DEBUG GEOparse - SAMPLE: GSM2040813\n",
            "20-May-2021 17:37:40 DEBUG GEOparse - SAMPLE: GSM2040814\n",
            "20-May-2021 17:37:40 DEBUG GEOparse - SAMPLE: GSM2040815\n",
            "20-May-2021 17:37:40 DEBUG GEOparse - SAMPLE: GSM2040816\n",
            "20-May-2021 17:37:40 DEBUG GEOparse - SAMPLE: GSM2040817\n",
            "20-May-2021 17:37:41 DEBUG GEOparse - SAMPLE: GSM2040818\n",
            "20-May-2021 17:37:41 DEBUG GEOparse - SAMPLE: GSM2040819\n",
            "20-May-2021 17:37:41 DEBUG GEOparse - SAMPLE: GSM2040820\n",
            "20-May-2021 17:37:41 DEBUG GEOparse - SAMPLE: GSM2040821\n",
            "20-May-2021 17:37:41 DEBUG GEOparse - SAMPLE: GSM2040822\n",
            "20-May-2021 17:37:41 DEBUG GEOparse - SAMPLE: GSM2040823\n",
            "20-May-2021 17:37:41 DEBUG GEOparse - SAMPLE: GSM2040824\n",
            "20-May-2021 17:37:41 DEBUG GEOparse - SAMPLE: GSM2040825\n",
            "20-May-2021 17:37:41 DEBUG GEOparse - SAMPLE: GSM2040826\n",
            "20-May-2021 17:37:41 DEBUG GEOparse - SAMPLE: GSM2040827\n",
            "20-May-2021 17:37:41 DEBUG GEOparse - SAMPLE: GSM2040828\n",
            "20-May-2021 17:37:41 DEBUG GEOparse - SAMPLE: GSM2040829\n",
            "20-May-2021 17:37:41 DEBUG GEOparse - SAMPLE: GSM2040830\n",
            "20-May-2021 17:37:42 DEBUG GEOparse - SAMPLE: GSM2040831\n",
            "20-May-2021 17:37:42 DEBUG GEOparse - SAMPLE: GSM2040832\n",
            "20-May-2021 17:37:42 DEBUG GEOparse - SAMPLE: GSM2040833\n",
            "20-May-2021 17:37:42 DEBUG GEOparse - SAMPLE: GSM2040834\n",
            "20-May-2021 17:37:42 DEBUG GEOparse - SAMPLE: GSM2040835\n",
            "20-May-2021 17:37:42 DEBUG GEOparse - SAMPLE: GSM2040836\n",
            "20-May-2021 17:37:42 DEBUG GEOparse - SAMPLE: GSM2040837\n",
            "20-May-2021 17:37:42 DEBUG GEOparse - SAMPLE: GSM2040838\n",
            "20-May-2021 17:37:42 DEBUG GEOparse - SAMPLE: GSM2040839\n",
            "20-May-2021 17:37:42 DEBUG GEOparse - SAMPLE: GSM2040840\n",
            "20-May-2021 17:37:42 DEBUG GEOparse - SAMPLE: GSM2040841\n",
            "20-May-2021 17:37:42 DEBUG GEOparse - SAMPLE: GSM2040842\n",
            "20-May-2021 17:37:42 DEBUG GEOparse - SAMPLE: GSM2040843\n",
            "20-May-2021 17:37:43 DEBUG GEOparse - SAMPLE: GSM2040844\n",
            "20-May-2021 17:37:43 DEBUG GEOparse - SAMPLE: GSM2040845\n",
            "20-May-2021 17:37:43 DEBUG GEOparse - SAMPLE: GSM2040846\n",
            "20-May-2021 17:37:43 DEBUG GEOparse - SAMPLE: GSM2040847\n",
            "20-May-2021 17:37:43 DEBUG GEOparse - SAMPLE: GSM2040848\n",
            "20-May-2021 17:37:43 DEBUG GEOparse - SAMPLE: GSM2040849\n",
            "20-May-2021 17:37:43 DEBUG GEOparse - SAMPLE: GSM2040850\n",
            "20-May-2021 17:37:43 DEBUG GEOparse - SAMPLE: GSM2040851\n",
            "20-May-2021 17:37:43 DEBUG GEOparse - SAMPLE: GSM2040852\n",
            "20-May-2021 17:37:43 DEBUG GEOparse - SAMPLE: GSM2040853\n",
            "20-May-2021 17:37:43 DEBUG GEOparse - SAMPLE: GSM2040854\n",
            "20-May-2021 17:37:43 DEBUG GEOparse - SAMPLE: GSM2040855\n",
            "20-May-2021 17:37:44 DEBUG GEOparse - SAMPLE: GSM2040856\n",
            "20-May-2021 17:37:44 DEBUG GEOparse - SAMPLE: GSM2040857\n",
            "20-May-2021 17:37:44 DEBUG GEOparse - SAMPLE: GSM2040858\n",
            "20-May-2021 17:37:44 DEBUG GEOparse - SAMPLE: GSM2040859\n",
            "20-May-2021 17:37:44 DEBUG GEOparse - SAMPLE: GSM2040860\n",
            "20-May-2021 17:37:44 DEBUG GEOparse - SAMPLE: GSM2040861\n",
            "20-May-2021 17:37:44 DEBUG GEOparse - SAMPLE: GSM2040862\n",
            "20-May-2021 17:37:44 DEBUG GEOparse - SAMPLE: GSM2040863\n",
            "20-May-2021 17:37:44 DEBUG GEOparse - SAMPLE: GSM2040864\n",
            "20-May-2021 17:37:44 DEBUG GEOparse - SAMPLE: GSM2040865\n",
            "20-May-2021 17:37:44 DEBUG GEOparse - SAMPLE: GSM2040866\n",
            "20-May-2021 17:37:44 DEBUG GEOparse - SAMPLE: GSM2040867\n",
            "20-May-2021 17:37:44 DEBUG GEOparse - SAMPLE: GSM2040868\n",
            "20-May-2021 17:37:45 DEBUG GEOparse - SAMPLE: GSM2040869\n",
            "20-May-2021 17:37:45 DEBUG GEOparse - SAMPLE: GSM2040870\n",
            "20-May-2021 17:37:45 DEBUG GEOparse - SAMPLE: GSM2040871\n",
            "20-May-2021 17:37:45 DEBUG GEOparse - SAMPLE: GSM2040872\n",
            "20-May-2021 17:37:45 DEBUG GEOparse - SAMPLE: GSM2040873\n",
            "20-May-2021 17:37:45 DEBUG GEOparse - SAMPLE: GSM2040874\n",
            "20-May-2021 17:37:45 DEBUG GEOparse - SAMPLE: GSM2040875\n",
            "20-May-2021 17:37:45 DEBUG GEOparse - SAMPLE: GSM2040876\n",
            "20-May-2021 17:37:45 DEBUG GEOparse - SAMPLE: GSM2040877\n",
            "20-May-2021 17:37:45 DEBUG GEOparse - SAMPLE: GSM2040878\n",
            "20-May-2021 17:37:45 DEBUG GEOparse - SAMPLE: GSM2040879\n",
            "20-May-2021 17:37:45 DEBUG GEOparse - SAMPLE: GSM2040880\n",
            "20-May-2021 17:37:46 DEBUG GEOparse - SAMPLE: GSM2040881\n",
            "20-May-2021 17:37:46 DEBUG GEOparse - SAMPLE: GSM2040882\n",
            "20-May-2021 17:37:46 DEBUG GEOparse - SAMPLE: GSM2040883\n",
            "20-May-2021 17:37:46 DEBUG GEOparse - SAMPLE: GSM2040884\n",
            "20-May-2021 17:37:46 DEBUG GEOparse - SAMPLE: GSM2040885\n",
            "20-May-2021 17:37:46 DEBUG GEOparse - SAMPLE: GSM2040886\n",
            "20-May-2021 17:37:46 DEBUG GEOparse - SAMPLE: GSM2040887\n",
            "20-May-2021 17:37:46 DEBUG GEOparse - SAMPLE: GSM2040888\n",
            "20-May-2021 17:37:46 DEBUG GEOparse - SAMPLE: GSM2040889\n",
            "20-May-2021 17:37:46 DEBUG GEOparse - SAMPLE: GSM2040890\n",
            "20-May-2021 17:37:46 DEBUG GEOparse - SAMPLE: GSM2040891\n",
            "20-May-2021 17:37:46 DEBUG GEOparse - SAMPLE: GSM2040892\n",
            "20-May-2021 17:37:46 DEBUG GEOparse - SAMPLE: GSM2040893\n",
            "20-May-2021 17:37:47 DEBUG GEOparse - SAMPLE: GSM2040894\n",
            "20-May-2021 17:37:47 DEBUG GEOparse - SAMPLE: GSM2040895\n",
            "20-May-2021 17:37:47 DEBUG GEOparse - SAMPLE: GSM2040896\n",
            "20-May-2021 17:37:47 DEBUG GEOparse - SAMPLE: GSM2040897\n",
            "20-May-2021 17:37:47 DEBUG GEOparse - SAMPLE: GSM2040898\n",
            "20-May-2021 17:37:47 DEBUG GEOparse - SAMPLE: GSM2040899\n",
            "20-May-2021 17:37:47 DEBUG GEOparse - SAMPLE: GSM2040900\n",
            "20-May-2021 17:37:47 DEBUG GEOparse - SAMPLE: GSM2040901\n",
            "20-May-2021 17:37:47 DEBUG GEOparse - SAMPLE: GSM2040902\n",
            "20-May-2021 17:37:47 DEBUG GEOparse - SAMPLE: GSM2040903\n",
            "20-May-2021 17:37:47 DEBUG GEOparse - SAMPLE: GSM2040904\n",
            "20-May-2021 17:37:47 DEBUG GEOparse - SAMPLE: GSM2040905\n",
            "20-May-2021 17:37:47 DEBUG GEOparse - SAMPLE: GSM2040906\n",
            "20-May-2021 17:37:48 DEBUG GEOparse - SAMPLE: GSM2040907\n",
            "20-May-2021 17:37:48 DEBUG GEOparse - SAMPLE: GSM2040908\n",
            "20-May-2021 17:37:48 DEBUG GEOparse - SAMPLE: GSM2040909\n",
            "20-May-2021 17:37:48 DEBUG GEOparse - SAMPLE: GSM2040910\n",
            "20-May-2021 17:37:48 DEBUG GEOparse - SAMPLE: GSM2040911\n",
            "20-May-2021 17:37:48 DEBUG GEOparse - SAMPLE: GSM2040912\n",
            "20-May-2021 17:37:48 DEBUG GEOparse - SAMPLE: GSM2040913\n",
            "20-May-2021 17:37:48 DEBUG GEOparse - SAMPLE: GSM2040914\n",
            "20-May-2021 17:37:48 DEBUG GEOparse - SAMPLE: GSM2040915\n",
            "20-May-2021 17:37:48 DEBUG GEOparse - SAMPLE: GSM2040916\n",
            "20-May-2021 17:37:48 DEBUG GEOparse - SAMPLE: GSM2040917\n",
            "20-May-2021 17:37:48 DEBUG GEOparse - SAMPLE: GSM2040918\n",
            "20-May-2021 17:37:49 DEBUG GEOparse - SAMPLE: GSM2040919\n",
            "20-May-2021 17:37:49 DEBUG GEOparse - SAMPLE: GSM2040920\n",
            "20-May-2021 17:37:49 DEBUG GEOparse - SAMPLE: GSM2040921\n",
            "20-May-2021 17:37:49 DEBUG GEOparse - SAMPLE: GSM2040922\n",
            "20-May-2021 17:37:49 DEBUG GEOparse - SAMPLE: GSM2040923\n",
            "20-May-2021 17:37:49 DEBUG GEOparse - SAMPLE: GSM2040924\n",
            "20-May-2021 17:37:49 DEBUG GEOparse - SAMPLE: GSM2040925\n",
            "20-May-2021 17:37:49 DEBUG GEOparse - SAMPLE: GSM2040926\n",
            "20-May-2021 17:37:49 DEBUG GEOparse - SAMPLE: GSM2040927\n",
            "20-May-2021 17:37:49 DEBUG GEOparse - SAMPLE: GSM2040928\n",
            "20-May-2021 17:37:49 DEBUG GEOparse - SAMPLE: GSM2040929\n",
            "20-May-2021 17:37:50 DEBUG GEOparse - SAMPLE: GSM2040930\n",
            "20-May-2021 17:37:50 DEBUG GEOparse - SAMPLE: GSM2040931\n",
            "20-May-2021 17:37:50 DEBUG GEOparse - SAMPLE: GSM2040932\n",
            "20-May-2021 17:37:50 DEBUG GEOparse - SAMPLE: GSM2040933\n",
            "20-May-2021 17:37:50 DEBUG GEOparse - SAMPLE: GSM2040934\n",
            "20-May-2021 17:37:50 DEBUG GEOparse - SAMPLE: GSM2040935\n",
            "20-May-2021 17:37:50 DEBUG GEOparse - SAMPLE: GSM2040936\n",
            "20-May-2021 17:37:50 DEBUG GEOparse - SAMPLE: GSM2040937\n",
            "20-May-2021 17:37:50 DEBUG GEOparse - SAMPLE: GSM2040938\n",
            "20-May-2021 17:37:50 DEBUG GEOparse - SAMPLE: GSM2040939\n",
            "20-May-2021 17:37:50 DEBUG GEOparse - SAMPLE: GSM2040940\n",
            "20-May-2021 17:37:50 DEBUG GEOparse - SAMPLE: GSM2040941\n",
            "20-May-2021 17:37:51 DEBUG GEOparse - SAMPLE: GSM2040942\n"
          ],
          "name": "stderr"
        }
      ]
    },
    {
      "cell_type": "code",
      "metadata": {
        "id": "hJ92A0TC0lht"
      },
      "source": [
        "expression1 = gse.pivot_samples('VALUE')\n",
        "gpl = gse.gpls[next(iter(gse.gpls))]\n",
        "data = gse.pivot_samples(values=\"VALUE\")#, gpl=gpl, annotation_column=\"Symbol\")\n",
        "pheno=gse.phenotype_data.rename(columns={'characteristics_ch1.0.age': 'age',\"characteristics_ch1.1.Sex\":\"sex\",\"characteristics_ch1.3.bmi\":\"bmi\",\"characteristics_ch1.6.fev1.pp\":\"fev1\",\"characteristics_ch1.4.packyears\":\"PY\"})\n",
        "pheno[['age',\"sex\",\"bmi\",\"fev1\",\"PY\"]].to_csv('pheno_data.txt',sep='\\t',index=True,header=True)\n",
        "\n",
        "names=pd.DataFrame([gse.gpls['GPL10558'].table['ID'],gse.gpls['GPL10558'].table['ILMN_Gene']]).transpose()\n",
        "data1=pd.merge(expression1,names,left_index=True,right_on='ID')\n",
        "\n",
        "data1['loc']=gse.gpls['GPL10558'].table['Chromosome']\n",
        "\n",
        "data1.index=data1['ILMN_Gene']\n",
        "data1=data1.dropna(how='any')\n",
        "del data1['ID'], data1['ILMN_Gene']\n",
        "motif_data='coding_LCL_motif.txt'\n",
        "ppi_data='ppi_complete.txt'\n",
        "del gpl, expression1\n",
        "# data1.to_csv('drive/My Drive/Colab Notebooks/GSE76925.txt',sep='\\t')"
      ],
      "execution_count": null,
      "outputs": []
    },
    {
      "cell_type": "markdown",
      "metadata": {
        "id": "-IwHRfXWMGpi"
      },
      "source": [
        "#create and run PANDA"
      ]
    },
    {
      "cell_type": "code",
      "metadata": {
        "id": "mRt7dzTxZc1f"
      },
      "source": [
        ""
      ],
      "execution_count": null,
      "outputs": []
    },
    {
      "cell_type": "code",
      "metadata": {
        "id": "Nu6tHmPo0q5I",
        "colab": {
          "base_uri": "https://localhost:8080/"
        },
        "outputId": "40134d94-eac4-40e1-bd50-4dfe8b23ff1e"
      },
      "source": [
        "data3=data1.copy()\n",
        "data3=data3[(data3['loc']!='XY')&(data3['loc']!='Y')]\n",
        "del data3['loc']\n",
        "data3.columns=[gse.phenotype_data['characteristics_ch1.1.Sex']+gse.phenotype_data['characteristics_ch1.5.copd']]\n",
        "data3.loc[:,'Fcase'].to_csv('Fcase.txt',sep='\\t',index=True,header=False)\n",
        "data3.loc[:,'Fcont'].to_csv('Fcont.txt',sep='\\t',index=True,header=False)\n",
        "# [data3.loc[:,'Fcase'].shape,data3.loc[:,'Fcont'].shape]\n",
        "print([data3.loc[:,'Fcase'].shape,data3.loc[:,'Fcont'].shape])\n",
        "\n",
        "data4=data1.copy() #data4[data4['loc']!='Y']\n",
        "del data4['loc']\n",
        "data4.columns=[gse.phenotype_data['characteristics_ch1.1.Sex']+gse.phenotype_data['characteristics_ch1.5.copd']]\n",
        "data4.loc[:,'Mcase'].to_csv('Mcase.txt',sep='\\t',index=True,header=False)\n",
        "data4.loc[:,'Mcont'].to_csv('Mcont.txt',sep='\\t',index=True,header=False)\n",
        "print([data4.loc[:,'Mcase'].shape,data4.loc[:,'Mcont'].shape])"
      ],
      "execution_count": null,
      "outputs": [
        {
          "output_type": "stream",
          "text": [
            "[(28635, 59), (28635, 25)]\n",
            "[(28725, 52), (28725, 15)]\n"
          ],
          "name": "stdout"
        }
      ]
    },
    {
      "cell_type": "code",
      "metadata": {
        "id": "MP5s05AN0q7Z"
      },
      "source": [
        "LCL_ppi=pd.read_csv('https://granddb.s3.amazonaws.com/optPANDA/ppi/ppi_complete.txt',sep='\\t',header=None)\n",
        "LCL_ppi.to_csv('ppi_complete.txt',sep='\\t',index=False,header=False)\n",
        "\n",
        "coding_LCL_motif=pd.read_csv('https://granddb.s3.amazonaws.com/optPANDA/motifs/Hugo_motifCellLine.txt',sep='\\t',header=None)\n",
        "coding_LCL_motif.to_csv('coding_LCL_motif.txt',sep='\\t',index=False,header=False)\n",
        "\n",
        "motif_data='coding_LCL_motif.txt'\n",
        "ppi_data='ppi_complete.txt'"
      ],
      "execution_count": null,
      "outputs": []
    },
    {
      "cell_type": "code",
      "metadata": {
        "id": "vh0eSqHB0q95"
      },
      "source": [
        "panda_obj1 = Panda('Fcase.txt', motif_data, ppi_data,computing='gpu',precision='single',save_tmp=False,save_memory = False, remove_missing=True, keep_expression_matrix = False,modeProcess = 'intersection')\n",
        "np.save('Panda_Fcase.npy',panda_obj1.export_panda_results) #save_memory=True,save_tmp=False,precision='single',keep_expression_matrix=False\n",
        "del panda_obj1\n",
        "panda_obj2 = Panda('Mcase.txt', motif_data, ppi_data,computing='gpu',precision='single',save_tmp=False,save_memory = False, remove_missing=True, keep_expression_matrix = False,modeProcess = 'intersection')\n",
        "np.save('Panda_Mcase.npy',panda_obj2.export_panda_results)\n",
        "del panda_obj2\n",
        "panda_obj3 = Panda('Fcont.txt', motif_data, ppi_data,computing='gpu',precision='single',save_tmp=False,save_memory = False, remove_missing=True, keep_expression_matrix = False,modeProcess = 'intersection')\n",
        "np.save('Panda_Fcont.npy',panda_obj3.export_panda_results)\n",
        "del panda_obj3\n",
        "panda_obj4 = Panda('Mcont.txt', motif_data, ppi_data,computing='gpu',precision='single',save_tmp=False,save_memory = False, remove_missing=True, keep_expression_matrix = False,modeProcess = 'intersection')\n",
        "np.save('Panda_Mcont.npy',panda_obj4.export_panda_results)\n",
        "del panda_obj4\n",
        "# panda_obj5 = Panda('FcaseFULL.txt', motif_data, ppi_data,computing='gpu',precision='single',save_tmp=False,save_memory = False, remove_missing=False, keep_expression_matrix = True,modeProcess = 'intersection')\n",
        "# np.save('drive/My Drive/Panda_FcaseFULL.npy',panda_obj5.export_panda_results)\n",
        "# del panda_obj5\n",
        "# panda_obj6 = Panda('FcontFULL.txt', motif_data, ppi_data,computing='gpu',precision='single',save_tmp=False,save_memory = False, remove_missing=False, keep_expression_matrix = True,modeProcess = 'intersection')\n",
        "# np.save('drive/My Drive/Panda_FcontFULL.npy',panda_obj6.export_panda_results)\n",
        "# del panda_obj6\n"
      ],
      "execution_count": null,
      "outputs": []
    },
    {
      "cell_type": "markdown",
      "metadata": {
        "id": "t-GfiKxM14s1"
      },
      "source": [
        "##Load Panda nets"
      ]
    },
    {
      "cell_type": "code",
      "metadata": {
        "id": "6AFg-bA00loh"
      },
      "source": [
        "Panda_Mcase=np.load('Panda_Mcase.npy',allow_pickle=True)\n",
        "Panda_Mcont=np.load('Panda_Mcont.npy',allow_pickle=True)\n",
        "Panda_Mcont=pd.DataFrame(Panda_Mcont)\n",
        "Panda_Mcont.columns=['tf','gene','motif','force']\n",
        "Panda_Mcase=pd.DataFrame(Panda_Mcase)\n",
        "Panda_Mcase.columns=['tf','gene','motif','force']\n",
        "\n",
        "Panda_Fcase=np.load('Panda_Fcase.npy',allow_pickle=True)\n",
        "Panda_Fcont=np.load('Panda_Fcont.npy',allow_pickle=True)\n",
        "Panda_Fcont=pd.DataFrame(Panda_Fcont)\n",
        "Panda_Fcont.columns=['tf','gene','motif','force']\n",
        "Panda_Fcase=pd.DataFrame(Panda_Fcase)\n",
        "Panda_Fcase.columns=['tf','gene','motif','force']\n"
      ],
      "execution_count": null,
      "outputs": []
    },
    {
      "cell_type": "markdown",
      "metadata": {
        "id": "Uif2YCiRPfgI"
      },
      "source": [
        "##TF and gene specific zscore diff F\n",
        "\n"
      ]
    },
    {
      "cell_type": "code",
      "metadata": {
        "id": "HYHlMqcwOJ8y"
      },
      "source": [
        "from scipy.stats import zscore\n",
        "# Panda_nullA.panda_results = pd.DataFrame(Panda_nullA.export_panda_results, columns=['tf','gene','motif','force'])\n",
        "subset_panda_results3 = Panda_Fcont.sort_values(by=['force'], ascending=False)\n",
        "# subset_panda_results3['merge']=subset_panda_results3.tf+'-'+subset_panda_results3.gene\n",
        "\n",
        "# Panda_nullB.panda_results = pd.DataFrame(Panda_nullB.export_panda_results, columns=['tf','gene','motif','force'])\n",
        "subset_panda_results1 = Panda_Fcase.sort_values(by=['force'], ascending=False)\n",
        "# subset_panda_results1['merge']=subset_panda_results1.tf+'-'+subset_panda_results1.gene\n",
        "del subset_panda_results3['motif'],subset_panda_results1['motif']\n",
        "TFsum_3=subset_panda_results3.groupby(['tf']).agg({'force':sum})\n",
        "TFsum_1=subset_panda_results1.groupby(['tf']).agg({'force':sum})\n",
        "TFsum_1['force']=zscore(TFsum_1['force'])\n",
        "TFsum_3['force']=zscore(TFsum_3['force']) ##reduces range from 1500 to 3\n",
        "\n",
        "geneSum_3=subset_panda_results3.groupby(['gene']).agg({'force':sum})\n",
        "geneSum_1=subset_panda_results1.groupby(['gene']).agg({'force':sum})\n",
        "geneSum_3['force']=zscore(geneSum_3['force'])\n",
        "geneSum_1['force']=zscore(geneSum_1['force'])\n",
        "\n",
        "mmm=TFsum_3.merge(TFsum_1, left_on=['tf'], right_on=['tf'])\n",
        "mmmm=geneSum_3.merge(geneSum_1, left_on=['gene'], right_on=['gene'])\n",
        "\n",
        "del [[subset_panda_results3, subset_panda_results1,Panda_Fcont,Panda_Fcase]]\n",
        "gc.collect()\n",
        "subset_panda_results3=pd.DataFrame()\n",
        "subset_panda_results1=pd.DataFrame()\n",
        "Panda_Fcont=pd.DataFrame()\n",
        "Panda_Fcont=pd.DataFrame()\n",
        "\n",
        "\n",
        "mmm['diff']=mmm.force_x-mmm.force_y\n",
        "mmm = mmm.sort_values(by ='diff' )\n",
        "\n",
        "\n",
        "mmmm['diff']=mmmm.force_x-mmmm.force_y\n",
        "mmmm = mmmm.sort_values(by ='diff' )\n",
        "mmm.to_csv('TF_zscore_F.txt',sep='\\t')\n",
        "mmmm.to_csv('gene_zscore_F.txt',sep='\\t')"
      ],
      "execution_count": null,
      "outputs": []
    },
    {
      "cell_type": "code",
      "metadata": {
        "id": "qJPKmoKYT6DM",
        "colab": {
          "base_uri": "https://localhost:8080/",
          "height": 299
        },
        "outputId": "2e4e1b25-2c5b-4543-aad9-7cc4e1a92e39"
      },
      "source": [
        "plt.hist(mmm['diff'],bins=100,color='orange')\n",
        "plt.title('female zscored sum TF diff')"
      ],
      "execution_count": null,
      "outputs": [
        {
          "output_type": "execute_result",
          "data": {
            "text/plain": [
              "Text(0.5, 1.0, 'female zscored sum TF diff')"
            ]
          },
          "metadata": {
            "tags": []
          },
          "execution_count": 13
        },
        {
          "output_type": "display_data",
          "data": {
            "image/png": "[encoded data removed]",
            "text/plain": [
              "<Figure size 432x288 with 1 Axes>"
            ]
          },
          "metadata": {
            "tags": [],
            "needs_background": "light"
          }
        }
      ]
    },
    {
      "cell_type": "code",
      "metadata": {
        "id": "luQ04jPmT8lg",
        "colab": {
          "base_uri": "https://localhost:8080/",
          "height": 299
        },
        "outputId": "f163215a-52dd-42b2-9085-87038c9e3602"
      },
      "source": [
        "plt.hist(mmmm['diff'],bins=100,color='orange')\n",
        "plt.title('female zscored sum gene diff')"
      ],
      "execution_count": null,
      "outputs": [
        {
          "output_type": "execute_result",
          "data": {
            "text/plain": [
              "Text(0.5, 1.0, 'female zscored sum gene diff')"
            ]
          },
          "metadata": {
            "tags": []
          },
          "execution_count": 14
        },
        {
          "output_type": "display_data",
          "data": {
            "image/png": "[encoded data removed]",
            "text/plain": [
              "<Figure size 432x288 with 1 Axes>"
            ]
          },
          "metadata": {
            "tags": [],
            "needs_background": "light"
          }
        }
      ]
    },
    {
      "cell_type": "markdown",
      "metadata": {
        "id": "MjWLN5s8P_00"
      },
      "source": [
        "##TF and gene specific zscore diff M"
      ]
    },
    {
      "cell_type": "code",
      "metadata": {
        "id": "jDy-eg-IPuGE"
      },
      "source": [
        "\n",
        "# Panda_nullA.panda_results = pd.DataFrame(Panda_nullA.export_panda_results, columns=['tf','gene','motif','force'])\n",
        "subset_panda_results3 = Panda_Mcont.sort_values(by=['force'], ascending=False)\n",
        "# subset_panda_results3['merge']=subset_panda_results3.tf+'-'+subset_panda_results3.gene\n",
        "\n",
        "# Panda_nullB.panda_results = pd.DataFrame(Panda_nullB.export_panda_results, columns=['tf','gene','motif','force'])\n",
        "subset_panda_results1 = Panda_Mcase.sort_values(by=['force'], ascending=False)\n",
        "# subset_panda_results1['merge']=subset_panda_results1.tf+'-'+subset_panda_results1.gene\n",
        "del subset_panda_results3['motif'],subset_panda_results1['motif']\n",
        "TFsum_3=subset_panda_results3.groupby(['tf']).agg({'force':sum})\n",
        "TFsum_1=subset_panda_results1.groupby(['tf']).agg({'force':sum})\n",
        "TFsum_1['force']=zscore(TFsum_1['force'])\n",
        "TFsum_3['force']=zscore(TFsum_3['force'])\n",
        "\n",
        "geneSum_3=subset_panda_results3.groupby(['gene']).agg({'force':sum})\n",
        "geneSum_1=subset_panda_results1.groupby(['gene']).agg({'force':sum})\n",
        "geneSum_3['force']=zscore(geneSum_3['force'])\n",
        "geneSum_1['force']=zscore(geneSum_1['force'])\n",
        "\n",
        "nnn=TFsum_3.merge(TFsum_1, left_on=['tf'], right_on=['tf'])\n",
        "nnnn=geneSum_3.merge(geneSum_1, left_on=['gene'], right_on=['gene'])\n",
        "\n",
        "del [[subset_panda_results3, subset_panda_results1,Panda_Mcont,Panda_Mcase]]\n",
        "gc.collect()\n",
        "subset_panda_results3=pd.DataFrame()\n",
        "subset_panda_results1=pd.DataFrame()\n",
        "Panda_Mcont=pd.DataFrame()\n",
        "Panda_Mcase=pd.DataFrame()\n",
        "\n",
        "\n",
        "nnn['diff']=nnn.force_x-nnn.force_y\n",
        "nnn = nnn.sort_values(by ='diff' )\n",
        "\n",
        "\n",
        "nnnn['diff']=nnnn.force_x-nnnn.force_y\n",
        "nnnn = nnnn.sort_values(by ='diff' )\n",
        "nnn.to_csv('TF_zscore_M.txt',sep='\\t')\n",
        "nnnn.to_csv('gene_zscore_M.txt',sep='\\t')\n"
      ],
      "execution_count": null,
      "outputs": []
    },
    {
      "cell_type": "code",
      "metadata": {
        "id": "-KwV3RKvRUSO",
        "colab": {
          "base_uri": "https://localhost:8080/",
          "height": 299
        },
        "outputId": "3293ead8-caea-4c42-993e-dbcbb9acfeaf"
      },
      "source": [
        "plt.hist(nnn['diff'],bins=100)\n",
        "plt.title('male zscored sum TF diff')"
      ],
      "execution_count": null,
      "outputs": [
        {
          "output_type": "execute_result",
          "data": {
            "text/plain": [
              "Text(0.5, 1.0, 'male zscored sum TF diff')"
            ]
          },
          "metadata": {
            "tags": []
          },
          "execution_count": 16
        },
        {
          "output_type": "display_data",
          "data": {
            "image/png": "[encoded data removed]",
            "text/plain": [
              "<Figure size 432x288 with 1 Axes>"
            ]
          },
          "metadata": {
            "tags": [],
            "needs_background": "light"
          }
        }
      ]
    },
    {
      "cell_type": "code",
      "metadata": {
        "id": "1oXjUOKNRVIE",
        "colab": {
          "base_uri": "https://localhost:8080/",
          "height": 299
        },
        "outputId": "c8dd385b-32cd-408b-a095-54de06ca149c"
      },
      "source": [
        "plt.hist(nnnn['diff'],bins=100)\n",
        "plt.title('male zscored sum gene diff')"
      ],
      "execution_count": null,
      "outputs": [
        {
          "output_type": "execute_result",
          "data": {
            "text/plain": [
              "Text(0.5, 1.0, 'male zscored sum gene diff')"
            ]
          },
          "metadata": {
            "tags": []
          },
          "execution_count": 17
        },
        {
          "output_type": "display_data",
          "data": {
            "image/png": "[encoded data removed]",
            "text/plain": [
              "<Figure size 432x288 with 1 Axes>"
            ]
          },
          "metadata": {
            "tags": [],
            "needs_background": "light"
          }
        }
      ]
    },
    {
      "cell_type": "code",
      "metadata": {
        "id": "ByYi7Mo2Feoj"
      },
      "source": [
        "ff=pd.read_csv('TF_zscore_F.txt',sep='\\t',header=0)\n",
        "fff=pd.read_csv('gene_zscore_F.txt',sep='\\t',header=0)\n",
        "mm=pd.read_csv('TF_zscore_M.txt',sep='\\t',header=0)\n",
        "mmm=pd.read_csv('gene_zscore_M.txt',sep='\\t',header=0)\n",
        "sex_tf_diff=ff.merge(mm,on='tf')\n",
        "sex_gene_diff=fff.merge(mmm,on='gene')\n",
        " \n",
        "# plt.figure(figsize=(15,6))\n",
        "# sex_tf_diff['sexdiff']=sex_tf_diff['diff_x']-sex_tf_diff['diff_y']\n",
        "# # sex_tf_diff=sex_tf_diff.sort_values(by=['sexdiff'])\n",
        "# sex_tf_diff=sex_tf_diff.sort_values(by=['tf'])\n",
        "# sns.barplot(data=sex_tf_diff,y='sexdiff',x='tf')"
      ],
      "execution_count": null,
      "outputs": []
    },
    {
      "cell_type": "code",
      "metadata": {
        "id": "zpinAPt6XgjN",
        "colab": {
          "base_uri": "https://localhost:8080/",
          "height": 299
        },
        "outputId": "75883bca-3821-4a52-f9cc-8a5854000cfc"
      },
      "source": [
        "a=plt.hist(sex_tf_diff['diff_x'],bins=100,label='male')\n",
        "b=plt.hist(sex_tf_diff['diff_y'],bins=100,label='female')\n",
        "plt.title('Sex-specific Ca-Co TF degree diff')\n",
        "plt.legend(loc=\"best\")"
      ],
      "execution_count": null,
      "outputs": [
        {
          "output_type": "execute_result",
          "data": {
            "text/plain": [
              "<matplotlib.legend.Legend at 0x7f4facb7b610>"
            ]
          },
          "metadata": {
            "tags": []
          },
          "execution_count": 19
        },
        {
          "output_type": "display_data",
          "data": {
            "image/png": "[encoded data removed]",
            "text/plain": [
              "<Figure size 432x288 with 1 Axes>"
            ]
          },
          "metadata": {
            "tags": [],
            "needs_background": "light"
          }
        }
      ]
    },
    {
      "cell_type": "code",
      "metadata": {
        "colab": {
          "base_uri": "https://localhost:8080/"
        },
        "id": "6o_WFyXK_jOR",
        "outputId": "54363040-fa32-484d-890f-738b66deb06b"
      },
      "source": [
        "[sex_tf_diff[(sex_tf_diff['diff_y'])>.4].tf.values,sex_tf_diff[(sex_tf_diff['diff_y'])<-0.5].tf.values] #,sex_tf_diff[np.abs(sex_tf_diff['diff_y'])>.4].tf]"
      ],
      "execution_count": null,
      "outputs": [
        {
          "output_type": "execute_result",
          "data": {
            "text/plain": [
              "[array(['HOXD9', 'MEF2A', 'POU3F1', 'POU1F1', 'POU4F1', 'POU4F3', 'LHX3',\n",
              "        'NKX6-1', 'LIN54', 'DMRTC2', 'DMRT2', 'ZNF32', 'GATA5', 'HMG20B',\n",
              "        'MSX2', 'MSX1', 'POU3F3', 'POU3F2', 'LHX1', 'FOXB1', 'FOXD2',\n",
              "        'BARX1', 'TBPL2'], dtype=object),\n",
              " array(['KLF5', 'PURA', 'ZNF281', 'KLF1', 'KLF15', 'KLF4'], dtype=object)]"
            ]
          },
          "metadata": {
            "tags": []
          },
          "execution_count": 20
        }
      ]
    },
    {
      "cell_type": "code",
      "metadata": {
        "id": "6bJVKb2CX1VJ",
        "colab": {
          "base_uri": "https://localhost:8080/",
          "height": 299
        },
        "outputId": "bb260905-5945-4e85-9b51-35bee09e7506"
      },
      "source": [
        "a=plt.hist(sex_gene_diff['diff_x'],bins=100,label='male')\n",
        "b=plt.hist(sex_gene_diff['diff_y'],bins=100,label='female')\n",
        "plt.title('Sex-specific Ca-Co gene degree diff')\n",
        "plt.legend(loc=\"best\")"
      ],
      "execution_count": null,
      "outputs": [
        {
          "output_type": "execute_result",
          "data": {
            "text/plain": [
              "<matplotlib.legend.Legend at 0x7f4facca2250>"
            ]
          },
          "metadata": {
            "tags": []
          },
          "execution_count": 30
        },
        {
          "output_type": "display_data",
          "data": {
            "image/png": "[encoded data removed]",
            "text/plain": [
              "<Figure size 432x288 with 1 Axes>"
            ]
          },
          "metadata": {
            "tags": [],
            "needs_background": "light"
          }
        }
      ]
    },
    {
      "cell_type": "code",
      "metadata": {
        "id": "5OVnHA9AnxI9",
        "colab": {
          "base_uri": "https://localhost:8080/"
        },
        "outputId": "2154b11a-1fbf-4eb9-c64d-06d702c0dd0c"
      },
      "source": [
        "[sex_gene_diff[(sex_gene_diff['diff_y'])>.4].gene.values,sex_gene_diff[(sex_gene_diff['diff_y'])<-1].gene.values] #,sex_tf_diff[np.abs(sex_tf_diff['diff_y'])>.4].tf]"
      ],
      "execution_count": null,
      "outputs": [
        {
          "output_type": "execute_result",
          "data": {
            "text/plain": [
              "[array(['SLC45A2', 'WFDC3', 'EFR3B', ..., 'LTK', 'PAX8', 'AIFM2'],\n",
              "       dtype=object),\n",
              " array(['AHSA2', 'PLXNA4', 'NANP', 'SNX3', 'DNAJC5B', 'ACO2', 'ADAMDEC1',\n",
              "        'BTAF1', 'SLC7A6', 'GOLGA6B', 'SNORD10', 'WDR31', 'ETFDH', 'SFXN3',\n",
              "        'CCR4', 'TSTD2', 'CD4', 'UBE2V1', 'SH2B3', 'BCL2L15'], dtype=object)]"
            ]
          },
          "metadata": {
            "tags": []
          },
          "execution_count": 32
        }
      ]
    },
    {
      "cell_type": "markdown",
      "metadata": {
        "id": "O2i3O_AeS-ht"
      },
      "source": [
        "#negative control\n",
        "create 4 randomly chosen subsets to test difference of differences between panda nets\n",
        "\n",
        "use other colab for more memory:\n",
        "https://colab.research.google.com/drive/1ebLeRX6Gwywgs1Yn_gcL8TYufgkfbchX#scrollTo=wS_rwFkacl74\n",
        "\n",
        "\n",
        "\n",
        "\n"
      ]
    },
    {
      "cell_type": "code",
      "metadata": {
        "colab": {
          "base_uri": "https://localhost:8080/"
        },
        "id": "TJ26Oeu4snND",
        "outputId": "338f328d-4651-4099-ce24-d3a52fc4cbd6"
      },
      "source": [
        "design=[gse.phenotype_data['characteristics_ch1.1.Sex']+gse.phenotype_data['characteristics_ch1.5.copd']]\n",
        "design=pd.DataFrame(design).T\n",
        "design.columns=['group']\n",
        "jeff=design.pivot_table(index=['group'], aggfunc='size')\n",
        "print(jeff[0],jeff[1],jeff[2],jeff[3])\n",
        "\n",
        "timestr = time.strftime(\"%Y%m%d\")\n",
        "# design=pd.read_csv(design_file,sep='\\t',index_col=None)\n",
        "MC=jeff[0]#np.sum(design)\n",
        "MNC=jeff[1]#design.shape[1]-MC\n",
        "inits=100\n",
        "\n",
        "del data1['loc']\n",
        "j=np.random.choice(data1.shape[1], size=(MC+MNC, ),replace=False) ## total males\n",
        "nullA=data1.iloc[:,j.tolist()] ##reduce to random set\n",
        "# null2=data.drop(nullA.columns,axis=1) ## create second group without these\n",
        "\n",
        "k=np.random.choice(j,MNC,replace=False) ## male controls\n",
        "nullB=data1.iloc[:,k.tolist()] ##remove controls from male pop\n",
        "nullA=nullA.drop(nullB.columns,axis=1) ## remove these from male cases\n",
        "\n"
      ],
      "execution_count": null,
      "outputs": [
        {
          "output_type": "stream",
          "text": [
            "59 25 52 15\n"
          ],
          "name": "stdout"
        }
      ]
    },
    {
      "cell_type": "code",
      "metadata": {
        "id": "XE4_CjD6xw33"
      },
      "source": [
        "def negCont(nullA,nullB,i,timestr,motif_data,ppi_data):\n",
        "  panda_nullA = Panda(nullA, motif_data, ppi_data,computing='gpu',precision='single',save_tmp=False,save_memory = True, remove_missing=True, keep_expression_matrix = False,modeProcess = 'intersection')\n",
        "  # np.save('drive/My Drive/Panda_nullA.npy',panda_nullA.export_panda_results)\n",
        "  panda_nullB = Panda(nullB, motif_data, ppi_data,computing='gpu',precision='single',save_tmp=False,save_memory = True, remove_missing=True, keep_expression_matrix = False,modeProcess = 'intersection')\n",
        "  # np.save('drive/My Drive/Panda_nullB.npy',panda_nullB.export_panda_results)\n",
        "  uniq_tfs=np.intersect1d(panda_nullA.ppi_tfs,panda_nullA.motif_tfs)\n",
        "  uniq_genes=np.intersect1d(panda_nullA.motif_genes,panda_nullA.expression_genes)\n",
        "  tfs = np.tile(uniq_tfs, (len(uniq_genes), 1)).flatten()\n",
        "  genes = np.repeat(uniq_genes,panda_nullA.num_tfs)\n",
        "  forceA = panda_nullA.motif_matrix.flatten(order='F')\n",
        "  forceB = panda_nullB.motif_matrix.flatten(order='F')\n",
        "  export_panda_results = pd.DataFrame({'tf':tfs, 'gene': genes,'forceA': forceA,'forceB': forceB})#.sort_values(by=['force'], ascending=False)\n",
        "\n",
        "  # subset_panda_resultsA = panda_nullA.export_panda_results.sort_values(by=['force'], ascending=False)\n",
        "  # subset_panda_resultsB = panda_nullB.export_panda_results.sort_values(by=['force'], ascending=False)\n",
        "  # del subset_panda_resultsA['motif'],subset_panda_resultsB['motif']\n",
        "  # del panda_nullA, panda_nullB, forceA, forceB, tfs, genes\n",
        "\n",
        "  ##aggregate TF link sum and zscore\n",
        "  TFsum_A=export_panda_results.groupby(['tf']).agg({'forceA':sum})\n",
        "  TFsum_B=export_panda_results.groupby(['tf']).agg({'forceB':sum})\n",
        "  TFsum_B['force']=zscore(TFsum_B['forceB'])\n",
        "  TFsum_A['force']=zscore(TFsum_A['forceA'])\n",
        "\n",
        "  ##aggregate gene link sum and zscore\n",
        "  geneSum_A=export_panda_results.groupby(['gene']).agg({'forceA':sum})\n",
        "  geneSum_B=export_panda_results.groupby(['gene']).agg({'forceB':sum})\n",
        "  geneSum_A['force']=zscore(geneSum_A['forceA'])\n",
        "  geneSum_B['force']=zscore(geneSum_B['forceB'])\n",
        "\n",
        "  ##merge\n",
        "  sumTFdiff=TFsum_A.merge(TFsum_B, left_on=['tf'], right_on=['tf'])\n",
        "  sumGenediff=geneSum_A.merge(geneSum_B, left_on=['gene'], right_on=['gene'])\n",
        "\n",
        "  del export_panda_results #[[subset_panda_resultsA, subset_panda_resultsB]]\n",
        "  gc.collect()\n",
        "  export_panda_results=pd.DataFrame()\n",
        "  # subset_panda_resultsA=pd.DataFrame()\n",
        "  # subset_panda_resultsB=pd.DataFrame()\n",
        "\n",
        "  ##diff\n",
        "  sumTFdiff['diff']=sumTFdiff.force_x-sumTFdiff.force_y\n",
        "  # sumTFdiff = sumTFdiff.sort_values(by ='diff' )\n",
        "  del sumTFdiff['force_x'], sumTFdiff['force_y']\n",
        "  sumTFdiff=sumTFdiff.sort_index(axis=0)\n",
        "  sumTFdiff=sumTFdiff.T\n",
        "  sumGenediff['diff']=sumGenediff.force_x-sumGenediff.force_y\n",
        "  # sumGenediff = sumGenediff.sort_values(by ='diff' )\n",
        "  del sumGenediff['force_x'], sumGenediff['force_y']\n",
        "  sumGenediff=sumGenediff.sort_index(axis=0)\n",
        "  sumGenediff=sumGenediff.T\n",
        "  if i==1:\n",
        "    sumTFdiff.to_csv('drive/MyDrive/harvard/null_panda/TF_zscore_rand_'+timestr+'.txt',sep='\\t',header=True,index=None)\n",
        "    sumGenediff.to_csv('drive/MyDrive/harvard/null_panda/gene_zscore_rand_'+timestr+'.txt',sep='\\t',header=True,index=None)\n",
        "  elif i!=1:\n",
        "    sumTFdiff.to_csv('drive/MyDrive/harvard/null_panda/TF_zscore_rand_'+timestr+'.txt',sep='\\t',header=None,index=None,mode='a')\n",
        "    sumGenediff.to_csv('drive/MyDrive/harvard/null_panda/gene_zscore_rand_'+timestr+'.txt',sep='\\t',header=None,index=None,mode='a')\n",
        "  del sumTFdiff, sumGenediff\n",
        "  gc.collect()"
      ],
      "execution_count": null,
      "outputs": []
    },
    {
      "cell_type": "code",
      "metadata": {
        "id": "nJzX1xvI3FrZ"
      },
      "source": [
        "# del data1['loc']\n",
        "for i in range(1,inits):\n",
        "    ## form two random groups of exact size as initial cases and controls\n",
        "    # data=pd.read_csv(expression_file,sep='\\t',index_col=0)\n",
        "    j=np.random.choice(data1.shape[1], size=(MC+MNC, ),replace=False) ## total males\n",
        "    nullA=data1.iloc[:,j.tolist()] ##reduce to random set\n",
        "    # null2=data.drop(nullA.columns,axis=1) ## create second group without these\n",
        "\n",
        "    k=np.random.choice(j,MNC,replace=False) ## male controls\n",
        "    nullB=data1.iloc[:,k.tolist()] ##remove controls from male pop\n",
        "    nullA=nullA.drop(nullB.columns,axis=1) ## remove these from male cases\n",
        "\n",
        "    # l=np.random.choice(null2.shape[1], size=(FC.shape[1]+FNC.shape[1], ),replace=False) ##84 total females\n",
        "    # nullC=null2.iloc[:,l.tolist()] ##subset leftover from first null to 85\n",
        "    # m=np.random.choice(l[l<FC.shape[1]+1+FNC.shape[1]],FNC.shape[1],replace=False) ##25 controls\n",
        "    # nullD=nullC.iloc[:,m.tolist()] ##take 25 for female random control\n",
        "    # nullC=nullC.drop(nullD.columns,axis=1)\n",
        "\n",
        "    # sumTFdiff,sumGenediff=\n",
        "    negCont(nullA,nullB,i,timestr,motif_data,ppi_data)\n",
        "\n",
        "    print('saved iteration='+str(i))"
      ],
      "execution_count": null,
      "outputs": []
    },
    {
      "cell_type": "code",
      "metadata": {
        "id": "wDIiYfRYbt9W"
      },
      "source": [
        ""
      ],
      "execution_count": null,
      "outputs": []
    },
    {
      "cell_type": "markdown",
      "metadata": {
        "id": "X-McAhgfOxdl"
      },
      "source": [
        "###load diff net data"
      ]
    },
    {
      "cell_type": "code",
      "metadata": {
        "id": "pQ4gbUvU1M9b",
        "colab": {
          "base_uri": "https://localhost:8080/"
        },
        "outputId": "0ed1cb7c-9524-4a8f-ff75-1de2d56b9257"
      },
      "source": [
        "TF_diffNull=pd.read_csv('drive/My Drive/harvard/null_panda/TF_zscore_rand_.txt',sep='\\t',header=0)\n",
        "gene_diffNull=pd.read_csv('drive/My Drive/harvard/null_panda/model_output/gene_zscore_rand_.txt',sep='\\t',header=0)\n",
        "TF_diffNull=TF_diffNull.T\n",
        "gene_diffNull=gene_diffNull.T\n",
        "gene_diffNull.shape\n",
        "\n",
        "# TF_diffNull=pd.read_csv('drive/My Drive/TF_zscore_rand_camb.txt',sep='\\t',header=0)\n",
        "# gene_diffNull=pd.read_csv('drive/My Drive/gene_zscore_rand_camb.txt',sep='\\t',header=0)\n",
        "# TF_diffNull=TF_diffNull.T\n",
        "# gene_diffNull=gene_diffNull.T\n",
        "# gene_diffNull.shape"
      ],
      "execution_count": null,
      "outputs": [
        {
          "output_type": "execute_result",
          "data": {
            "text/plain": [
              "(14361, 291)"
            ]
          },
          "metadata": {
            "tags": []
          },
          "execution_count": 3
        }
      ]
    },
    {
      "cell_type": "code",
      "metadata": {
        "id": "eqenM27mA42h"
      },
      "source": [
        "male=pd.DataFrame()\n",
        "for i in range(0,200,2):\n",
        "  xx=pd.DataFrame([TF_diffNull[TF_diffNull[i]>.5].index,TF_diffNull[TF_diffNull[i]<-.5].index])\n",
        "  if not xx.empty:\n",
        "    print(xx)\n",
        "    male=np.append(male,xx)"
      ],
      "execution_count": null,
      "outputs": []
    },
    {
      "cell_type": "code",
      "metadata": {
        "id": "76h18hrGGunV"
      },
      "source": [
        "male"
      ],
      "execution_count": null,
      "outputs": []
    },
    {
      "cell_type": "code",
      "metadata": {
        "id": "Zs3xPwYTcNuZ",
        "colab": {
          "base_uri": "https://localhost:8080/"
        },
        "outputId": "85934b6b-9be7-4e3b-97f6-91b4da9421f3"
      },
      "source": [
        "for i in range(1,201,2):\n",
        "  xx=pd.DataFrame([TF_diffNull[TF_diffNull[i]>.5][0],TF_diffNull[TF_diffNull[i]<-.5][0]])\n",
        "  if not xx.empty:\n",
        "    print(i)"
      ],
      "execution_count": null,
      "outputs": [
        {
          "output_type": "stream",
          "text": [
            "103\n",
            "179\n",
            "185\n"
          ],
          "name": "stdout"
        }
      ]
    },
    {
      "cell_type": "code",
      "metadata": {
        "id": "naQsEEwR_4Ju"
      },
      "source": [
        "TF_diffNull"
      ],
      "execution_count": null,
      "outputs": []
    },
    {
      "cell_type": "code",
      "metadata": {
        "id": "87hASlQ_1Bbw"
      },
      "source": [
        "[sex_tf_diff[(sex_tf_diff['diff_y'])>.4].tf.values,sex_tf_diff[(sex_tf_diff['diff_y'])<-0.4].tf.values] #,sex_tf_diff[np.abs(sex_tf_diff['diff_y'])>.4].tf]"
      ],
      "execution_count": null,
      "outputs": []
    },
    {
      "cell_type": "markdown",
      "metadata": {
        "id": "O-5gassUO0XB"
      },
      "source": [
        "###plot diff degree distribution"
      ]
    },
    {
      "cell_type": "code",
      "metadata": {
        "id": "IfA5aKCmEBgc",
        "colab": {
          "base_uri": "https://localhost:8080/",
          "height": 279
        },
        "outputId": "93495faa-4123-4286-86fe-4519b8d837cf"
      },
      "source": [
        "for i, col in enumerate(TF_diffNull.columns):\n",
        "    # plt.figure(i)\n",
        "    tmp=sns.distplot(TF_diffNull[col])"
      ],
      "execution_count": null,
      "outputs": [
        {
          "output_type": "display_data",
          "data": {
            "image/png": "[encoded data removed]",
            "text/plain": [
              "<Figure size 432x288 with 1 Axes>"
            ]
          },
          "metadata": {
            "tags": [],
            "needs_background": "light"
          }
        }
      ]
    },
    {
      "cell_type": "code",
      "metadata": {
        "colab": {
          "base_uri": "https://localhost:8080/",
          "height": 279
        },
        "id": "E7aaqYvZAu2e",
        "outputId": "c36eac08-c5b9-4d92-f453-f0d37db61160"
      },
      "source": [
        "for i, col in enumerate(gene_diffNull.columns):\n",
        "    # plt.figure(i)\n",
        "    tmp=sns.distplot(gene_diffNull[col])"
      ],
      "execution_count": null,
      "outputs": [
        {
          "output_type": "display_data",
          "data": {
            "image/png": "[encoded data removed]",
            "text/plain": [
              "<Figure size 432x288 with 1 Axes>"
            ]
          },
          "metadata": {
            "tags": [],
            "needs_background": "light"
          }
        }
      ]
    },
    {
      "cell_type": "code",
      "metadata": {
        "id": "4nQRblCiCPlS",
        "colab": {
          "base_uri": "https://localhost:8080/"
        },
        "outputId": "303f82db-608b-40d3-ae8b-553d4306761a"
      },
      "source": [
        "hist=np.histogram(np.array(TF_diffNull).flatten())#,log=False)\n",
        "stats.rv_histogram(hist)"
      ],
      "execution_count": null,
      "outputs": [
        {
          "output_type": "execute_result",
          "data": {
            "text/plain": [
              "<scipy.stats._continuous_distns.rv_histogram at 0x7fcc9f85d390>"
            ]
          },
          "metadata": {
            "tags": []
          },
          "execution_count": 9
        }
      ]
    },
    {
      "cell_type": "code",
      "metadata": {
        "id": "sqNqvYuZ3wMG"
      },
      "source": [
        "plt.hist(TF_diffNull.unstack(),log=True)"
      ],
      "execution_count": null,
      "outputs": []
    },
    {
      "cell_type": "code",
      "metadata": {
        "id": "-CeKcgiv39wk"
      },
      "source": [
        "plt.hist(TF_diffNull.unstack())"
      ],
      "execution_count": null,
      "outputs": []
    },
    {
      "cell_type": "code",
      "metadata": {
        "id": "aDKhmWpVEML9",
        "colab": {
          "base_uri": "https://localhost:8080/",
          "height": 372
        },
        "outputId": "5c528742-c8c8-4656-c117-9539f4128a63"
      },
      "source": [
        "sns.distplot(np.median(TF_diffNull,axis=1))\n",
        "sns.distplot(np.mean(TF_diffNull,axis=1))"
      ],
      "execution_count": null,
      "outputs": [
        {
          "output_type": "stream",
          "text": [
            "/usr/local/lib/python3.6/dist-packages/seaborn/distributions.py:2557: FutureWarning: `distplot` is a deprecated function and will be removed in a future version. Please adapt your code to use either `displot` (a figure-level function with similar flexibility) or `histplot` (an axes-level function for histograms).\n",
            "  warnings.warn(msg, FutureWarning)\n",
            "/usr/local/lib/python3.6/dist-packages/seaborn/distributions.py:2557: FutureWarning: `distplot` is a deprecated function and will be removed in a future version. Please adapt your code to use either `displot` (a figure-level function with similar flexibility) or `histplot` (an axes-level function for histograms).\n",
            "  warnings.warn(msg, FutureWarning)\n"
          ],
          "name": "stderr"
        },
        {
          "output_type": "execute_result",
          "data": {
            "text/plain": [
              "<matplotlib.axes._subplots.AxesSubplot at 0x7fcc9db919b0>"
            ]
          },
          "metadata": {
            "tags": []
          },
          "execution_count": 12
        },
        {
          "output_type": "display_data",
          "data": {
            "image/png": "[encoded data removed]",
            "text/plain": [
              "<Figure size 432x288 with 1 Axes>"
            ]
          },
          "metadata": {
            "tags": [],
            "needs_background": "light"
          }
        }
      ]
    },
    {
      "cell_type": "code",
      "metadata": {
        "id": "JpEgv6Rbt1LF"
      },
      "source": [
        ""
      ],
      "execution_count": null,
      "outputs": []
    },
    {
      "cell_type": "code",
      "metadata": {
        "id": "7ciWDHa9ockC"
      },
      "source": [
        "hist=np.histogram(np.array(TF_diffNull).flatten(),100)#,log=False)\n",
        "TF_dNull=stats.rv_histogram(hist)\n",
        "sampled_list = random.sample(set(mmm['diff']), 100)\n",
        "stat2, pvalue2 = stats.kstest(sampled_list, cdf=TF_dNull.cdf)#,args=(weight1, mean1, stdv1, mean2, stdv2))\n",
        "pvalue2"
      ],
      "execution_count": null,
      "outputs": []
    },
    {
      "cell_type": "code",
      "metadata": {
        "id": "ZVC3Qd7xzL8y"
      },
      "source": [
        "TFpvalue=pd.DataFrame()\n",
        "for i, col in enumerate(TF_diffNull.columns):\n",
        "  hist=np.histogram(np.array(TF_diffNull[col]))#.flatten())#,log=False)\n",
        "  TF_dNull=stats.rv_histogram(hist)\n",
        "  sampled_list = random.sample(set(mmm['diff']), 100)\n",
        "  stat2, pvalue2 = stats.kstest(sampled_list, cdf=TF_dNull.cdf)#,args=(weight1, mean1, stdv1, mean2, stdv2))\n",
        "  TFpvalue[i+1]=[pvalue2] #np.concatenate([pvalue,pvalue2],axis=0)\n",
        "TFpvalue=TFpvalue.T\n",
        "print(TFpvalue)"
      ],
      "execution_count": null,
      "outputs": []
    },
    {
      "cell_type": "code",
      "metadata": {
        "id": "hkEQPcqx2Eep",
        "colab": {
          "base_uri": "https://localhost:8080/",
          "height": 32
        },
        "outputId": "b6467072-cef3-49fc-ced7-39df68b60e20"
      },
      "source": [
        "TFpvalue[TFpvalue<.005].dropna()"
      ],
      "execution_count": null,
      "outputs": [
        {
          "output_type": "execute_result",
          "data": {
            "text/html": [
              "<div>\n",
              "<style scoped>\n",
              "    .dataframe tbody tr th:only-of-type {\n",
              "        vertical-align: middle;\n",
              "    }\n",
              "\n",
              "    .dataframe tbody tr th {\n",
              "        vertical-align: top;\n",
              "    }\n",
              "\n",
              "    .dataframe thead th {\n",
              "        text-align: right;\n",
              "    }\n",
              "</style>\n",
              "<table border=\"1\" class=\"dataframe\">\n",
              "  <thead>\n",
              "    <tr style=\"text-align: right;\">\n",
              "      <th></th>\n",
              "    </tr>\n",
              "  </thead>\n",
              "  <tbody>\n",
              "  </tbody>\n",
              "</table>\n",
              "</div>"
            ],
            "text/plain": [
              "Empty DataFrame\n",
              "Columns: []\n",
              "Index: []"
            ]
          },
          "metadata": {
            "tags": []
          },
          "execution_count": 15
        }
      ]
    },
    {
      "cell_type": "code",
      "metadata": {
        "id": "4hbX_mwJ3vBH"
      },
      "source": [
        "Gpvalue=pd.DataFrame()\n",
        "for i, col in enumerate(gene_diffNull.columns):\n",
        "  hist=np.histogram(np.array(gene_diffNull[col]))#.flatten())#,log=False)\n",
        "  gene_dNull=stats.rv_histogram(hist)\n",
        "  sampled_list = random.sample(set(mmmm['diff']), 100)\n",
        "  stat2, pvalue2 = stats.kstest(sampled_list, cdf=gene_dNull.cdf)#,args=(weight1, mean1, stdv1, mean2, stdv2))\n",
        "  Gpvalue[i+1]=[pvalue2] #np.concatenate([pvalue,pvalue2],axis=0)\n",
        "Gpvalue=Gpvalue.T\n",
        "print(Gpvalue)"
      ],
      "execution_count": null,
      "outputs": []
    },
    {
      "cell_type": "code",
      "metadata": {
        "id": "OGbvrnEW6-C2"
      },
      "source": [
        "Gpvalue[Gpvalue<.005].dropna()"
      ],
      "execution_count": null,
      "outputs": []
    },
    {
      "cell_type": "markdown",
      "metadata": {
        "id": "dX4Ud-HNLTSV"
      },
      "source": [
        "#Age case v control (65yo)"
      ]
    },
    {
      "cell_type": "code",
      "metadata": {
        "id": "XFchVEvpMNto",
        "colab": {
          "base_uri": "https://localhost:8080/"
        },
        "outputId": "b98f8241-0c21-438e-e1a4-b287674cd62f"
      },
      "source": [
        "# del data1['loc']\n",
        "# Age=(gse.phenotype_data['characteristics_ch1.0.age'].values).astype('float')>64\n",
        "# len(Age.astype('str'))\n",
        "# data1=pd.read_csv('drive/My Drive/Colab Notebooks/GSE76925.txt',sep='\\t',index_col=0)\n",
        "# data1\n",
        "# data1.columns=[Age.astype('str')+gse.phenotype_data['characteristics_ch1.5.copd'].values]\n",
        "\n",
        "# data1.loc[:,'Truecase'].to_csv('OldCase.txt',sep='\\t',index=True,header=False)\n",
        "# data1.loc[:,'Truecont'].to_csv('OldCont.txt',sep='\\t',index=True,header=False)\n",
        "[data1.loc[:,'Truecase'].shape,#.to_csv('OldCase.txt',sep='\\t',index=True,header=False)\n",
        "data1.loc[:,'Truecont'].shape,\n",
        "\n",
        "# # data4=data1[data1['age']<=65]\n",
        "# # del  data4['loc']\n",
        "# # data4.columns=[gse.phenotype_data['characteristics_ch1.1.Sex']+gse.phenotype_data['characteristics_ch1.5.copd']]\n",
        "# data1.loc[:,'Falsecase'].to_csv('YoungCase.txt',sep='\\t',index=True,header=False)\n",
        "# data1.loc[:,'Falsecont'].to_csv('YoungCont.txt',sep='\\t',index=True,header=False)\n",
        "data1.loc[:,'Falsecase'].shape,#.to_csv('YoungCase.txt',sep='\\t',index=True,header=False)\n",
        "data1.loc[:,'Falsecont'].shape]"
      ],
      "execution_count": null,
      "outputs": [
        {
          "output_type": "execute_result",
          "data": {
            "text/plain": [
              "[(28725, 46), (28725, 23), (28725, 65), (28725, 17)]"
            ]
          },
          "metadata": {
            "tags": []
          },
          "execution_count": 31
        }
      ]
    },
    {
      "cell_type": "code",
      "metadata": {
        "id": "gzNNCvGPMRWh"
      },
      "source": [
        "LCL_ppi=pd.read_csv('https://granddb.s3.amazonaws.com/optPANDA/ppi/ppi_complete.txt',sep='\\t',header=None)\n",
        "LCL_ppi.to_csv('ppi_complete.txt',sep='\\t',index=False,header=False)\n",
        "\n",
        "coding_LCL_motif=pd.read_csv('https://granddb.s3.amazonaws.com/optPANDA/motifs/Hugo_motifCellLine.txt',sep='\\t',header=None)\n",
        "coding_LCL_motif.to_csv('coding_LCL_motif.txt',sep='\\t',index=False,header=False)\n",
        "\n",
        "motif_data='coding_LCL_motif.txt'\n",
        "ppi_data='ppi_complete.txt'"
      ],
      "execution_count": null,
      "outputs": []
    },
    {
      "cell_type": "code",
      "metadata": {
        "id": "PU39axBX7Q77"
      },
      "source": [
        "panda_obj1 = Panda('OldCase.txt', motif_data, ppi_data,computing='gpu',precision='single',save_tmp=False,save_memory = False, remove_missing=False, keep_expression_matrix = True,modeProcess = 'intersection')\n",
        "np.save('drive/My Drive/Panda_OldCase.npy',panda_obj1.export_panda_results)\n",
        "del panda_obj1\n",
        "panda_obj2 = Panda('OldCont.txt', motif_data, ppi_data,computing='gpu',precision='single',save_tmp=False,save_memory = False, remove_missing=False, keep_expression_matrix = True,modeProcess = 'intersection')\n",
        "np.save('drive/My Drive/Panda_OldCont.npy',panda_obj2.export_panda_results)\n",
        "del panda_obj2\n",
        "panda_obj3 = Panda('YoungCase.txt', motif_data, ppi_data,computing='gpu',precision='single',save_tmp=False,save_memory = False, remove_missing=False, keep_expression_matrix = True,modeProcess = 'intersection')\n",
        "np.save('drive/My Drive/Panda_YoungCase.npy',panda_obj3.export_panda_results)\n",
        "del panda_obj3\n",
        "panda_obj4 = Panda('YoungCont.txt', motif_data, ppi_data,computing='gpu',precision='single',save_tmp=False,save_memory = False, remove_missing=False, keep_expression_matrix = True,modeProcess = 'intersection')\n",
        "np.save('drive/My Drive/Panda_YoungCont.npy',panda_obj4.export_panda_results)\n",
        "del panda_obj4\n"
      ],
      "execution_count": null,
      "outputs": []
    },
    {
      "cell_type": "code",
      "metadata": {
        "id": "EmA2YJXYTFcM"
      },
      "source": [
        "Panda_OldCase=np.load('drive/My Drive/Colab Notebooks/Panda_OldCase.npy',allow_pickle=True)#,sep='\\t',index_col=0,header=None,names=['loc','symbol'])\n",
        "Panda_OldCont=np.load('drive/My Drive/Colab Notebooks/Panda_OldCont.npy',allow_pickle=True)#,sep='\\t',index_col=0,header=None,names=['loc','symbol'])\n",
        "Panda_OldCont=pd.DataFrame(Panda_OldCont)\n",
        "Panda_OldCont.columns=['tf','gene','motif','force']\n",
        "Panda_OldCase=pd.DataFrame(Panda_OldCase)\n",
        "Panda_OldCase.columns=['tf','gene','motif','force']\n",
        "\n",
        "Panda_YoungCase=np.load('drive/My Drive/Colab Notebooks/Panda_YoungCase.npy',allow_pickle=True)#,sep='\\t',index_col=0,header=None,names=['loc','symbol'])\n",
        "Panda_YoungCont=np.load('drive/My Drive/Colab Notebooks/Panda_YoungCont.npy',allow_pickle=True)#,sep='\\t',index_col=0,header=None,names=['loc','symbol'])\n",
        "Panda_YoungCont=pd.DataFrame(Panda_YoungCont)\n",
        "Panda_YoungCont.columns=['tf','gene','motif','force']\n",
        "Panda_YoungCase=pd.DataFrame(Panda_YoungCase)\n",
        "Panda_YoungCase.columns=['tf','gene','motif','force']"
      ],
      "execution_count": null,
      "outputs": []
    },
    {
      "cell_type": "markdown",
      "metadata": {
        "id": "T3jSwAJVRT71"
      },
      "source": [
        "#TF and gene specific zscore diff OLD, YOUNG"
      ]
    },
    {
      "cell_type": "code",
      "metadata": {
        "id": "d5KtPm3PQ6UR",
        "colab": {
          "base_uri": "https://localhost:8080/",
          "height": 380
        },
        "outputId": "deb628c0-c206-49b8-ad8a-cf7b95161ff5"
      },
      "source": [
        "from scipy.stats import zscore\n",
        "# Panda_nullA.panda_results = pd.DataFrame(Panda_nullA.export_panda_results, columns=['tf','gene','motif','force'])\n",
        "subset_panda_results3 = Panda_OldCase.sort_values(by=['force'], ascending=False)\n",
        "# subset_panda_results3['merge']=subset_panda_results3.tf+'-'+subset_panda_results3.gene\n",
        "\n",
        "# Panda_nullB.panda_results = pd.DataFrame(Panda_nullB.export_panda_results, columns=['tf','gene','motif','force'])\n",
        "subset_panda_results1 = Panda_OldCont.sort_values(by=['force'], ascending=False)\n",
        "# subset_panda_results1['merge']=subset_panda_results1.tf+'-'+subset_panda_results1.gene\n",
        "del subset_panda_results3['motif'],subset_panda_results1['motif']\n",
        "TFsum_3=subset_panda_results3.groupby(['tf']).agg({'force':sum})\n",
        "TFsum_1=subset_panda_results1.groupby(['tf']).agg({'force':sum})\n",
        "TFsum_1['force']=zscore(TFsum_1['force'])\n",
        "TFsum_3['force']=zscore(TFsum_3['force']) ##reduces range from 1500 to 3\n",
        "\n",
        "geneSum_3=subset_panda_results3.groupby(['gene']).agg({'force':sum})\n",
        "geneSum_1=subset_panda_results1.groupby(['gene']).agg({'force':sum})\n",
        "geneSum_3['force']=zscore(geneSum_3['force'])\n",
        "geneSum_1['force']=zscore(geneSum_1['force'])\n",
        "\n",
        "mmm=TFsum_3.merge(TFsum_1, left_on=['tf'], right_on=['tf'])\n",
        "mmmm=geneSum_3.merge(geneSum_1, left_on=['gene'], right_on=['gene'])\n",
        "\n",
        "del [[subset_panda_results3, subset_panda_results1,Panda_OldCont,Panda_OldCase]]\n",
        "gc.collect()\n",
        "subset_panda_results3=pd.DataFrame()\n",
        "subset_panda_results1=pd.DataFrame()\n",
        "Panda_FcontFULL=pd.DataFrame()\n",
        "Panda_FcontFULL=pd.DataFrame()\n",
        "\n",
        "\n",
        "mmm['diff']=mmm.force_x-mmm.force_y\n",
        "mmm = mmm.sort_values(by ='diff' )\n",
        "\n",
        "\n",
        "mmmm['diff']=mmmm.force_x-mmmm.force_y\n",
        "mmmm = mmmm.sort_values(by ='diff' )\n",
        "mmm.to_csv('drive/My Drive/TF_zscore_O.txt',sep='\\t')\n",
        "mmmm.to_csv('drive/My Drive/gene_zscore_O.txt',sep='\\t',index=0)"
      ],
      "execution_count": null,
      "outputs": [
        {
          "output_type": "error",
          "ename": "KeyboardInterrupt",
          "evalue": "ignored",
          "traceback": [
            "\u001b[0;31m---------------------------------------------------------------------------\u001b[0m",
            "\u001b[0;31mKeyboardInterrupt\u001b[0m                         Traceback (most recent call last)",
            "\u001b[0;32m<ipython-input-5-c2da86e73e55>\u001b[0m in \u001b[0;36m<module>\u001b[0;34m()\u001b[0m\n\u001b[1;32m      1\u001b[0m \u001b[0;32mfrom\u001b[0m \u001b[0mscipy\u001b[0m\u001b[0;34m.\u001b[0m\u001b[0mstats\u001b[0m \u001b[0;32mimport\u001b[0m \u001b[0mzscore\u001b[0m\u001b[0;34m\u001b[0m\u001b[0;34m\u001b[0m\u001b[0m\n\u001b[1;32m      2\u001b[0m \u001b[0;31m# Panda_nullA.panda_results = pd.DataFrame(Panda_nullA.export_panda_results, columns=['tf','gene','motif','force'])\u001b[0m\u001b[0;34m\u001b[0m\u001b[0;34m\u001b[0m\u001b[0;34m\u001b[0m\u001b[0m\n\u001b[0;32m----> 3\u001b[0;31m \u001b[0msubset_panda_results3\u001b[0m \u001b[0;34m=\u001b[0m \u001b[0mPanda_OldCase\u001b[0m\u001b[0;34m.\u001b[0m\u001b[0msort_values\u001b[0m\u001b[0;34m(\u001b[0m\u001b[0mby\u001b[0m\u001b[0;34m=\u001b[0m\u001b[0;34m[\u001b[0m\u001b[0;34m'force'\u001b[0m\u001b[0;34m]\u001b[0m\u001b[0;34m,\u001b[0m \u001b[0mascending\u001b[0m\u001b[0;34m=\u001b[0m\u001b[0;32mFalse\u001b[0m\u001b[0;34m)\u001b[0m\u001b[0;34m\u001b[0m\u001b[0;34m\u001b[0m\u001b[0m\n\u001b[0m\u001b[1;32m      4\u001b[0m \u001b[0;31m# subset_panda_results3['merge']=subset_panda_results3.tf+'-'+subset_panda_results3.gene\u001b[0m\u001b[0;34m\u001b[0m\u001b[0;34m\u001b[0m\u001b[0;34m\u001b[0m\u001b[0m\n\u001b[1;32m      5\u001b[0m \u001b[0;34m\u001b[0m\u001b[0m\n",
            "\u001b[0;32m/usr/local/lib/python3.6/dist-packages/pandas/core/frame.py\u001b[0m in \u001b[0;36msort_values\u001b[0;34m(self, by, axis, ascending, inplace, kind, na_position, ignore_index, key)\u001b[0m\n\u001b[1;32m   5306\u001b[0m \u001b[0;34m\u001b[0m\u001b[0m\n\u001b[1;32m   5307\u001b[0m             indexer = nargsort(\n\u001b[0;32m-> 5308\u001b[0;31m                 \u001b[0mk\u001b[0m\u001b[0;34m,\u001b[0m \u001b[0mkind\u001b[0m\u001b[0;34m=\u001b[0m\u001b[0mkind\u001b[0m\u001b[0;34m,\u001b[0m \u001b[0mascending\u001b[0m\u001b[0;34m=\u001b[0m\u001b[0mascending\u001b[0m\u001b[0;34m,\u001b[0m \u001b[0mna_position\u001b[0m\u001b[0;34m=\u001b[0m\u001b[0mna_position\u001b[0m\u001b[0;34m,\u001b[0m \u001b[0mkey\u001b[0m\u001b[0;34m=\u001b[0m\u001b[0mkey\u001b[0m\u001b[0;34m\u001b[0m\u001b[0;34m\u001b[0m\u001b[0m\n\u001b[0m\u001b[1;32m   5309\u001b[0m             )\n\u001b[1;32m   5310\u001b[0m \u001b[0;34m\u001b[0m\u001b[0m\n",
            "\u001b[0;32m/usr/local/lib/python3.6/dist-packages/pandas/core/sorting.py\u001b[0m in \u001b[0;36mnargsort\u001b[0;34m(items, kind, ascending, na_position, key)\u001b[0m\n\u001b[1;32m    299\u001b[0m         \u001b[0mnon_nans\u001b[0m \u001b[0;34m=\u001b[0m \u001b[0mnon_nans\u001b[0m\u001b[0;34m[\u001b[0m\u001b[0;34m:\u001b[0m\u001b[0;34m:\u001b[0m\u001b[0;34m-\u001b[0m\u001b[0;36m1\u001b[0m\u001b[0;34m]\u001b[0m\u001b[0;34m\u001b[0m\u001b[0;34m\u001b[0m\u001b[0m\n\u001b[1;32m    300\u001b[0m         \u001b[0mnon_nan_idx\u001b[0m \u001b[0;34m=\u001b[0m \u001b[0mnon_nan_idx\u001b[0m\u001b[0;34m[\u001b[0m\u001b[0;34m:\u001b[0m\u001b[0;34m:\u001b[0m\u001b[0;34m-\u001b[0m\u001b[0;36m1\u001b[0m\u001b[0;34m]\u001b[0m\u001b[0;34m\u001b[0m\u001b[0;34m\u001b[0m\u001b[0m\n\u001b[0;32m--> 301\u001b[0;31m     \u001b[0mindexer\u001b[0m \u001b[0;34m=\u001b[0m \u001b[0mnon_nan_idx\u001b[0m\u001b[0;34m[\u001b[0m\u001b[0mnon_nans\u001b[0m\u001b[0;34m.\u001b[0m\u001b[0margsort\u001b[0m\u001b[0;34m(\u001b[0m\u001b[0mkind\u001b[0m\u001b[0;34m=\u001b[0m\u001b[0mkind\u001b[0m\u001b[0;34m)\u001b[0m\u001b[0;34m]\u001b[0m\u001b[0;34m\u001b[0m\u001b[0;34m\u001b[0m\u001b[0m\n\u001b[0m\u001b[1;32m    302\u001b[0m     \u001b[0;32mif\u001b[0m \u001b[0;32mnot\u001b[0m \u001b[0mascending\u001b[0m\u001b[0;34m:\u001b[0m\u001b[0;34m\u001b[0m\u001b[0;34m\u001b[0m\u001b[0m\n\u001b[1;32m    303\u001b[0m         \u001b[0mindexer\u001b[0m \u001b[0;34m=\u001b[0m \u001b[0mindexer\u001b[0m\u001b[0;34m[\u001b[0m\u001b[0;34m:\u001b[0m\u001b[0;34m:\u001b[0m\u001b[0;34m-\u001b[0m\u001b[0;36m1\u001b[0m\u001b[0;34m]\u001b[0m\u001b[0;34m\u001b[0m\u001b[0;34m\u001b[0m\u001b[0m\n",
            "\u001b[0;31mKeyboardInterrupt\u001b[0m: "
          ]
        }
      ]
    },
    {
      "cell_type": "code",
      "metadata": {
        "id": "a5I7BBWARcjJ"
      },
      "source": [
        "\n",
        "# Panda_nullA.panda_results = pd.DataFrame(Panda_nullA.export_panda_results, columns=['tf','gene','motif','force'])\n",
        "subset_panda_results3 = Panda_YoungCase.sort_values(by=['force'], ascending=False)\n",
        "# subset_panda_results3['merge']=subset_panda_results3.tf+'-'+subset_panda_results3.gene\n",
        "\n",
        "# Panda_nullB.panda_results = pd.DataFrame(Panda_nullB.export_panda_results, columns=['tf','gene','motif','force'])\n",
        "subset_panda_results1 = Panda_YoungCont.sort_values(by=['force'], ascending=False)\n",
        "# subset_panda_results1['merge']=subset_panda_results1.tf+'-'+subset_panda_results1.gene\n",
        "del subset_panda_results3['motif'],subset_panda_results1['motif']\n",
        "TFsum_3=subset_panda_results3.groupby(['tf']).agg({'force':sum})\n",
        "TFsum_1=subset_panda_results1.groupby(['tf']).agg({'force':sum})\n",
        "TFsum_1['force']=zscore(TFsum_1['force'])\n",
        "TFsum_3['force']=zscore(TFsum_3['force'])\n",
        "\n",
        "geneSum_3=subset_panda_results3.groupby(['gene']).agg({'force':sum})\n",
        "geneSum_1=subset_panda_results1.groupby(['gene']).agg({'force':sum})\n",
        "geneSum_3['force']=zscore(geneSum_3['force'])\n",
        "geneSum_1['force']=zscore(geneSum_1['force'])\n",
        "\n",
        "nnn=TFsum_3.merge(TFsum_1, left_on=['tf'], right_on=['tf'])\n",
        "nnnn=geneSum_3.merge(geneSum_1, left_on=['gene'], right_on=['gene'])\n",
        "\n",
        "del [[subset_panda_results3, subset_panda_results1,Panda_YoungCase,Panda_YoungCont]]\n",
        "gc.collect()\n",
        "subset_panda_results3=pd.DataFrame()\n",
        "subset_panda_results1=pd.DataFrame()\n",
        "Panda_Mcont=pd.DataFrame()\n",
        "Panda_Mcase=pd.DataFrame()\n",
        "\n",
        "\n",
        "nnn['diff']=nnn.force_x-nnn.force_y\n",
        "nnn = nnn.sort_values(by ='diff' )\n",
        "\n",
        "\n",
        "nnnn['diff']=nnnn.force_x-nnnn.force_y\n",
        "nnnn = nnnn.sort_values(by ='diff' )\n",
        "nnn.to_csv('drive/My Drive/TF_zscore_Y.txt',sep='\\t')\n",
        "nnnn.to_csv('drive/My Drive/gene_zscore_Y.txt',sep='\\t')\n"
      ],
      "execution_count": null,
      "outputs": []
    },
    {
      "cell_type": "code",
      "metadata": {
        "id": "84sc0fr-VVJh",
        "colab": {
          "base_uri": "https://localhost:8080/",
          "height": 405
        },
        "outputId": "31dff242-4b44-4699-8f33-c3641ba1c191"
      },
      "source": [
        "ff=pd.read_csv('drive/My Drive/TF_zscore_O.txt',sep='\\t',header=0)\n",
        "fff=pd.read_csv('drive/My Drive/gene_zscore_O.txt',sep='\\t',header=0)\n",
        "mm=pd.read_csv('drive/My Drive/TF_zscore_Y.txt',sep='\\t',header=0)\n",
        "mmm=pd.read_csv('drive/My Drive/gene_zscore_Y.txt',sep='\\t',header=0)\n",
        "sex_tf_diff=ff.merge(mm,on='tf')\n",
        "# sex_gene_diff=fff.merge(mmm,on='gene')\n",
        " \n",
        "plt.figure(figsize=(15,6))\n",
        "sex_tf_diff['sexdiff']=sex_tf_diff['diff_x']-sex_tf_diff['diff_y']\n",
        "# sex_tf_diff=sex_tf_diff.sort_values(by=['sexdiff'])\n",
        "sex_tf_diff=sex_tf_diff.sort_values(by=['tf'])\n",
        "sns.barplot(data=sex_tf_diff,y='sexdiff',x='tf')"
      ],
      "execution_count": null,
      "outputs": [
        {
          "output_type": "execute_result",
          "data": {
            "text/plain": [
              "<matplotlib.axes._subplots.AxesSubplot at 0x7f8da2ab2b38>"
            ]
          },
          "metadata": {
            "tags": []
          },
          "execution_count": 7
        },
        {
          "output_type": "display_data",
          "data": {
            "image/png": "[encoded data removed]",
            "text/plain": [
              "<Figure size 1080x432 with 1 Axes>"
            ]
          },
          "metadata": {
            "tags": [],
            "needs_background": "light"
          }
        }
      ]
    },
    {
      "cell_type": "code",
      "metadata": {
        "id": "zLMHwaMBRsmc",
        "colab": {
          "base_uri": "https://localhost:8080/",
          "height": 298
        },
        "outputId": "4edff4f8-db80-4daa-dde4-2e1ebedc35e5"
      },
      "source": [
        "a=plt.hist(sex_tf_diff['diff_x'],bins=100,label='<65',color='c')\n",
        "b=plt.hist(sex_tf_diff['diff_y'],bins=100,label='>=65',color='m')\n",
        "plt.title('Age-specific Ca-Co TF degree diff')\n",
        "plt.legend(loc=\"best\")"
      ],
      "execution_count": null,
      "outputs": [
        {
          "output_type": "execute_result",
          "data": {
            "text/plain": [
              "<matplotlib.legend.Legend at 0x7f8da17a8fd0>"
            ]
          },
          "metadata": {
            "tags": []
          },
          "execution_count": 9
        },
        {
          "output_type": "display_data",
          "data": {
            "image/png": "[encoded data removed]",
            "text/plain": [
              "<Figure size 432x288 with 1 Axes>"
            ]
          },
          "metadata": {
            "tags": [],
            "needs_background": "light"
          }
        }
      ]
    },
    {
      "cell_type": "code",
      "metadata": {
        "id": "5RCpdCYeUPg-",
        "colab": {
          "base_uri": "https://localhost:8080/",
          "height": 424
        },
        "outputId": "cef446b0-911c-46a5-e878-d1b136f8363a"
      },
      "source": [
        "# [sex_tf_diff[np.abs(sex_tf_diff['diff_x'])>.4].tf,\n",
        "sex_tf_diff#[np.abs(sex_tf_diff['diff_y'])>.4].tf]"
      ],
      "execution_count": null,
      "outputs": [
        {
          "output_type": "execute_result",
          "data": {
            "text/html": [
              "<div>\n",
              "<style scoped>\n",
              "    .dataframe tbody tr th:only-of-type {\n",
              "        vertical-align: middle;\n",
              "    }\n",
              "\n",
              "    .dataframe tbody tr th {\n",
              "        vertical-align: top;\n",
              "    }\n",
              "\n",
              "    .dataframe thead th {\n",
              "        text-align: right;\n",
              "    }\n",
              "</style>\n",
              "<table border=\"1\" class=\"dataframe\">\n",
              "  <thead>\n",
              "    <tr style=\"text-align: right;\">\n",
              "      <th></th>\n",
              "      <th>tf</th>\n",
              "      <th>force_x_x</th>\n",
              "      <th>force_y_x</th>\n",
              "      <th>diff_x</th>\n",
              "      <th>force_x_y</th>\n",
              "      <th>force_y_y</th>\n",
              "      <th>diff_y</th>\n",
              "      <th>sexdiff</th>\n",
              "    </tr>\n",
              "  </thead>\n",
              "  <tbody>\n",
              "    <tr>\n",
              "      <th>106</th>\n",
              "      <td>AHR</td>\n",
              "      <td>-0.063462</td>\n",
              "      <td>0.191176</td>\n",
              "      <td>-0.254638</td>\n",
              "      <td>-0.096085</td>\n",
              "      <td>0.126451</td>\n",
              "      <td>-0.222536</td>\n",
              "      <td>-0.032102</td>\n",
              "    </tr>\n",
              "    <tr>\n",
              "      <th>131</th>\n",
              "      <td>AIRE</td>\n",
              "      <td>0.215897</td>\n",
              "      <td>0.446774</td>\n",
              "      <td>-0.230877</td>\n",
              "      <td>0.161294</td>\n",
              "      <td>0.338623</td>\n",
              "      <td>-0.177329</td>\n",
              "      <td>-0.053548</td>\n",
              "    </tr>\n",
              "    <tr>\n",
              "      <th>37</th>\n",
              "      <td>ALX1</td>\n",
              "      <td>-0.111129</td>\n",
              "      <td>0.225843</td>\n",
              "      <td>-0.336972</td>\n",
              "      <td>-0.128569</td>\n",
              "      <td>0.128128</td>\n",
              "      <td>-0.256697</td>\n",
              "      <td>-0.080275</td>\n",
              "    </tr>\n",
              "    <tr>\n",
              "      <th>49</th>\n",
              "      <td>ALX3</td>\n",
              "      <td>-0.188581</td>\n",
              "      <td>0.125785</td>\n",
              "      <td>-0.314366</td>\n",
              "      <td>-0.213315</td>\n",
              "      <td>0.035178</td>\n",
              "      <td>-0.248493</td>\n",
              "      <td>-0.065873</td>\n",
              "    </tr>\n",
              "    <tr>\n",
              "      <th>55</th>\n",
              "      <td>ALX4</td>\n",
              "      <td>-0.222160</td>\n",
              "      <td>0.087562</td>\n",
              "      <td>-0.309722</td>\n",
              "      <td>-0.244430</td>\n",
              "      <td>-0.014843</td>\n",
              "      <td>-0.229587</td>\n",
              "      <td>-0.080135</td>\n",
              "    </tr>\n",
              "    <tr>\n",
              "      <th>...</th>\n",
              "      <td>...</td>\n",
              "      <td>...</td>\n",
              "      <td>...</td>\n",
              "      <td>...</td>\n",
              "      <td>...</td>\n",
              "      <td>...</td>\n",
              "      <td>...</td>\n",
              "      <td>...</td>\n",
              "    </tr>\n",
              "    <tr>\n",
              "      <th>485</th>\n",
              "      <td>ZNF75A</td>\n",
              "      <td>0.568160</td>\n",
              "      <td>0.366642</td>\n",
              "      <td>0.201519</td>\n",
              "      <td>0.570813</td>\n",
              "      <td>0.466667</td>\n",
              "      <td>0.104146</td>\n",
              "      <td>0.097373</td>\n",
              "    </tr>\n",
              "    <tr>\n",
              "      <th>382</th>\n",
              "      <td>ZNF784</td>\n",
              "      <td>-0.494082</td>\n",
              "      <td>-0.588898</td>\n",
              "      <td>0.094815</td>\n",
              "      <td>-0.450194</td>\n",
              "      <td>-0.491682</td>\n",
              "      <td>0.041488</td>\n",
              "      <td>0.053327</td>\n",
              "    </tr>\n",
              "    <tr>\n",
              "      <th>478</th>\n",
              "      <td>ZSCAN10</td>\n",
              "      <td>-0.124708</td>\n",
              "      <td>-0.323852</td>\n",
              "      <td>0.199145</td>\n",
              "      <td>-0.168546</td>\n",
              "      <td>-0.300653</td>\n",
              "      <td>0.132108</td>\n",
              "      <td>0.067037</td>\n",
              "    </tr>\n",
              "    <tr>\n",
              "      <th>349</th>\n",
              "      <td>ZSCAN16</td>\n",
              "      <td>0.013386</td>\n",
              "      <td>-0.038920</td>\n",
              "      <td>0.052305</td>\n",
              "      <td>-0.092833</td>\n",
              "      <td>-0.071734</td>\n",
              "      <td>-0.021099</td>\n",
              "      <td>0.073404</td>\n",
              "    </tr>\n",
              "    <tr>\n",
              "      <th>410</th>\n",
              "      <td>ZSCAN4</td>\n",
              "      <td>0.127728</td>\n",
              "      <td>0.003917</td>\n",
              "      <td>0.123811</td>\n",
              "      <td>0.130996</td>\n",
              "      <td>0.004019</td>\n",
              "      <td>0.126977</td>\n",
              "      <td>-0.003167</td>\n",
              "    </tr>\n",
              "  </tbody>\n",
              "</table>\n",
              "<p>636 rows × 8 columns</p>\n",
              "</div>"
            ],
            "text/plain": [
              "          tf  force_x_x  force_y_x  ...  force_y_y    diff_y   sexdiff\n",
              "106      AHR  -0.063462   0.191176  ...   0.126451 -0.222536 -0.032102\n",
              "131     AIRE   0.215897   0.446774  ...   0.338623 -0.177329 -0.053548\n",
              "37      ALX1  -0.111129   0.225843  ...   0.128128 -0.256697 -0.080275\n",
              "49      ALX3  -0.188581   0.125785  ...   0.035178 -0.248493 -0.065873\n",
              "55      ALX4  -0.222160   0.087562  ...  -0.014843 -0.229587 -0.080135\n",
              "..       ...        ...        ...  ...        ...       ...       ...\n",
              "485   ZNF75A   0.568160   0.366642  ...   0.466667  0.104146  0.097373\n",
              "382   ZNF784  -0.494082  -0.588898  ...  -0.491682  0.041488  0.053327\n",
              "478  ZSCAN10  -0.124708  -0.323852  ...  -0.300653  0.132108  0.067037\n",
              "349  ZSCAN16   0.013386  -0.038920  ...  -0.071734 -0.021099  0.073404\n",
              "410   ZSCAN4   0.127728   0.003917  ...   0.004019  0.126977 -0.003167\n",
              "\n",
              "[636 rows x 8 columns]"
            ]
          },
          "metadata": {
            "tags": []
          },
          "execution_count": 11
        }
      ]
    }
  ]
}