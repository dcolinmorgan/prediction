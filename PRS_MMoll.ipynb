{
  "nbformat": 4,
  "nbformat_minor": 0,
  "metadata": {
    "accelerator": "GPU",
    "colab": {
      "name": "PRS_MMoll.ipynb",
      "provenance": [],
      "collapsed_sections": [],
      "machine_shape": "hm",
      "include_colab_link": true
    },
    "kernelspec": {
      "display_name": "Python 3",
      "name": "python3"
    }
  },
  "cells": [
    {
      "cell_type": "markdown",
      "metadata": {
        "id": "view-in-github",
        "colab_type": "text"
      },
      "source": [
        "<a href=\"https://colab.research.google.com/github/dcolinmorgan/test/blob/master/PRS_MMoll.ipynb\" target=\"_parent\"><img src=\"https://colab.research.google.com/assets/colab-badge.svg\" alt=\"Open In Colab\"/></a>"
      ]
    },
    {
      "cell_type": "code",
      "metadata": {
        "id": "pJbYXou6chZf"
      },
      "source": [
        "import os,gc,glob\n",
        "# import s3fs\n",
        "import matplotlib.pyplot as plt\n",
        "import pandas as pd\n",
        "import seaborn as sns\n",
        "import numpy as np\n",
        "from psutil import *\n",
        "import scipy.io\n",
        "from scipy.stats import zscore\n",
        "import datetime\n",
        "from sklearn import metrics\n",
        "import traceback\n",
        "import joblib"
      ],
      "execution_count": 1,
      "outputs": []
    },
    {
      "cell_type": "code",
      "metadata": {
        "colab": {
          "base_uri": "https://localhost:8080/"
        },
        "id": "pGvDckK_Ee0r",
        "outputId": "65473804-d146-4317-e6a9-6caf65a376b5"
      },
      "source": [
        "from google.colab import drive\n",
        "drive.mount('/content/drive')"
      ],
      "execution_count": 2,
      "outputs": [
        {
          "output_type": "stream",
          "text": [
            "Mounted at /content/drive\n"
          ],
          "name": "stdout"
        }
      ]
    },
    {
      "cell_type": "code",
      "metadata": {
        "id": "sOaxdu-XE8Pf"
      },
      "source": [
        "conv=pd.read_csv('drive/MyDrive/PRS_MMoll/conv.txt',sep=' ',names=['gene','sid'])\n",
        "# data=pd.read_csv('drive/MyDrive/PRS_MMoll/fulldata2.txt',sep='\\t',index_col=0)\n",
        "pheno=pd.read_csv('drive/MyDrive/PRS_MMoll/phenoall.txt',sep=' ')\n"
      ],
      "execution_count": 19,
      "outputs": []
    },
    {
      "cell_type": "code",
      "metadata": {
        "id": "abl8NWdcFFdp"
      },
      "source": [
        "data2=data.merge(conv,on=['sid'])\n",
        "data2.index=data2.gene\n",
        "del data2['sid'] \n",
        "del data2['gene']"
      ],
      "execution_count": 25,
      "outputs": []
    },
    {
      "cell_type": "code",
      "metadata": {
        "id": "D35esM_eg7Ry"
      },
      "source": [
        "data2"
      ],
      "execution_count": null,
      "outputs": []
    },
    {
      "cell_type": "code",
      "metadata": {
        "id": "W-m47_n-gqaC"
      },
      "source": [
        "# pheno2=pheno[['sid','trs','prs_composite']]\n",
        "PRS1=data2[pheno.sid[pheno2['prs_composite']>2]]\n",
        "PRS0=data2[pheno.sid[pheno2['prs_composite']<-2]]\n",
        "\n",
        "TRS1=data2[pheno.sid[pheno2['trs']>2]]\n",
        "TRS0=data2[pheno.sid[pheno2['trs']<-2]]"
      ],
      "execution_count": 229,
      "outputs": []
    },
    {
      "cell_type": "code",
      "metadata": {
        "id": "_GysgDIZILKN"
      },
      "source": [
        "PRS1.to_csv('drive/MyDrive/PRS_MMoll/PRS1.txt',sep='\\t',header=False,index=True)\n",
        "PRS0.to_csv('drive/MyDrive/PRS_MMoll/PRS0.txt',sep='\\t',header=False,index=True)\n",
        "TRS1.to_csv('drive/MyDrive/PRS_MMoll/TRS1.txt',sep='\\t',header=False,index=True)\n",
        "TRS0.to_csv('drive/MyDrive/PRS_MMoll/TRS0.txt',sep='\\t',header=False,index=True)"
      ],
      "execution_count": 230,
      "outputs": []
    },
    {
      "cell_type": "code",
      "metadata": {
        "colab": {
          "base_uri": "https://localhost:8080/"
        },
        "id": "ZNXLCj0d8qZd",
        "outputId": "72d91828-ad78-40bc-8317-c8aca4d3049e"
      },
      "source": [
        "[PRS1.shape[1],PRS0.shape[1],TRS1.shape[1],TRS0.shape[1]]"
      ],
      "execution_count": 231,
      "outputs": [
        {
          "output_type": "execute_result",
          "data": {
            "text/plain": [
              "[57, 54, 90, 27]"
            ]
          },
          "metadata": {
            "tags": []
          },
          "execution_count": 231
        }
      ]
    },
    {
      "cell_type": "code",
      "metadata": {
        "id": "XatVci9IEriR"
      },
      "source": [
        "# !git clone --single-branch --branch milipede_beta https://github.com/dcolinmorgan/netZooPy.git\n",
        "# os.chdir('netZooPy')\n",
        "# !pip install -e ./"
      ],
      "execution_count": 232,
      "outputs": []
    },
    {
      "cell_type": "code",
      "metadata": {
        "id": "8_l5gt1cE8Ln"
      },
      "source": [
        "# import netZooPy\n",
        "# from netZooPy.panda import Panda\n",
        "# from netZooPy.lioness import Lioness\n",
        "# from netZooPy.milipede import Milipede ## just commented out to use reload above\n",
        "# os.chdir('..')"
      ],
      "execution_count": 233,
      "outputs": []
    },
    {
      "cell_type": "code",
      "metadata": {
        "id": "mZYzdkjIhmcM"
      },
      "source": [
        "\n",
        "# ppi=pd.read_csv('https://granddb.s3.amazonaws.com/optPANDA/ppi/ppi_complete.txt',sep='\\t',header=0)\n",
        "\n",
        "# med_mot=pd.read_csv('https://granddb.s3.amazonaws.com/optPANDA/motifs/Hugo_motifCellLine.txt',sep='\\t',header=0)"
      ],
      "execution_count": 234,
      "outputs": []
    },
    {
      "cell_type": "code",
      "metadata": {
        "id": "4iCWiO4Fi8El"
      },
      "source": [
        "# !wget https://granddb.s3.amazonaws.com/optPANDA/ppi/ppi_complete.txt\n",
        "# !wget https://granddb.s3.amazonaws.com/optPANDA/motifs/Hugo_motifCellLine.txt"
      ],
      "execution_count": 235,
      "outputs": []
    },
    {
      "cell_type": "code",
      "metadata": {
        "id": "ebBVgq-Bhmeg"
      },
      "source": [
        "panda_objP1=netZooPy.panda.Panda(expression_file='drive/MyDrive/PRS_MMoll/PRS1.txt',\n",
        "                      # methylation_file='0m_motif.txt',\n",
        "                      motif_file='Hugo_motifCellLine.txt',\n",
        "                      ppi_file='ppi_complete.txt',\n",
        "    computing='gpu',modeProcess='intersection',save_memory=False,save_tmp=False,precision='single',keep_expression_matrix=False)#,save_dir='drive/My Drive/Colab Notebooks/LCL_mili_partial/')#,start=0,end='agg',\n",
        "\n",
        "\n",
        "# milipeed_objA.save_milipeed_results(file='LCL_mili_full/LCL_mili_partial_'+date+'.txt')\n",
        "# panda_objP1.save_panda_results('drive/MyDrive/PRS_MMoll/PRS1.txt')\n",
        "panda_objP1.export_panda_results.to_csv('drive/MyDrive/PRS_MMoll/PRS1.txt')"
      ],
      "execution_count": null,
      "outputs": []
    },
    {
      "cell_type": "code",
      "metadata": {
        "id": "tDgWa3wyjeGK"
      },
      "source": [
        "panda_objP0=netZooPy.panda.Panda(expression_file='drive/MyDrive/PRS_MMoll/PRS0.txt',\n",
        "                      # methylation_file='0m_motif.txt',\n",
        "                      motif_file='Hugo_motifCellLine.txt',\n",
        "                      ppi_file='ppi_complete.txt',\n",
        "    computing='gpu',modeProcess='intersection',save_memory=False,save_tmp=False,precision='single',keep_expression_matrix=False)#,save_dir='drive/My Drive/Colab Notebooks/LCL_mili_partial/')#,start=0,end='agg',\n",
        "    # save_fmt='npy',map_file='netZooPy/tests/milipeed/MotifPrior_CGmap.txt')\n",
        "\n",
        "# milipeed_objA.save_milipeed_results(file='LCL_mili_full/LCL_mili_partial_'+date+'.txt')\n",
        "# panda_objP0.save_panda_results('drive/MyDrive/PRS_MMoll/PRS0.txt')\n",
        "panda_objP0.export_panda_results.to_csv('drive/MyDrive/PRS_MMoll/PRS0.txt')"
      ],
      "execution_count": null,
      "outputs": []
    },
    {
      "cell_type": "code",
      "metadata": {
        "colab": {
          "base_uri": "https://localhost:8080/"
        },
        "id": "SS88fF4nmdqW",
        "outputId": "1df5f022-43af-4aa6-9487-1301225cfe89"
      },
      "source": [
        "P1=pd.read_csv('drive/MyDrive/PRS_MMoll/PRS1.txt',sep=',',index_col=0)\n",
        "P0=pd.read_csv('drive/MyDrive/PRS_MMoll/PRS0.txt',sep=',',index_col=0)"
      ],
      "execution_count": 238,
      "outputs": [
        {
          "output_type": "stream",
          "text": [
            "/usr/local/lib/python3.7/dist-packages/numpy/lib/arraysetops.py:580: FutureWarning: elementwise comparison failed; returning scalar instead, but in the future will perform elementwise comparison\n",
            "  mask |= (ar1 == a)\n"
          ],
          "name": "stderr"
        }
      ]
    },
    {
      "cell_type": "code",
      "metadata": {
        "id": "apZQp5TSmStA"
      },
      "source": [
        "TFsum_4=P1.groupby(['tf']).agg({'force':sum})\n",
        "TFsum_2=P0.groupby(['tf']).agg({'force':sum})\n",
        "TFsum_2['force']=zscore(TFsum_2['force'])\n",
        "TFsum_4['force']=zscore(TFsum_4['force']) ##reduces range from 2500 to 4\n",
        "\n",
        "geneSum_4=P1.groupby(['gene']).agg({'force':sum})\n",
        "geneSum_2=P0.groupby(['gene']).agg({'force':sum})\n",
        "geneSum_4['force']=zscore(geneSum_4['force'])\n",
        "geneSum_2['force']=zscore(geneSum_2['force'])\n",
        "\n",
        "mmm=TFsum_4.merge(TFsum_2, left_on=['tf'], right_on=['tf'])\n",
        "mmmm=geneSum_4.merge(geneSum_2, left_on=['gene'], right_on=['gene'])\n",
        "\n",
        "# del [[P1, P0]]\n",
        "# gc.collect()\n",
        "P1=pd.DataFrame()\n",
        "P0=pd.DataFrame()\n",
        "Panda_FcontFULL=pd.DataFrame()\n",
        "Panda_FcontFULL=pd.DataFrame()\n",
        "\n",
        "\n",
        "mmm['diff']=mmm.force_x-mmm.force_y\n",
        "mmm = mmm.sort_values(by ='diff' )\n",
        "\n",
        "\n",
        "mmmm['diff']=mmmm.force_x-mmmm.force_y\n",
        "mmmm = mmmm.sort_values(by ='diff' )\n",
        "mmm.to_csv('drive/My Drive/PRS_MMoll/TF_zscore_PRS.txt',sep='\\t')\n",
        "mmmm.to_csv('drive/My Drive/PRS_MMoll/gene_zscore_PRS.txt',sep='\\t')"
      ],
      "execution_count": 239,
      "outputs": []
    },
    {
      "cell_type": "code",
      "metadata": {
        "id": "s8SHxLqUjc-t"
      },
      "source": [
        "panda_objT1=netZooPy.panda.Panda(expression_file='drive/MyDrive/PRS_MMoll/TRS1.txt',\n",
        "                      # methylation_file='0m_motif.txt',\n",
        "                      motif_file='Hugo_motifCellLine.txt',\n",
        "                      ppi_file='ppi_complete.txt',\n",
        "    computing='gpu',modeProcess='intersection',save_memory=False,save_tmp=False,precision='single',keep_expression_matrix=False)#,save_dir='drive/My Drive/Colab Notebooks/LCL_mili_partial/')#,start=0,end='agg',\n",
        "    # save_fmt='npy',map_file='netZooPy/tests/milipeed/MotifPrior_CGmap.txt')\n",
        "\n",
        "# milipeed_objA.save_milipeed_results(file='LCL_mili_full/LCL_mili_partial_'+date+'.txt')\n",
        "\n",
        "panda_objT1.export_panda_results.to_csv('drive/MyDrive/PRS_MMoll/TRS1.txt')"
      ],
      "execution_count": null,
      "outputs": []
    },
    {
      "cell_type": "code",
      "metadata": {
        "id": "L1kxfvZOjfBp"
      },
      "source": [
        "panda_objT0=netZooPy.panda.Panda(expression_file='drive/MyDrive/PRS_MMoll/TRS0.txt',\n",
        "                      # methylation_file='0m_motif.txt',\n",
        "                      motif_file='Hugo_motifCellLine.txt',\n",
        "                      ppi_file='ppi_complete.txt',\n",
        "    computing='gpu',modeProcess='intersection',save_memory=False,save_tmp=False,precision='single',keep_expression_matrix=False)#,save_dir='drive/My Drive/Colab Notebooks/LCL_mili_partial/')#,start=0,end='agg',\n",
        "    # save_fmt='npy',map_file='netZooPy/tests/milipeed/MotifPrior_CGmap.txt')\n",
        "\n",
        "# milipeed_objA.save_milipeed_results(file='LCL_mili_full/LCL_mili_partial_'+date+'.txt')\n",
        "\n",
        "panda_objT0.export_panda_results.to_csv('drive/MyDrive/PRS_MMoll/TRS0.txt')"
      ],
      "execution_count": null,
      "outputs": []
    },
    {
      "cell_type": "code",
      "metadata": {
        "colab": {
          "base_uri": "https://localhost:8080/"
        },
        "id": "M_ML-e7gjq98",
        "outputId": "96cd1b72-b085-4d2e-81a8-132de291231b"
      },
      "source": [
        "T1=pd.read_csv('drive/MyDrive/PRS_MMoll/TRS1.txt',sep=',',index_col=0)\n",
        "T0=pd.read_csv('drive/MyDrive/PRS_MMoll/TRS0.txt',sep=',',index_col=0)"
      ],
      "execution_count": 242,
      "outputs": [
        {
          "output_type": "stream",
          "text": [
            "/usr/local/lib/python3.7/dist-packages/numpy/lib/arraysetops.py:580: FutureWarning: elementwise comparison failed; returning scalar instead, but in the future will perform elementwise comparison\n",
            "  mask |= (ar1 == a)\n"
          ],
          "name": "stderr"
        }
      ]
    },
    {
      "cell_type": "code",
      "metadata": {
        "id": "alv7Gy6MpkPd"
      },
      "source": [
        "TFsum_3=T1.groupby(['tf']).agg({'force':sum})\n",
        "TFsum_1=T0.groupby(['tf']).agg({'force':sum})\n",
        "TFsum_1['force']=zscore(TFsum_1['force'])\n",
        "TFsum_3['force']=zscore(TFsum_3['force']) ##reduces range from 1500 to 3\n",
        "\n",
        "geneSum_3=T1.groupby(['gene']).agg({'force':sum})\n",
        "geneSum_1=T0.groupby(['gene']).agg({'force':sum})\n",
        "geneSum_3['force']=zscore(geneSum_3['force'])\n",
        "geneSum_1['force']=zscore(geneSum_1['force'])\n",
        "\n",
        "mmm=TFsum_3.merge(TFsum_1, left_on=['tf'], right_on=['tf'])\n",
        "mmmm=geneSum_3.merge(geneSum_1, left_on=['gene'], right_on=['gene'])\n",
        "\n",
        "# del [[T1, T0]]\n",
        "# gc.collect()\n",
        "T1=pd.DataFrame()\n",
        "T0=pd.DataFrame()\n",
        "# Panda_FcontFULL=pd.DataFrame()\n",
        "# Panda_FcontFULL=pd.DataFrame()\n",
        "\n",
        "\n",
        "mmm['diff']=mmm.force_x-mmm.force_y\n",
        "mmm = mmm.sort_values(by ='diff' )\n",
        "\n",
        "\n",
        "mmmm['diff']=mmmm.force_x-mmmm.force_y\n",
        "mmmm = mmmm.sort_values(by ='diff' )\n",
        "mmm.to_csv('drive/My Drive/PRS_MMoll/TF_zscore_TPR.txt',sep='\\t')\n",
        "mmmm.to_csv('drive/My Drive/PRS_MMoll/gene_zscore_TPR.txt',sep='\\t')"
      ],
      "execution_count": 243,
      "outputs": []
    },
    {
      "cell_type": "code",
      "metadata": {
        "id": "SNuXxic8qDHl"
      },
      "source": [
        ""
      ],
      "execution_count": 243,
      "outputs": []
    },
    {
      "cell_type": "code",
      "metadata": {
        "id": "2y5jf3E5qDMR"
      },
      "source": [
        "pp=pd.read_csv('drive/My Drive/PRS_MMoll/TF_zscore_PRS.txt',sep='\\t',header=0)\n",
        "ppp=pd.read_csv('drive/My Drive/PRS_MMoll/gene_zscore_PRS.txt',sep='\\t',header=0)\n",
        "tt=pd.read_csv('drive/My Drive/PRS_MMoll/TF_zscore_TPR.txt',sep='\\t',header=0)\n",
        "ttt=pd.read_csv('drive/My Drive/PRS_MMoll/gene_zscore_TPR.txt',sep='\\t',header=0)\n",
        "\n",
        "tf_diffB=pp.merge(tt,on='tf')\n",
        "tf_diffB.columns=['TF','prs1','prs0','prs_diff','trs1','trs0','trs_diff']\n",
        "tf_diffB.to_csv('drive/My Drive/PRS_MMoll/TF_PRS-TPS_diff.txt',sep='\\t',index=0)\n",
        "\n",
        "\n",
        "gene_diffB=ppp.merge(ttt,on='gene')\n",
        "gene_diffB.columns=['gene','prs1','prs0','prs_diff','trs1','trs0','trs_diff']\n",
        "gene_diffB.to_csv('drive/My Drive/PRS_MMoll/gene_PRS-TPS_diff.txt',sep='\\t',index=0)\n"
      ],
      "execution_count": 268,
      "outputs": []
    },
    {
      "cell_type": "code",
      "metadata": {
        "colab": {
          "base_uri": "https://localhost:8080/",
          "height": 424
        },
        "id": "thGrBcblAJOo",
        "outputId": "9bb7e4e6-9c3a-42be-b740-871b070a725a"
      },
      "source": [
        "gene_diffB"
      ],
      "execution_count": 270,
      "outputs": [
        {
          "output_type": "execute_result",
          "data": {
            "text/html": [
              "<div>\n",
              "<style scoped>\n",
              "    .dataframe tbody tr th:only-of-type {\n",
              "        vertical-align: middle;\n",
              "    }\n",
              "\n",
              "    .dataframe tbody tr th {\n",
              "        vertical-align: top;\n",
              "    }\n",
              "\n",
              "    .dataframe thead th {\n",
              "        text-align: right;\n",
              "    }\n",
              "</style>\n",
              "<table border=\"1\" class=\"dataframe\">\n",
              "  <thead>\n",
              "    <tr style=\"text-align: right;\">\n",
              "      <th></th>\n",
              "      <th>gene</th>\n",
              "      <th>prs1</th>\n",
              "      <th>prs0</th>\n",
              "      <th>prs_diff</th>\n",
              "      <th>trs1</th>\n",
              "      <th>trs0</th>\n",
              "      <th>trs_diff</th>\n",
              "    </tr>\n",
              "  </thead>\n",
              "  <tbody>\n",
              "    <tr>\n",
              "      <th>0</th>\n",
              "      <td>FAM185A</td>\n",
              "      <td>-1.347367</td>\n",
              "      <td>0.213505</td>\n",
              "      <td>-1.560873</td>\n",
              "      <td>-0.432134</td>\n",
              "      <td>-0.529150</td>\n",
              "      <td>0.097016</td>\n",
              "    </tr>\n",
              "    <tr>\n",
              "      <th>1</th>\n",
              "      <td>DHFR</td>\n",
              "      <td>-1.339025</td>\n",
              "      <td>0.107359</td>\n",
              "      <td>-1.446384</td>\n",
              "      <td>-0.428204</td>\n",
              "      <td>-1.251525</td>\n",
              "      <td>0.823320</td>\n",
              "    </tr>\n",
              "    <tr>\n",
              "      <th>2</th>\n",
              "      <td>UBE2F</td>\n",
              "      <td>-0.263773</td>\n",
              "      <td>1.011031</td>\n",
              "      <td>-1.274804</td>\n",
              "      <td>1.208087</td>\n",
              "      <td>0.763747</td>\n",
              "      <td>0.444339</td>\n",
              "    </tr>\n",
              "    <tr>\n",
              "      <th>3</th>\n",
              "      <td>SLC7A6OS</td>\n",
              "      <td>-1.329026</td>\n",
              "      <td>-0.106413</td>\n",
              "      <td>-1.222613</td>\n",
              "      <td>-0.151520</td>\n",
              "      <td>0.064143</td>\n",
              "      <td>-0.215663</td>\n",
              "    </tr>\n",
              "    <tr>\n",
              "      <th>4</th>\n",
              "      <td>PHF7</td>\n",
              "      <td>-0.623231</td>\n",
              "      <td>0.583317</td>\n",
              "      <td>-1.206548</td>\n",
              "      <td>-0.582122</td>\n",
              "      <td>0.322016</td>\n",
              "      <td>-0.904138</td>\n",
              "    </tr>\n",
              "    <tr>\n",
              "      <th>...</th>\n",
              "      <td>...</td>\n",
              "      <td>...</td>\n",
              "      <td>...</td>\n",
              "      <td>...</td>\n",
              "      <td>...</td>\n",
              "      <td>...</td>\n",
              "      <td>...</td>\n",
              "    </tr>\n",
              "    <tr>\n",
              "      <th>10071</th>\n",
              "      <td>LDLRAD3</td>\n",
              "      <td>0.462436</td>\n",
              "      <td>-0.792081</td>\n",
              "      <td>1.254516</td>\n",
              "      <td>0.542375</td>\n",
              "      <td>-0.749846</td>\n",
              "      <td>1.292221</td>\n",
              "    </tr>\n",
              "    <tr>\n",
              "      <th>10072</th>\n",
              "      <td>PRPF4</td>\n",
              "      <td>0.309323</td>\n",
              "      <td>-0.972673</td>\n",
              "      <td>1.281996</td>\n",
              "      <td>-0.563305</td>\n",
              "      <td>0.001545</td>\n",
              "      <td>-0.564849</td>\n",
              "    </tr>\n",
              "    <tr>\n",
              "      <th>10073</th>\n",
              "      <td>KIF3B</td>\n",
              "      <td>0.577453</td>\n",
              "      <td>-0.835057</td>\n",
              "      <td>1.412510</td>\n",
              "      <td>0.323656</td>\n",
              "      <td>-1.012958</td>\n",
              "      <td>1.336614</td>\n",
              "    </tr>\n",
              "    <tr>\n",
              "      <th>10074</th>\n",
              "      <td>PID1</td>\n",
              "      <td>0.838536</td>\n",
              "      <td>-0.679805</td>\n",
              "      <td>1.518341</td>\n",
              "      <td>-0.202254</td>\n",
              "      <td>0.121508</td>\n",
              "      <td>-0.323762</td>\n",
              "    </tr>\n",
              "    <tr>\n",
              "      <th>10075</th>\n",
              "      <td>VWA5A</td>\n",
              "      <td>0.600571</td>\n",
              "      <td>-1.117311</td>\n",
              "      <td>1.717882</td>\n",
              "      <td>-0.490880</td>\n",
              "      <td>-0.139374</td>\n",
              "      <td>-0.351507</td>\n",
              "    </tr>\n",
              "  </tbody>\n",
              "</table>\n",
              "<p>10076 rows × 7 columns</p>\n",
              "</div>"
            ],
            "text/plain": [
              "           gene      prs1      prs0  prs_diff      trs1      trs0  trs_diff\n",
              "0       FAM185A -1.347367  0.213505 -1.560873 -0.432134 -0.529150  0.097016\n",
              "1          DHFR -1.339025  0.107359 -1.446384 -0.428204 -1.251525  0.823320\n",
              "2         UBE2F -0.263773  1.011031 -1.274804  1.208087  0.763747  0.444339\n",
              "3      SLC7A6OS -1.329026 -0.106413 -1.222613 -0.151520  0.064143 -0.215663\n",
              "4          PHF7 -0.623231  0.583317 -1.206548 -0.582122  0.322016 -0.904138\n",
              "...         ...       ...       ...       ...       ...       ...       ...\n",
              "10071   LDLRAD3  0.462436 -0.792081  1.254516  0.542375 -0.749846  1.292221\n",
              "10072     PRPF4  0.309323 -0.972673  1.281996 -0.563305  0.001545 -0.564849\n",
              "10073     KIF3B  0.577453 -0.835057  1.412510  0.323656 -1.012958  1.336614\n",
              "10074      PID1  0.838536 -0.679805  1.518341 -0.202254  0.121508 -0.323762\n",
              "10075     VWA5A  0.600571 -1.117311  1.717882 -0.490880 -0.139374 -0.351507\n",
              "\n",
              "[10076 rows x 7 columns]"
            ]
          },
          "metadata": {
            "tags": []
          },
          "execution_count": 270
        }
      ]
    },
    {
      "cell_type": "code",
      "metadata": {
        "colab": {
          "base_uri": "https://localhost:8080/",
          "height": 296
        },
        "id": "hHzpBAaorBw2",
        "outputId": "189b9a24-5bdd-47ec-d7ba-db5bcbf5424d"
      },
      "source": [
        "p1=plt.scatter(tf_diffB['prs1'],tf_diffB['prs0'],alpha=.5)\n",
        "p2=plt.scatter(tf_diffB['trs1'],tf_diffB['trs0'],alpha=.25)\n",
        "plt.ylabel(' > 2')\n",
        "plt.xlabel(' < -2')\n",
        "plt.legend((p1, p2),('PRS TF','TRS TF'))"
      ],
      "execution_count": 272,
      "outputs": [
        {
          "output_type": "execute_result",
          "data": {
            "text/plain": [
              "<matplotlib.legend.Legend at 0x7fd5a1142b90>"
            ]
          },
          "metadata": {
            "tags": []
          },
          "execution_count": 272
        },
        {
          "output_type": "display_data",
          "data": {
            "image/png": "[encoded data removed]",
            "text/plain": [
              "<Figure size 432x288 with 1 Axes>"
            ]
          },
          "metadata": {
            "tags": [],
            "needs_background": "light"
          }
        }
      ]
    },
    {
      "cell_type": "code",
      "metadata": {
        "colab": {
          "base_uri": "https://localhost:8080/",
          "height": 424
        },
        "id": "cQ0itophFh-b",
        "outputId": "c34eaa85-d7ac-43c4-e871-6434990964cf"
      },
      "source": [
        "tf_diffB['ab_diff']=tf_diffB['prs_diff']-tf_diffB['trs_diff']\n",
        "tf_diffB.sort_values(by='ab_diff')"
      ],
      "execution_count": 275,
      "outputs": [
        {
          "output_type": "execute_result",
          "data": {
            "text/html": [
              "<div>\n",
              "<style scoped>\n",
              "    .dataframe tbody tr th:only-of-type {\n",
              "        vertical-align: middle;\n",
              "    }\n",
              "\n",
              "    .dataframe tbody tr th {\n",
              "        vertical-align: top;\n",
              "    }\n",
              "\n",
              "    .dataframe thead th {\n",
              "        text-align: right;\n",
              "    }\n",
              "</style>\n",
              "<table border=\"1\" class=\"dataframe\">\n",
              "  <thead>\n",
              "    <tr style=\"text-align: right;\">\n",
              "      <th></th>\n",
              "      <th>TF</th>\n",
              "      <th>prs1</th>\n",
              "      <th>prs0</th>\n",
              "      <th>prs_diff</th>\n",
              "      <th>trs1</th>\n",
              "      <th>trs0</th>\n",
              "      <th>trs_diff</th>\n",
              "      <th>ab_diff</th>\n",
              "    </tr>\n",
              "  </thead>\n",
              "  <tbody>\n",
              "    <tr>\n",
              "      <th>0</th>\n",
              "      <td>PURA</td>\n",
              "      <td>1.744944</td>\n",
              "      <td>1.896916</td>\n",
              "      <td>-0.151971</td>\n",
              "      <td>1.683525</td>\n",
              "      <td>1.695937</td>\n",
              "      <td>-0.012411</td>\n",
              "      <td>-0.139560</td>\n",
              "    </tr>\n",
              "    <tr>\n",
              "      <th>1</th>\n",
              "      <td>ZNF281</td>\n",
              "      <td>3.112136</td>\n",
              "      <td>3.256927</td>\n",
              "      <td>-0.144791</td>\n",
              "      <td>3.021278</td>\n",
              "      <td>3.027224</td>\n",
              "      <td>-0.005946</td>\n",
              "      <td>-0.138845</td>\n",
              "    </tr>\n",
              "    <tr>\n",
              "      <th>4</th>\n",
              "      <td>MAZ</td>\n",
              "      <td>3.636303</td>\n",
              "      <td>3.776831</td>\n",
              "      <td>-0.140528</td>\n",
              "      <td>3.537865</td>\n",
              "      <td>3.541068</td>\n",
              "      <td>-0.003203</td>\n",
              "      <td>-0.137324</td>\n",
              "    </tr>\n",
              "    <tr>\n",
              "      <th>3</th>\n",
              "      <td>ZNF148</td>\n",
              "      <td>3.247254</td>\n",
              "      <td>3.388467</td>\n",
              "      <td>-0.141214</td>\n",
              "      <td>3.159084</td>\n",
              "      <td>3.163018</td>\n",
              "      <td>-0.003935</td>\n",
              "      <td>-0.137279</td>\n",
              "    </tr>\n",
              "    <tr>\n",
              "      <th>2</th>\n",
              "      <td>ZNF263</td>\n",
              "      <td>3.362950</td>\n",
              "      <td>3.507477</td>\n",
              "      <td>-0.144527</td>\n",
              "      <td>3.290386</td>\n",
              "      <td>3.301328</td>\n",
              "      <td>-0.010942</td>\n",
              "      <td>-0.133585</td>\n",
              "    </tr>\n",
              "    <tr>\n",
              "      <th>...</th>\n",
              "      <td>...</td>\n",
              "      <td>...</td>\n",
              "      <td>...</td>\n",
              "      <td>...</td>\n",
              "      <td>...</td>\n",
              "      <td>...</td>\n",
              "      <td>...</td>\n",
              "      <td>...</td>\n",
              "    </tr>\n",
              "    <tr>\n",
              "      <th>630</th>\n",
              "      <td>TBPL2</td>\n",
              "      <td>1.575563</td>\n",
              "      <td>1.492985</td>\n",
              "      <td>0.082579</td>\n",
              "      <td>1.635900</td>\n",
              "      <td>1.652633</td>\n",
              "      <td>-0.016733</td>\n",
              "      <td>0.099312</td>\n",
              "    </tr>\n",
              "    <tr>\n",
              "      <th>631</th>\n",
              "      <td>SIX5</td>\n",
              "      <td>0.065324</td>\n",
              "      <td>-0.026688</td>\n",
              "      <td>0.092013</td>\n",
              "      <td>-0.031892</td>\n",
              "      <td>-0.023911</td>\n",
              "      <td>-0.007981</td>\n",
              "      <td>0.099994</td>\n",
              "    </tr>\n",
              "    <tr>\n",
              "      <th>579</th>\n",
              "      <td>OSR1</td>\n",
              "      <td>-0.742643</td>\n",
              "      <td>-0.795102</td>\n",
              "      <td>0.052459</td>\n",
              "      <td>-0.871249</td>\n",
              "      <td>-0.790436</td>\n",
              "      <td>-0.080813</td>\n",
              "      <td>0.133272</td>\n",
              "    </tr>\n",
              "    <tr>\n",
              "      <th>627</th>\n",
              "      <td>ZBTB33</td>\n",
              "      <td>-0.799604</td>\n",
              "      <td>-0.876128</td>\n",
              "      <td>0.076524</td>\n",
              "      <td>-0.867748</td>\n",
              "      <td>-0.776770</td>\n",
              "      <td>-0.090978</td>\n",
              "      <td>0.167502</td>\n",
              "    </tr>\n",
              "    <tr>\n",
              "      <th>624</th>\n",
              "      <td>YY1</td>\n",
              "      <td>0.644819</td>\n",
              "      <td>0.572250</td>\n",
              "      <td>0.072569</td>\n",
              "      <td>0.566001</td>\n",
              "      <td>0.718517</td>\n",
              "      <td>-0.152517</td>\n",
              "      <td>0.225086</td>\n",
              "    </tr>\n",
              "  </tbody>\n",
              "</table>\n",
              "<p>636 rows × 8 columns</p>\n",
              "</div>"
            ],
            "text/plain": [
              "         TF      prs1      prs0  ...      trs0  trs_diff   ab_diff\n",
              "0      PURA  1.744944  1.896916  ...  1.695937 -0.012411 -0.139560\n",
              "1    ZNF281  3.112136  3.256927  ...  3.027224 -0.005946 -0.138845\n",
              "4       MAZ  3.636303  3.776831  ...  3.541068 -0.003203 -0.137324\n",
              "3    ZNF148  3.247254  3.388467  ...  3.163018 -0.003935 -0.137279\n",
              "2    ZNF263  3.362950  3.507477  ...  3.301328 -0.010942 -0.133585\n",
              "..      ...       ...       ...  ...       ...       ...       ...\n",
              "630   TBPL2  1.575563  1.492985  ...  1.652633 -0.016733  0.099312\n",
              "631    SIX5  0.065324 -0.026688  ... -0.023911 -0.007981  0.099994\n",
              "579    OSR1 -0.742643 -0.795102  ... -0.790436 -0.080813  0.133272\n",
              "627  ZBTB33 -0.799604 -0.876128  ... -0.776770 -0.090978  0.167502\n",
              "624     YY1  0.644819  0.572250  ...  0.718517 -0.152517  0.225086\n",
              "\n",
              "[636 rows x 8 columns]"
            ]
          },
          "metadata": {
            "tags": []
          },
          "execution_count": 275
        }
      ]
    },
    {
      "cell_type": "code",
      "metadata": {
        "colab": {
          "base_uri": "https://localhost:8080/",
          "height": 296
        },
        "id": "I24WBW4zsJ1T",
        "outputId": "d1c6a00e-ed3a-4af9-baf3-9e961740ce38"
      },
      "source": [
        "p1=plt.scatter(gene_diffB['prs1'],gene_diffB['prs0'],alpha=.5)\n",
        "p2=plt.scatter(gene_diffB['trs1'],gene_diffB['trs0'],alpha=.25)\n",
        "plt.ylabel(' > 2')\n",
        "plt.xlabel(' < -2')\n",
        "plt.legend((p1, p2),('PRS gene','TRS gene'))"
      ],
      "execution_count": 273,
      "outputs": [
        {
          "output_type": "execute_result",
          "data": {
            "text/plain": [
              "<matplotlib.legend.Legend at 0x7fd5385cce90>"
            ]
          },
          "metadata": {
            "tags": []
          },
          "execution_count": 273
        },
        {
          "output_type": "display_data",
          "data": {
            "image/png": "[encoded data removed]",
            "text/plain": [
              "<Figure size 432x288 with 1 Axes>"
            ]
          },
          "metadata": {
            "tags": [],
            "needs_background": "light"
          }
        }
      ]
    },
    {
      "cell_type": "code",
      "metadata": {
        "colab": {
          "base_uri": "https://localhost:8080/",
          "height": 424
        },
        "id": "_j3NAiXb0mlT",
        "outputId": "c9f825a7-980f-4b25-fea9-e743d07a52d8"
      },
      "source": [
        "gene_diffB['ab_diff']=gene_diffB['prs_diff']-gene_diffB['trs_diff']\n",
        "gene_diffB.sort_values(by='ab_diff')"
      ],
      "execution_count": 277,
      "outputs": [
        {
          "output_type": "execute_result",
          "data": {
            "text/html": [
              "<div>\n",
              "<style scoped>\n",
              "    .dataframe tbody tr th:only-of-type {\n",
              "        vertical-align: middle;\n",
              "    }\n",
              "\n",
              "    .dataframe tbody tr th {\n",
              "        vertical-align: top;\n",
              "    }\n",
              "\n",
              "    .dataframe thead th {\n",
              "        text-align: right;\n",
              "    }\n",
              "</style>\n",
              "<table border=\"1\" class=\"dataframe\">\n",
              "  <thead>\n",
              "    <tr style=\"text-align: right;\">\n",
              "      <th></th>\n",
              "      <th>gene</th>\n",
              "      <th>prs1</th>\n",
              "      <th>prs0</th>\n",
              "      <th>prs_diff</th>\n",
              "      <th>trs1</th>\n",
              "      <th>trs0</th>\n",
              "      <th>trs_diff</th>\n",
              "      <th>ab_diff</th>\n",
              "    </tr>\n",
              "  </thead>\n",
              "  <tbody>\n",
              "    <tr>\n",
              "      <th>1</th>\n",
              "      <td>DHFR</td>\n",
              "      <td>-1.339025</td>\n",
              "      <td>0.107359</td>\n",
              "      <td>-1.446384</td>\n",
              "      <td>-0.428204</td>\n",
              "      <td>-1.251525</td>\n",
              "      <td>0.823320</td>\n",
              "      <td>-2.269704</td>\n",
              "    </tr>\n",
              "    <tr>\n",
              "      <th>2</th>\n",
              "      <td>UBE2F</td>\n",
              "      <td>-0.263773</td>\n",
              "      <td>1.011031</td>\n",
              "      <td>-1.274804</td>\n",
              "      <td>1.208087</td>\n",
              "      <td>0.763747</td>\n",
              "      <td>0.444339</td>\n",
              "      <td>-1.719143</td>\n",
              "    </tr>\n",
              "    <tr>\n",
              "      <th>24</th>\n",
              "      <td>YY1AP1</td>\n",
              "      <td>-0.342264</td>\n",
              "      <td>0.623867</td>\n",
              "      <td>-0.966131</td>\n",
              "      <td>0.763819</td>\n",
              "      <td>0.029119</td>\n",
              "      <td>0.734700</td>\n",
              "      <td>-1.700830</td>\n",
              "    </tr>\n",
              "    <tr>\n",
              "      <th>668</th>\n",
              "      <td>ZNF429</td>\n",
              "      <td>-0.185094</td>\n",
              "      <td>0.224803</td>\n",
              "      <td>-0.409898</td>\n",
              "      <td>0.376275</td>\n",
              "      <td>-0.888052</td>\n",
              "      <td>1.264327</td>\n",
              "      <td>-1.674224</td>\n",
              "    </tr>\n",
              "    <tr>\n",
              "      <th>537</th>\n",
              "      <td>DPY19L1P1</td>\n",
              "      <td>-0.838264</td>\n",
              "      <td>-0.392863</td>\n",
              "      <td>-0.445401</td>\n",
              "      <td>-0.341328</td>\n",
              "      <td>-1.554061</td>\n",
              "      <td>1.212733</td>\n",
              "      <td>-1.658134</td>\n",
              "    </tr>\n",
              "    <tr>\n",
              "      <th>...</th>\n",
              "      <td>...</td>\n",
              "      <td>...</td>\n",
              "      <td>...</td>\n",
              "      <td>...</td>\n",
              "      <td>...</td>\n",
              "      <td>...</td>\n",
              "      <td>...</td>\n",
              "      <td>...</td>\n",
              "    </tr>\n",
              "    <tr>\n",
              "      <th>9935</th>\n",
              "      <td>CYP20A1</td>\n",
              "      <td>-0.566411</td>\n",
              "      <td>-1.268637</td>\n",
              "      <td>0.702226</td>\n",
              "      <td>-1.503314</td>\n",
              "      <td>-0.282048</td>\n",
              "      <td>-1.221266</td>\n",
              "      <td>1.923492</td>\n",
              "    </tr>\n",
              "    <tr>\n",
              "      <th>9807</th>\n",
              "      <td>TMTC4</td>\n",
              "      <td>1.052547</td>\n",
              "      <td>0.468034</td>\n",
              "      <td>0.584513</td>\n",
              "      <td>-0.022256</td>\n",
              "      <td>1.337732</td>\n",
              "      <td>-1.359988</td>\n",
              "      <td>1.944501</td>\n",
              "    </tr>\n",
              "    <tr>\n",
              "      <th>10075</th>\n",
              "      <td>VWA5A</td>\n",
              "      <td>0.600571</td>\n",
              "      <td>-1.117311</td>\n",
              "      <td>1.717882</td>\n",
              "      <td>-0.490880</td>\n",
              "      <td>-0.139374</td>\n",
              "      <td>-0.351507</td>\n",
              "      <td>2.069389</td>\n",
              "    </tr>\n",
              "    <tr>\n",
              "      <th>9858</th>\n",
              "      <td>SLC35B1</td>\n",
              "      <td>-0.235208</td>\n",
              "      <td>-0.859081</td>\n",
              "      <td>0.623874</td>\n",
              "      <td>-0.715867</td>\n",
              "      <td>0.784042</td>\n",
              "      <td>-1.499909</td>\n",
              "      <td>2.123783</td>\n",
              "    </tr>\n",
              "    <tr>\n",
              "      <th>10066</th>\n",
              "      <td>PRMT2</td>\n",
              "      <td>0.968528</td>\n",
              "      <td>-0.176047</td>\n",
              "      <td>1.144575</td>\n",
              "      <td>0.205673</td>\n",
              "      <td>1.264521</td>\n",
              "      <td>-1.058847</td>\n",
              "      <td>2.203423</td>\n",
              "    </tr>\n",
              "  </tbody>\n",
              "</table>\n",
              "<p>10076 rows × 8 columns</p>\n",
              "</div>"
            ],
            "text/plain": [
              "            gene      prs1      prs0  ...      trs0  trs_diff   ab_diff\n",
              "1           DHFR -1.339025  0.107359  ... -1.251525  0.823320 -2.269704\n",
              "2          UBE2F -0.263773  1.011031  ...  0.763747  0.444339 -1.719143\n",
              "24        YY1AP1 -0.342264  0.623867  ...  0.029119  0.734700 -1.700830\n",
              "668       ZNF429 -0.185094  0.224803  ... -0.888052  1.264327 -1.674224\n",
              "537    DPY19L1P1 -0.838264 -0.392863  ... -1.554061  1.212733 -1.658134\n",
              "...          ...       ...       ...  ...       ...       ...       ...\n",
              "9935     CYP20A1 -0.566411 -1.268637  ... -0.282048 -1.221266  1.923492\n",
              "9807       TMTC4  1.052547  0.468034  ...  1.337732 -1.359988  1.944501\n",
              "10075      VWA5A  0.600571 -1.117311  ... -0.139374 -0.351507  2.069389\n",
              "9858     SLC35B1 -0.235208 -0.859081  ...  0.784042 -1.499909  2.123783\n",
              "10066      PRMT2  0.968528 -0.176047  ...  1.264521 -1.058847  2.203423\n",
              "\n",
              "[10076 rows x 8 columns]"
            ]
          },
          "metadata": {
            "tags": []
          },
          "execution_count": 277
        }
      ]
    },
    {
      "cell_type": "code",
      "metadata": {
        "colab": {
          "base_uri": "https://localhost:8080/",
          "height": 352
        },
        "id": "64_YVie8FQPi",
        "outputId": "a3ee0a76-d695-4413-baa4-7e983517e89c"
      },
      "source": [
        "plt.hist(gene_diffB.ab_diff[np.abs(gene_diffB.ab_diff)>1],bins=10)"
      ],
      "execution_count": 278,
      "outputs": [
        {
          "output_type": "execute_result",
          "data": {
            "text/plain": [
              "(array([  1.,  31., 122.,   0.,   0.,   0.,   0., 148.,  68.,  11.]),\n",
              " array([-2.26970411, -1.82239144, -1.37507877, -0.92776609, -0.48045342,\n",
              "        -0.03314075,  0.41417193,  0.8614846 ,  1.30879727,  1.75610995,\n",
              "         2.20342262]),\n",
              " <a list of 10 Patch objects>)"
            ]
          },
          "metadata": {
            "tags": []
          },
          "execution_count": 278
        },
        {
          "output_type": "display_data",
          "data": {
            "image/png": "[encoded data removed]",
            "text/plain": [
              "<Figure size 432x288 with 1 Axes>"
            ]
          },
          "metadata": {
            "tags": [],
            "needs_background": "light"
          }
        }
      ]
    },
    {
      "cell_type": "code",
      "metadata": {
        "colab": {
          "base_uri": "https://localhost:8080/"
        },
        "id": "dwwTha7cFn2f",
        "outputId": "f1adff2a-020a-4b57-c6f2-3937584759b1"
      },
      "source": [
        "gene_diffB.gene[np.abs(gene_diffB.ab_diff)>2]"
      ],
      "execution_count": 279,
      "outputs": [
        {
          "output_type": "execute_result",
          "data": {
            "text/plain": [
              "1           DHFR\n",
              "9858     SLC35B1\n",
              "10066      PRMT2\n",
              "10075      VWA5A\n",
              "Name: gene, dtype: object"
            ]
          },
          "metadata": {
            "tags": []
          },
          "execution_count": 279
        }
      ]
    },
    {
      "cell_type": "code",
      "metadata": {
        "id": "cTDKdn-PJ8Eq"
      },
      "source": [
        ""
      ],
      "execution_count": null,
      "outputs": []
    }
  ]
}